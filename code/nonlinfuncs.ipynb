{
 "cells": [
  {
   "cell_type": "code",
   "execution_count": 4,
   "metadata": {},
   "outputs": [],
   "source": [
    "import numpy as np\n",
    "import matplotlib.pyplot as plt\n",
    "from matplotlib import cm\n",
    "\n",
    "# from ipywidgets import interact#, interactive, fixed, interact_manual\n",
    "# from ipywidgets import Layout, Box\n",
    "\n",
    "import pyradi.ryplot as ryplot  # https://github.com/NelisW/pyradi\n",
    "%matplotlib inline\n",
    "\n",
    "import network"
   ]
  },
  {
   "cell_type": "code",
   "execution_count": 15,
   "metadata": {},
   "outputs": [],
   "source": [
    "\n",
    "nonlin = 'tansig'\n",
    "# nonlin = 'sigmoid'\n",
    "if nonlin == 'sigmoid':\n",
    "    nlfn=network.sigmoid\n",
    "    nlfnpr=network.sigmoid_prime\n",
    "    ymin = 0\n",
    "    dymax = 0.25\n",
    "else:\n",
    "    nlfn=network.tansig\n",
    "    nlfnpr=network.tansig_prime\n",
    "    ymin = -1\n",
    "    dymax = 1\n"
   ]
  },
  {
   "cell_type": "code",
   "execution_count": null,
   "metadata": {},
   "outputs": [],
   "source": [
    "xts = np.linspace(-5,5,200)\n",
    "yts = np.linspace(-5,5,200)\n",
    "varxts, varyts = np.meshgrid(xts, yts)\n",
    "\n",
    "p = ryplot.Plotter(1,1,2,figsize=(12,4),doWarning=False)\n",
    "p.plot(1,xts,nlfn(xts),f'{nonlin} function', 'x','y',maxNX=7,maxNY=4,pltaxis=[-5,5,ymin,1]);\n",
    "p.plot(2,xts,nlfnpr(xts),f'd({nonlin}) function', 'x','y',maxNX=7,maxNY=4,pltaxis=[-5,5,0,dymax]);\n",
    "p.plot(2,xts,np.gradient(nlfn(xts),xts),f'd({nonlin})/dx function', 'x','y',maxNX=7,maxNY=4,pltaxis=[-5,5,0,dymax]);\n",
    "p.saveFig(f'../pic/{nonlin}01.pdf')\n",
    "\n",
    "q = ryplot.Plotter(2,2,2,figsize=(12,12),doWarning=False)\n",
    "\n",
    "w = .5\n",
    "b = 0\n",
    "ts = nlfn(-varxts * w + varyts * w + b)\n",
    "q.mesh3D(1, varxts, varyts, ts, ptitle=f'{nonlin} w={w},b={b}', xlabel='$x_1$', ylabel='$x_2$', zlabel='z',\n",
    "      plotCol=['r'], edgeCol=['k'], rstride=3, cstride=3, linewidth= 0.0, maxNX=5, maxNY=5, maxNZ=0,\n",
    "      drawGrid=True, cbarshow=False, alpha=0.5);\n",
    "\n",
    "w = 4\n",
    "ts = nlfn(-varxts * 1.4 * w + varyts * w + b)\n",
    "q.mesh3D(2, varxts, varyts, ts, ptitle=f'{nonlin} w={w} b={b}', xlabel='$x_1$', ylabel='$x_2$', zlabel='z',\n",
    "      plotCol=['r'], edgeCol=['k'], rstride=3, cstride=3, linewidth= 0.0, maxNX=5, maxNY=5, maxNZ=0,\n",
    "      drawGrid=True, cbarshow=False, alpha=0.5);\n",
    "\n",
    "w = .5\n",
    "b = 4\n",
    "ts = nlfn(-varxts * w + varyts * w + b)\n",
    "q.mesh3D(3, varxts, varyts, ts, ptitle=f'{nonlin} w={w} b={b}', xlabel='$x_1$', ylabel='$x_2$', zlabel='z',\n",
    "      plotCol=['r'], edgeCol=['k'], rstride=3, cstride=3, linewidth= 0.0, maxNX=5, maxNY=5, maxNZ=0,\n",
    "      drawGrid=True, cbarshow=False, alpha=0.5);\n",
    "\n",
    "w = 4\n",
    "ts = nlfn(-varxts * 1.4 * w + varyts * w + b)\n",
    "q.mesh3D(4, varxts, varyts, ts, ptitle=f'{nonlin} w={w} b={b}', xlabel='$x_1$', ylabel='$x_2$', zlabel='z',\n",
    "      plotCol=['r'], edgeCol=['k'], rstride=3, cstride=3, linewidth= 0.0, maxNX=5, maxNY=5, maxNZ=0,\n",
    "      drawGrid=True, cbarshow=False, alpha=0.5);\n",
    "\n",
    "\n",
    "q.saveFig(f'../pic/{nonlin}02.pdf')\n"
   ]
  },
  {
   "cell_type": "code",
   "execution_count": null,
   "metadata": {},
   "outputs": [],
   "source": []
  }
 ],
 "metadata": {
  "kernelspec": {
   "display_name": "Python 3",
   "language": "python",
   "name": "python3"
  },
  "language_info": {
   "codemirror_mode": {
    "name": "ipython",
    "version": 3
   },
   "file_extension": ".py",
   "mimetype": "text/x-python",
   "name": "python",
   "nbconvert_exporter": "python",
   "pygments_lexer": "ipython3",
   "version": "3.7.1"
  }
 },
 "nbformat": 4,
 "nbformat_minor": 2
}
