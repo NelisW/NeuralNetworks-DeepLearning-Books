{
 "cells": [
  {
   "cell_type": "code",
   "execution_count": 1,
   "metadata": {},
   "outputs": [],
   "source": [
    "import numpy as np\n",
    "import matplotlib.pyplot as plt\n",
    "from matplotlib import cm\n",
    "\n",
    "# from ipywidgets import interact#, interactive, fixed, interact_manual\n",
    "# from ipywidgets import Layout, Box\n",
    "\n",
    "import pyradi.ryplot as ryplot  # https://github.com/NelisW/pyradi\n",
    "%matplotlib inline\n",
    "\n",
    "import network"
   ]
  },
  {
   "cell_type": "code",
   "execution_count": 2,
   "metadata": {},
   "outputs": [],
   "source": [
    "\n",
    "nonlin = 'tansig'\n",
    "nonlin = 'sigmoid'\n",
    "if nonlin == 'sigmoid':\n",
    "    nlfn=network.sigmoid\n",
    "    nlfnpr=network.sigmoid_prime\n",
    "    ymin = 0\n",
    "    dymax = 0.25\n",
    "else:\n",
    "    nlfn=network.tansig\n",
    "    nlfnpr=network.tansig_prime\n",
    "    ymin = -1\n",
    "    dymax = 1\n"
   ]
  },
  {
   "cell_type": "code",
   "execution_count": 11,
   "metadata": {},
   "outputs": [
    {
     "data": {
      "image/png": "[encoded data removed]",
      "text/plain": [
       "<Figure size 360x216 with 1 Axes>"
      ]
     },
     "metadata": {
      "needs_background": "light"
     },
     "output_type": "display_data"
    }
   ],
   "source": [
    "xts = np.linspace(-5,5,200)\n",
    "yts = np.linspace(-5,5,200)\n",
    "varxts, varyts = np.meshgrid(xts, yts)\n",
    "\n",
    "r = ryplot.Plotter(3,1,1,figsize=(5,3),doWarning=False)\n",
    "r.plot(1,xts,nlfn(xts),f'{nonlin} function', '$x$','$y$',maxNX=11,maxNY=4,pltaxis=[-5,5,ymin,1]);\n",
    "r.saveFig(f'../book/pic/{nonlin}.pdf')\n",
    "\n",
    "# p = ryplot.Plotter(1,1,2,figsize=(12,4),doWarning=False)\n",
    "# p.plot(1,xts,nlfn(xts),f'{nonlin} function', 'x','y',maxNX=7,maxNY=4,pltaxis=[-5,5,ymin,1]);\n",
    "# p.plot(2,xts,nlfnpr(xts),f'd({nonlin}) function', 'x','y',maxNX=7,maxNY=4,pltaxis=[-5,5,0,dymax]);\n",
    "# p.plot(2,xts,np.gradient(nlfn(xts),xts),f'd({nonlin})/dx function', 'x','y',maxNX=7,maxNY=4,pltaxis=[-5,5,0,dymax]);\n",
    "# p.saveFig(f'../book/pic/{nonlin}01.pdf')\n",
    "\n",
    "# q = ryplot.Plotter(2,2,2,figsize=(12,12),doWarning=False)\n",
    "\n",
    "# for i,(w,b,) in enumerate(zip([0.5,4,0.5,4],[0,0,4,4])):\n",
    "#     ptit = f'{nonlin}($-1.4x_1w+1.4x_2w+b$), w={w}, b={b}'\n",
    "#     ts = nlfn(-1.4*varxts * w + 1.4*varyts * w + b)\n",
    "#     q.mesh3D(1+i, varxts, varyts, ts, ptitle=ptit, xlabel='$x_1$', ylabel='$x_2$', zlabel='z',\n",
    "#           plotCol=['r'], edgeCol=['k'], rstride=3, cstride=3, linewidth= 0.0, maxNX=5, maxNY=5, maxNZ=0,\n",
    "#           drawGrid=True, cbarshow=False, alpha=0.5,azim=40);\n",
    "\n",
    "# q.saveFig(f'../book/pic/{nonlin}02.pdf')\n"
   ]
  },
  {
   "cell_type": "code",
   "execution_count": 14,
   "metadata": {},
   "outputs": [
    {
     "data": {
      "image/png": "[encoded data removed]",
      "text/plain": [
       "<Figure size 360x216 with 1 Axes>"
      ]
     },
     "metadata": {
      "needs_background": "light"
     },
     "output_type": "display_data"
    }
   ],
   "source": [
    "xts = np.linspace(-5,5,200)\n",
    "\n",
    "yts = np.where(xts<=0,0,1)\n",
    "\n",
    "r = ryplot.Plotter(3,1,1,figsize=(5,3),doWarning=False)\n",
    "r.plot(1,xts,yts,f'Step function', '$x$','$y$',maxNX=11,maxNY=5,pltaxis=[-5,5,ymin,1.1]);\n",
    "r.saveFig(f'../book/pic/stepfn.pdf')\n",
    "\n"
   ]
  },
  {
   "cell_type": "code",
   "execution_count": null,
   "metadata": {},
   "outputs": [],
   "source": []
  }
 ],
 "metadata": {
  "kernelspec": {
   "display_name": "Python 3",
   "language": "python",
   "name": "python3"
  },
  "language_info": {
   "codemirror_mode": {
    "name": "ipython",
    "version": 3
   },
   "file_extension": ".py",
   "mimetype": "text/x-python",
   "name": "python",
   "nbconvert_exporter": "python",
   "pygments_lexer": "ipython3",
   "version": "3.7.1"
  }
 },
 "nbformat": 4,
 "nbformat_minor": 2
}
