{
 "cells": [
  {
   "cell_type": "markdown",
   "metadata": {},
   "source": [
    "# Chapter 3 code\n",
    "\n",
    "This is a shameless copy of Nielsen's JavasScript code in the HTML page at   \n",
    "http://neuralnetworksanddeeplearning.com/chap3.html  \n",
    "neuralnetworksanddeeplearning.com/js/saturation1.js  \n",
    "\n",
    "From Nielsen's code:\n",
    "\n",
    "    This is a paper.js widget to show a single neuron learning.  In\n",
    "    particular, the widget is used to show the learning slowdown that\n",
    "    occurs when the output is saturated.\n",
    "\n",
    "    The same basic widget is used several times, in slightly different\n",
    "    configurations.  paper.js makes it somewhat complex to reuse the\n",
    "    code, so I have simply duplicated the code.  This can give rise to\n",
    "    bugs if one is not careful to keep the code in sync, so I have\n",
    "    separated the code into two pieces.\n",
    "\n",
    "    The first piece is the header code.  This changes between widgets.\n",
    "    It sets up things like the starting weight, bias, cost function,\n",
    "    and so on -- things which may vary betweens widgets.\n",
    "\n",
    "    The second piece is the body code.  This is almost exactly the same\n",
    "    for the different widgets.  Note, however, that the costGraphX and\n",
    "    epochX variables change name, due to a bug in the way paperjs\n",
    "    handles scope.\n",
    "\n",
    "    We can make these changes by searching on costGraph1 and replacing\n",
    "    with costGraph2, costGraph3 etc, by replacing epoch1 with epoch2,\n",
    "    epoch3 etc, and by replcacing cost1 with cost2, cost3 etc.\n",
    "\n",
    "    This separation makes it easy to maintain the duplicated code.\n"
   ]
  },
  {
   "cell_type": "code",
   "execution_count": 30,
   "metadata": {},
   "outputs": [],
   "source": [
    "import numpy as np\n",
    "import matplotlib.pyplot as plt\n",
    "\n",
    "from ipywidgets import interact#, interactive, fixed, interact_manual\n",
    "from ipywidgets import Layout, Box\n",
    "\n",
    "import pyradi.ryplot as ryplot\n",
    "%matplotlib inline\n"
   ]
  },
  {
   "cell_type": "code",
   "execution_count": 31,
   "metadata": {},
   "outputs": [],
   "source": [
    "def sigmoid(x):\n",
    "    return 1. / (1. + np.exp(- x))"
   ]
  },
  {
   "cell_type": "code",
   "execution_count": null,
   "metadata": {},
   "outputs": [],
   "source": [
    "class quadratic_cost:\n",
    "    \n",
    "    def __init__(self):\n",
    "        pass\n",
    "    \n",
    "    def fn(self, a):\n",
    "        return a * a / 2\n",
    "    \n",
    "    def derivative(self, a):\n",
    "        return a*a*(1-a)\n",
    "\n",
    "class cross_entropy_cost:\n",
    "    \n",
    "    def __init__(self):\n",
    "        pass\n",
    "    \n",
    "    def fn(self, a):\n",
    "        return - np.log(1-a)\n",
    "    \n",
    "    def derivative(self, a):\n",
    "        return 1/(1-a)\n",
    "\n",
    "def outputValue(weight, bias):\n",
    "    return sigmoid(weight+bias)\n"
   ]
  },
  {
   "cell_type": "code",
   "execution_count": null,
   "metadata": {},
   "outputs": [],
   "source": [
    "\n",
    "def plotSimpleNeuron(cost,startingWeight,startingBias,eta, numFrames,iplt=0):\n",
    "    epochs = np.linspace(0,numFrames,numFrames+1)\n",
    "    a = np.zeros_like(epochs)\n",
    "    weight = np.zeros_like(epochs)\n",
    "    bias = np.zeros_like(epochs)\n",
    "\n",
    "    p = ryplot.Plotter(iplt,1,1,f'{type(cost).__name__},  w={startingWeight},  b={startingBias}',\n",
    "                       figsize=(5,3),doWarning=False);\n",
    "\n",
    "    weight[0] = startingWeight\n",
    "    bias[0] = startingBias\n",
    "\n",
    "    for i in range(numFrames):\n",
    "        a[i] = outputValue(weight[i],bias[i])\n",
    "        delta = cost.derivative(a[i])\n",
    "        weight[i+1] = weight[i] - eta * delta\n",
    "        bias[i+1] = bias[i] - eta * delta\n",
    "\n",
    "    a[i+1] = outputValue(weight[i+1],bias[i+1]); \n",
    "\n",
    "    p.plot(1,epochs,cost.fn(a),'','Epoch','Value',label=['Cost']);    \n",
    "#     p.plot(1,epochs,weight,label=['Weight']);      \n",
    "#     p.plot(1,epochs,bias,'','Epoch','Value',label=['Bias']); \n",
    "    p.saveFig(f'../book/pic/ch3-{type(cost).__name__}-{int(10*startingWeight)}-{int(10*startingBias)}.pdf')\n",
    "    iplt += 1\n",
    "    return iplt\n"
   ]
  },
  {
   "cell_type": "code",
   "execution_count": null,
   "metadata": {},
   "outputs": [],
   "source": [
    "plotSimpleNeuron(cost=quadratic_cost(),startingWeight=0.6,startingBias=0.9,eta=0.15,numFrames=300);"
   ]
  },
  {
   "cell_type": "code",
   "execution_count": null,
   "metadata": {},
   "outputs": [],
   "source": [
    "plotSimpleNeuron(cost=quadratic_cost(),startingWeight=2,startingBias=2,eta=0.15,numFrames=300);"
   ]
  },
  {
   "cell_type": "code",
   "execution_count": null,
   "metadata": {},
   "outputs": [],
   "source": [
    "plotSimpleNeuron(cost=cross_entropy_cost(),startingWeight=0.6,startingBias=0.9,eta=0.15,numFrames=300);"
   ]
  },
  {
   "cell_type": "code",
   "execution_count": null,
   "metadata": {},
   "outputs": [],
   "source": [
    "plotSimpleNeuron(cost=cross_entropy_cost(),startingWeight=2,startingBias=2,eta=0.15,numFrames=300);"
   ]
  },
  {
   "cell_type": "markdown",
   "metadata": {},
   "source": [
    "## Softmax\n"
   ]
  },
  {
   "cell_type": "markdown",
   "metadata": {},
   "source": [
    "The softmax function is used in neural networks.\n",
    "Suppose we have a network with four neurons, and four corresponding weighted inputs, which we'll denote $z_{1}^{L}, z_{2}^{L}, z_{3}^{L}$, and $z_{4}^{L}$. \n",
    "\n",
    "According to this function, the activation $a^L_j$ of the \\mth{j} output neuron is \n",
    "\\begin{equation}\n",
    "a_{j}^{L}=\\frac{e^{z_{j}^{L}}}{\\sum_{k} e^{z_{k}^{L}}}\n",
    "\\label{eq:c03-78} \n",
    "\\end{equation}\n",
    "where in the denominator we sum over all the inputs $z^L_j$.\n",
    "\n",
    "As you increase any one component, its output will increase\n",
    "\n",
    "Shown below are adjustable sliders showing possible values for the weighted inputs, and a graph of the corresponding output activations. A good place to start exploration is by using the bottom slider to increase $z_{4}^{L}$. \n",
    "As you increase $z_{4}^{L}$, you'll see an increase in the corresponding output activation, $a_{4}^{L}$, and a decrease in the other output activations. Similarly, if you decrease $z_{4}^{L}$ then $a_{4}^{L}$ will decrease, and all the other output activations will increase. In fact, if you look closely, you'll see that in both cases the total change in the other activations exactly compensates for the change in $a_{4}^{L}$. The reason is that the output activations are guaranteed to always sum up to 1."
   ]
  },
  {
   "cell_type": "code",
   "execution_count": 57,
   "metadata": {},
   "outputs": [
    {
     "data": {
      "application/vnd.jupyter.widget-view+json": {
       "model_id": "3b07e28baa5f4c36a94fb37f2d5c216b",
       "version_major": 2,
       "version_minor": 0
      },
      "text/plain": [
       "VBox(children=(HBox(children=(FloatSlider(value=2.5, description='$z^L_1$', max=5.0, min=-5.0, step=0.05), Flo…"
      ]
     },
     "metadata": {},
     "output_type": "display_data"
    }
   ],
   "source": [
    "import numpy as np\n",
    "from ipywidgets import HBox,VBox,Button,FloatSlider,FloatProgress,interactive\n",
    "\n",
    "# set up the widgets with precalculated values\n",
    "# these sliders and prog bars are visible and are updated below in the softmax function\n",
    "sliders = {'1':[2.5,0.31], '2':[-1.,0.009], '3':[3.2,0.633], '4':[0.5,0.043]}\n",
    "sld = {key:FloatSlider(min=-5.0, max=+5.0, value=f'{sliders[key][0]}', step=0.05,description=f'$z^L_{key}$') for key in sliders}\n",
    "prb = {key:FloatProgress(value=f'{sliders[key][1]}',min=0,max=1.0,step=0.01,description=f'$a^L_{key}$',bar_style='info',orientation='horizontal') for key in sliders}\n",
    "\n",
    "# build and display the widget grid in pairs of sliders and prog bars\n",
    "lstD = [HBox([sld[key], prb[key]]) for key in sld]\n",
    "display(VBox(lstD))\n",
    "\n",
    "# function is invoked if any of the sliders change\n",
    "# and the result is used to change the progress bar\n",
    "def softmax(**lstZ):\n",
    "    sum = 0\n",
    "    for key in lstZ:\n",
    "        sum += np.exp(lstZ[key])\n",
    "    for key in lstZ:\n",
    "        prb[key].value = np.exp(lstZ[key])/sum\n",
    "\n",
    "#  `interactive` does not display/show the widgets, already done above.\n",
    "w = interactive(softmax, **sld )"
   ]
  },
  {
   "cell_type": "code",
   "execution_count": null,
   "metadata": {},
   "outputs": [],
   "source": []
  },
  {
   "cell_type": "markdown",
   "metadata": {},
   "source": [
    "## Draw an Elephant with four parameters"
   ]
  },
  {
   "cell_type": "code",
   "execution_count": 2,
   "metadata": {},
   "outputs": [
    {
     "data": {
      "text/plain": [
       "[<matplotlib.lines.Line2D at 0x86a8550>]"
      ]
     },
     "execution_count": 2,
     "metadata": {},
     "output_type": "execute_result"
    },
    {
     "data": {
      "image/png": "[encoded data removed]",
      "text/plain": [
       "<Figure size 432x288 with 1 Axes>"
      ]
     },
     "metadata": {
      "needs_background": "light"
     },
     "output_type": "display_data"
    }
   ],
   "source": [
    "\"\"\"\n",
    "Author: Piotr A. Zolnierczuk (zolnierczukp at ornl dot gov)\n",
    "\n",
    "Based on a paper by:\n",
    "Drawing an elephant with four complex parameters\n",
    "Jurgen Mayer, Khaled Khairy, and Jonathon Howard,\n",
    "Am. J. Phys. 78, 648 (2010), DOI:10.1119/1.3254017\n",
    "\"\"\"\n",
    "import numpy as np\n",
    "import pylab\n",
    "\n",
    "# elephant parameters\n",
    "p1, p2, p3, p4 = (50 - 30j, 18 +  8j, 12 - 10j, -14 - 60j )\n",
    "p5 = 40 + 20j # eyepiece\n",
    "\n",
    "def fourier(t, C):\n",
    "    f = np.zeros(t.shape)\n",
    "    A, B = C.real, C.imag\n",
    "    for k in range(len(C)):\n",
    "        f = f + A[k]*np.cos(k*t) + B[k]*np.sin(k*t)\n",
    "    return f\n",
    "\n",
    "def elephant(t, p1, p2, p3, p4, p5):\n",
    "    npar = 6\n",
    "    Cx = np.zeros((npar,), dtype='complex')\n",
    "    Cy = np.zeros((npar,), dtype='complex')\n",
    "\n",
    "    Cx[1] = p1.real*1j\n",
    "    Cx[2] = p2.real*1j\n",
    "    Cx[3] = p3.real\n",
    "    Cx[5] = p4.real\n",
    "\n",
    "    Cy[1] = p4.imag + p1.imag*1j\n",
    "    Cy[2] = p2.imag*1j\n",
    "    Cy[3] = p3.imag*1j\n",
    "\n",
    "    x = np.append(fourier(t,Cx), [-p5.imag])\n",
    "    y = np.append(fourier(t,Cy), [p5.imag])\n",
    "\n",
    "    return x,y\n",
    "\n",
    "x, y = elephant(np.linspace(0,2*np.pi,1000), p1, p2, p3, p4, p5)\n",
    "pylab.plot(y,-x,'.')\n",
    "# pylab.show()"
   ]
  },
  {
   "cell_type": "code",
   "execution_count": null,
   "metadata": {},
   "outputs": [],
   "source": []
  }
 ],
 "metadata": {
  "kernelspec": {
   "display_name": "Python 3",
   "language": "python",
   "name": "python3"
  },
  "language_info": {
   "codemirror_mode": {
    "name": "ipython",
    "version": 3
   },
   "file_extension": ".py",
   "mimetype": "text/x-python",
   "name": "python",
   "nbconvert_exporter": "python",
   "pygments_lexer": "ipython3",
   "version": "3.7.1"
  }
 },
 "nbformat": 4,
 "nbformat_minor": 2
}
