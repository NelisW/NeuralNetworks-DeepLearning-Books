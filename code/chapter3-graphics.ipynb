{
 "cells": [
  {
   "cell_type": "markdown",
   "metadata": {},
   "source": [
    "# Chapter 3 code\n",
    "\n",
    "This is a shameless copy of Nielsen's JavasScript code in the HTML page at   \n",
    "http://neuralnetworksanddeeplearning.com/chap3.html  \n",
    "neuralnetworksanddeeplearning.com/js/saturation1.js  \n",
    "\n",
    "From Nielsen's code:\n",
    "\n",
    "    This is a paper.js widget to show a single neuron learning.  In\n",
    "    particular, the widget is used to show the learning slowdown that\n",
    "    occurs when the output is saturated.\n",
    "\n",
    "    The same basic widget is used several times, in slightly different\n",
    "    configurations.  paper.js makes it somewhat complex to reuse the\n",
    "    code, so I have simply duplicated the code.  This can give rise to\n",
    "    bugs if one is not careful to keep the code in sync, so I have\n",
    "    separated the code into two pieces.\n",
    "\n",
    "    The first piece is the header code.  This changes between widgets.\n",
    "    It sets up things like the starting weight, bias, cost function,\n",
    "    and so on -- things which may vary betweens widgets.\n",
    "\n",
    "    The second piece is the body code.  This is almost exactly the same\n",
    "    for the different widgets.  Note, however, that the costGraphX and\n",
    "    epochX variables change name, due to a bug in the way paperjs\n",
    "    handles scope.\n",
    "\n",
    "    We can make these changes by searching on costGraph1 and replacing\n",
    "    with costGraph2, costGraph3 etc, by replacing epoch1 with epoch2,\n",
    "    epoch3 etc, and by replcacing cost1 with cost2, cost3 etc.\n",
    "\n",
    "    This separation makes it easy to maintain the duplicated code.\n"
   ]
  },
  {
   "cell_type": "code",
   "execution_count": 1,
   "metadata": {},
   "outputs": [],
   "source": [
    "import numpy as np\n",
    "import matplotlib.pyplot as plt\n",
    "\n",
    "from ipywidgets import interact#, interactive, fixed, interact_manual\n",
    "from ipywidgets import Layout, Box\n",
    "\n",
    "import pyradi.ryplot as ryplot\n",
    "%matplotlib inline\n"
   ]
  },
  {
   "cell_type": "code",
   "execution_count": null,
   "metadata": {},
   "outputs": [],
   "source": [
    "def sigmoid(x,w,b):\n",
    "    return 1 / (1 + np.exp(- x * w - b))"
   ]
  },
  {
   "cell_type": "code",
   "execution_count": null,
   "metadata": {},
   "outputs": [],
   "source": [
    "class quadratic_cost:\n",
    "    self.scaling = 240 # used to scale on the graph\n",
    "    \n",
    "    def fn(a):\n",
    "        return a * a / 2\n",
    "    \n",
    "    def derivative(a):\n",
    "        return a*a*(1-a)\n",
    "\n",
    "class cross_entropy_cost:\n",
    "    self.scaling = 30 # used to scale on the graph\n",
    "    \n",
    "    def fn(a):\n",
    "        return - np.log(1-a)\n",
    "    \n",
    "    def derivative(a):\n",
    "        return return 1/(1-a)\n",
    "\n",
    "\n",
    " = {\n",
    "    fn: function(a) {return;},\n",
    "    derivative: function(a) {;},\n",
    "    scaling: 30\n"
   ]
  },
  {
   "cell_type": "code",
   "execution_count": null,
   "metadata": {},
   "outputs": [],
   "source": []
  },
  {
   "cell_type": "code",
   "execution_count": null,
   "metadata": {},
   "outputs": [],
   "source": [
    "numiters = 300\n",
    "weight = 2\n",
    "bias = 2\n",
    "\n",
    "for riter in range(numiters):\n",
    "    a = weight + bias\n",
    "    \n",
    "    \n",
    "\n"
   ]
  },
  {
   "cell_type": "code",
   "execution_count": null,
   "metadata": {},
   "outputs": [],
   "source": [
    "function onFrame(event) {\n",
    "    if (playing) {\n",
    "\ta = outputValue(weight, bias);\n",
    "\tdelta = cost1.derivative(a);\n",
    "\tweight += -eta*delta;\n",
    "\tbias += -eta*delta;\n",
    "\tweightText.content = paramContent(\"w = \", weight);\n",
    "\tweightSlider.segments[1].point.x = 165+weight*20;\n",
    "\tbiasText.content = paramContent(\"b = \", bias);\n",
    "\tbiasSlider.segments[1].point.x = 275+bias*20;\n",
    "\toutput.content = outputContent(weight, bias);\n",
    "\tif (count % 2 === 0) {epoch1.position.x += 1;}\n",
    "\tcostGraph1.add(new Point(epoch1.position.x, 250-cost1.scaling*cost1.fn(a)));\n",
    "\tepoch1Number.content = count;\n",
    "\tcount += 1;\n",
    "\tif (count > numFrames) {\n",
    "\t    count = 0;\n",
    "\t    runIcon.visible = true;\n",
    "\t    playing = false;\n",
    "\t}\n",
    "\t}\n"
   ]
  },
  {
   "cell_type": "code",
   "execution_count": null,
   "metadata": {},
   "outputs": [],
   "source": []
  }
 ],
 "metadata": {
  "kernelspec": {
   "display_name": "Python 3",
   "language": "python",
   "name": "python3"
  },
  "language_info": {
   "codemirror_mode": {
    "name": "ipython",
    "version": 3
   },
   "file_extension": ".py",
   "mimetype": "text/x-python",
   "name": "python",
   "nbconvert_exporter": "python",
   "pygments_lexer": "ipython3",
   "version": "3.7.1"
  }
 },
 "nbformat": 4,
 "nbformat_minor": 2
}
