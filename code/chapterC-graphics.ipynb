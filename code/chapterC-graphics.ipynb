{
 "cells": [
  {
   "cell_type": "code",
   "execution_count": 1,
   "metadata": {},
   "outputs": [],
   "source": [
    "import numpy as np\n",
    "import matplotlib.pyplot as plt\n",
    "\n",
    "# from ipywidgets import interact#, interactive, fixed, interact_manual\n",
    "# from ipywidgets import Layout, Box\n",
    "\n",
    "import pyradi.ryplot as ryplot  # https://github.com/NelisW/pyradi\n",
    "%matplotlib inline\n",
    "\n",
    "import network\n"
   ]
  },
  {
   "cell_type": "markdown",
   "metadata": {},
   "source": [
    "Define the data set. This is a small set, just used to demonstrate the princple."
   ]
  },
  {
   "cell_type": "code",
   "execution_count": 25,
   "metadata": {},
   "outputs": [
    {
     "name": "stdout",
     "output_type": "stream",
     "text": [
      "(array([2., 5.]), array([1])) (array([3., 4.]), array([1])) (array([10.,  7.]), array([1])) (array([1., 7.]), array([1])) (array([3.4, 6. ]), array([1])) (array([7., 7.]), array([1])) (array([ 0., 10.]), array([1])) (array([6. , 5.5]), array([1])) (array([9. , 9.5]), array([1])) (array([5., 7.]), array([1])) (array([4., 8.]), array([1])) (array([2., 3.]), array([1])) (array([5. , 4.5]), array([1])) (array([1. , 0.7]), array([-1])) (array([0.5, 3. ]), array([-1])) (array([5. , 3.2]), array([-1])) (array([0.5, 4. ]), array([-1])) (array([3.4, 3.2]), array([-1])) (array([2.3, 1.2]), array([-1])) (array([7. , 5.5]), array([-1])) (array([6., 4.]), array([-1])) (array([9., 6.]), array([-1])) (array([4., 1.]), array([-1])) (array([2. , 0.5]), array([-1])) (array([0., 5.]), array([-1])) (array([9., 3.]), array([-1]))\n"
     ]
    },
    {
     "data": {
      "image/png": "[encoded data removed]",
      "text/plain": [
       "<Figure size 432x432 with 1 Axes>"
      ]
     },
     "metadata": {
      "needs_background": "light"
     },
     "output_type": "display_data"
    }
   ],
   "source": [
    "x = np.asarray([[2,5],[3,4],[10,7],[1,7],[3.4,6.0],[7,7],[0,10],\n",
    "                [6,5.5],[9,9.5],[5,7],[4,8],[2,3],[5,4.5],[1,.7],\n",
    "                [0.5,3],[5,3.2],[0.5,4],[3.4,3.2],[2.3,1.2],[7,5.5],\n",
    "                [6,4],[9,6],[4,1],[2,0.5],[0,5],[9,3]])\n",
    "y = np.asarray([*13*[1],*13*[-1]]).reshape(-1,1)\n",
    "training_data = zip(x,y)\n",
    "print(*training_data)\n",
    "p = ryplot.Plotter(1,1,1,figsize=(6,6),doWarning=False)\n",
    "for (x1,x2),y in zip(x,y):\n",
    "    marker = 'o' if y==-1 else 'x'\n",
    "    p.plot(1,x1,x2,'Classifier training set','$x_1$','$x_2$',linestyle='',markers=[marker],plotCol=['b'],pltaxis=[0,10,0,10])\n",
    "x1 = np.linspace(0,10,100)\n",
    "p.plot(1,x1,x1*7/10+1,label=['Simple linear classifier'],plotCol=['r'])\n",
    "p.saveFig('../pic/chC-trainingset.pdf')"
   ]
  },
  {
   "cell_type": "code",
   "execution_count": 34,
   "metadata": {},
   "outputs": [],
   "source": [
    "# the list defines the number of nodes in layers 0, 1, 2.\n",
    "net = network.Network(sizes=[2, 5, 1],nlfn=network.tansig,nlfnpr=network.tansig_prime,silent=True)\n",
    "\n",
    "#stochastic gradient descent to learn from the  data\n",
    "net.SGD(training_data, epochs=100, mini_batch_size=10, eta=3.0)\n",
    "\n"
   ]
  },
  {
   "cell_type": "code",
   "execution_count": 36,
   "metadata": {},
   "outputs": [
    {
     "name": "stdout",
     "output_type": "stream",
     "text": [
      "[array([[ 0.74392182],\n",
      "       [-0.05574792],\n",
      "       [ 0.23073143],\n",
      "       [ 0.53839889],\n",
      "       [-1.14933971]]), array([[-1.26466964]])]\n",
      "[array([[-0.16892615, -0.30599637],\n",
      "       [ 0.16578589,  1.33530215],\n",
      "       [ 1.56064302, -0.78214931],\n",
      "       [-2.0701771 , -0.2481976 ],\n",
      "       [-0.12043699, -0.3767845 ]]), array([[-1.05024321, -1.11541313,  0.66953596,  1.92929382, -0.44660539]])]\n",
      "-0.16892614631970104\n"
     ]
    }
   ],
   "source": [
    "print(net.biases)\n",
    "print(net.weights)\n",
    "print(net.weights[0][0][0])\n"
   ]
  },
  {
   "cell_type": "markdown",
   "metadata": {},
   "source": [
    "`net.biases[0]` are the bias values for the hidden neurons.  \n",
    "`net.biases[0][n]` is the bias value for the hidden neuron n.  \n",
    "`net.biases[1]` is the bias value for the output neuron.  \n",
    "\n",
    "`net.weights[0]` are the weight values for the hidden neurons.  \n",
    "`net.weights[0][n]` are the weight values for the hidden neuron n.  \n",
    "`net.weights[0][n][0]` is the weight value between input x1 and the hidden neuron n.  \n",
    "`net.weights[0][n][1]` is the weight value between input x2 and the hidden neuron n.  \n",
    "\n"
   ]
  },
  {
   "cell_type": "code",
   "execution_count": null,
   "metadata": {},
   "outputs": [],
   "source": []
  },
  {
   "cell_type": "code",
   "execution_count": null,
   "metadata": {},
   "outputs": [],
   "source": []
  },
  {
   "cell_type": "code",
   "execution_count": null,
   "metadata": {},
   "outputs": [],
   "source": []
  },
  {
   "cell_type": "code",
   "execution_count": null,
   "metadata": {},
   "outputs": [],
   "source": []
  },
  {
   "cell_type": "code",
   "execution_count": null,
   "metadata": {},
   "outputs": [],
   "source": []
  },
  {
   "cell_type": "markdown",
   "metadata": {},
   "source": [
    "## tansig "
   ]
  },
  {
   "cell_type": "code",
   "execution_count": null,
   "metadata": {},
   "outputs": [],
   "source": [
    "x = np.linspace(-3,3,200)\n",
    "p = ryplot.Plotter(1,1,1,figsize=(12,5))\n",
    "p.plot(1,x,tansig(x),'tansig function', 'x','y',maxNX=7,maxNY=4,pltaxis=[-3,3,-1,1]);"
   ]
  },
  {
   "cell_type": "code",
   "execution_count": null,
   "metadata": {},
   "outputs": [],
   "source": [
    "p = ryplot.Plotter(1,1,1,figsize=(12,5))\n",
    "p.plot(1,x,tansig_prime(x),'d(tansig) function', 'x','y',maxNX=7,maxNY=4,pltaxis=[-3,3,-1,1]);\n",
    "p.plot(1,x,np.gradient(tansig(x),x),'d(tansig) function', 'x','y',maxNX=7,maxNY=4,pltaxis=[-3,3,0,1]);\n"
   ]
  },
  {
   "cell_type": "code",
   "execution_count": null,
   "metadata": {},
   "outputs": [],
   "source": []
  }
 ],
 "metadata": {
  "kernelspec": {
   "display_name": "Python 3",
   "language": "python",
   "name": "python3"
  },
  "language_info": {
   "codemirror_mode": {
    "name": "ipython",
    "version": 3
   },
   "file_extension": ".py",
   "mimetype": "text/x-python",
   "name": "python",
   "nbconvert_exporter": "python",
   "pygments_lexer": "ipython3",
   "version": "3.7.1"
  }
 },
 "nbformat": 4,
 "nbformat_minor": 2
}
