{
 "cells": [
  {
   "cell_type": "markdown",
   "metadata": {},
   "source": [
    "\n",
    "Notebook originally taken from (but modified here):  \n",
    "https://github.com/daydrill/ga_pycon_2016_apac\n",
    "\n",
    "Slides taken from:  \n",
    "https://github.com/pythonkr/pyconapac-2016-files/raw/master/20160814-102-16-SongChisung.pdf\n",
    "\n",
    "\n"
   ]
  },
  {
   "cell_type": "markdown",
   "metadata": {},
   "source": [
    "## Brief Introduction\n",
    "\n",
    "### Genetics and genetic programming\n",
    "\n",
    "![song01](images/song01.png)\n",
    "\n",
    "Population, chromosomes and genes:  \n",
    "![song01](images/song02.png)\n",
    "\n",
    "Basic genetic programming operations:  \n",
    "![song01](images/song03.png)\n",
    "\n",
    "Selection:  \n",
    "![song01](images/song04.png)\n",
    "\n",
    "Crossover (gene sharing):  \n",
    "![song01](images/song05.png)\n",
    "\n",
    "Mutation (gene modification):  \n",
    "![song01](images/song06.png)\n",
    "\n",
    "GA/GP workflow:  \n",
    "![song01](images/song07.png)\n"
   ]
  },
  {
   "cell_type": "markdown",
   "metadata": {},
   "source": [
    "### DEAP Architecture\n",
    "\n",
    "\n",
    "![song01](images/song08.png)\n",
    "\n",
    "![song01](images/song09.png)\n"
   ]
  },
  {
   "cell_type": "markdown",
   "metadata": {},
   "source": [
    "<hr style=\"border-color:#ff9900\"> \n",
    "\n",
    "## Practice 1 : \n",
    "\n",
    "<hr style=\"border-color:#ff9900\"> \n",
    "\n",
    "This example uses DEAP to create a list of numbers that add up to some value."
   ]
  },
  {
   "cell_type": "markdown",
   "metadata": {},
   "source": [
    "## Setting Things Up"
   ]
  },
  {
   "cell_type": "markdown",
   "metadata": {},
   "source": [
    "\n",
    "Assuming that you alreadyhave DEAP type the following on your shell:\n",
    "\n",
    "    conda install -c conda-forge folium \n",
    "\n"
   ]
  },
  {
   "cell_type": "code",
   "execution_count": 1,
   "metadata": {
    "collapsed": true
   },
   "outputs": [],
   "source": [
    "import random\n",
    "import numpy as np\n",
    "from deap import algorithms, base, creator, tools\n",
    "\n",
    "doVerbose = True\n",
    "listLength = 5\n",
    "sumUpTo = 100"
   ]
  },
  {
   "cell_type": "code",
   "execution_count": 2,
   "metadata": {},
   "outputs": [],
   "source": [
    "if doVerbose:\n",
    "    # manually compile list:\n",
    "    # Here are 5 numbers when added, we get a hundred.\n",
    "    list1 = [100, 0, 0, 0, 0]\n",
    "    list2 = [20, 21, 19, 15, 25]\n",
    "    (sum(list1), sum(list2))"
   ]
  },
  {
   "cell_type": "markdown",
   "metadata": {},
   "source": [
    "### Creator\n",
    "- Meta-factory allowing the run-time creation of classes via both inheritance and composition.\n",
    "- Attributes, both data and functions, can be dynamically added to existing classes in order to create user-specific new types.\n",
    "- By using this, the creation of individuals and populations from any data structure ( list, set, dictionary, tree, etc… )"
   ]
  },
  {
   "cell_type": "code",
   "execution_count": 3,
   "metadata": {
    "collapsed": false
   },
   "outputs": [],
   "source": [
    "# Creates a new class named \"FitnessMin\" inheriting from \"base.Fitness\" with attribute \"weights=(-1.0,)\"\n",
    "# The fitness is a measure of quality of a solution.\n",
    "creator.create(\"FitnessMin\", base.Fitness, weights=(-1.0,)) # -1 -> minimum problem\n",
    "creator.create(\"Individual\", list, fitness=creator.FitnessMin)"
   ]
  },
  {
   "cell_type": "markdown",
   "metadata": {},
   "source": [
    "### Toolbox\n",
    "- Container for the tools (operators) that the user wants to use.\n",
    "- Manually populated by the user with selected tools."
   ]
  },
  {
   "cell_type": "code",
   "execution_count": 4,
   "metadata": {
    "collapsed": true
   },
   "outputs": [],
   "source": [
    "toolbox = base.Toolbox()\n",
    "\n",
    "# Attribute generator : get random number between 0~100\n",
    "toolbox.register(\"attr_bool\", random.randint, 0, sumUpTo)\n",
    "\n",
    "# Structure initializers\n",
    "toolbox.register(\"individual\", tools.initRepeat, creator.Individual, toolbox.attr_bool, listLength)\n",
    "toolbox.register(\"population\", tools.initRepeat, list, toolbox.individual)\n"
   ]
  },
  {
   "cell_type": "markdown",
   "metadata": {},
   "source": [
    "## The Evaluation Function\n",
    "\n",
    "objective function  built for our problem: want to minimise the sum distance from `sumUpTo`"
   ]
  },
  {
   "cell_type": "code",
   "execution_count": 5,
   "metadata": {
    "collapsed": true
   },
   "outputs": [],
   "source": [
    "def sum_error(individual):\n",
    "    error = abs(sumUpTo - sum(individual))\n",
    "    # note the ',' and end of line, makes a tuple:\n",
    "    return error,"
   ]
  },
  {
   "cell_type": "code",
   "execution_count": 6,
   "metadata": {},
   "outputs": [
    {
     "name": "stdout",
     "output_type": "stream",
     "text": [
      "Demonstrate the attribute, individual and population:\n",
      "Attribute demo: 86\n",
      "Individual demo: [51, 66, 70, 35, 5]\n",
      "Individual sum: 227\n",
      "<class 'tuple'>\n",
      "(127,)\n",
      "[[83, 61, 66, 36, 4], [33, 100, 14, 81, 68], [73, 99, 80, 18, 73], [7, 100, 48, 74, 30], [29, 94, 18, 35, 23], [12, 86, 73, 27, 46], [49, 45, 87, 69, 54], [71, 4, 83, 23, 8], [6, 100, 69, 84, 33], [93, 99, 51, 43, 13]]\n"
     ]
    }
   ],
   "source": [
    "if doVerbose:\n",
    "    ind = toolbox.individual()\n",
    "    print('Demonstrate the attribute, individual and population:')\n",
    "    print(f'Attribute demo: {toolbox.attr_bool()}') \n",
    "    print(f'Individual demo: {ind}')  \n",
    "    print(f'Individual sum: {sum(ind)}')  # demo test individual sum\n",
    "    print(type(sum_error(ind))) # error\n",
    "    print(sum_error(ind)) # error\n",
    "    print(toolbox.population(n=10)) # demo pop of 10 indv\n",
    "    "
   ]
  },
  {
   "cell_type": "markdown",
   "metadata": {},
   "source": [
    "## The Genetic Operators\n",
    "- Operators are just like initializers, except that some are already implemented in the [tools](http://deap.readthedocs.io/en/master/api/tools.html#module-deap.tools) module. \n",
    "- __Once you’ve chosen the perfect ones, simply register them in the toolbox.__"
   ]
  },
  {
   "cell_type": "code",
   "execution_count": 7,
   "metadata": {
    "collapsed": false
   },
   "outputs": [],
   "source": [
    "toolbox.register(\"evaluate\", sum_error)"
   ]
  },
  {
   "cell_type": "code",
   "execution_count": 8,
   "metadata": {
    "collapsed": true
   },
   "outputs": [],
   "source": [
    "toolbox.register(\"mate\", tools.cxTwoPoint)\n",
    "toolbox.register(\"mutate\", tools.mutUniformInt, low=0, up=100, indpb=0.2) # Independent probability  : for each attribute to be mutated.# low~up rondom int\n",
    "toolbox.register(\"select\", tools.selTournament, tournsize=3)"
   ]
  },
  {
   "cell_type": "markdown",
   "metadata": {},
   "source": [
    "## Evolving the Population"
   ]
  },
  {
   "cell_type": "markdown",
   "metadata": {},
   "source": [
    "### Creating the Population"
   ]
  },
  {
   "cell_type": "code",
   "execution_count": 9,
   "metadata": {
    "collapsed": false,
    "scrolled": true
   },
   "outputs": [
    {
     "data": {
      "text/plain": [
       "[[12, 47, 55, 37, 76],\n",
       " [97, 72, 20, 69, 31],\n",
       " [76, 22, 10, 26, 22],\n",
       " [51, 59, 94, 61, 45],\n",
       " [43, 0, 79, 50, 92],\n",
       " [96, 83, 68, 43, 74],\n",
       " [47, 86, 65, 50, 26],\n",
       " [24, 14, 95, 98, 78],\n",
       " [31, 90, 83, 5, 26],\n",
       " [13, 89, 38, 42, 14]]"
      ]
     },
     "execution_count": 9,
     "metadata": {},
     "output_type": "execute_result"
    }
   ],
   "source": [
    "pop = toolbox.population(n=100)\n",
    "pop[:10] # only print the first few"
   ]
  },
  {
   "cell_type": "markdown",
   "metadata": {},
   "source": [
    "### The Appeal of Evolution"
   ]
  },
  {
   "cell_type": "code",
   "execution_count": 10,
   "metadata": {
    "collapsed": true
   },
   "outputs": [],
   "source": [
    "# Use of a HallOfFame in order to keep track of the best individual to appear in the evolution \n",
    "# (it keeps it even in the case it extinguishes)\n",
    "hof = tools.HallOfFame(1)"
   ]
  },
  {
   "cell_type": "code",
   "execution_count": 11,
   "metadata": {
    "collapsed": true
   },
   "outputs": [],
   "source": [
    "stats = tools.Statistics(lambda ind: ind.fitness.values)\n",
    "stats.register(\"avg\", np.mean)\n",
    "stats.register(\"std\", np.std)\n",
    "stats.register(\"min\", np.min)\n",
    "stats.register(\"max\", np.max)"
   ]
  },
  {
   "cell_type": "code",
   "execution_count": 12,
   "metadata": {
    "collapsed": false
   },
   "outputs": [
    {
     "name": "stdout",
     "output_type": "stream",
     "text": [
      "gen\tnevals\tavg   \tstd    \tmin\tmax\n",
      "0  \t100   \t158.96\t68.0648\t16 \t304\n",
      "1  \t59    \t96.09 \t46.4719\t2  \t197\n",
      "2  \t64    \t60.57 \t43.0075\t1  \t210\n",
      "3  \t66    \t34.44 \t26.1198\t1  \t132\n",
      "4  \t67    \t25.62 \t22.0494\t1  \t116\n",
      "5  \t58    \t19.64 \t24.1062\t0  \t141\n",
      "6  \t49    \t17.44 \t22.5895\t0  \t107\n",
      "7  \t66    \t18.49 \t27.9075\t0  \t168\n",
      "8  \t58    \t15.45 \t25.1906\t0  \t161\n",
      "9  \t64    \t14.77 \t26.0948\t0  \t158\n",
      "10 \t71    \t12.29 \t17.118 \t0  \t105\n",
      "11 \t60    \t11.02 \t24.4896\t0  \t135\n",
      "12 \t46    \t7.73  \t19.021 \t0  \t100\n",
      "13 \t52    \t8.76  \t26.3678\t0  \t162\n",
      "14 \t63    \t4.65  \t14.4356\t0  \t90 \n",
      "15 \t61    \t7.92  \t21.5632\t0  \t99 \n",
      "16 \t73    \t13.43 \t29.5568\t0  \t135\n",
      "17 \t52    \t4.3   \t15.0542\t0  \t92 \n",
      "18 \t55    \t3.96  \t13.0376\t0  \t85 \n",
      "19 \t64    \t9.21  \t25.5054\t0  \t119\n",
      "20 \t57    \t6.52  \t19.5318\t0  \t88 \n",
      "21 \t69    \t7.24  \t20.4015\t0  \t95 \n",
      "22 \t61    \t8.98  \t28.7367\t0  \t201\n",
      "23 \t52    \t7.77  \t21.5076\t0  \t89 \n",
      "24 \t62    \t8.45  \t29.702 \t0  \t178\n",
      "25 \t55    \t6.14  \t20.0709\t0  \t94 \n",
      "26 \t58    \t7.74  \t20.4003\t0  \t95 \n",
      "27 \t62    \t9.16  \t24.4862\t0  \t140\n",
      "28 \t57    \t12.25 \t30.4396\t0  \t157\n",
      "29 \t56    \t6.78  \t21.494 \t0  \t124\n",
      "30 \t59    \t10.04 \t25.4338\t0  \t138\n",
      "31 \t63    \t4.47  \t17.5633\t0  \t139\n",
      "32 \t55    \t7.62  \t20.5065\t0  \t115\n",
      "33 \t62    \t6.24  \t18.9853\t0  \t103\n",
      "34 \t64    \t10.38 \t31.587 \t0  \t175\n",
      "35 \t67    \t6.29  \t22.1433\t0  \t161\n",
      "36 \t60    \t5.43  \t20.4823\t0  \t149\n",
      "37 \t44    \t1.94  \t10.7544\t0  \t90 \n",
      "38 \t61    \t3.87  \t15.2431\t0  \t95 \n",
      "39 \t67    \t7.76  \t28.8094\t0  \t168\n",
      "40 \t62    \t5.12  \t20.6564\t0  \t146\n",
      "gen\tnevals\tavg   \tstd    \tmin\tmax\n",
      "0  \t100   \t158.96\t68.0648\t16 \t304\n",
      "1  \t59    \t96.09 \t46.4719\t2  \t197\n",
      "2  \t64    \t60.57 \t43.0075\t1  \t210\n",
      "3  \t66    \t34.44 \t26.1198\t1  \t132\n",
      "4  \t67    \t25.62 \t22.0494\t1  \t116\n",
      "5  \t58    \t19.64 \t24.1062\t0  \t141\n",
      "6  \t49    \t17.44 \t22.5895\t0  \t107\n",
      "7  \t66    \t18.49 \t27.9075\t0  \t168\n",
      "8  \t58    \t15.45 \t25.1906\t0  \t161\n",
      "9  \t64    \t14.77 \t26.0948\t0  \t158\n",
      "10 \t71    \t12.29 \t17.118 \t0  \t105\n",
      "11 \t60    \t11.02 \t24.4896\t0  \t135\n",
      "12 \t46    \t7.73  \t19.021 \t0  \t100\n",
      "13 \t52    \t8.76  \t26.3678\t0  \t162\n",
      "14 \t63    \t4.65  \t14.4356\t0  \t90 \n",
      "15 \t61    \t7.92  \t21.5632\t0  \t99 \n",
      "16 \t73    \t13.43 \t29.5568\t0  \t135\n",
      "17 \t52    \t4.3   \t15.0542\t0  \t92 \n",
      "18 \t55    \t3.96  \t13.0376\t0  \t85 \n",
      "19 \t64    \t9.21  \t25.5054\t0  \t119\n",
      "20 \t57    \t6.52  \t19.5318\t0  \t88 \n",
      "21 \t69    \t7.24  \t20.4015\t0  \t95 \n",
      "22 \t61    \t8.98  \t28.7367\t0  \t201\n",
      "23 \t52    \t7.77  \t21.5076\t0  \t89 \n",
      "24 \t62    \t8.45  \t29.702 \t0  \t178\n",
      "25 \t55    \t6.14  \t20.0709\t0  \t94 \n",
      "26 \t58    \t7.74  \t20.4003\t0  \t95 \n",
      "27 \t62    \t9.16  \t24.4862\t0  \t140\n",
      "28 \t57    \t12.25 \t30.4396\t0  \t157\n",
      "29 \t56    \t6.78  \t21.494 \t0  \t124\n",
      "30 \t59    \t10.04 \t25.4338\t0  \t138\n",
      "31 \t63    \t4.47  \t17.5633\t0  \t139\n",
      "32 \t55    \t7.62  \t20.5065\t0  \t115\n",
      "33 \t62    \t6.24  \t18.9853\t0  \t103\n",
      "34 \t64    \t10.38 \t31.587 \t0  \t175\n",
      "35 \t67    \t6.29  \t22.1433\t0  \t161\n",
      "36 \t60    \t5.43  \t20.4823\t0  \t149\n",
      "37 \t44    \t1.94  \t10.7544\t0  \t90 \n",
      "38 \t61    \t3.87  \t15.2431\t0  \t95 \n",
      "39 \t67    \t7.76  \t28.8094\t0  \t168\n",
      "40 \t62    \t5.12  \t20.6564\t0  \t146\n",
      "[[1, 21, 10, 16, 52], [1, 21, 10, 16, 52], [1, 21, 10, 16, 52], [1, 21, 10, 16, 52], [1, 21, 10, 16, 52], [1, 21, 10, 16, 52], [1, 21, 10, 16, 52], [1, 21, 10, 16, 52], [1, 21, 10, 16, 52], [1, 21, 10, 16, 52], [1, 21, 10, 16, 52], [33, 21, 10, 16, 52], [1, 21, 10, 16, 52], [1, 21, 10, 16, 52], [1, 21, 10, 16, 52], [1, 21, 10, 16, 52], [1, 21, 10, 16, 52], [62, 21, 95, 16, 52], [1, 21, 10, 16, 52], [1, 21, 10, 16, 52], [9, 38, 10, 16, 30], [1, 21, 10, 16, 52], [1, 21, 10, 16, 52], [1, 21, 10, 16, 52], [1, 21, 10, 16, 52], [1, 21, 10, 16, 52], [1, 21, 10, 16, 52], [1, 21, 10, 16, 52], [1, 21, 10, 16, 52], [1, 21, 10, 16, 52], [1, 21, 10, 16, 52], [1, 21, 10, 16, 52], [83, 21, 10, 16, 52], [1, 21, 10, 16, 52], [1, 21, 10, 16, 52], [1, 21, 10, 16, 52], [1, 21, 10, 16, 52], [1, 21, 10, 16, 52], [1, 21, 10, 16, 52], [1, 21, 10, 16, 52], [1, 21, 10, 97, 52], [1, 21, 10, 16, 52], [1, 21, 10, 16, 52], [1, 21, 10, 16, 52], [1, 21, 10, 16, 52], [1, 21, 10, 16, 52], [1, 21, 10, 16, 52], [1, 21, 10, 16, 52], [1, 21, 10, 16, 52], [1, 21, 10, 16, 52], [1, 21, 10, 16, 52], [1, 21, 10, 16, 52], [1, 21, 10, 16, 52], [1, 21, 10, 16, 52], [1, 21, 10, 16, 52], [1, 21, 10, 16, 52], [1, 21, 10, 16, 52], [1, 21, 10, 16, 52], [1, 21, 10, 16, 52], [1, 21, 10, 16, 52], [1, 21, 10, 16, 52], [1, 21, 10, 16, 52], [1, 21, 10, 16, 52], [1, 21, 10, 16, 52], [1, 21, 10, 16, 52], [1, 21, 10, 100, 52], [1, 21, 10, 16, 52], [1, 21, 10, 16, 52], [1, 21, 10, 16, 52], [1, 21, 10, 16, 52], [1, 21, 10, 16, 52], [1, 21, 10, 16, 52], [1, 21, 10, 16, 52], [1, 21, 10, 16, 52], [1, 21, 10, 16, 52], [6, 21, 31, 16, 42], [1, 21, 10, 16, 52], [1, 21, 10, 16, 52], [1, 21, 10, 16, 52], [1, 21, 10, 16, 52], [1, 21, 10, 16, 52], [1, 21, 10, 16, 52], [1, 21, 10, 16, 52], [1, 21, 10, 16, 52], [1, 21, 10, 16, 52], [1, 21, 10, 16, 52], [1, 21, 10, 16, 52], [1, 21, 10, 16, 52], [1, 21, 10, 16, 52], [1, 21, 10, 16, 52], [1, 21, 10, 16, 52], [1, 21, 10, 16, 52], [1, 21, 14, 50, 52], [1, 21, 10, 16, 52], [1, 21, 10, 16, 52], [1, 21, 10, 16, 52], [1, 21, 10, 16, 82], [1, 21, 10, 16, 52], [1, 21, 10, 16, 52], [1, 21, 10, 16, 52]]\n"
     ]
    }
   ],
   "source": [
    "# algorithms : contains useful implements some basic GA\n",
    "pop, log = algorithms.eaSimple(pop, toolbox, cxpb=0.5, mutpb=0.2, ngen=40, stats=stats, halloffame=hof, verbose=True)\n",
    "print(log)\n",
    "print(pop)"
   ]
  },
  {
   "cell_type": "code",
   "execution_count": 13,
   "metadata": {
    "collapsed": false,
    "scrolled": true
   },
   "outputs": [
    {
     "data": {
      "text/plain": [
       "[100, 100, 100, 100, 100, 100, 100, 100, 100, 100]"
      ]
     },
     "execution_count": 13,
     "metadata": {},
     "output_type": "execute_result"
    }
   ],
   "source": [
    "[sum(ind) for ind in pop[:10]] # first ten"
   ]
  },
  {
   "cell_type": "code",
   "execution_count": 14,
   "metadata": {
    "collapsed": false,
    "scrolled": true
   },
   "outputs": [
    {
     "data": {
      "text/plain": [
       "[[1, 21, 10, 16, 52],\n",
       " [1, 21, 10, 16, 52],\n",
       " [1, 21, 10, 16, 52],\n",
       " [1, 21, 10, 16, 52],\n",
       " [1, 21, 10, 16, 52]]"
      ]
     },
     "execution_count": 14,
     "metadata": {},
     "output_type": "execute_result"
    }
   ],
   "source": [
    "tools.selBest(pop, k=5)"
   ]
  }
 ],
 "metadata": {
  "anaconda-cloud": {},
  "kernelspec": {
   "display_name": "Python 3",
   "language": "python",
   "name": "python3"
  },
  "language_info": {
   "codemirror_mode": {
    "name": "ipython",
    "version": 3
   },
   "file_extension": ".py",
   "mimetype": "text/x-python",
   "name": "python",
   "nbconvert_exporter": "python",
   "pygments_lexer": "ipython3",
   "version": "3.7.1"
  }
 },
 "nbformat": 4,
 "nbformat_minor": 2
}
