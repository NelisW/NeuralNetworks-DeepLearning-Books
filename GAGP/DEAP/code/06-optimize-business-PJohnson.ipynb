{
 "cells": [
  {
   "cell_type": "markdown",
   "metadata": {},
   "source": [
    "### Chapter 6 from “Genetic Algorithms and Investment Strategies” by Richard Bauer Jr\n",
    "\n",
    "\n",
    "https://github.com/pepper-johnson/sack_lunch/blob/master/Notebooks/GA/Basic%20GA%20Example%20-%20DEAP.ipynb  \n",
    "https://medium.com/@pasdan/basic-ga-via-python-deap-603736eb6b87  \n",
    "\n",
    "\n",
    "I am currently reading ''Genetic Algorithms and Investment Strategies'' by Richard Bauer Jr. In the sixth chapter of his book, Richard walks through a basic example of a GA in order to optimize a basic business problem.\n",
    "\n",
    "The fitness function to optimize is as follows:\n",
    "\n",
    "= 600,000-( (F + V) + 350,000 )\n",
    "\n",
    "The F and V variables are tied to our GA individual and for this problem it represents Quantity (number of items to produce). 600,000 is total revenue and 350,000 are for additional expenses.\n",
    "\n",
    "Equation F = ( 20,000 / Quantity ) * 6000 and represents the fixed fee for a production run. Each run costs us 6,000.\n",
    "\n",
    "Equation V = ( Quantity * 6 ) / 2 and represents the amount of money a particular production run costs.\n"
   ]
  },
  {
   "cell_type": "code",
   "execution_count": 4,
   "metadata": {},
   "outputs": [],
   "source": [
    "import random\n",
    "import numpy as np\n",
    "\n",
    "from deap import base, creator, tools"
   ]
  },
  {
   "cell_type": "markdown",
   "metadata": {},
   "source": [
    "**Step 1:** Build Fitness"
   ]
  },
  {
   "cell_type": "code",
   "execution_count": 5,
   "metadata": {},
   "outputs": [],
   "source": [
    "def EOQ(individual):\n",
    "    \n",
    "    def to_int(b):\n",
    "        return int(b, 2)\n",
    "    \n",
    "    O = 350000\n",
    "    T = 600000\n",
    "    \n",
    "    i = to_int(\n",
    "        ''.join((str(xi) for xi in individual)))\n",
    "    \n",
    "    if i == 0:\n",
    "        return (-1)*O\n",
    "    \n",
    "    f = round((20000 / i) * 6000, 0)\n",
    "    v = (i * 6) / 2\n",
    "    \n",
    "    return T - ( (f + v) + (O) ),"
   ]
  },
  {
   "cell_type": "markdown",
   "metadata": {},
   "source": [
    "**Step 2:** Setup GA using DEAP."
   ]
  },
  {
   "cell_type": "code",
   "execution_count": 6,
   "metadata": {},
   "outputs": [
    {
     "name": "stderr",
     "output_type": "stream",
     "text": [
      "C:\\ProgramData\\Anaconda3\\lib\\site-packages\\deap-1.2.2-py3.7-win-amd64.egg\\deap\\creator.py:141: RuntimeWarning: A class named 'FitnessMax' has already been created and it will be overwritten. Consider deleting previous creation of that class or rename it.\n",
      "  RuntimeWarning)\n",
      "C:\\ProgramData\\Anaconda3\\lib\\site-packages\\deap-1.2.2-py3.7-win-amd64.egg\\deap\\creator.py:141: RuntimeWarning: A class named 'Individual' has already been created and it will be overwritten. Consider deleting previous creation of that class or rename it.\n",
      "  RuntimeWarning)\n"
     ]
    }
   ],
   "source": [
    "creator.create(\"FitnessMax\", base.Fitness, weights=(1.0,))\n",
    "creator.create(\"Individual\", list, fitness=creator.FitnessMax)"
   ]
  },
  {
   "cell_type": "markdown",
   "metadata": {},
   "source": [
    "- Max Optimization of our Fitness.\n",
    "- Our Individual will be represented as an Array."
   ]
  },
  {
   "cell_type": "markdown",
   "metadata": {},
   "source": [
    "- Each attribute in our individual will be either a 0 or 1. Each individual will be 20 bits in length.\n",
    "- Mating will use One Point Crossover, Mutation will flip the bit and Selection will use Tournament Selection.\n",
    "\n",
    "**Step 3:** Running the GA."
   ]
  },
  {
   "cell_type": "code",
   "execution_count": 7,
   "metadata": {},
   "outputs": [],
   "source": [
    "tbx = base.Toolbox()"
   ]
  },
  {
   "cell_type": "code",
   "execution_count": 8,
   "metadata": {},
   "outputs": [],
   "source": [
    "INDIVIDUAL_SIZE = 20\n",
    "\n",
    "tbx.register(\"attr_int\", random.randint, 0, 1)\n",
    "tbx.register(\"individual\", \n",
    "             tools.initRepeat, \n",
    "             creator.Individual,\n",
    "             tbx.attr_int, \n",
    "             n=INDIVIDUAL_SIZE)\n",
    "\n",
    "tbx.register(\"population\", tools.initRepeat, list, tbx.individual)"
   ]
  },
  {
   "cell_type": "code",
   "execution_count": 9,
   "metadata": {},
   "outputs": [],
   "source": [
    "tbx.register(\"evaluate\", EOQ)\n",
    "\n",
    "tbx.register(\"mate\", tools.cxOnePoint)\n",
    "tbx.register(\"mutate\", tools.mutFlipBit, indpb=0.01)\n",
    "tbx.register(\"select\", tools.selTournament, tournsize=5)"
   ]
  },
  {
   "cell_type": "code",
   "execution_count": 10,
   "metadata": {},
   "outputs": [],
   "source": [
    "def set_fitness(population):\n",
    "    fitnesses = [ \n",
    "        (individual, tbx.evaluate(individual)) \n",
    "        for individual in population \n",
    "    ]\n",
    "\n",
    "    for individual, fitness in fitnesses:\n",
    "        individual.fitness.values = fitness\n",
    "        \n",
    "def pull_stats(population, iteration=1):\n",
    "    fitnesses = [ individual.fitness.values[0] for individual in population ]\n",
    "    return {\n",
    "        'i': iteration,\n",
    "        'mu': np.mean(fitnesses),\n",
    "        'std': np.std(fitnesses),\n",
    "        'max': np.max(fitnesses),\n",
    "        'min': np.min(fitnesses)\n",
    "    }"
   ]
  },
  {
   "cell_type": "code",
   "execution_count": 11,
   "metadata": {},
   "outputs": [],
   "source": [
    "## create random population,\n",
    "population = tbx.population(n=50)\n",
    "\n",
    "## set fitness,\n",
    "set_fitness(population)"
   ]
  },
  {
   "cell_type": "code",
   "execution_count": null,
   "metadata": {},
   "outputs": [],
   "source": []
  },
  {
   "cell_type": "code",
   "execution_count": 12,
   "metadata": {},
   "outputs": [
    {
     "data": {
      "text/plain": [
       "[[1, 0, 0, 0, 1, 0, 0, 0, 1, 1, 1, 0, 1, 1, 1, 1, 0, 1, 1, 0],\n",
       " [0, 0, 1, 0, 0, 1, 0, 0, 1, 1, 0, 1, 1, 1, 1, 1, 0, 1, 0, 0],\n",
       " [1, 1, 0, 1, 0, 0, 1, 0, 0, 1, 1, 1, 1, 0, 0, 0, 0, 0, 0, 1],\n",
       " [0, 0, 1, 1, 1, 0, 1, 1, 0, 1, 0, 0, 1, 1, 0, 1, 0, 0, 0, 0],\n",
       " [0, 0, 0, 1, 1, 0, 1, 0, 1, 1, 1, 0, 1, 0, 1, 1, 1, 1, 1, 0]]"
      ]
     },
     "execution_count": 12,
     "metadata": {},
     "output_type": "execute_result"
    }
   ],
   "source": [
    "## quick look at the initial population,\n",
    "population[:5]"
   ]
  },
  {
   "cell_type": "code",
   "execution_count": null,
   "metadata": {},
   "outputs": [],
   "source": []
  },
  {
   "cell_type": "code",
   "execution_count": 13,
   "metadata": {},
   "outputs": [],
   "source": [
    "## globals,\n",
    "stats = []"
   ]
  },
  {
   "cell_type": "code",
   "execution_count": 14,
   "metadata": {},
   "outputs": [],
   "source": [
    "iteration = 1\n",
    "while iteration < 51:\n",
    "    \n",
    "    current_population = list(map(tbx.clone, population))\n",
    "    \n",
    "    offspring = []\n",
    "    for _ in range(10):\n",
    "        i1, i2 = np.random.choice(range(len(population)), size=2, replace=False)\n",
    "\n",
    "        offspring1, offspring2 = \\\n",
    "            tbx.mate(population[i1], population[i2])\n",
    "\n",
    "        offspring.append(tbx.mutate(offspring1)[0])\n",
    "        offspring.append(tbx.mutate(offspring2)[0])  \n",
    "    \n",
    "    for child in offspring:\n",
    "        current_population.append(child)\n",
    "\n",
    "    ## reset fitness,\n",
    "    set_fitness(current_population)\n",
    "\n",
    "    population[:] = tbx.select(current_population, len(population))\n",
    "    \n",
    "    ## set fitness on individuals in the population,\n",
    "    stats.append(\n",
    "        pull_stats(population, iteration))\n",
    "    \n",
    "    iteration += 1"
   ]
  },
  {
   "cell_type": "code",
   "execution_count": null,
   "metadata": {},
   "outputs": [],
   "source": []
  },
  {
   "cell_type": "code",
   "execution_count": 15,
   "metadata": {},
   "outputs": [],
   "source": [
    "import seaborn as sns\n",
    "import matplotlib.pyplot as plt\n",
    "\n",
    "sns.set()"
   ]
  },
  {
   "cell_type": "code",
   "execution_count": 17,
   "metadata": {},
   "outputs": [
    {
     "data": {
      "image/png": "[encoded data removed]",
      "text/plain": [
       "<Figure size 432x288 with 1 Axes>"
      ]
     },
     "metadata": {
      "needs_background": "light"
     },
     "output_type": "display_data"
    }
   ],
   "source": [
    "_ = plt.scatter(range(1, len(stats)+1), [ s['mu'] for s in stats ], marker='.')\n",
    "\n",
    "_ = plt.title('average fitness per iteration')\n",
    "_ = plt.xlabel('iterations')\n",
    "_ = plt.ylabel('fitness')\n",
    "\n",
    "plt.show()"
   ]
  },
  {
   "cell_type": "code",
   "execution_count": null,
   "metadata": {},
   "outputs": [],
   "source": []
  },
  {
   "cell_type": "code",
   "execution_count": 18,
   "metadata": {},
   "outputs": [
    {
     "data": {
      "text/plain": [
       "[(0, 6143),\n",
       " (1, 6143),\n",
       " (2, 6143),\n",
       " (3, 6143),\n",
       " (4, 6143),\n",
       " (5, 6143),\n",
       " (6, 6143),\n",
       " (7, 6143),\n",
       " (8, 6143),\n",
       " (9, 6143)]"
      ]
     },
     "execution_count": 18,
     "metadata": {},
     "output_type": "execute_result"
    }
   ],
   "source": [
    "def to_int(b):\n",
    "    return int(b, 2)\n",
    "    \n",
    "sorted([ (i, to_int(''.join((str(xi) for xi in individual)))) for i, individual in enumerate(population) ][:10], key=lambda x: x[1], reverse=False)"
   ]
  },
  {
   "cell_type": "code",
   "execution_count": null,
   "metadata": {},
   "outputs": [],
   "source": []
  }
 ],
 "metadata": {
  "kernelspec": {
   "display_name": "Python 3",
   "language": "python",
   "name": "python3"
  },
  "language_info": {
   "codemirror_mode": {
    "name": "ipython",
    "version": 3
   },
   "file_extension": ".py",
   "mimetype": "text/x-python",
   "name": "python",
   "nbconvert_exporter": "python",
   "pygments_lexer": "ipython3",
   "version": "3.7.1"
  }
 },
 "nbformat": 4,
 "nbformat_minor": 2
}
