{
 "cells": [
  {
   "cell_type": "code",
   "execution_count": null,
   "metadata": {},
   "outputs": [],
   "source": []
  },
  {
   "cell_type": "code",
   "execution_count": null,
   "metadata": {},
   "outputs": [],
   "source": []
  },
  {
   "cell_type": "code",
   "execution_count": null,
   "metadata": {},
   "outputs": [],
   "source": []
  },
  {
   "cell_type": "markdown",
   "metadata": {},
   "source": [
    "In his PhD thesis on GA optimisation of trading Lidquist uses the following strategy:\n",
    "\n",
    "![Lindquist-gene-encoding](images/Lindquist-gene-encoding01.png)\n",
    "![Lindquist-gene-encoding](images/Lindquist-gene-encoding02.png)\n",
    "![Lindquist-gene-encoding](images/Lindquist-gene-encoding03.png)\n",
    "![Lindquist-gene-encoding](images/Lindquist-gene-encoding04.png)\n",
    "\n"
   ]
  },
  {
   "cell_type": "markdown",
   "metadata": {},
   "source": [
    "Corne and Lones writes in 'Handbook of Heuristics', Chapter Evolutionary Aalgorithms, Springer, 2018:\n",
    "\n",
    "In common with other optimisation algorithms, most EAs are designed to work with and optimise\n",
    "vectors (or, equivalently, lists or arrays) of decision variables. Solutions to many kinds of problems\n",
    "can be represented, either directly or indirectly, in this form. However, EAs are not limited to working\n",
    "with vectors, and there are often advantages to working directly with representations that are more\n",
    "natural for the problem domain: for example, matrices, trees, graphs, rule sets, etc. The\n",
    "general approach is the same as for the EAs discussed in the previous section, except that specialised\n",
    "initialisation routines and variation operators are used to randomly create, mutate and recombine\n",
    "instances of the appropriate solution representation."
   ]
  },
  {
   "cell_type": "code",
   "execution_count": 5,
   "metadata": {},
   "outputs": [],
   "source": [
    "import matplotlib.pyplot as plt\n",
    "import sys\n",
    "import array\n",
    "import random\n",
    "import numpy as np\n",
    "\n",
    "from deap import  algorithms\n",
    "from deap import  base\n",
    "from deap import  creator\n",
    "from deap import  tools\n",
    "\n",
    "%matplotlib inline\n"
   ]
  },
  {
   "cell_type": "code",
   "execution_count": 47,
   "metadata": {},
   "outputs": [],
   "source": [
    "POP_SIZE = 100\n",
    "MAX_GEN = 100\n",
    "MUT_PROB = 0.2\n",
    "CX_PROB = 0.8\n",
    "\n",
    "timemax = 5\n"
   ]
  },
  {
   "cell_type": "code",
   "execution_count": 48,
   "metadata": {},
   "outputs": [],
   "source": [
    "from enum import Enum,unique\n",
    "\n",
    "\n",
    "\n",
    "def round_down(x, a):\n",
    "    return round(x / a) * a\n",
    "\n",
    "# Only these are allowed as Ftypes\n",
    "@unique\n",
    "class Ftype(Enum):\n",
    "    M = 0\n",
    "    S = 1\n",
    "    \n",
    "# Only these are allowed as Dirtype\n",
    "@unique\n",
    "class Dirtype(Enum):\n",
    "    P = 0\n",
    "    S = 1\n",
    "    \n",
    "def generate_event():\n",
    "    di = {}\n",
    "    # time between 0 and timemax\n",
    "    di['time'] = round_down(random.uniform(0, timemax),0.05)\n",
    "    # even odds for each of the two cases\n",
    "    di['Ftype'] = Ftype.S if random.uniform(0, 1) <=0.5 else Ftype.M\n",
    "    # even odds for each of the two cases\n",
    "    di['DirType'] = Dirtype.P if random.uniform(0, 1) <=0.5 else Dirtype.S\n",
    "    return di\n"
   ]
  },
  {
   "cell_type": "markdown",
   "metadata": {},
   "source": [
    "The objective is to minimise two parameters:\n",
    "- the difference between the required code and the individual code\n",
    "- the number of events\n"
   ]
  },
  {
   "cell_type": "code",
   "execution_count": 49,
   "metadata": {},
   "outputs": [],
   "source": [
    "creator.create(\"FitnessMin\", base.Fitness,weights=(-1.0,-1.0))\n",
    "creator.create(\"Individual\",dict, fitness=creator.FitnessMin)\n",
    "\n",
    "toolbox = base.Toolbox()\n",
    "toolbox.register(\"individual\", tools.initIterate, creator.Individual,generate_event) \n",
    "toolbox.register(\"population\", tools.initRepeat, list, toolbox.individual)\n",
    "\n",
    "pop = toolbox.population(n=POP_SIZE)\n"
   ]
  },
  {
   "cell_type": "code",
   "execution_count": 50,
   "metadata": {},
   "outputs": [
    {
     "name": "stdout",
     "output_type": "stream",
     "text": [
      "Individual: {}\n",
      "individual: {'time': 4.3, 'Ftype': <Ftype.M: 0>, 'DirType': <Dirtype.S: 1>}\n",
      "population: [{'time': 2.0, 'Ftype': <Ftype.M: 0>, 'DirType': <Dirtype.S: 1>}, {'time': 0.8, 'Ftype': <Ftype.S: 1>, 'DirType': <Dirtype.S: 1>}, {'time': 0.9, 'Ftype': <Ftype.S: 1>, 'DirType': <Dirtype.S: 1>}, {'time': 1.6500000000000001, 'Ftype': <Ftype.S: 1>, 'DirType': <Dirtype.P: 0>}, {'time': 2.6500000000000004, 'Ftype': <Ftype.M: 0>, 'DirType': <Dirtype.S: 1>}, {'time': 2.6, 'Ftype': <Ftype.M: 0>, 'DirType': <Dirtype.P: 0>}, {'time': 3.9000000000000004, 'Ftype': <Ftype.M: 0>, 'DirType': <Dirtype.S: 1>}, {'time': 4.1000000000000005, 'Ftype': <Ftype.S: 1>, 'DirType': <Dirtype.P: 0>}, {'time': 1.4000000000000001, 'Ftype': <Ftype.M: 0>, 'DirType': <Dirtype.P: 0>}, {'time': 4.95, 'Ftype': <Ftype.M: 0>, 'DirType': <Dirtype.S: 1>}]\n"
     ]
    }
   ],
   "source": [
    "print(f'Individual: {creator.Individual()}')  \n",
    "print(f'individual: {toolbox.individual()}')  \n",
    "print(f'population: {toolbox.population(n=10)}') "
   ]
  },
  {
   "cell_type": "code",
   "execution_count": 51,
   "metadata": {},
   "outputs": [],
   "source": [
    "toolbox.register('mate',tools.cxOrdered)\n",
    "toolbox.register('mutate',tools.mutShuffleIndexes, indpb=0.05)\n",
    "toolbox.register('select',tools.selTournament, tournsize=3)\n"
   ]
  },
  {
   "cell_type": "code",
   "execution_count": 52,
   "metadata": {},
   "outputs": [],
   "source": [
    "ind = toolbox.individual()\n",
    "\n",
    "stats = tools.Statistics(lambda ind: ind.fitness.values)\n",
    "stats.register(\"avg\", np.mean)\n",
    "stats.register(\"std\", np.std)\n",
    "stats.register(\"min\", np.min)\n",
    "stats.register(\"max\", np.max)"
   ]
  },
  {
   "cell_type": "code",
   "execution_count": 53,
   "metadata": {},
   "outputs": [],
   "source": [
    "def evalTSP(individual):\n",
    "    diffx = np.diff(x[individual])\n",
    "    diffy = np.diff(y[individual])\n",
    "    distance = np.sum(diffx**2 + diffy**2)\n",
    "    return (distance,)\n",
    "\n",
    "# register the evaluation function with the toolbox\n",
    "toolbox.register('evaluate',evalTSP)"
   ]
  },
  {
   "cell_type": "code",
   "execution_count": 54,
   "metadata": {},
   "outputs": [
    {
     "ename": "NameError",
     "evalue": "name 'x' is not defined",
     "output_type": "error",
     "traceback": [
      "\u001b[1;31m---------------------------------------------------------------------------\u001b[0m",
      "\u001b[1;31mNameError\u001b[0m                                 Traceback (most recent call last)",
      "\u001b[1;32m<ipython-input-54-1dd3cde0b502>\u001b[0m in \u001b[0;36m<module>\u001b[1;34m\u001b[0m\n\u001b[0;32m      7\u001b[0m \u001b[1;31m# code the GA algorithm\u001b[0m\u001b[1;33m\u001b[0m\u001b[1;33m\u001b[0m\u001b[1;33m\u001b[0m\u001b[0m\n\u001b[0;32m      8\u001b[0m result, log = algorithms.eaSimple(pop,toolbox,cxpb=CX_PROB, mutpb=MUT_PROB, stats=stats,\n\u001b[1;32m----> 9\u001b[1;33m                                   ngen=MAX_GEN, halloffame=hof,verbose=True)\n\u001b[0m\u001b[0;32m     10\u001b[0m \u001b[1;33m\u001b[0m\u001b[0m\n",
      "\u001b[1;32mC:\\ProgramData\\Anaconda3\\lib\\site-packages\\deap-1.2.2-py3.7-win-amd64.egg\\deap\\algorithms.py\u001b[0m in \u001b[0;36meaSimple\u001b[1;34m(population, toolbox, cxpb, mutpb, ngen, stats, halloffame, verbose)\u001b[0m\n\u001b[0;32m    149\u001b[0m     \u001b[0minvalid_ind\u001b[0m \u001b[1;33m=\u001b[0m \u001b[1;33m[\u001b[0m\u001b[0mind\u001b[0m \u001b[1;32mfor\u001b[0m \u001b[0mind\u001b[0m \u001b[1;32min\u001b[0m \u001b[0mpopulation\u001b[0m \u001b[1;32mif\u001b[0m \u001b[1;32mnot\u001b[0m \u001b[0mind\u001b[0m\u001b[1;33m.\u001b[0m\u001b[0mfitness\u001b[0m\u001b[1;33m.\u001b[0m\u001b[0mvalid\u001b[0m\u001b[1;33m]\u001b[0m\u001b[1;33m\u001b[0m\u001b[1;33m\u001b[0m\u001b[0m\n\u001b[0;32m    150\u001b[0m     \u001b[0mfitnesses\u001b[0m \u001b[1;33m=\u001b[0m \u001b[0mtoolbox\u001b[0m\u001b[1;33m.\u001b[0m\u001b[0mmap\u001b[0m\u001b[1;33m(\u001b[0m\u001b[0mtoolbox\u001b[0m\u001b[1;33m.\u001b[0m\u001b[0mevaluate\u001b[0m\u001b[1;33m,\u001b[0m \u001b[0minvalid_ind\u001b[0m\u001b[1;33m)\u001b[0m\u001b[1;33m\u001b[0m\u001b[1;33m\u001b[0m\u001b[0m\n\u001b[1;32m--> 151\u001b[1;33m     \u001b[1;32mfor\u001b[0m \u001b[0mind\u001b[0m\u001b[1;33m,\u001b[0m \u001b[0mfit\u001b[0m \u001b[1;32min\u001b[0m \u001b[0mzip\u001b[0m\u001b[1;33m(\u001b[0m\u001b[0minvalid_ind\u001b[0m\u001b[1;33m,\u001b[0m \u001b[0mfitnesses\u001b[0m\u001b[1;33m)\u001b[0m\u001b[1;33m:\u001b[0m\u001b[1;33m\u001b[0m\u001b[1;33m\u001b[0m\u001b[0m\n\u001b[0m\u001b[0;32m    152\u001b[0m         \u001b[0mind\u001b[0m\u001b[1;33m.\u001b[0m\u001b[0mfitness\u001b[0m\u001b[1;33m.\u001b[0m\u001b[0mvalues\u001b[0m \u001b[1;33m=\u001b[0m \u001b[0mfit\u001b[0m\u001b[1;33m\u001b[0m\u001b[1;33m\u001b[0m\u001b[0m\n\u001b[0;32m    153\u001b[0m \u001b[1;33m\u001b[0m\u001b[0m\n",
      "\u001b[1;32m<ipython-input-53-9b86d6b75c03>\u001b[0m in \u001b[0;36mevalTSP\u001b[1;34m(individual)\u001b[0m\n\u001b[0;32m      1\u001b[0m \u001b[1;32mdef\u001b[0m \u001b[0mevalTSP\u001b[0m\u001b[1;33m(\u001b[0m\u001b[0mindividual\u001b[0m\u001b[1;33m)\u001b[0m\u001b[1;33m:\u001b[0m\u001b[1;33m\u001b[0m\u001b[1;33m\u001b[0m\u001b[0m\n\u001b[1;32m----> 2\u001b[1;33m     \u001b[0mdiffx\u001b[0m \u001b[1;33m=\u001b[0m \u001b[0mnp\u001b[0m\u001b[1;33m.\u001b[0m\u001b[0mdiff\u001b[0m\u001b[1;33m(\u001b[0m\u001b[0mx\u001b[0m\u001b[1;33m[\u001b[0m\u001b[0mindividual\u001b[0m\u001b[1;33m]\u001b[0m\u001b[1;33m)\u001b[0m\u001b[1;33m\u001b[0m\u001b[1;33m\u001b[0m\u001b[0m\n\u001b[0m\u001b[0;32m      3\u001b[0m     \u001b[0mdiffy\u001b[0m \u001b[1;33m=\u001b[0m \u001b[0mnp\u001b[0m\u001b[1;33m.\u001b[0m\u001b[0mdiff\u001b[0m\u001b[1;33m(\u001b[0m\u001b[0my\u001b[0m\u001b[1;33m[\u001b[0m\u001b[0mindividual\u001b[0m\u001b[1;33m]\u001b[0m\u001b[1;33m)\u001b[0m\u001b[1;33m\u001b[0m\u001b[1;33m\u001b[0m\u001b[0m\n\u001b[0;32m      4\u001b[0m     \u001b[0mdistance\u001b[0m \u001b[1;33m=\u001b[0m \u001b[0mnp\u001b[0m\u001b[1;33m.\u001b[0m\u001b[0msum\u001b[0m\u001b[1;33m(\u001b[0m\u001b[0mdiffx\u001b[0m\u001b[1;33m**\u001b[0m\u001b[1;36m2\u001b[0m \u001b[1;33m+\u001b[0m \u001b[0mdiffy\u001b[0m\u001b[1;33m**\u001b[0m\u001b[1;36m2\u001b[0m\u001b[1;33m)\u001b[0m\u001b[1;33m\u001b[0m\u001b[1;33m\u001b[0m\u001b[0m\n\u001b[0;32m      5\u001b[0m     \u001b[1;32mreturn\u001b[0m \u001b[1;33m(\u001b[0m\u001b[0mdistance\u001b[0m\u001b[1;33m,\u001b[0m\u001b[1;33m)\u001b[0m\u001b[1;33m\u001b[0m\u001b[1;33m\u001b[0m\u001b[0m\n",
      "\u001b[1;31mNameError\u001b[0m: name 'x' is not defined"
     ]
    }
   ],
   "source": [
    "#initial populatiom\n",
    "pop = toolbox.population(n=POP_SIZE)\n",
    "\n",
    "# save only the best individual\n",
    "hof = tools.HallOfFame(1)\n",
    "\n",
    "# code the GA algorithm\n",
    "result, log = algorithms.eaSimple(pop,toolbox,cxpb=CX_PROB, mutpb=MUT_PROB, stats=stats,\n",
    "                                  ngen=MAX_GEN, halloffame=hof,verbose=True)\n",
    "\n"
   ]
  },
  {
   "cell_type": "code",
   "execution_count": null,
   "metadata": {},
   "outputs": [],
   "source": []
  }
 ],
 "metadata": {
  "kernelspec": {
   "display_name": "Python 3",
   "language": "python",
   "name": "python3"
  },
  "language_info": {
   "codemirror_mode": {
    "name": "ipython",
    "version": 3
   },
   "file_extension": ".py",
   "mimetype": "text/x-python",
   "name": "python",
   "nbconvert_exporter": "python",
   "pygments_lexer": "ipython3",
   "version": "3.7.1"
  }
 },
 "nbformat": 4,
 "nbformat_minor": 2
}
