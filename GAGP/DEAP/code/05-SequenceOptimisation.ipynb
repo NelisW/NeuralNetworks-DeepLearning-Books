{
 "cells": [
  {
   "cell_type": "code",
   "execution_count": null,
   "metadata": {},
   "outputs": [],
   "source": []
  },
  {
   "cell_type": "code",
   "execution_count": null,
   "metadata": {},
   "outputs": [],
   "source": []
  },
  {
   "cell_type": "code",
   "execution_count": null,
   "metadata": {},
   "outputs": [],
   "source": []
  },
  {
   "cell_type": "markdown",
   "metadata": {},
   "source": [
    "In his PhD thesis on GA optimisation of trading Lidquist uses the following strategy:\n",
    "\n",
    "![Lindquist-gene-encoding](images/Lindquist-gene-encoding01.png)\n",
    "![Lindquist-gene-encoding](images/Lindquist-gene-encoding02.png)\n",
    "![Lindquist-gene-encoding](images/Lindquist-gene-encoding03.png)\n",
    "![Lindquist-gene-encoding](images/Lindquist-gene-encoding04.png)\n",
    "\n"
   ]
  },
  {
   "cell_type": "code",
   "execution_count": null,
   "metadata": {},
   "outputs": [],
   "source": []
  },
  {
   "cell_type": "code",
   "execution_count": null,
   "metadata": {},
   "outputs": [],
   "source": []
  }
 ],
 "metadata": {
  "kernelspec": {
   "display_name": "Python 3",
   "language": "python",
   "name": "python3"
  },
  "language_info": {
   "codemirror_mode": {
    "name": "ipython",
    "version": 3
   },
   "file_extension": ".py",
   "mimetype": "text/x-python",
   "name": "python",
   "nbconvert_exporter": "python",
   "pygments_lexer": "ipython3",
   "version": "3.7.1"
  }
 },
 "nbformat": 4,
 "nbformat_minor": 2
}
