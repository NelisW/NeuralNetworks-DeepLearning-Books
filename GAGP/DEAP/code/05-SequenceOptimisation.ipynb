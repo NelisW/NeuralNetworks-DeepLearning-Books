{
 "cells": [
  {
   "cell_type": "markdown",
   "metadata": {},
   "source": [
    "# Sequence Optimisation"
   ]
  },
  {
   "cell_type": "markdown",
   "metadata": {},
   "source": [
    "This notebook establishes an example of how to optimise a time sequence with a composite genotype.\n",
    "\n",
    "The sequence comprises a number of events at discrete times where each event has two additional parameters.\n",
    "The events cannot take place simultaneously at a given time, but if the need arises to have to events closely spaced, they wil follow in the first available next time slot immediately after any currently occupied time slot.\n",
    "\n",
    "This example will optimize towards two objectives: \n",
    "\n",
    "- Employ the least number of events.  This is a very simple test: count the number of events and penalise too high counts.\n",
    "- Optimise for the minimum distance between the required sequence and the presently tests sequence. For this example a number of required sequences will be posed, where each sequence will have a weight according to the preference order.\n",
    "\n",
    "A key consideration in the real-world problem is that there probably is no clear global minimum (e.g., inverse maximum).  A number of potentially very different minima are expected, and the solution must balance the performance between the minima. The best fit across all minima will be sought but it is conceivable  that some form of preference ordering or weighting might be required, trading some local minima against other local minima. \n",
    "\n"
   ]
  },
  {
   "cell_type": "code",
   "execution_count": 1,
   "metadata": {},
   "outputs": [],
   "source": [
    "##\n",
    "import matplotlib.pyplot as plt\n",
    "import sys\n",
    "import array\n",
    "import random\n",
    "import numpy as np\n",
    "import pandas as pd\n",
    "from enum import Enum,unique\n",
    "from collections import OrderedDict\n",
    "\n",
    "from deap import  algorithms\n",
    "from deap import  base\n",
    "from deap import  creator\n",
    "from deap import  tools\n",
    "\n",
    "%matplotlib inline\n"
   ]
  },
  {
   "cell_type": "markdown",
   "metadata": {},
   "source": [
    "## Optimising for Minimum or Maximum?\n",
    "\n",
    "The real-world problem's objective is to achieve a maximum in the primary outcome, while employing the least number of events.\n",
    "The problem with optimizing towards a maximum in a population with many large values is that the large values will completely swamp (and therefore hide) any smaller or poor performing values. For example the poor performing individual in this set will have little effect if the mean value (900.1) is considered:\n",
    "\n",
    "    1  1000  1000  1000  1000  1000  1000  1000  1000  1000 \n",
    "\n",
    "Taking the inverse values, the mean value (0.1009) is now significantly affected by the poor performing individual, and less so by the well performing individuals:\n",
    "\n",
    "    1 0.001 0.001 0.001 0.001 0.001 0.001 0.001 0.001 0.001\n",
    "\n",
    "So the objective should be to optimise towards the best fit (approaching zero value), so that the well performing solutions will have  lower impact on fitness.  It is proposed that the final real-world optimisation should employ some 'inverted' fitness measure. The simple mathematical reciprocal may not be the best choice, some work is required here.\n",
    "Irrespective of the exact mapping the effect should be inverse-related.\n",
    "On the assumption of an inverse fitness measure, we define the best match to approach zero.\n",
    "\n",
    "\n",
    "The following code demonstrates the problem with maximising optimisations using a simple fitness measure. It is evident that the best choice depends on the task at hand.\n",
    "\n",
    "1. Maximising $f(x)$ towards $+\\infty$ causes the (undesired) smaller outcomes to disappear in the mean and the maximum of the data set.  Neither the mean nor the max functions will optimise the low performers.\n",
    "\n",
    "1. Minimising $f(1/x)$ towards 0 causes the (undesired) smaller outcomes to rise and have a much stronger effect than the outcomes of the well-performing outcomes (which disappears towards 0). Either the mean or the max functions will optimise the low performers.\n",
    "\n",
    "1. Minimising $-f(x)$ towards 0 only works when using the minimise-towards-zero function, because the mean function swamps the low performer outcomes with large negative values.\n",
    "\n",
    "The Matlab documentation and Wikipedia propose to use (3) to find the minimum-towards-zero of a function. This would work where a single value is sought, such as the maximum of a function.\n",
    "Option (3) will not work when the ensemble performance is required, such as when acceptable performance from all samples are required, compared to he good performance of a single sample.\n",
    "\n"
   ]
  },
  {
   "cell_type": "code",
   "execution_count": 2,
   "metadata": {},
   "outputs": [
    {
     "name": "stdout",
     "output_type": "stream",
     "text": [
      "(1) Maximising towards +infinity:\n",
      "[   1. 1000. 1000. 1000. 1000. 1000. 1000. 1000.] \n",
      "mean=875.125 max=1000.0\n",
      "\n",
      "(2) Minimising the inverse towards zero:\n",
      "[1.    0.001 0.001 0.001 0.001 0.001 0.001 0.001] \n",
      "mean=0.13 max=1.0\n",
      "\n",
      "(3) Minimising the negative towards zero:\n",
      "[   -1. -1000. -1000. -1000. -1000. -1000. -1000. -1000.] \n",
      "mean=-875.12 max=-1.0\n",
      "\n"
     ]
    }
   ],
   "source": [
    "# to investigate the minimising options\n",
    "\n",
    "a = np.ones(8)*1000\n",
    "a[0] = 1\n",
    "b = a\n",
    "print('(1) Maximising towards +infinity:')\n",
    "print(f'{b} \\nmean={np.mean(b)} max={np.max(b)}\\n')\n",
    "\n",
    "print('(2) Minimising the inverse towards zero:')\n",
    "b = 1 / a\n",
    "print(f'{b} \\nmean={np.mean(b):.2f} max={np.max(b)}\\n')\n",
    "\n",
    "print('(3) Minimising the negative towards zero:')\n",
    "b = - a\n",
    "print(f'{b} \\nmean={np.mean(b):.2f} max={np.max(b)}\\n')\n"
   ]
  },
  {
   "cell_type": "markdown",
   "metadata": {},
   "source": [
    "## Parameter Set\n"
   ]
  },
  {
   "cell_type": "code",
   "execution_count": 3,
   "metadata": {},
   "outputs": [],
   "source": [
    "# to define the run settings\n",
    "PopSize = 200\n",
    "MaxGen = 50\n",
    "MutProb = 0.2\n",
    "CxProb = 0.08\n",
    "tournSize=3\n",
    "hofSize = 5\n",
    "\n",
    "# default probability for Ftype.N preference\n",
    "FtypeNProb = 0.3\n",
    "# default prob for Ftype.M and not Ftype.S\n",
    "FtypeMProb = 0.5\n",
    "# default probability for Dirtype.P preference\n",
    "DirtypePProb = 0.5\n",
    "\n",
    "# probability of time mutation\n",
    "mutateTimeProb = 0.6\n",
    "#probability of type mutation\n",
    "mutateTypeProb = 0.5\n",
    "#probability of dir mutation\n",
    "mutateDirProb = 0.5\n",
    "#probability of decreasing time mutation\n",
    "mutateTimeDecProb = 0.7\n",
    "# maximum time shift during mutation\n",
    "mutateTimeMax = 3\n",
    "\n",
    "\n",
    "timemax = 10\n",
    "timeinc = 0.05"
   ]
  },
  {
   "cell_type": "code",
   "execution_count": null,
   "metadata": {},
   "outputs": [],
   "source": []
  },
  {
   "cell_type": "markdown",
   "metadata": {},
   "source": [
    "The genotype has three parameters:\n",
    "    \n",
    "- a discrete (but real-valued) time value between 0 and `timemax`, at  `timeinc` intervals.\n",
    "\n",
    "- a Dirtype selection between two discrete values P and S, with a probability of `DirtypePProb` of being `P`. Hence the probability of `P` is  (1-DirtypePProb).\n",
    "\n",
    "- an Ftype selection between three discrete values `N`, `M` and `S`, with a probability of `FtypeNProb` of being `N`. If the value is not `N` the probability for `M` and not `S` is FtypeMProb. Hence the probability of `S` is  (1-FtypeNProb)(1-FtypeMProb).  \n",
    "\n",
    "The `Ftype.N` event is the `None` event and has no influence on the external process. `Ftype.N` serves mainly as a placeholder to to fill the individual chromosome to sufficient length. `Ftype.N` is preserved during crossover, but can be overwritten by \n",
    "`Ftype.S` or `Ftype.M` during mutation.\n",
    "\n",
    "        \n",
    "\n"
   ]
  },
  {
   "cell_type": "code",
   "execution_count": 4,
   "metadata": {},
   "outputs": [],
   "source": [
    "# to define the sequence parameters and random sequence generating function\n",
    "def round_time(x, a):\n",
    "    return float(f'{round(x / a) * a:.2f}')\n",
    "\n",
    "# Only these are allowed as Ftypes\n",
    "@unique\n",
    "class Ftype(Enum):\n",
    "    N = 0\n",
    "    S = 1\n",
    "    M = 2\n",
    "    \n",
    "# Only these are allowed as Dirtype\n",
    "@unique\n",
    "class Dirtype(Enum):\n",
    "    P = 0\n",
    "    S = 1\n",
    "    \n",
    "def generate_event():\n",
    "    di = {}\n",
    "    # time between 0 and timemax\n",
    "    di['time'] = round_time(random.uniform(0, timemax),timeinc)\n",
    "    # odds for each of the three cases\n",
    "    di['Ftype'] = Ftype.N if random.uniform(0, 1) <= FtypeNProb else \\\n",
    "            Ftype.M if random.uniform(0, 1) <= FtypeMProb else Ftype.S\n",
    "    # odds for each of the two cases\n",
    "    di['DirType'] = Dirtype.P if random.uniform(0, 1) <=DirtypePProb else Dirtype.S\n",
    "        \n",
    "    return di\n"
   ]
  },
  {
   "cell_type": "markdown",
   "metadata": {},
   "source": [
    "The DEAP overview page makes an important point:  *Once the types are created you need to fill them with sometimes random values, sometime guessed ones.* So, if you have some idea of a good starting point, mix your best-guess estimates (called *prior individual solutions* in this document) with  additional random guesses, to start with a blended set.  If your guesses are good, the GA should start better, but the randomness brings in some diversity. \n",
    "\n",
    "The model requires the use of at least one prior individual solution as part of the population.  An unlimited number of prior individual solutions may be used, with zero or more additional random individuals.  The purpose with using prior solution individual(s) is to guide the simulation towards previously used sequences. The use of a sufficiently large number of random individuals are also necessary to introduce sufficient new diversity into the population. There is little point in using only prior solutions.\n",
    "\n",
    "The sequence length to be used in this run is determined from the longest sequence in the prior sequence. So to define the sequence length, create at least one prior sequence with the required length.  Use any of the three `Ftype` values in the prior sequence.\n",
    "\n",
    "The prior sequences must be present as a list of sequences, where each sequence is a list of events."
   ]
  },
  {
   "cell_type": "code",
   "execution_count": 5,
   "metadata": {},
   "outputs": [
    {
     "name": "stdout",
     "output_type": "stream",
     "text": [
      "Number of events per individual: 14\n"
     ]
    }
   ],
   "source": [
    "#  to construct the list of list of prior sequences and determine the number of events\n",
    "initSeq = [\n",
    "    [\n",
    "    {'time':0,'Ftype':Ftype.S, 'DirType':Dirtype.P},\n",
    "    {'time':0.05,'Ftype':Ftype.S, 'DirType':Dirtype.P},\n",
    "    {'time':0.55,'Ftype':Ftype.S, 'DirType':Dirtype.P},\n",
    "    {'time':0.6,'Ftype':Ftype.S, 'DirType':Dirtype.P},\n",
    "    {'time':2.0,'Ftype':Ftype.S, 'DirType':Dirtype.P},\n",
    "    {'time':0.8,'Ftype':Ftype.S, 'DirType':Dirtype.P},\n",
    "    {'time':0.85,'Ftype':Ftype.S, 'DirType':Dirtype.P},\n",
    "    ],\n",
    "    [\n",
    "    {'time':0,'Ftype':Ftype.S, 'DirType':Dirtype.P},\n",
    "    {'time':0.5,'Ftype':Ftype.S, 'DirType':Dirtype.P},\n",
    "    {'time':0.55,'Ftype':Ftype.S, 'DirType':Dirtype.P},\n",
    "    {'time':1.0,'Ftype':Ftype.S, 'DirType':Dirtype.P},\n",
    "    {'time':1.05,'Ftype':Ftype.S, 'DirType':Dirtype.P},\n",
    "    {'time':1.5,'Ftype':Ftype.S, 'DirType':Dirtype.P},\n",
    "    {'time':1.55,'Ftype':Ftype.S, 'DirType':Dirtype.P},\n",
    "    {'time':2.0,'Ftype':Ftype.S, 'DirType':Dirtype.P},\n",
    "    {'time':2.5,'Ftype':Ftype.S, 'DirType':Dirtype.P},\n",
    "    {'time':3.0,'Ftype':Ftype.S, 'DirType':Dirtype.P},\n",
    "    {'time':3.5,'Ftype':Ftype.S, 'DirType':Dirtype.P},\n",
    "    {'time':3.5,'Ftype':Ftype.S, 'DirType':Dirtype.P},\n",
    "    {'time':10.,'Ftype':Ftype.N, 'DirType':Dirtype.P},\n",
    "    {'time':10.,'Ftype':Ftype.N, 'DirType':Dirtype.P},\n",
    "    ],\n",
    "]\n",
    "\n",
    "# count the number of events per prior\n",
    "numEvents = 0\n",
    "for li in range(len(initSeq)):\n",
    "    lenli = len(initSeq[li])\n",
    "    numEvents = lenli if lenli > numEvents else numEvents\n",
    "\n",
    "# fill the all priors to the same length as the longest\n",
    "print(f'Number of events per individual: {numEvents}')\n",
    "for li in range(len(initSeq)):\n",
    "    lenli = len(initSeq[li])\n",
    "    while lenli < numEvents:\n",
    "        initSeq[li].append({'time':timemax,'Ftype':Ftype.N, 'DirType':Dirtype.P})\n",
    "        lenli += 1\n",
    "\n",
    "# print(initSeq)"
   ]
  },
  {
   "cell_type": "markdown",
   "metadata": {},
   "source": [
    "The objective is to minimise five parameters; see details further down.\n"
   ]
  },
  {
   "cell_type": "code",
   "execution_count": 6,
   "metadata": {},
   "outputs": [],
   "source": [
    "# to create the basic DEAP objects and the random population\n",
    "creator.create(\"FitnessMin\", base.Fitness,weights=(-1.0,-1.0,-1.0,-1.0,-1.0))\n",
    "creator.create(\"Individual\",list, fitness=creator.FitnessMin)\n",
    "\n",
    "toolbox = base.Toolbox()\n",
    "toolbox.register(\"individual\", tools.initRepeat, creator.Individual,generate_event,numEvents) \n",
    "toolbox.register(\"population\", tools.initRepeat, list, toolbox.individual)\n",
    "\n",
    "pop = toolbox.population(n=PopSize)\n"
   ]
  },
  {
   "cell_type": "markdown",
   "metadata": {},
   "source": [
    "The prior sequences are added to the random population by using the DEAP toolbox registration procedures. \n",
    "First count the number of prior sequences (`len(initSeq)`) and then step through the list of priors selecting the individual sequence by index `numInit` and then adding the events for the individual to using `tools.initIterate`, and then finally append the individual to the population."
   ]
  },
  {
   "cell_type": "code",
   "execution_count": 7,
   "metadata": {},
   "outputs": [],
   "source": [
    "# to add the prior sequences to the population\n",
    "def addInitSequence(numInit):\n",
    "    return initSeq[numInit]\n",
    "    \n",
    "for numInit in range(len(initSeq)):\n",
    "    toolbox.register(\"addInitSequence\", addInitSequence,numInit)\n",
    "    toolbox.register(\"individualInit\", tools.initIterate, creator.Individual,toolbox.addInitSequence) \n",
    "    pop.append(toolbox.individualInit())"
   ]
  },
  {
   "cell_type": "code",
   "execution_count": 8,
   "metadata": {},
   "outputs": [],
   "source": [
    "# to print the population\n",
    "def printPop(pop,start=0,end=None):\n",
    "    print(60*'=')\n",
    "    if end is None:\n",
    "        end = len(pop)\n",
    "    print(f'Population size: {len(pop)}')\n",
    "    lst = list(range(len(pop)))\n",
    "    for ip in lst[start:end]:\n",
    "        indv = pop[ip]\n",
    "        print(60*'-')\n",
    "        print(f'\\npopulation[{ip}]:') \n",
    "        for ii in range(len(indv)):\n",
    "            print(f'{indv[ii]}') \n",
    "    print(60*'=')\n",
    "\n",
    "# printPop(pop)"
   ]
  },
  {
   "cell_type": "markdown",
   "metadata": {},
   "source": [
    "At this point the individuals are defined and population constructed."
   ]
  },
  {
   "cell_type": "markdown",
   "metadata": {},
   "source": [
    "## Target Sequences\n",
    "\n",
    "The test or target sequence(s) are defined in the same manner as the prior sequences. The test sequences are converted to a Pandas DataFrame for later use."
   ]
  },
  {
   "cell_type": "code",
   "execution_count": 9,
   "metadata": {},
   "outputs": [
    {
     "name": "stdout",
     "output_type": "stream",
     "text": [
      "Index(['DirType', 'Ftype', 'tIdx', 'time'], dtype='object')\n",
      "[{'time': 0, 'Ftype': <Ftype.M: 2>, 'DirType': <Dirtype.S: 1>, 'tIdx': 0}, {'time': 0.1, 'Ftype': <Ftype.M: 2>, 'DirType': <Dirtype.S: 1>, 'tIdx': 0}, {'time': 0.2, 'Ftype': <Ftype.S: 1>, 'DirType': <Dirtype.S: 1>, 'tIdx': 0}, {'time': 0.5, 'Ftype': <Ftype.S: 1>, 'DirType': <Dirtype.P: 0>, 'tIdx': 0}, {'time': 1.2, 'Ftype': <Ftype.M: 2>, 'DirType': <Dirtype.P: 0>, 'tIdx': 0}, {'time': 5.0, 'Ftype': <Ftype.S: 1>, 'DirType': <Dirtype.P: 0>, 'tIdx': 0}, {'time': 10, 'Ftype': <Ftype.N: 0>, 'DirType': <Dirtype.P: 0>, 'tIdx': 0}, {'time': 10, 'Ftype': <Ftype.N: 0>, 'DirType': <Dirtype.P: 0>, 'tIdx': 0}, {'time': 10, 'Ftype': <Ftype.N: 0>, 'DirType': <Dirtype.P: 0>, 'tIdx': 0}, {'time': 10, 'Ftype': <Ftype.N: 0>, 'DirType': <Dirtype.P: 0>, 'tIdx': 0}, {'time': 10, 'Ftype': <Ftype.N: 0>, 'DirType': <Dirtype.P: 0>, 'tIdx': 0}, {'time': 10, 'Ftype': <Ftype.N: 0>, 'DirType': <Dirtype.P: 0>, 'tIdx': 0}, {'time': 10, 'Ftype': <Ftype.N: 0>, 'DirType': <Dirtype.P: 0>, 'tIdx': 0}, {'time': 10, 'Ftype': <Ftype.N: 0>, 'DirType': <Dirtype.P: 0>, 'tIdx': 0}]\n"
     ]
    }
   ],
   "source": [
    "#  to construct the list of list of prior sequences and determine the number of events\n",
    "testSeq = [\n",
    "    [\n",
    "    {'time':0,'Ftype':Ftype.M, 'DirType':Dirtype.S},\n",
    "    {'time':0.1,'Ftype':Ftype.M, 'DirType':Dirtype.S},\n",
    "    {'time':0.2,'Ftype':Ftype.S, 'DirType':Dirtype.S},\n",
    "    {'time':0.5,'Ftype':Ftype.S, 'DirType':Dirtype.P},\n",
    "    {'time':1.2,'Ftype':Ftype.M, 'DirType':Dirtype.P},\n",
    "    {'time':5.0,'Ftype':Ftype.S, 'DirType':Dirtype.P},\n",
    "    ],\n",
    "#     [\n",
    "#     {'time':0.5,'Ftype':Ftype.M, 'DirType':Dirtype.S},\n",
    "#     {'time':0.6,'Ftype':Ftype.M, 'DirType':Dirtype.S},\n",
    "#     {'time':0.7,'Ftype':Ftype.S, 'DirType':Dirtype.S},\n",
    "#     {'time':0.8,'Ftype':Ftype.S, 'DirType':Dirtype.P},\n",
    "#     {'time':1.2,'Ftype':Ftype.M, 'DirType':Dirtype.P},\n",
    "#     {'time':5.0,'Ftype':Ftype.S, 'DirType':Dirtype.P},\n",
    "#     ],\n",
    "]\n",
    "\n",
    "for li in range(len(testSeq)):\n",
    "    lenli = len(testSeq[li])\n",
    "    # fill the all testSeq to the same length as the longest (numEvents)\n",
    "    while lenli < numEvents:\n",
    "        testSeq[li].append({'time':timemax,'Ftype':Ftype.N, 'DirType':Dirtype.P})\n",
    "        lenli += 1\n",
    "    # add a field to ID the test seq number\n",
    "    for ii in range(len(testSeq[li])):\n",
    "        testSeq[li][ii]['tIdx'] = li\n",
    "\n",
    "dfT = pd.DataFrame()\n",
    "for li in range(len(testSeq)):\n",
    "    dfT = dfT.append(pd.DataFrame(testSeq[li]))\n",
    "\n",
    "# print(dfT.columns)   \n",
    "# print(testSeq[0])"
   ]
  },
  {
   "cell_type": "markdown",
   "metadata": {},
   "source": [
    "## Evaluation/Fitness\n",
    "\n",
    "The fitness function must evaluate two objectives:\n",
    "\n",
    "- the number of events (to be minimised).  The number of events is simply the sum of all \n",
    "`Ftype.S` and `Ftype.M` events. The `Ftype.N` events are non-events and therefore do not contribute to the count.\n",
    "\n",
    "- the distance between the individual and the target sequence(s). The distance is calculated as follows:\n",
    "\n",
    "    - Sort the events in the reference and test individuals along time.\n",
    "    - Match the corresponding events by index.\n",
    "    - Calculate a time penalty values as the number of positive deltas and the number of negative deltas\n",
    "    - Calculate the type penalty as the number of non-matches (including type `N`).\n",
    "    - Calculate the dirtype penalty as the number of non-matches.\n",
    "    \n",
    "    \n",
    "\n"
   ]
  },
  {
   "cell_type": "code",
   "execution_count": 10,
   "metadata": {},
   "outputs": [],
   "source": [
    "# to calculate the fitness function\n",
    "def evalSequence(individual):\n",
    "    # individual to dataframe, sort and then reindex\n",
    "    dfI = pd.DataFrame(individual).sort_values(by='time').reset_index(drop=True)\n",
    "\n",
    "    # count number of non-Ftype.N\n",
    "    tsum = dfI.shape[0] - dfI[dfI['Ftype']==Ftype.N].shape[0]\n",
    "\n",
    "    # the difference counters\n",
    "    pdtime = 0\n",
    "    ndtime = 0\n",
    "    dtype = 0\n",
    "    ddir = 0\n",
    "    \n",
    "    # step through all the target sequences and calc differences\n",
    "    for tseq in testSeq:\n",
    "        # test case to dataframe, sort and then reindex\n",
    "        dfT = pd.DataFrame(tseq).sort_values(by='time').reset_index(drop=True)\n",
    "        #merge the test and individual\n",
    "        df = pd.merge(dfI, dfT, left_index=True, right_index=True,suffixes=('_i','_t')).sort_index()\n",
    "\n",
    "        # count positive and negative time deltas\n",
    "        df['dtime'] = df['time_i'] - df['time_t']\n",
    "        pdtime += df[df['dtime']>0].shape[0]\n",
    "        ndtime += df[df['dtime']<0].shape[0]\n",
    "\n",
    "        # count type non matches\n",
    "        dtype += df.shape[0] - df[df['Ftype_i']==df['Ftype_t']].shape[0]\n",
    "        \n",
    "        # count dit non matches\n",
    "        ddir += df.shape[0] - df[df['DirType_i']==df['DirType_t']].shape[0]\n",
    "\n",
    "#         print(df)\n",
    "    \n",
    "    return (pdtime,ndtime, dtype,ddir, tsum)\n",
    "\n",
    "# evalSequence(initSeq[0])\n"
   ]
  },
  {
   "cell_type": "code",
   "execution_count": 11,
   "metadata": {},
   "outputs": [],
   "source": [
    "# to register the evaluation function with the toolbox\n",
    "toolbox.register('evaluate', evalSequence)"
   ]
  },
  {
   "cell_type": "markdown",
   "metadata": {},
   "source": [
    "## Crossover and Mutation\n",
    "\n",
    "\n"
   ]
  },
  {
   "cell_type": "code",
   "execution_count": 12,
   "metadata": {},
   "outputs": [],
   "source": [
    "\n",
    "\n",
    "# to do the crossover\n",
    "def cxSeq(ind1, ind2):\n",
    "    #make one list of both\n",
    "    lst = ind1.copy()\n",
    "    lst.extend(ind2)\n",
    "\n",
    "    df = pd.DataFrame(lst).sort_values(by='time').reset_index(drop=True).sort_index()\n",
    "    if 'tIdx' in df.columns:\n",
    "        df = df.drop(['tIdx'],axis=1)\n",
    "        \n",
    "    dfA = df.iloc[::2]\n",
    "    dfB = df.iloc[1::2]\n",
    "\n",
    "    lst1 = list(OrderedDict(sorted(dfA.to_dict(orient='index').items())).values())\n",
    "    lst2 = list(OrderedDict(sorted(dfB.to_dict(orient='index').items())).values())\n",
    "    for ii,_ in enumerate(lst1):\n",
    "        ind1[ii] = lst1[ii]\n",
    "    for ii,_ in enumerate(lst2):\n",
    "        ind2[ii] = lst2[ii]\n",
    "    \n",
    "    return ind1, ind2"
   ]
  },
  {
   "cell_type": "code",
   "execution_count": 13,
   "metadata": {},
   "outputs": [],
   "source": [
    "# to do a mutation\n",
    "def mutSeq(individual):\n",
    "    \n",
    "    for event in individual:\n",
    "        # mutate time\n",
    "        if random.uniform(0, 1) <= mutateTimeProb:\n",
    "            sign = -1 if random.uniform(0, 1) <= mutateTimeDecProb else +1\n",
    "            tim = event['time'] + sign * random.uniform(0, mutateTimeMax)\n",
    "            tim = round_time(tim,timeinc)\n",
    "            tim = tim - timemax if tim > timemax else tim\n",
    "            tim = tim + timemax if tim < 0 else tim\n",
    "            event['time'] = tim\n",
    "            if tim > timemax or tim < 0:\n",
    "                print(tim)\n",
    "\n",
    "        # mutate type\n",
    "        if random.uniform(0, 1) <= mutateTypeProb:\n",
    "            rndvar = random.uniform(0, 1)\n",
    "            if rndvar <= FtypeNProb:\n",
    "                event['Ftype'] == Ftype.N\n",
    "            else:\n",
    "                rndvar = random.uniform(0, 1)\n",
    "                if rndvar <= FtypeMProb:\n",
    "                    event['Ftype'] == Ftype.M\n",
    "                else:\n",
    "                    event['Ftype'] == Ftype.S\n",
    "\n",
    "        # mutate dir\n",
    "        if random.uniform(0, 1) <= mutateDirProb:\n",
    "            rndvar = random.uniform(0, 1)\n",
    "            if event['DirType'] == Dirtype.P:\n",
    "                event['DirType'] = Dirtype.S if rndvar > DirtypePProb else Dirtype.P\n",
    "            else:\n",
    "                event['DirType'] = Dirtype.P if rndvar <= DirtypePProb else Dirtype.S\n",
    "\n",
    "\n",
    "    return individual,"
   ]
  },
  {
   "cell_type": "code",
   "execution_count": 14,
   "metadata": {},
   "outputs": [],
   "source": [
    "toolbox.register('mate',cxSeq)\n",
    "\n",
    "toolbox.register('mutate',mutSeq)\n",
    "\n",
    "toolbox.register('select',tools.selTournament, tournsize=tournSize)\n"
   ]
  },
  {
   "cell_type": "code",
   "execution_count": 15,
   "metadata": {},
   "outputs": [],
   "source": [
    "ind = toolbox.individual()\n",
    "\n",
    "stats = tools.Statistics(lambda ind: ind.fitness.values)\n",
    "stats.register(\"avg\", np.mean)\n",
    "stats.register(\"std\", np.std)\n",
    "stats.register(\"min\", np.min)\n",
    "stats.register(\"max\", np.max)"
   ]
  },
  {
   "cell_type": "code",
   "execution_count": 16,
   "metadata": {},
   "outputs": [
    {
     "name": "stdout",
     "output_type": "stream",
     "text": [
      "gen\tnevals\tavg    \tstd   \tmin\tmax\n",
      "0  \t202   \t7.97327\t2.2778\t2  \t14 \n",
      "1  \t51    \t7.70693\t2.41637\t2  \t14 \n",
      "2  \t67    \t7.44653\t2.55467\t1  \t14 \n",
      "3  \t46    \t7.31782\t2.86857\t1  \t14 \n",
      "4  \t61    \t7.08713\t2.95382\t1  \t14 \n",
      "5  \t46    \t6.53663\t3.08833\t0  \t13 \n",
      "6  \t52    \t6.20099\t3.17886\t0  \t13 \n",
      "7  \t63    \t6.53366\t3.33855\t0  \t13 \n",
      "8  \t56    \t7.01188\t3.49849\t0  \t13 \n",
      "9  \t59    \t7.14059\t3.53848\t0  \t13 \n",
      "10 \t53    \t6.85644\t3.54772\t0  \t13 \n",
      "11 \t56    \t6.59109\t3.47126\t0  \t13 \n",
      "12 \t58    \t6.39406\t3.41621\t0  \t13 \n",
      "13 \t62    \t6.37129\t3.28931\t0  \t13 \n",
      "14 \t51    \t6.3297 \t3.26839\t0  \t13 \n",
      "15 \t56    \t6.30495\t3.30347\t0  \t13 \n",
      "16 \t56    \t6.18416\t3.29202\t0  \t12 \n",
      "17 \t56    \t6.14059\t3.23717\t0  \t13 \n",
      "18 \t45    \t6.08218\t3.18072\t0  \t13 \n",
      "19 \t69    \t6.07426\t3.0009 \t0  \t12 \n",
      "20 \t49    \t6.01584\t3.08618\t0  \t13 \n",
      "21 \t49    \t6.00099\t2.99983\t0  \t12 \n",
      "22 \t62    \t5.96634\t2.90252\t0  \t12 \n",
      "23 \t55    \t5.86832\t2.90433\t0  \t12 \n",
      "24 \t60    \t5.88317\t2.88393\t0  \t13 \n",
      "25 \t60    \t5.83663\t2.84693\t0  \t13 \n",
      "26 \t56    \t5.75446\t2.86825\t0  \t13 \n",
      "27 \t67    \t5.68614\t2.86313\t0  \t13 \n",
      "28 \t41    \t5.58119\t2.90984\t0  \t12 \n",
      "29 \t52    \t5.6297 \t2.8444 \t0  \t13 \n",
      "30 \t64    \t5.66931\t2.82029\t0  \t13 \n",
      "31 \t56    \t5.6198 \t2.90544\t0  \t12 \n",
      "32 \t51    \t5.58218\t2.868  \t0  \t12 \n",
      "33 \t53    \t5.58317\t2.8869 \t0  \t13 \n",
      "34 \t49    \t5.59703\t2.89571\t0  \t13 \n",
      "35 \t50    \t5.61287\t2.91932\t0  \t12 \n",
      "36 \t68    \t5.63267\t2.85017\t0  \t12 \n",
      "37 \t60    \t5.63465\t2.86809\t0  \t12 \n",
      "38 \t62    \t5.6604 \t2.84492\t0  \t12 \n",
      "39 \t66    \t5.67228\t2.81026\t0  \t11 \n",
      "40 \t49    \t5.62079\t2.84653\t0  \t12 \n",
      "41 \t61    \t5.63366\t2.79576\t0  \t13 \n",
      "42 \t45    \t5.59208\t2.88216\t0  \t11 \n",
      "43 \t63    \t5.62574\t2.89016\t0  \t13 \n",
      "44 \t42    \t5.60297\t2.87388\t0  \t11 \n",
      "45 \t49    \t5.60594\t2.85233\t0  \t12 \n",
      "46 \t48    \t5.59307\t2.88351\t0  \t12 \n",
      "47 \t60    \t5.62871\t2.83398\t0  \t12 \n",
      "48 \t54    \t5.61188\t2.85107\t0  \t12 \n",
      "49 \t48    \t5.59109\t2.86289\t0  \t12 \n",
      "50 \t51    \t5.59604\t2.88684\t0  \t11 \n"
     ]
    }
   ],
   "source": [
    "# keep the  best individuals\n",
    "hof = tools.HallOfFame(hofSize)\n",
    "\n",
    "# code the GA algorithm\n",
    "result, log = algorithms.eaSimple(pop,toolbox,cxpb=CxProb, mutpb=MutProb, stats=stats,\n",
    "                                  ngen=MaxGen, halloffame=hof,verbose=True)\n",
    "\n"
   ]
  },
  {
   "cell_type": "code",
   "execution_count": 17,
   "metadata": {},
   "outputs": [
    {
     "name": "stdout",
     "output_type": "stream",
     "text": [
      "     DirType    Ftype  time\n",
      "0  Dirtype.P  Ftype.S  0.00\n",
      "1  Dirtype.S  Ftype.S  0.05\n",
      "2  Dirtype.P  Ftype.S  0.10\n",
      "4  Dirtype.P  Ftype.S  0.60\n",
      "5  Dirtype.S  Ftype.S  0.95\n",
      "6  Dirtype.P  Ftype.S  1.40\n",
      "\n",
      "     DirType    Ftype  time\n",
      "0  Dirtype.P  Ftype.S  0.00\n",
      "1  Dirtype.S  Ftype.S  0.05\n",
      "2  Dirtype.P  Ftype.S  0.10\n",
      "4  Dirtype.S  Ftype.S  0.60\n",
      "5  Dirtype.S  Ftype.S  0.95\n",
      "6  Dirtype.P  Ftype.S  1.35\n",
      "\n",
      "     DirType    Ftype  time\n",
      "0  Dirtype.P  Ftype.S  0.00\n",
      "1  Dirtype.P  Ftype.S  0.05\n",
      "2  Dirtype.P  Ftype.S  0.10\n",
      "4  Dirtype.P  Ftype.S  0.60\n",
      "5  Dirtype.P  Ftype.S  1.40\n",
      "9  Dirtype.S  Ftype.S  8.25\n",
      "\n",
      "     DirType    Ftype  time\n",
      "0  Dirtype.P  Ftype.S  0.00\n",
      "1  Dirtype.P  Ftype.S  0.05\n",
      "2  Dirtype.P  Ftype.S  0.10\n",
      "4  Dirtype.P  Ftype.S  0.60\n",
      "5  Dirtype.P  Ftype.S  1.40\n",
      "9  Dirtype.S  Ftype.S  8.25\n",
      "\n",
      "     DirType    Ftype  time\n",
      "0  Dirtype.P  Ftype.S  0.00\n",
      "1  Dirtype.P  Ftype.S  0.05\n",
      "2  Dirtype.P  Ftype.S  0.10\n",
      "4  Dirtype.P  Ftype.S  0.60\n",
      "5  Dirtype.P  Ftype.S  1.40\n",
      "9  Dirtype.S  Ftype.S  8.25\n",
      "\n"
     ]
    }
   ],
   "source": [
    "for i in range(hofSize):\n",
    "    \n",
    "    df = pd.DataFrame(hof[i]).sort_values(by='time').reset_index(drop=True).sort_index()\n",
    "    df = df[df['Ftype']!=Ftype.N]\n",
    "    print(df)\n",
    "    print()\n"
   ]
  },
  {
   "cell_type": "code",
   "execution_count": null,
   "metadata": {},
   "outputs": [],
   "source": []
  }
 ],
 "metadata": {
  "kernelspec": {
   "display_name": "Python 3",
   "language": "python",
   "name": "python3"
  },
  "language_info": {
   "codemirror_mode": {
    "name": "ipython",
    "version": 3
   },
   "file_extension": ".py",
   "mimetype": "text/x-python",
   "name": "python",
   "nbconvert_exporter": "python",
   "pygments_lexer": "ipython3",
   "version": "3.7.1"
  }
 },
 "nbformat": 4,
 "nbformat_minor": 2
}
