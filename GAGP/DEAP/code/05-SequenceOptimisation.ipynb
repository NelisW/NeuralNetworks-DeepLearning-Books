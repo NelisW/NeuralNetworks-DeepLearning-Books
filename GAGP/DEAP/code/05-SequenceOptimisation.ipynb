{
 "cells": [
  {
   "cell_type": "markdown",
   "metadata": {},
   "source": [
    "# Sequence Optimisation"
   ]
  },
  {
   "cell_type": "markdown",
   "metadata": {},
   "source": [
    "This notebook establishes an example of how to optimise a time sequence with a composite genotype.\n",
    "\n",
    "The sequence comprises a number of events at discrete times where each event has two additional parameters.\n",
    "The events cannot take place simultaneously at a given time, but if the need arises to have to events closely spaced, they wil follow in the first available next time slot immediately after any currently occupied time slot.\n",
    "\n",
    "This example will optimize towards two objectives: \n",
    "\n",
    "- Employ the least number of events.  This is a very simple test: count the number of events and penalise too high counts.\n",
    "- Optimise for the minimum distance between the required sequence and the presently tests sequence. For this example a number of required sequences will be posed, where each sequence will have a weight according to the preference order.\n",
    "\n",
    "A key consideration in the real-world problem is that there probably is no clear global minimum (e.g., inverse maximum).  A number of potentially very different minima are expected, and the solution must balance the performance between the minima. The best fit across all minima will be sought but it is conceivable  that some form of preference ordering or weighting might be required, trading some local minima against other local minima. \n",
    "\n"
   ]
  },
  {
   "cell_type": "code",
   "execution_count": 1,
   "metadata": {},
   "outputs": [],
   "source": [
    "##\n",
    "import matplotlib.pyplot as plt\n",
    "import sys\n",
    "import array\n",
    "import random\n",
    "import numpy as np\n",
    "from enum import Enum,unique\n",
    "\n",
    "from deap import  algorithms\n",
    "from deap import  base\n",
    "from deap import  creator\n",
    "from deap import  tools\n",
    "\n",
    "%matplotlib inline\n"
   ]
  },
  {
   "cell_type": "markdown",
   "metadata": {},
   "source": [
    "## Optimising for Minimum or Maximum?\n",
    "\n",
    "The real-world problem's objective is to achieve a maximum in the primary outcome, while employing the least number of events.\n",
    "The problem with optimizing towards a maximum in a population with many large values is that the large values will completely swamp (and therefore hide) any smaller or poor performing values. For example the poor performing individual in this set will have little effect if the mean value (900.1) is considered:\n",
    "\n",
    "    1  1000  1000  1000  1000  1000  1000  1000  1000  1000 \n",
    "\n",
    "Taking the inverse values, the mean value (0.1009) is now significantly affected by the poor performing individual, and less so by the well performing individuals:\n",
    "\n",
    "    1 0.001 0.001 0.001 0.001 0.001 0.001 0.001 0.001 0.001\n",
    "\n",
    "So the objective should be to optimise towards the best fit (approaching zero value), so that the well performing solutions will have  lower impact on fitness.  It is proposed that the final real-world optimisation should employ some 'inverted' fitness measure. The simple mathematical reciprocal may not be the best choice, some work is required here.\n",
    "Irrespective of the exact mapping the effect should be inverse-related.\n",
    "On the assumption of an inverse fitness measure, we define the best match to approach zero.\n",
    "\n",
    "\n",
    "The following code demonstrates the problem with maximising optimisations using a simple fitness measure. It is evident that the best choice depends on the task at hand.\n",
    "\n",
    "1. Maximising $f(x)$ towards $+\\infty$ causes the (undesired) smaller outcomes to disappear in the mean and the maximum of the data set.  Neither the mean nor the max functions will optimise the low performers.\n",
    "\n",
    "1. Minimising $f(1/x)$ towards 0 causes the (undesired) smaller outcomes to rise and have a much stronger effect than the outcomes of the well-performing outcomes (which disappears towards 0). Either the mean or the max functions will optimise the low performers.\n",
    "\n",
    "1. Minimising $-f(x)$ towards 0 only works when using the minimise-towards-zero function, because the mean function swamps the low performer outcomes with large negative values.\n",
    "\n",
    "The Matlab documentation and Wikipedia propose to use (3) to find the minimum-towards-zero of a function. This would work where a single value is sought, such as the maximum of a function.\n",
    "Option (3) will not work when the ensemble performance is required, such as when acceptable performance from all samples are required, compared to he good performance of a single sample.\n",
    "\n"
   ]
  },
  {
   "cell_type": "code",
   "execution_count": 2,
   "metadata": {},
   "outputs": [
    {
     "name": "stdout",
     "output_type": "stream",
     "text": [
      "(1) Maximising towards +infinity:\n",
      "[   1. 1000. 1000. 1000. 1000. 1000. 1000. 1000.] \n",
      "mean=875.125 max=1000.0\n",
      "\n",
      "(2) Minimising the inverse towards zero:\n",
      "[1.    0.001 0.001 0.001 0.001 0.001 0.001 0.001] \n",
      "mean=0.13 max=1.0\n",
      "\n",
      "(3) Minimising the negative towards zero:\n",
      "[   -1. -1000. -1000. -1000. -1000. -1000. -1000. -1000.] \n",
      "mean=-875.12 max=-1.0\n",
      "\n"
     ]
    }
   ],
   "source": [
    "# to investigate the minimising options\n",
    "\n",
    "a = np.ones(8)*1000\n",
    "a[0] = 1\n",
    "b = a\n",
    "print('(1) Maximising towards +infinity:')\n",
    "print(f'{b} \\nmean={np.mean(b)} max={np.max(b)}\\n')\n",
    "\n",
    "print('(2) Minimising the inverse towards zero:')\n",
    "b = 1 / a\n",
    "print(f'{b} \\nmean={np.mean(b):.2f} max={np.max(b)}\\n')\n",
    "\n",
    "print('(3) Minimising the negative towards zero:')\n",
    "b = - a\n",
    "print(f'{b} \\nmean={np.mean(b):.2f} max={np.max(b)}\\n')\n"
   ]
  },
  {
   "cell_type": "markdown",
   "metadata": {},
   "source": [
    "## Parameter Set\n"
   ]
  },
  {
   "cell_type": "code",
   "execution_count": 3,
   "metadata": {},
   "outputs": [],
   "source": [
    "# to define the run settings\n",
    "PopSize = 1\n",
    "MaxGen = 100\n",
    "MutProb = 0.2\n",
    "CxProb = 0.8\n",
    "tournSize=3\n",
    "\n",
    "# default probability for Ftype.N preference\n",
    "FtypeNProb = 0.3\n",
    "# default prob for Ftype.M and not Ftype.S\n",
    "FtypeMProb = 0.5\n",
    "# default probability for Dirtype.P preference\n",
    "DirtypePProb = 0.5\n",
    "\n",
    "timemax = 10\n",
    "timeinc = 0.05"
   ]
  },
  {
   "cell_type": "markdown",
   "metadata": {},
   "source": [
    "The genotype has three parameters:\n",
    "    \n",
    "- a discrete (but real-valued) time value between 0 and `timemax`, at  `timeinc` intervals.\n",
    "\n",
    "- a Dirtype selection between two discrete values P and S, with a probability of `DirtypePProb` of being `P`. Hence the probability of `P` is  (1-DirtypePProb).\n",
    "\n",
    "- an Ftype selection between three discrete values `N`, `M` and `S`, with a probability of `FtypeNProb` of being `N`. If the value is not `N` the probability for `M` and not `S` is FtypeMProb. Hence the probability of `S` is  (1-FtypeNProb)(1-FtypeMProb).  \n",
    "\n",
    "The `Ftype.N` event is the `None` event and has no influence on the external process. `Ftype.N` serves mainly as a placeholder to to fill the individual chromosome to sufficient length. `Ftype.N` is preserved during crossover, but can be overwritten by \n",
    "`Ftype.S` or `Ftype.M` during mutation.\n",
    "\n",
    "        \n",
    "\n"
   ]
  },
  {
   "cell_type": "code",
   "execution_count": 4,
   "metadata": {},
   "outputs": [],
   "source": [
    "# to define the sequence parameters and random sequence generating function\n",
    "def round_down(x, a):\n",
    "    return float(f'{round(x / a) * a:.2f}')\n",
    "\n",
    "# Only these are allowed as Ftypes\n",
    "@unique\n",
    "class Ftype(Enum):\n",
    "    N = 0\n",
    "    S = 1\n",
    "    M = 2\n",
    "    \n",
    "# Only these are allowed as Dirtype\n",
    "@unique\n",
    "class Dirtype(Enum):\n",
    "    P = 0\n",
    "    S = 1\n",
    "    \n",
    "def generate_event():\n",
    "    di = {}\n",
    "    # time between 0 and timemax\n",
    "    di['time'] = round_down(random.uniform(0, timemax),timeinc)\n",
    "    # odds for each of the three cases\n",
    "    di['Ftype'] = Ftype.N if random.uniform(0, 1) <= FtypeNProb else \\\n",
    "            Ftype.M if random.uniform(0, 1) <= FtypeMProb else Ftype.S\n",
    "    # odds for each of the two cases\n",
    "    di['DirType'] = Dirtype.P if random.uniform(0, 1) <=DirtypePProb else Dirtype.S\n",
    "        \n",
    "    return di\n"
   ]
  },
  {
   "cell_type": "markdown",
   "metadata": {},
   "source": [
    "The DEAP overview page makes an important point:  *Once the types are created you need to fill them with sometimes random values, sometime guessed ones.* So, if you have some idea of a good starting point, mix your best-guess estimates (called *prior individual solutions* in this document) with  additional random guesses, to start with a blended set.  If your guesses are good, the GA should start better, but the randomness brings in some diversity. \n",
    "\n",
    "The model requires the use of at least one prior individual solution as part of the population.  An unlimited number of prior individual solutions may be used, with zero or more additional random individuals.  The purpose with using prior solution individual(s) is to guide the simulation towards previously used sequences. The use of a sufficiently large number of random individuals are also necessary to introduce sufficient new diversity into the population. There is little point in using only prior solutions.\n",
    "\n",
    "The sequence length to be used in this run is determined from the longest sequence in the prior sequence. So to define the sequence length, create at least one prior sequence with the required length.  Use any of the three `Ftype` values in the prior sequence.\n",
    "\n",
    "The prior sequences must be present as a list of sequences, where each sequence is a list of events."
   ]
  },
  {
   "cell_type": "code",
   "execution_count": 5,
   "metadata": {},
   "outputs": [
    {
     "name": "stdout",
     "output_type": "stream",
     "text": [
      "Number of events per individual: 14\n"
     ]
    }
   ],
   "source": [
    "#  to construct the list of list of prior sequences and determine the number of events\n",
    "initInd = [\n",
    "    [\n",
    "    {'time':0,'Ftype':Ftype.S, 'DirType':Dirtype.P},\n",
    "    {'time':0.05,'Ftype':Ftype.S, 'DirType':Dirtype.P},\n",
    "    {'time':0.55,'Ftype':Ftype.S, 'DirType':Dirtype.P},\n",
    "    {'time':0.6,'Ftype':Ftype.S, 'DirType':Dirtype.P},\n",
    "    {'time':0.8,'Ftype':Ftype.S, 'DirType':Dirtype.P},\n",
    "    {'time':0.85,'Ftype':Ftype.S, 'DirType':Dirtype.P},\n",
    "    ],\n",
    "    [\n",
    "    {'time':0,'Ftype':Ftype.S, 'DirType':Dirtype.P},\n",
    "    {'time':0.5,'Ftype':Ftype.S, 'DirType':Dirtype.P},\n",
    "    {'time':0.55,'Ftype':Ftype.S, 'DirType':Dirtype.P},\n",
    "    {'time':1.0,'Ftype':Ftype.S, 'DirType':Dirtype.P},\n",
    "    {'time':1.05,'Ftype':Ftype.S, 'DirType':Dirtype.P},\n",
    "    {'time':1.5,'Ftype':Ftype.S, 'DirType':Dirtype.P},\n",
    "    {'time':1.55,'Ftype':Ftype.S, 'DirType':Dirtype.P},\n",
    "    {'time':2.0,'Ftype':Ftype.S, 'DirType':Dirtype.P},\n",
    "    {'time':2.5,'Ftype':Ftype.S, 'DirType':Dirtype.P},\n",
    "    {'time':3.0,'Ftype':Ftype.S, 'DirType':Dirtype.P},\n",
    "    {'time':3.5,'Ftype':Ftype.S, 'DirType':Dirtype.P},\n",
    "    {'time':3.5,'Ftype':Ftype.S, 'DirType':Dirtype.P},\n",
    "    {'time':10.,'Ftype':Ftype.N, 'DirType':Dirtype.P},\n",
    "    {'time':10.,'Ftype':Ftype.N, 'DirType':Dirtype.P},\n",
    "    ],\n",
    "]\n",
    "\n",
    "# count the number of events per prior\n",
    "numEvents = 0\n",
    "for li in range(len(initInd)):\n",
    "    lenli = len(initInd[li])\n",
    "    numEvents = lenli if lenli > numEvents else numEvents\n",
    "\n",
    "# fill the all priors to the same length as the longest\n",
    "print(f'Number of events per individual: {numEvents}')\n",
    "for li in range(len(initInd)):\n",
    "    lenli = len(initInd[li])\n",
    "    while lenli < numEvents:\n",
    "        initInd[li].append({'time':timemax,'Ftype':Ftype.N, 'DirType':Dirtype.P})\n",
    "        lenli += 1\n"
   ]
  },
  {
   "cell_type": "markdown",
   "metadata": {},
   "source": [
    "The objective is to minimise two parameters (number of events and difference between sequences), hence the fitness function must evaluate two parameters.\n"
   ]
  },
  {
   "cell_type": "code",
   "execution_count": 6,
   "metadata": {},
   "outputs": [],
   "source": [
    "# to create the basic DEAP objects and the random population\n",
    "creator.create(\"FitnessMin\", base.Fitness,weights=(-1.0,-1.0))\n",
    "creator.create(\"Individual\",list, fitness=creator.FitnessMin)\n",
    "\n",
    "toolbox = base.Toolbox()\n",
    "toolbox.register(\"individual\", tools.initRepeat, creator.Individual,generate_event,numEvents) \n",
    "toolbox.register(\"population\", tools.initRepeat, list, toolbox.individual)\n",
    "\n",
    "pop = toolbox.population(n=PopSize)\n"
   ]
  },
  {
   "cell_type": "markdown",
   "metadata": {},
   "source": [
    "The prior sequences are added to the random population by using the DEAP toolbox registration procedures. \n",
    "First count the number of prior sequences (`len(initInd)`) and then step through the list of priors selecting the individual sequence by index `numInit` and then adding the events for the individual to using `tools.initIterate`, and then finally append the individual to the population."
   ]
  },
  {
   "cell_type": "code",
   "execution_count": 7,
   "metadata": {},
   "outputs": [],
   "source": [
    "# to add the prior sequences to the population\n",
    "def addInitSequence(numInit):\n",
    "    return initInd[numInit]\n",
    "    \n",
    "for numInit in range(len(initInd)):\n",
    "    toolbox.register(\"addInitSequence\", addInitSequence,numInit)\n",
    "    toolbox.register(\"individualInit\", tools.initIterate, creator.Individual,toolbox.addInitSequence) \n",
    "    pop.append(toolbox.individualInit())"
   ]
  },
  {
   "cell_type": "code",
   "execution_count": 8,
   "metadata": {},
   "outputs": [
    {
     "name": "stdout",
     "output_type": "stream",
     "text": [
      "============================================================\n",
      "Population size: 3\n",
      "------------------------------------------------------------\n",
      "\n",
      "population[0]:\n",
      "{'time': 9.7, 'Ftype': <Ftype.S: 1>, 'DirType': <Dirtype.S: 1>}\n",
      "{'time': 6.9, 'Ftype': <Ftype.S: 1>, 'DirType': <Dirtype.P: 0>}\n",
      "{'time': 4.8, 'Ftype': <Ftype.S: 1>, 'DirType': <Dirtype.P: 0>}\n",
      "{'time': 9.55, 'Ftype': <Ftype.M: 2>, 'DirType': <Dirtype.P: 0>}\n",
      "{'time': 1.9, 'Ftype': <Ftype.N: 0>, 'DirType': <Dirtype.S: 1>}\n",
      "{'time': 9.85, 'Ftype': <Ftype.N: 0>, 'DirType': <Dirtype.P: 0>}\n",
      "{'time': 1.25, 'Ftype': <Ftype.S: 1>, 'DirType': <Dirtype.P: 0>}\n",
      "{'time': 2.7, 'Ftype': <Ftype.N: 0>, 'DirType': <Dirtype.P: 0>}\n",
      "{'time': 0.2, 'Ftype': <Ftype.N: 0>, 'DirType': <Dirtype.P: 0>}\n",
      "{'time': 1.45, 'Ftype': <Ftype.M: 2>, 'DirType': <Dirtype.P: 0>}\n",
      "{'time': 7.2, 'Ftype': <Ftype.M: 2>, 'DirType': <Dirtype.S: 1>}\n",
      "{'time': 5.25, 'Ftype': <Ftype.N: 0>, 'DirType': <Dirtype.S: 1>}\n",
      "{'time': 2.05, 'Ftype': <Ftype.N: 0>, 'DirType': <Dirtype.P: 0>}\n",
      "{'time': 4.5, 'Ftype': <Ftype.S: 1>, 'DirType': <Dirtype.P: 0>}\n",
      "------------------------------------------------------------\n",
      "\n",
      "population[1]:\n",
      "{'time': 0, 'Ftype': <Ftype.S: 1>, 'DirType': <Dirtype.P: 0>}\n",
      "{'time': 0.05, 'Ftype': <Ftype.S: 1>, 'DirType': <Dirtype.P: 0>}\n",
      "{'time': 0.55, 'Ftype': <Ftype.S: 1>, 'DirType': <Dirtype.P: 0>}\n",
      "{'time': 0.6, 'Ftype': <Ftype.S: 1>, 'DirType': <Dirtype.P: 0>}\n",
      "{'time': 0.8, 'Ftype': <Ftype.S: 1>, 'DirType': <Dirtype.P: 0>}\n",
      "{'time': 0.85, 'Ftype': <Ftype.S: 1>, 'DirType': <Dirtype.P: 0>}\n",
      "{'time': 10, 'Ftype': <Ftype.N: 0>, 'DirType': <Dirtype.P: 0>}\n",
      "{'time': 10, 'Ftype': <Ftype.N: 0>, 'DirType': <Dirtype.P: 0>}\n",
      "{'time': 10, 'Ftype': <Ftype.N: 0>, 'DirType': <Dirtype.P: 0>}\n",
      "{'time': 10, 'Ftype': <Ftype.N: 0>, 'DirType': <Dirtype.P: 0>}\n",
      "{'time': 10, 'Ftype': <Ftype.N: 0>, 'DirType': <Dirtype.P: 0>}\n",
      "{'time': 10, 'Ftype': <Ftype.N: 0>, 'DirType': <Dirtype.P: 0>}\n",
      "{'time': 10, 'Ftype': <Ftype.N: 0>, 'DirType': <Dirtype.P: 0>}\n",
      "{'time': 10, 'Ftype': <Ftype.N: 0>, 'DirType': <Dirtype.P: 0>}\n",
      "------------------------------------------------------------\n",
      "\n",
      "population[2]:\n",
      "{'time': 0, 'Ftype': <Ftype.S: 1>, 'DirType': <Dirtype.P: 0>}\n",
      "{'time': 0.5, 'Ftype': <Ftype.S: 1>, 'DirType': <Dirtype.P: 0>}\n",
      "{'time': 0.55, 'Ftype': <Ftype.S: 1>, 'DirType': <Dirtype.P: 0>}\n",
      "{'time': 1.0, 'Ftype': <Ftype.S: 1>, 'DirType': <Dirtype.P: 0>}\n",
      "{'time': 1.05, 'Ftype': <Ftype.S: 1>, 'DirType': <Dirtype.P: 0>}\n",
      "{'time': 1.5, 'Ftype': <Ftype.S: 1>, 'DirType': <Dirtype.P: 0>}\n",
      "{'time': 1.55, 'Ftype': <Ftype.S: 1>, 'DirType': <Dirtype.P: 0>}\n",
      "{'time': 2.0, 'Ftype': <Ftype.S: 1>, 'DirType': <Dirtype.P: 0>}\n",
      "{'time': 2.5, 'Ftype': <Ftype.S: 1>, 'DirType': <Dirtype.P: 0>}\n",
      "{'time': 3.0, 'Ftype': <Ftype.S: 1>, 'DirType': <Dirtype.P: 0>}\n",
      "{'time': 3.5, 'Ftype': <Ftype.S: 1>, 'DirType': <Dirtype.P: 0>}\n",
      "{'time': 3.5, 'Ftype': <Ftype.S: 1>, 'DirType': <Dirtype.P: 0>}\n",
      "{'time': 10.0, 'Ftype': <Ftype.N: 0>, 'DirType': <Dirtype.P: 0>}\n",
      "{'time': 10.0, 'Ftype': <Ftype.N: 0>, 'DirType': <Dirtype.P: 0>}\n",
      "============================================================\n"
     ]
    }
   ],
   "source": [
    "# to print the population\n",
    "def printPop(pop):\n",
    "    print(60*'=')\n",
    "    print(f'Population size: {len(pop)}')\n",
    "    for ip in range(len(pop)):\n",
    "        indv = pop[ip]\n",
    "        print(60*'-')\n",
    "        print(f'\\npopulation[{ip}]:') \n",
    "        for ii in range(len(indv)):\n",
    "            print(f'{indv[ii]}') \n",
    "    print(60*'=')\n",
    "\n",
    "printPop(pop)"
   ]
  },
  {
   "cell_type": "markdown",
   "metadata": {},
   "source": [
    "At this point the individuals are defined and population constructed."
   ]
  },
  {
   "cell_type": "markdown",
   "metadata": {},
   "source": [
    "## Crossover and Mutation\n",
    "\n",
    "\n"
   ]
  },
  {
   "cell_type": "code",
   "execution_count": 9,
   "metadata": {},
   "outputs": [],
   "source": [
    "toolbox.register('mate',tools.cxOrdered)\n",
    "\n",
    "toolbox.register('mutate',tools.mutShuffleIndexes, indpb=0.05)\n",
    "\n",
    "toolbox.register('select',tools.selTournament, tournsize=tournSize)\n"
   ]
  },
  {
   "cell_type": "code",
   "execution_count": 10,
   "metadata": {},
   "outputs": [],
   "source": [
    "ind = toolbox.individual()\n",
    "\n",
    "stats = tools.Statistics(lambda ind: ind.fitness.values)\n",
    "stats.register(\"avg\", np.mean)\n",
    "stats.register(\"std\", np.std)\n",
    "stats.register(\"min\", np.min)\n",
    "stats.register(\"max\", np.max)"
   ]
  },
  {
   "cell_type": "code",
   "execution_count": 11,
   "metadata": {},
   "outputs": [],
   "source": [
    "def evalSeq(individual):\n",
    "    diffx = np.diff(x[individual])\n",
    "    diffy = np.diff(y[individual])\n",
    "    distance = np.sum(diffx**2 + diffy**2)\n",
    "    return (distance,)\n",
    "\n",
    "# register the evaluation function with the toolbox\n",
    "toolbox.register('evaluate',evalSeq)"
   ]
  },
  {
   "cell_type": "code",
   "execution_count": 13,
   "metadata": {},
   "outputs": [
    {
     "ename": "NameError",
     "evalue": "name 'x' is not defined",
     "output_type": "error",
     "traceback": [
      "\u001b[1;31m---------------------------------------------------------------------------\u001b[0m",
      "\u001b[1;31mNameError\u001b[0m                                 Traceback (most recent call last)",
      "\u001b[1;32m<ipython-input-13-cb0d0b14606c>\u001b[0m in \u001b[0;36m<module>\u001b[1;34m\u001b[0m\n\u001b[0;32m      4\u001b[0m \u001b[1;31m# code the GA algorithm\u001b[0m\u001b[1;33m\u001b[0m\u001b[1;33m\u001b[0m\u001b[1;33m\u001b[0m\u001b[0m\n\u001b[0;32m      5\u001b[0m result, log = algorithms.eaSimple(pop,toolbox,cxpb=CxProb, mutpb=MutProb, stats=stats,\n\u001b[1;32m----> 6\u001b[1;33m                                   ngen=MaxGen, halloffame=hof,verbose=True)\n\u001b[0m\u001b[0;32m      7\u001b[0m \u001b[1;33m\u001b[0m\u001b[0m\n",
      "\u001b[1;32mC:\\ProgramData\\Anaconda3\\lib\\site-packages\\deap-1.2.2-py3.7-win-amd64.egg\\deap\\algorithms.py\u001b[0m in \u001b[0;36meaSimple\u001b[1;34m(population, toolbox, cxpb, mutpb, ngen, stats, halloffame, verbose)\u001b[0m\n\u001b[0;32m    149\u001b[0m     \u001b[0minvalid_ind\u001b[0m \u001b[1;33m=\u001b[0m \u001b[1;33m[\u001b[0m\u001b[0mind\u001b[0m \u001b[1;32mfor\u001b[0m \u001b[0mind\u001b[0m \u001b[1;32min\u001b[0m \u001b[0mpopulation\u001b[0m \u001b[1;32mif\u001b[0m \u001b[1;32mnot\u001b[0m \u001b[0mind\u001b[0m\u001b[1;33m.\u001b[0m\u001b[0mfitness\u001b[0m\u001b[1;33m.\u001b[0m\u001b[0mvalid\u001b[0m\u001b[1;33m]\u001b[0m\u001b[1;33m\u001b[0m\u001b[1;33m\u001b[0m\u001b[0m\n\u001b[0;32m    150\u001b[0m     \u001b[0mfitnesses\u001b[0m \u001b[1;33m=\u001b[0m \u001b[0mtoolbox\u001b[0m\u001b[1;33m.\u001b[0m\u001b[0mmap\u001b[0m\u001b[1;33m(\u001b[0m\u001b[0mtoolbox\u001b[0m\u001b[1;33m.\u001b[0m\u001b[0mevaluate\u001b[0m\u001b[1;33m,\u001b[0m \u001b[0minvalid_ind\u001b[0m\u001b[1;33m)\u001b[0m\u001b[1;33m\u001b[0m\u001b[1;33m\u001b[0m\u001b[0m\n\u001b[1;32m--> 151\u001b[1;33m     \u001b[1;32mfor\u001b[0m \u001b[0mind\u001b[0m\u001b[1;33m,\u001b[0m \u001b[0mfit\u001b[0m \u001b[1;32min\u001b[0m \u001b[0mzip\u001b[0m\u001b[1;33m(\u001b[0m\u001b[0minvalid_ind\u001b[0m\u001b[1;33m,\u001b[0m \u001b[0mfitnesses\u001b[0m\u001b[1;33m)\u001b[0m\u001b[1;33m:\u001b[0m\u001b[1;33m\u001b[0m\u001b[1;33m\u001b[0m\u001b[0m\n\u001b[0m\u001b[0;32m    152\u001b[0m         \u001b[0mind\u001b[0m\u001b[1;33m.\u001b[0m\u001b[0mfitness\u001b[0m\u001b[1;33m.\u001b[0m\u001b[0mvalues\u001b[0m \u001b[1;33m=\u001b[0m \u001b[0mfit\u001b[0m\u001b[1;33m\u001b[0m\u001b[1;33m\u001b[0m\u001b[0m\n\u001b[0;32m    153\u001b[0m \u001b[1;33m\u001b[0m\u001b[0m\n",
      "\u001b[1;32m<ipython-input-11-65482fcf77c6>\u001b[0m in \u001b[0;36mevalSeq\u001b[1;34m(individual)\u001b[0m\n\u001b[0;32m      1\u001b[0m \u001b[1;32mdef\u001b[0m \u001b[0mevalSeq\u001b[0m\u001b[1;33m(\u001b[0m\u001b[0mindividual\u001b[0m\u001b[1;33m)\u001b[0m\u001b[1;33m:\u001b[0m\u001b[1;33m\u001b[0m\u001b[1;33m\u001b[0m\u001b[0m\n\u001b[1;32m----> 2\u001b[1;33m     \u001b[0mdiffx\u001b[0m \u001b[1;33m=\u001b[0m \u001b[0mnp\u001b[0m\u001b[1;33m.\u001b[0m\u001b[0mdiff\u001b[0m\u001b[1;33m(\u001b[0m\u001b[0mx\u001b[0m\u001b[1;33m[\u001b[0m\u001b[0mindividual\u001b[0m\u001b[1;33m]\u001b[0m\u001b[1;33m)\u001b[0m\u001b[1;33m\u001b[0m\u001b[1;33m\u001b[0m\u001b[0m\n\u001b[0m\u001b[0;32m      3\u001b[0m     \u001b[0mdiffy\u001b[0m \u001b[1;33m=\u001b[0m \u001b[0mnp\u001b[0m\u001b[1;33m.\u001b[0m\u001b[0mdiff\u001b[0m\u001b[1;33m(\u001b[0m\u001b[0my\u001b[0m\u001b[1;33m[\u001b[0m\u001b[0mindividual\u001b[0m\u001b[1;33m]\u001b[0m\u001b[1;33m)\u001b[0m\u001b[1;33m\u001b[0m\u001b[1;33m\u001b[0m\u001b[0m\n\u001b[0;32m      4\u001b[0m     \u001b[0mdistance\u001b[0m \u001b[1;33m=\u001b[0m \u001b[0mnp\u001b[0m\u001b[1;33m.\u001b[0m\u001b[0msum\u001b[0m\u001b[1;33m(\u001b[0m\u001b[0mdiffx\u001b[0m\u001b[1;33m**\u001b[0m\u001b[1;36m2\u001b[0m \u001b[1;33m+\u001b[0m \u001b[0mdiffy\u001b[0m\u001b[1;33m**\u001b[0m\u001b[1;36m2\u001b[0m\u001b[1;33m)\u001b[0m\u001b[1;33m\u001b[0m\u001b[1;33m\u001b[0m\u001b[0m\n\u001b[0;32m      5\u001b[0m     \u001b[1;32mreturn\u001b[0m \u001b[1;33m(\u001b[0m\u001b[0mdistance\u001b[0m\u001b[1;33m,\u001b[0m\u001b[1;33m)\u001b[0m\u001b[1;33m\u001b[0m\u001b[1;33m\u001b[0m\u001b[0m\n",
      "\u001b[1;31mNameError\u001b[0m: name 'x' is not defined"
     ]
    }
   ],
   "source": [
    "# save only the best individual\n",
    "hof = tools.HallOfFame(1)\n",
    "\n",
    "# code the GA algorithm\n",
    "result, log = algorithms.eaSimple(pop,toolbox,cxpb=CxProb, mutpb=MutProb, stats=stats,\n",
    "                                  ngen=MaxGen, halloffame=hof,verbose=True)\n",
    "\n"
   ]
  },
  {
   "cell_type": "code",
   "execution_count": null,
   "metadata": {},
   "outputs": [],
   "source": []
  }
 ],
 "metadata": {
  "kernelspec": {
   "display_name": "Python 3",
   "language": "python",
   "name": "python3"
  },
  "language_info": {
   "codemirror_mode": {
    "name": "ipython",
    "version": 3
   },
   "file_extension": ".py",
   "mimetype": "text/x-python",
   "name": "python",
   "nbconvert_exporter": "python",
   "pygments_lexer": "ipython3",
   "version": "3.7.1"
  }
 },
 "nbformat": 4,
 "nbformat_minor": 2
}
