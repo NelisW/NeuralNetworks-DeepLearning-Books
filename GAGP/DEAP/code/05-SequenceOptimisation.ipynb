{
 "cells": [
  {
   "cell_type": "markdown",
   "metadata": {},
   "source": [
    "# Sequence Optimisation"
   ]
  },
  {
   "cell_type": "markdown",
   "metadata": {},
   "source": [
    "This notebook establishes an example of how to optimise a time sequence with a composite genotype.\n",
    "\n",
    "The sequence comprises a number of events at discrete times where each event has two additional parameters.\n",
    "The events cannot take place simultaneously at a given time, but if the need arises to have to events closely spaced, they wil follow in the first available next time slot immediately after any currently occupied time slot.\n",
    "\n",
    "This example will optimize towards two objectives: \n",
    "\n",
    "- Employ the least number of events.  This is a very simple test: count the number of events and penalise too high counts.\n",
    "- Optimise for the minimum distance between the required sequence and the presently tests sequence. For this example a number of required sequences will be posed, where each sequence will have a weight according to the preference order.\n",
    "\n",
    "A key consideration in the real-world problem is that there probably is no clear global minimum (e.g., inverse maximum).  A number of potentially very different minima are expected, and the solution must balance the performance between the minima. The best fit across all minima will be sought but it is conceivable  that some form of preference ordering or weighting might be required, trading some local minima against other local minima. \n",
    "\n"
   ]
  },
  {
   "cell_type": "code",
   "execution_count": 1,
   "metadata": {},
   "outputs": [],
   "source": [
    "##\n",
    "import matplotlib.pyplot as plt\n",
    "import sys\n",
    "import array\n",
    "import random\n",
    "import numpy as np\n",
    "import pandas as pd\n",
    "from enum import Enum,unique\n",
    "\n",
    "from deap import  algorithms\n",
    "from deap import  base\n",
    "from deap import  creator\n",
    "from deap import  tools\n",
    "\n",
    "%matplotlib inline\n"
   ]
  },
  {
   "cell_type": "markdown",
   "metadata": {},
   "source": [
    "## Optimising for Minimum or Maximum?\n",
    "\n",
    "The real-world problem's objective is to achieve a maximum in the primary outcome, while employing the least number of events.\n",
    "The problem with optimizing towards a maximum in a population with many large values is that the large values will completely swamp (and therefore hide) any smaller or poor performing values. For example the poor performing individual in this set will have little effect if the mean value (900.1) is considered:\n",
    "\n",
    "    1  1000  1000  1000  1000  1000  1000  1000  1000  1000 \n",
    "\n",
    "Taking the inverse values, the mean value (0.1009) is now significantly affected by the poor performing individual, and less so by the well performing individuals:\n",
    "\n",
    "    1 0.001 0.001 0.001 0.001 0.001 0.001 0.001 0.001 0.001\n",
    "\n",
    "So the objective should be to optimise towards the best fit (approaching zero value), so that the well performing solutions will have  lower impact on fitness.  It is proposed that the final real-world optimisation should employ some 'inverted' fitness measure. The simple mathematical reciprocal may not be the best choice, some work is required here.\n",
    "Irrespective of the exact mapping the effect should be inverse-related.\n",
    "On the assumption of an inverse fitness measure, we define the best match to approach zero.\n",
    "\n",
    "\n",
    "The following code demonstrates the problem with maximising optimisations using a simple fitness measure. It is evident that the best choice depends on the task at hand.\n",
    "\n",
    "1. Maximising $f(x)$ towards $+\\infty$ causes the (undesired) smaller outcomes to disappear in the mean and the maximum of the data set.  Neither the mean nor the max functions will optimise the low performers.\n",
    "\n",
    "1. Minimising $f(1/x)$ towards 0 causes the (undesired) smaller outcomes to rise and have a much stronger effect than the outcomes of the well-performing outcomes (which disappears towards 0). Either the mean or the max functions will optimise the low performers.\n",
    "\n",
    "1. Minimising $-f(x)$ towards 0 only works when using the minimise-towards-zero function, because the mean function swamps the low performer outcomes with large negative values.\n",
    "\n",
    "The Matlab documentation and Wikipedia propose to use (3) to find the minimum-towards-zero of a function. This would work where a single value is sought, such as the maximum of a function.\n",
    "Option (3) will not work when the ensemble performance is required, such as when acceptable performance from all samples are required, compared to he good performance of a single sample.\n",
    "\n"
   ]
  },
  {
   "cell_type": "code",
   "execution_count": 2,
   "metadata": {},
   "outputs": [
    {
     "name": "stdout",
     "output_type": "stream",
     "text": [
      "(1) Maximising towards +infinity:\n",
      "[   1. 1000. 1000. 1000. 1000. 1000. 1000. 1000.] \n",
      "mean=875.125 max=1000.0\n",
      "\n",
      "(2) Minimising the inverse towards zero:\n",
      "[1.    0.001 0.001 0.001 0.001 0.001 0.001 0.001] \n",
      "mean=0.13 max=1.0\n",
      "\n",
      "(3) Minimising the negative towards zero:\n",
      "[   -1. -1000. -1000. -1000. -1000. -1000. -1000. -1000.] \n",
      "mean=-875.12 max=-1.0\n",
      "\n"
     ]
    }
   ],
   "source": [
    "# to investigate the minimising options\n",
    "\n",
    "a = np.ones(8)*1000\n",
    "a[0] = 1\n",
    "b = a\n",
    "print('(1) Maximising towards +infinity:')\n",
    "print(f'{b} \\nmean={np.mean(b)} max={np.max(b)}\\n')\n",
    "\n",
    "print('(2) Minimising the inverse towards zero:')\n",
    "b = 1 / a\n",
    "print(f'{b} \\nmean={np.mean(b):.2f} max={np.max(b)}\\n')\n",
    "\n",
    "print('(3) Minimising the negative towards zero:')\n",
    "b = - a\n",
    "print(f'{b} \\nmean={np.mean(b):.2f} max={np.max(b)}\\n')\n"
   ]
  },
  {
   "cell_type": "markdown",
   "metadata": {},
   "source": [
    "## Parameter Set\n"
   ]
  },
  {
   "cell_type": "code",
   "execution_count": 18,
   "metadata": {},
   "outputs": [],
   "source": [
    "# to define the run settings\n",
    "PopSize = 100\n",
    "MaxGen = 100\n",
    "MutProb = 0.2\n",
    "CxProb = 0.8\n",
    "tournSize=3\n",
    "\n",
    "# default probability for Ftype.N preference\n",
    "FtypeNProb = 0.3\n",
    "# default prob for Ftype.M and not Ftype.S\n",
    "FtypeMProb = 0.5\n",
    "# default probability for Dirtype.P preference\n",
    "DirtypePProb = 0.5\n",
    "# probability of event mutation\n",
    "mutateProb = 0.05\n",
    "\n",
    "timemax = 10\n",
    "timeinc = 0.05"
   ]
  },
  {
   "cell_type": "markdown",
   "metadata": {},
   "source": [
    "The genotype has three parameters:\n",
    "    \n",
    "- a discrete (but real-valued) time value between 0 and `timemax`, at  `timeinc` intervals.\n",
    "\n",
    "- a Dirtype selection between two discrete values P and S, with a probability of `DirtypePProb` of being `P`. Hence the probability of `P` is  (1-DirtypePProb).\n",
    "\n",
    "- an Ftype selection between three discrete values `N`, `M` and `S`, with a probability of `FtypeNProb` of being `N`. If the value is not `N` the probability for `M` and not `S` is FtypeMProb. Hence the probability of `S` is  (1-FtypeNProb)(1-FtypeMProb).  \n",
    "\n",
    "The `Ftype.N` event is the `None` event and has no influence on the external process. `Ftype.N` serves mainly as a placeholder to to fill the individual chromosome to sufficient length. `Ftype.N` is preserved during crossover, but can be overwritten by \n",
    "`Ftype.S` or `Ftype.M` during mutation.\n",
    "\n",
    "        \n",
    "\n"
   ]
  },
  {
   "cell_type": "code",
   "execution_count": 19,
   "metadata": {},
   "outputs": [],
   "source": [
    "# to define the sequence parameters and random sequence generating function\n",
    "def round_down(x, a):\n",
    "    return float(f'{round(x / a) * a:.2f}')\n",
    "\n",
    "# Only these are allowed as Ftypes\n",
    "@unique\n",
    "class Ftype(Enum):\n",
    "    N = 0\n",
    "    S = 1\n",
    "    M = 2\n",
    "    \n",
    "# Only these are allowed as Dirtype\n",
    "@unique\n",
    "class Dirtype(Enum):\n",
    "    P = 0\n",
    "    S = 1\n",
    "    \n",
    "def generate_event():\n",
    "    di = {}\n",
    "    # time between 0 and timemax\n",
    "    di['time'] = round_down(random.uniform(0, timemax),timeinc)\n",
    "    # odds for each of the three cases\n",
    "    di['Ftype'] = Ftype.N if random.uniform(0, 1) <= FtypeNProb else \\\n",
    "            Ftype.M if random.uniform(0, 1) <= FtypeMProb else Ftype.S\n",
    "    # odds for each of the two cases\n",
    "    di['DirType'] = Dirtype.P if random.uniform(0, 1) <=DirtypePProb else Dirtype.S\n",
    "        \n",
    "    return di\n"
   ]
  },
  {
   "cell_type": "markdown",
   "metadata": {},
   "source": [
    "The DEAP overview page makes an important point:  *Once the types are created you need to fill them with sometimes random values, sometime guessed ones.* So, if you have some idea of a good starting point, mix your best-guess estimates (called *prior individual solutions* in this document) with  additional random guesses, to start with a blended set.  If your guesses are good, the GA should start better, but the randomness brings in some diversity. \n",
    "\n",
    "The model requires the use of at least one prior individual solution as part of the population.  An unlimited number of prior individual solutions may be used, with zero or more additional random individuals.  The purpose with using prior solution individual(s) is to guide the simulation towards previously used sequences. The use of a sufficiently large number of random individuals are also necessary to introduce sufficient new diversity into the population. There is little point in using only prior solutions.\n",
    "\n",
    "The sequence length to be used in this run is determined from the longest sequence in the prior sequence. So to define the sequence length, create at least one prior sequence with the required length.  Use any of the three `Ftype` values in the prior sequence.\n",
    "\n",
    "The prior sequences must be present as a list of sequences, where each sequence is a list of events."
   ]
  },
  {
   "cell_type": "code",
   "execution_count": 20,
   "metadata": {},
   "outputs": [
    {
     "name": "stdout",
     "output_type": "stream",
     "text": [
      "Number of events per individual: 14\n"
     ]
    }
   ],
   "source": [
    "#  to construct the list of list of prior sequences and determine the number of events\n",
    "initSeq = [\n",
    "    [\n",
    "    {'time':0,'Ftype':Ftype.S, 'DirType':Dirtype.P},\n",
    "    {'time':0.05,'Ftype':Ftype.S, 'DirType':Dirtype.P},\n",
    "    {'time':0.55,'Ftype':Ftype.S, 'DirType':Dirtype.P},\n",
    "    {'time':0.6,'Ftype':Ftype.S, 'DirType':Dirtype.P},\n",
    "    {'time':2.0,'Ftype':Ftype.S, 'DirType':Dirtype.P},\n",
    "    {'time':0.8,'Ftype':Ftype.S, 'DirType':Dirtype.P},\n",
    "    {'time':0.85,'Ftype':Ftype.S, 'DirType':Dirtype.P},\n",
    "    ],\n",
    "    [\n",
    "    {'time':0,'Ftype':Ftype.S, 'DirType':Dirtype.P},\n",
    "    {'time':0.5,'Ftype':Ftype.S, 'DirType':Dirtype.P},\n",
    "    {'time':0.55,'Ftype':Ftype.S, 'DirType':Dirtype.P},\n",
    "    {'time':1.0,'Ftype':Ftype.S, 'DirType':Dirtype.P},\n",
    "    {'time':1.05,'Ftype':Ftype.S, 'DirType':Dirtype.P},\n",
    "    {'time':1.5,'Ftype':Ftype.S, 'DirType':Dirtype.P},\n",
    "    {'time':1.55,'Ftype':Ftype.S, 'DirType':Dirtype.P},\n",
    "    {'time':2.0,'Ftype':Ftype.S, 'DirType':Dirtype.P},\n",
    "    {'time':2.5,'Ftype':Ftype.S, 'DirType':Dirtype.P},\n",
    "    {'time':3.0,'Ftype':Ftype.S, 'DirType':Dirtype.P},\n",
    "    {'time':3.5,'Ftype':Ftype.S, 'DirType':Dirtype.P},\n",
    "    {'time':3.5,'Ftype':Ftype.S, 'DirType':Dirtype.P},\n",
    "    {'time':10.,'Ftype':Ftype.N, 'DirType':Dirtype.P},\n",
    "    {'time':10.,'Ftype':Ftype.N, 'DirType':Dirtype.P},\n",
    "    ],\n",
    "]\n",
    "\n",
    "# count the number of events per prior\n",
    "numEvents = 0\n",
    "for li in range(len(initSeq)):\n",
    "    lenli = len(initSeq[li])\n",
    "    numEvents = lenli if lenli > numEvents else numEvents\n",
    "\n",
    "# fill the all priors to the same length as the longest\n",
    "print(f'Number of events per individual: {numEvents}')\n",
    "for li in range(len(initSeq)):\n",
    "    lenli = len(initSeq[li])\n",
    "    while lenli < numEvents:\n",
    "        initSeq[li].append({'time':timemax,'Ftype':Ftype.N, 'DirType':Dirtype.P})\n",
    "        lenli += 1\n",
    "\n",
    "# print(initSeq)"
   ]
  },
  {
   "cell_type": "markdown",
   "metadata": {},
   "source": [
    "The objective is to minimise five parameters; see details further down.\n"
   ]
  },
  {
   "cell_type": "code",
   "execution_count": 21,
   "metadata": {},
   "outputs": [
    {
     "name": "stderr",
     "output_type": "stream",
     "text": [
      "C:\\ProgramData\\Anaconda3\\lib\\site-packages\\deap-1.2.2-py3.7-win-amd64.egg\\deap\\creator.py:141: RuntimeWarning: A class named 'FitnessMin' has already been created and it will be overwritten. Consider deleting previous creation of that class or rename it.\n",
      "  RuntimeWarning)\n",
      "C:\\ProgramData\\Anaconda3\\lib\\site-packages\\deap-1.2.2-py3.7-win-amd64.egg\\deap\\creator.py:141: RuntimeWarning: A class named 'Individual' has already been created and it will be overwritten. Consider deleting previous creation of that class or rename it.\n",
      "  RuntimeWarning)\n"
     ]
    }
   ],
   "source": [
    "# to create the basic DEAP objects and the random population\n",
    "creator.create(\"FitnessMin\", base.Fitness,weights=(-1.0,-1.0,-1.0,-1.0,-1.0))\n",
    "creator.create(\"Individual\",list, fitness=creator.FitnessMin)\n",
    "\n",
    "toolbox = base.Toolbox()\n",
    "toolbox.register(\"individual\", tools.initRepeat, creator.Individual,generate_event,numEvents) \n",
    "toolbox.register(\"population\", tools.initRepeat, list, toolbox.individual)\n",
    "\n",
    "pop = toolbox.population(n=PopSize)\n"
   ]
  },
  {
   "cell_type": "markdown",
   "metadata": {},
   "source": [
    "The prior sequences are added to the random population by using the DEAP toolbox registration procedures. \n",
    "First count the number of prior sequences (`len(initSeq)`) and then step through the list of priors selecting the individual sequence by index `numInit` and then adding the events for the individual to using `tools.initIterate`, and then finally append the individual to the population."
   ]
  },
  {
   "cell_type": "code",
   "execution_count": 22,
   "metadata": {},
   "outputs": [],
   "source": [
    "# to add the prior sequences to the population\n",
    "def addInitSequence(numInit):\n",
    "    return initSeq[numInit]\n",
    "    \n",
    "for numInit in range(len(initSeq)):\n",
    "    toolbox.register(\"addInitSequence\", addInitSequence,numInit)\n",
    "    toolbox.register(\"individualInit\", tools.initIterate, creator.Individual,toolbox.addInitSequence) \n",
    "    pop.append(toolbox.individualInit())"
   ]
  },
  {
   "cell_type": "code",
   "execution_count": 24,
   "metadata": {},
   "outputs": [],
   "source": [
    "# to print the population\n",
    "def printPop(pop,start=0,end=None):\n",
    "    print(60*'=')\n",
    "    if end is None:\n",
    "        end = len(pop)\n",
    "    print(f'Population size: {len(pop)}')\n",
    "    lst = list(range(len(pop)))\n",
    "    for ip in lst[start:end]:\n",
    "        indv = pop[ip]\n",
    "        print(60*'-')\n",
    "        print(f'\\npopulation[{ip}]:') \n",
    "        for ii in range(len(indv)):\n",
    "            print(f'{indv[ii]}') \n",
    "    print(60*'=')\n",
    "\n",
    "# printPop(pop)"
   ]
  },
  {
   "cell_type": "markdown",
   "metadata": {},
   "source": [
    "At this point the individuals are defined and population constructed."
   ]
  },
  {
   "cell_type": "markdown",
   "metadata": {},
   "source": [
    "## Target Sequences\n",
    "\n",
    "The test or target sequence(s) are defined in the same manner as the prior sequences. The test sequences are converted to a Pandas DataFrame for later use."
   ]
  },
  {
   "cell_type": "code",
   "execution_count": 25,
   "metadata": {},
   "outputs": [
    {
     "name": "stdout",
     "output_type": "stream",
     "text": [
      "Index(['DirType', 'Ftype', 'tIdx', 'time'], dtype='object')\n"
     ]
    }
   ],
   "source": [
    "#  to construct the list of list of prior sequences and determine the number of events\n",
    "testSeq = [\n",
    "    [\n",
    "    {'time':0,'Ftype':Ftype.M, 'DirType':Dirtype.S},\n",
    "    {'time':0.1,'Ftype':Ftype.M, 'DirType':Dirtype.S},\n",
    "    {'time':0.2,'Ftype':Ftype.S, 'DirType':Dirtype.S},\n",
    "    {'time':0.5,'Ftype':Ftype.S, 'DirType':Dirtype.P},\n",
    "    {'time':1.2,'Ftype':Ftype.M, 'DirType':Dirtype.P},\n",
    "    {'time':5.0,'Ftype':Ftype.S, 'DirType':Dirtype.P},\n",
    "    ],\n",
    "    [\n",
    "    {'time':0.5,'Ftype':Ftype.M, 'DirType':Dirtype.S},\n",
    "    {'time':0.6,'Ftype':Ftype.M, 'DirType':Dirtype.S},\n",
    "    {'time':0.7,'Ftype':Ftype.S, 'DirType':Dirtype.S},\n",
    "    {'time':0.8,'Ftype':Ftype.S, 'DirType':Dirtype.P},\n",
    "    {'time':1.2,'Ftype':Ftype.M, 'DirType':Dirtype.P},\n",
    "    {'time':5.0,'Ftype':Ftype.S, 'DirType':Dirtype.P},\n",
    "    ],\n",
    "]\n",
    "\n",
    "for li in range(len(testSeq)):\n",
    "    lenli = len(testSeq[li])\n",
    "    # fill the all testSeq to the same length as the longest (numEvents)\n",
    "    while lenli < numEvents:\n",
    "        testSeq[li].append({'time':timemax,'Ftype':Ftype.N, 'DirType':Dirtype.P})\n",
    "        lenli += 1\n",
    "    # add a field to ID the test seq number\n",
    "    for ii in range(len(testSeq[li])):\n",
    "        testSeq[li][ii]['tIdx'] = li\n",
    "\n",
    "dfT = pd.DataFrame()\n",
    "for li in range(len(testSeq)):\n",
    "    dfT = dfT.append(pd.DataFrame(testSeq[li]))\n",
    "\n",
    "print(dfT.columns)   "
   ]
  },
  {
   "cell_type": "markdown",
   "metadata": {},
   "source": [
    "## Evaluation/Fitness\n",
    "\n",
    "The fitness function must evaluate two objectives:\n",
    "\n",
    "- the number of events (to be minimised).  The number of events is simply the sum of all \n",
    "`Ftype.S` and `Ftype.M` events. The `Ftype.N` events are non-events and therefore do not contribute to the count.\n",
    "\n",
    "- the distance between the individual and the target sequence(s). The distance is calculated as follows:\n",
    "\n",
    "    - Sort the events in the reference and test individuals along time.\n",
    "    - Match the corresponding events by index.\n",
    "    - Calculate a time penalty values as the number of positive deltas and the number of negative deltas\n",
    "    - Calculate the type penalty as the number of non-matches (including type `N`).\n",
    "    - Calculate the dirtype penalty as the number of non-matches.\n",
    "    \n",
    "    \n",
    "\n"
   ]
  },
  {
   "cell_type": "code",
   "execution_count": 26,
   "metadata": {},
   "outputs": [],
   "source": [
    "# to calculate the fitness function\n",
    "def evalSequence(individual):\n",
    "    # individual to dataframe, sort and then reindex\n",
    "    dfI = pd.DataFrame(individual).sort_values(by='time').reset_index(drop=True)\n",
    "\n",
    "    # count number of non-Ftype.N\n",
    "    tsum = dfI.shape[0] - dfI[dfI['Ftype']==Ftype.N].shape[0]\n",
    "\n",
    "    # the difference counters\n",
    "    pdtime = 0\n",
    "    ndtime = 0\n",
    "    dtype = 0\n",
    "    ddir = 0\n",
    "    \n",
    "    # step through all the target sequences and calc differences\n",
    "    for tseq in testSeq:\n",
    "        # test case to dataframe, sort and then reindex\n",
    "        dfT = pd.DataFrame(tseq).sort_values(by='time').reset_index(drop=True)\n",
    "        #merge the test and individual\n",
    "        df = pd.merge(dfI, dfT, left_index=True, right_index=True,suffixes=('_i','_t')).sort_index()\n",
    "\n",
    "        # count positive and negative time deltas\n",
    "        df['dtime'] = df['time_i'] - df['time_t']\n",
    "        pdtime += df[df['dtime']>0].shape[0]\n",
    "        ndtime += df[df['dtime']<0].shape[0]\n",
    "\n",
    "        # count type non matches\n",
    "        dtype += df.shape[0] - df[df['Ftype_i']==df['Ftype_t']].shape[0]\n",
    "        \n",
    "        # count dit non matches\n",
    "        ddir += df.shape[0] - df[df['DirType_i']==df['DirType_t']].shape[0]\n",
    "\n",
    "#         print(df)\n",
    "    \n",
    "    return (pdtime,ndtime, dtype,ddir, tsum)\n",
    "\n",
    "# evalSequence(initSeq[0])\n"
   ]
  },
  {
   "cell_type": "code",
   "execution_count": 27,
   "metadata": {},
   "outputs": [],
   "source": [
    "# to register the evaluation function with the toolbox\n",
    "toolbox.register('evaluate', evalSequence)"
   ]
  },
  {
   "cell_type": "markdown",
   "metadata": {},
   "source": [
    "## Crossover and Mutation\n",
    "\n",
    "\n"
   ]
  },
  {
   "cell_type": "code",
   "execution_count": 28,
   "metadata": {},
   "outputs": [],
   "source": [
    "# to do the crossover\n",
    "def cxSeq(ind1, ind2):\n",
    "\n",
    "    # initially, no crossover\n",
    "    \n",
    "    return ind1, ind2"
   ]
  },
  {
   "cell_type": "code",
   "execution_count": 29,
   "metadata": {},
   "outputs": [],
   "source": [
    "# to do a mutation\n",
    "def mutSeq(individual):\n",
    "    \n",
    "    for event in individual:\n",
    "        if random.uniform(0, 1) <= mutateProb:\n",
    "            # mutate time\n",
    "\n",
    "\n",
    "            # mutate type\n",
    "\n",
    "            # mutate dir\n",
    "            if event['DirType'] == Dirtype.P:\n",
    "                event['DirType'] = Dirtype.S if random.uniform(0, 1) > DirtypePProb else Dirtype.P\n",
    "            else:\n",
    "                event['DirType'] = Dirtype.P if random.uniform(0, 1) <= DirtypePProb else Dirtype.S\n",
    "\n",
    "\n",
    "    return individual,"
   ]
  },
  {
   "cell_type": "code",
   "execution_count": 30,
   "metadata": {},
   "outputs": [],
   "source": [
    "# default probability for Ftype.N preference\n",
    "FtypeNProb = 0.3\n",
    "# default prob for Ftype.M and not Ftype.S\n",
    "FtypeMProb = 0.5\n",
    "# default probability for Dirtype.P preference\n",
    "DirtypePProb = 0.5\n",
    "# probability of event mutation\n",
    "mutateProb = 0.05\n"
   ]
  },
  {
   "cell_type": "code",
   "execution_count": 31,
   "metadata": {},
   "outputs": [],
   "source": [
    "toolbox.register('mate',cxSeq)\n",
    "\n",
    "toolbox.register('mutate',mutSeq)\n",
    "\n",
    "toolbox.register('select',tools.selTournament, tournsize=tournSize)\n"
   ]
  },
  {
   "cell_type": "code",
   "execution_count": 32,
   "metadata": {},
   "outputs": [],
   "source": [
    "ind = toolbox.individual()\n",
    "\n",
    "stats = tools.Statistics(lambda ind: ind.fitness.values)\n",
    "stats.register(\"avg\", np.mean)\n",
    "stats.register(\"std\", np.std)\n",
    "stats.register(\"min\", np.min)\n",
    "stats.register(\"max\", np.max)"
   ]
  },
  {
   "cell_type": "code",
   "execution_count": null,
   "metadata": {},
   "outputs": [],
   "source": []
  },
  {
   "cell_type": "code",
   "execution_count": 33,
   "metadata": {},
   "outputs": [
    {
     "name": "stdout",
     "output_type": "stream",
     "text": [
      "gen\tnevals\tavg    \tstd    \tmin\tmax\n",
      "0  \t102   \t14.0412\t4.99689\t2  \t28 \n",
      "1  \t86    \t13.5608\t5.55465\t2  \t26 \n",
      "2  \t91    \t12.4961\t6.28903\t2  \t25 \n",
      "3  \t90    \t10.6588\t6.27704\t2  \t25 \n",
      "4  \t86    \t7.81373\t4.41195\t2  \t25 \n",
      "5  \t89    \t6.80588\t3.10653\t2  \t25 \n",
      "6  \t87    \t6.67059\t3.02495\t2  \t11 \n",
      "7  \t79    \t6.46275\t3.12322\t2  \t11 \n",
      "8  \t93    \t6.36863\t3.19764\t0  \t11 \n",
      "9  \t93    \t6.27451\t3.27724\t0  \t11 \n",
      "10 \t84    \t6.14118\t3.42134\t0  \t11 \n",
      "11 \t82    \t5.9451 \t3.61979\t0  \t11 \n",
      "12 \t87    \t5.82353\t3.7678 \t0  \t11 \n",
      "13 \t81    \t5.6902 \t3.93253\t0  \t11 \n",
      "14 \t85    \t5.63922\t3.99255\t0  \t11 \n",
      "15 \t90    \t5.62745\t4.0003 \t0  \t11 \n",
      "16 \t94    \t5.60784\t4.02092\t0  \t11 \n",
      "17 \t88    \t5.63137\t3.99379\t0  \t11 \n",
      "18 \t89    \t5.62353\t4.00287\t0  \t11 \n",
      "19 \t92    \t5.62745\t4.00226\t0  \t11 \n",
      "20 \t84    \t5.61569\t4.01191\t0  \t11 \n",
      "21 \t82    \t5.61569\t4.01387\t0  \t11 \n",
      "22 \t81    \t5.61176\t4.01642\t0  \t11 \n",
      "23 \t85    \t5.61569\t4.01191\t0  \t11 \n",
      "24 \t90    \t5.62353\t4.00287\t0  \t11 \n",
      "25 \t89    \t5.62353\t4.00483\t0  \t11 \n",
      "26 \t89    \t5.63529\t3.99317\t0  \t11 \n",
      "27 \t81    \t5.62353\t4.00483\t0  \t11 \n",
      "28 \t89    \t5.62745\t4.00422\t0  \t11 \n",
      "29 \t84    \t5.64706\t3.98144\t0  \t11 \n",
      "30 \t91    \t5.61569\t4.01191\t0  \t11 \n",
      "31 \t89    \t5.60784\t4.02092\t0  \t11 \n",
      "32 \t91    \t5.61176\t4.01837\t0  \t11 \n",
      "33 \t80    \t5.61569\t4.01191\t0  \t11 \n",
      "34 \t87    \t5.62745\t3.99834\t0  \t11 \n",
      "35 \t88    \t5.63137\t4.0036 \t0  \t11 \n",
      "36 \t89    \t5.64314\t3.98405\t0  \t11 \n",
      "37 \t85    \t5.64706\t3.98538\t0  \t11 \n",
      "38 \t79    \t5.62745\t4.0003 \t0  \t11 \n",
      "39 \t86    \t5.61176\t4.01642\t0  \t11 \n",
      "40 \t88    \t5.63529\t3.99121\t0  \t11 \n",
      "41 \t79    \t5.63529\t3.9971 \t0  \t11 \n",
      "42 \t93    \t5.63922\t3.98468\t0  \t11 \n",
      "43 \t95    \t5.63137\t3.99379\t0  \t11 \n",
      "44 \t85    \t5.62353\t4.00287\t0  \t11 \n",
      "45 \t81    \t5.63529\t3.98924\t0  \t11 \n",
      "46 \t91    \t5.62745\t3.99834\t0  \t11 \n",
      "47 \t89    \t5.61569\t4.01191\t0  \t11 \n",
      "48 \t89    \t5.61569\t4.01191\t0  \t11 \n",
      "49 \t86    \t5.62745\t3.99834\t0  \t11 \n",
      "50 \t85    \t5.63529\t3.99121\t0  \t11 \n",
      "51 \t84    \t5.63137\t3.99772\t0  \t11 \n",
      "52 \t98    \t5.62353\t4.00287\t0  \t11 \n",
      "53 \t81    \t5.61176\t4.01642\t0  \t11 \n",
      "54 \t81    \t5.60784\t4.02092\t0  \t11 \n",
      "55 \t82    \t5.62745\t4.0003 \t0  \t11 \n",
      "56 \t86    \t5.63137\t3.99576\t0  \t11 \n"
     ]
    },
    {
     "ename": "KeyboardInterrupt",
     "evalue": "",
     "output_type": "error",
     "traceback": [
      "\u001b[1;31m---------------------------------------------------------------------------\u001b[0m",
      "\u001b[1;31mKeyboardInterrupt\u001b[0m                         Traceback (most recent call last)",
      "\u001b[1;32m<ipython-input-33-cb0d0b14606c>\u001b[0m in \u001b[0;36m<module>\u001b[1;34m\u001b[0m\n\u001b[0;32m      4\u001b[0m \u001b[1;31m# code the GA algorithm\u001b[0m\u001b[1;33m\u001b[0m\u001b[1;33m\u001b[0m\u001b[1;33m\u001b[0m\u001b[0m\n\u001b[0;32m      5\u001b[0m result, log = algorithms.eaSimple(pop,toolbox,cxpb=CxProb, mutpb=MutProb, stats=stats,\n\u001b[1;32m----> 6\u001b[1;33m                                   ngen=MaxGen, halloffame=hof,verbose=True)\n\u001b[0m\u001b[0;32m      7\u001b[0m \u001b[1;33m\u001b[0m\u001b[0m\n",
      "\u001b[1;32mC:\\ProgramData\\Anaconda3\\lib\\site-packages\\deap-1.2.2-py3.7-win-amd64.egg\\deap\\algorithms.py\u001b[0m in \u001b[0;36meaSimple\u001b[1;34m(population, toolbox, cxpb, mutpb, ngen, stats, halloffame, verbose)\u001b[0m\n\u001b[0;32m    171\u001b[0m         \u001b[0minvalid_ind\u001b[0m \u001b[1;33m=\u001b[0m \u001b[1;33m[\u001b[0m\u001b[0mind\u001b[0m \u001b[1;32mfor\u001b[0m \u001b[0mind\u001b[0m \u001b[1;32min\u001b[0m \u001b[0moffspring\u001b[0m \u001b[1;32mif\u001b[0m \u001b[1;32mnot\u001b[0m \u001b[0mind\u001b[0m\u001b[1;33m.\u001b[0m\u001b[0mfitness\u001b[0m\u001b[1;33m.\u001b[0m\u001b[0mvalid\u001b[0m\u001b[1;33m]\u001b[0m\u001b[1;33m\u001b[0m\u001b[1;33m\u001b[0m\u001b[0m\n\u001b[0;32m    172\u001b[0m         \u001b[0mfitnesses\u001b[0m \u001b[1;33m=\u001b[0m \u001b[0mtoolbox\u001b[0m\u001b[1;33m.\u001b[0m\u001b[0mmap\u001b[0m\u001b[1;33m(\u001b[0m\u001b[0mtoolbox\u001b[0m\u001b[1;33m.\u001b[0m\u001b[0mevaluate\u001b[0m\u001b[1;33m,\u001b[0m \u001b[0minvalid_ind\u001b[0m\u001b[1;33m)\u001b[0m\u001b[1;33m\u001b[0m\u001b[1;33m\u001b[0m\u001b[0m\n\u001b[1;32m--> 173\u001b[1;33m         \u001b[1;32mfor\u001b[0m \u001b[0mind\u001b[0m\u001b[1;33m,\u001b[0m \u001b[0mfit\u001b[0m \u001b[1;32min\u001b[0m \u001b[0mzip\u001b[0m\u001b[1;33m(\u001b[0m\u001b[0minvalid_ind\u001b[0m\u001b[1;33m,\u001b[0m \u001b[0mfitnesses\u001b[0m\u001b[1;33m)\u001b[0m\u001b[1;33m:\u001b[0m\u001b[1;33m\u001b[0m\u001b[1;33m\u001b[0m\u001b[0m\n\u001b[0m\u001b[0;32m    174\u001b[0m             \u001b[0mind\u001b[0m\u001b[1;33m.\u001b[0m\u001b[0mfitness\u001b[0m\u001b[1;33m.\u001b[0m\u001b[0mvalues\u001b[0m \u001b[1;33m=\u001b[0m \u001b[0mfit\u001b[0m\u001b[1;33m\u001b[0m\u001b[1;33m\u001b[0m\u001b[0m\n\u001b[0;32m    175\u001b[0m \u001b[1;33m\u001b[0m\u001b[0m\n",
      "\u001b[1;32m<ipython-input-26-80db423606bd>\u001b[0m in \u001b[0;36mevalSequence\u001b[1;34m(individual)\u001b[0m\n\u001b[0;32m      2\u001b[0m \u001b[1;32mdef\u001b[0m \u001b[0mevalSequence\u001b[0m\u001b[1;33m(\u001b[0m\u001b[0mindividual\u001b[0m\u001b[1;33m)\u001b[0m\u001b[1;33m:\u001b[0m\u001b[1;33m\u001b[0m\u001b[1;33m\u001b[0m\u001b[0m\n\u001b[0;32m      3\u001b[0m     \u001b[1;31m# individual to dataframe, sort and then reindex\u001b[0m\u001b[1;33m\u001b[0m\u001b[1;33m\u001b[0m\u001b[1;33m\u001b[0m\u001b[0m\n\u001b[1;32m----> 4\u001b[1;33m     \u001b[0mdfI\u001b[0m \u001b[1;33m=\u001b[0m \u001b[0mpd\u001b[0m\u001b[1;33m.\u001b[0m\u001b[0mDataFrame\u001b[0m\u001b[1;33m(\u001b[0m\u001b[0mindividual\u001b[0m\u001b[1;33m)\u001b[0m\u001b[1;33m.\u001b[0m\u001b[0msort_values\u001b[0m\u001b[1;33m(\u001b[0m\u001b[0mby\u001b[0m\u001b[1;33m=\u001b[0m\u001b[1;34m'time'\u001b[0m\u001b[1;33m)\u001b[0m\u001b[1;33m.\u001b[0m\u001b[0mreset_index\u001b[0m\u001b[1;33m(\u001b[0m\u001b[0mdrop\u001b[0m\u001b[1;33m=\u001b[0m\u001b[1;32mTrue\u001b[0m\u001b[1;33m)\u001b[0m\u001b[1;33m\u001b[0m\u001b[1;33m\u001b[0m\u001b[0m\n\u001b[0m\u001b[0;32m      5\u001b[0m \u001b[1;33m\u001b[0m\u001b[0m\n\u001b[0;32m      6\u001b[0m     \u001b[1;31m# count number of non-Ftype.N\u001b[0m\u001b[1;33m\u001b[0m\u001b[1;33m\u001b[0m\u001b[1;33m\u001b[0m\u001b[0m\n",
      "\u001b[1;32mC:\\ProgramData\\Anaconda3\\lib\\site-packages\\pandas\\core\\frame.py\u001b[0m in \u001b[0;36m__init__\u001b[1;34m(self, data, index, columns, dtype, copy)\u001b[0m\n\u001b[0;32m    386\u001b[0m                         \u001b[0mcolumns\u001b[0m \u001b[1;33m=\u001b[0m \u001b[0mdata\u001b[0m\u001b[1;33m[\u001b[0m\u001b[1;36m0\u001b[0m\u001b[1;33m]\u001b[0m\u001b[1;33m.\u001b[0m\u001b[0m_fields\u001b[0m\u001b[1;33m\u001b[0m\u001b[1;33m\u001b[0m\u001b[0m\n\u001b[0;32m    387\u001b[0m                     \u001b[0marrays\u001b[0m\u001b[1;33m,\u001b[0m \u001b[0mcolumns\u001b[0m \u001b[1;33m=\u001b[0m \u001b[0m_to_arrays\u001b[0m\u001b[1;33m(\u001b[0m\u001b[0mdata\u001b[0m\u001b[1;33m,\u001b[0m \u001b[0mcolumns\u001b[0m\u001b[1;33m,\u001b[0m \u001b[0mdtype\u001b[0m\u001b[1;33m=\u001b[0m\u001b[0mdtype\u001b[0m\u001b[1;33m)\u001b[0m\u001b[1;33m\u001b[0m\u001b[1;33m\u001b[0m\u001b[0m\n\u001b[1;32m--> 388\u001b[1;33m                     \u001b[0mcolumns\u001b[0m \u001b[1;33m=\u001b[0m \u001b[0m_ensure_index\u001b[0m\u001b[1;33m(\u001b[0m\u001b[0mcolumns\u001b[0m\u001b[1;33m)\u001b[0m\u001b[1;33m\u001b[0m\u001b[1;33m\u001b[0m\u001b[0m\n\u001b[0m\u001b[0;32m    389\u001b[0m \u001b[1;33m\u001b[0m\u001b[0m\n\u001b[0;32m    390\u001b[0m                     \u001b[1;31m# set the index\u001b[0m\u001b[1;33m\u001b[0m\u001b[1;33m\u001b[0m\u001b[1;33m\u001b[0m\u001b[0m\n",
      "\u001b[1;32mC:\\ProgramData\\Anaconda3\\lib\\site-packages\\pandas\\core\\indexes\\base.py\u001b[0m in \u001b[0;36m_ensure_index\u001b[1;34m(index_like, copy)\u001b[0m\n\u001b[0;32m   4958\u001b[0m             \u001b[0mindex_like\u001b[0m \u001b[1;33m=\u001b[0m \u001b[0mlist\u001b[0m\u001b[1;33m(\u001b[0m\u001b[0mindex_like\u001b[0m\u001b[1;33m)\u001b[0m\u001b[1;33m\u001b[0m\u001b[1;33m\u001b[0m\u001b[0m\n\u001b[0;32m   4959\u001b[0m \u001b[1;33m\u001b[0m\u001b[0m\n\u001b[1;32m-> 4960\u001b[1;33m         \u001b[0mconverted\u001b[0m\u001b[1;33m,\u001b[0m \u001b[0mall_arrays\u001b[0m \u001b[1;33m=\u001b[0m \u001b[0mlib\u001b[0m\u001b[1;33m.\u001b[0m\u001b[0mclean_index_list\u001b[0m\u001b[1;33m(\u001b[0m\u001b[0mindex_like\u001b[0m\u001b[1;33m)\u001b[0m\u001b[1;33m\u001b[0m\u001b[1;33m\u001b[0m\u001b[0m\n\u001b[0m\u001b[0;32m   4961\u001b[0m \u001b[1;33m\u001b[0m\u001b[0m\n\u001b[0;32m   4962\u001b[0m         \u001b[1;32mif\u001b[0m \u001b[0mlen\u001b[0m\u001b[1;33m(\u001b[0m\u001b[0mconverted\u001b[0m\u001b[1;33m)\u001b[0m \u001b[1;33m>\u001b[0m \u001b[1;36m0\u001b[0m \u001b[1;32mand\u001b[0m \u001b[0mall_arrays\u001b[0m\u001b[1;33m:\u001b[0m\u001b[1;33m\u001b[0m\u001b[1;33m\u001b[0m\u001b[0m\n",
      "\u001b[1;32mpandas\\_libs\\lib.pyx\u001b[0m in \u001b[0;36mpandas._libs.lib.clean_index_list\u001b[1;34m()\u001b[0m\n",
      "\u001b[1;32mpandas/_libs/src\\inference.pyx\u001b[0m in \u001b[0;36mpandas._libs.lib.infer_dtype\u001b[1;34m()\u001b[0m\n",
      "\u001b[1;32mC:\\ProgramData\\Anaconda3\\lib\\importlib\\_bootstrap.py\u001b[0m in \u001b[0;36m_find_and_load\u001b[1;34m(name, import_)\u001b[0m\n",
      "\u001b[1;32mC:\\ProgramData\\Anaconda3\\lib\\importlib\\_bootstrap.py\u001b[0m in \u001b[0;36m_find_and_load_unlocked\u001b[1;34m(name, import_)\u001b[0m\n",
      "\u001b[1;32mC:\\ProgramData\\Anaconda3\\lib\\importlib\\_bootstrap.py\u001b[0m in \u001b[0;36m_find_spec\u001b[1;34m(name, path, target)\u001b[0m\n",
      "\u001b[1;32mC:\\ProgramData\\Anaconda3\\lib\\importlib\\_bootstrap_external.py\u001b[0m in \u001b[0;36mfind_spec\u001b[1;34m(cls, fullname, path, target)\u001b[0m\n",
      "\u001b[1;32mC:\\ProgramData\\Anaconda3\\lib\\importlib\\_bootstrap_external.py\u001b[0m in \u001b[0;36m_get_spec\u001b[1;34m(cls, fullname, path, target)\u001b[0m\n",
      "\u001b[1;32mC:\\ProgramData\\Anaconda3\\lib\\importlib\\_bootstrap_external.py\u001b[0m in \u001b[0;36mfind_spec\u001b[1;34m(self, fullname, target)\u001b[0m\n",
      "\u001b[1;32mC:\\ProgramData\\Anaconda3\\lib\\importlib\\_bootstrap_external.py\u001b[0m in \u001b[0;36m_path_stat\u001b[1;34m(path)\u001b[0m\n",
      "\u001b[1;31mKeyboardInterrupt\u001b[0m: "
     ]
    }
   ],
   "source": [
    "# save only the best individual\n",
    "hof = tools.HallOfFame(1)\n",
    "\n",
    "# code the GA algorithm\n",
    "result, log = algorithms.eaSimple(pop,toolbox,cxpb=CxProb, mutpb=MutProb, stats=stats,\n",
    "                                  ngen=MaxGen, halloffame=hof,verbose=True)\n",
    "\n"
   ]
  },
  {
   "cell_type": "code",
   "execution_count": null,
   "metadata": {},
   "outputs": [],
   "source": []
  }
 ],
 "metadata": {
  "kernelspec": {
   "display_name": "Python 3",
   "language": "python",
   "name": "python3"
  },
  "language_info": {
   "codemirror_mode": {
    "name": "ipython",
    "version": 3
   },
   "file_extension": ".py",
   "mimetype": "text/x-python",
   "name": "python",
   "nbconvert_exporter": "python",
   "pygments_lexer": "ipython3",
   "version": "3.7.1"
  }
 },
 "nbformat": 4,
 "nbformat_minor": 2
}
