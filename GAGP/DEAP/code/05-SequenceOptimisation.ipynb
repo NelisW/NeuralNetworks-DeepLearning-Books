{
 "cells": [
  {
   "cell_type": "markdown",
   "metadata": {},
   "source": [
    "# Sequence Optimisation"
   ]
  },
  {
   "cell_type": "markdown",
   "metadata": {},
   "source": [
    "This notebook establishes an example of how to optimise a time sequence with a composite genotype.\n",
    "\n",
    "The sequence comprises a number of events at discrete times where each event has two additional parameters.\n",
    "The events cannot take place simultaneously at a given time, but if the need arises to have to events closely spaced, they wil follow in the first available next time slot immediately after any currently occupied time slot.\n",
    "\n",
    "The real-world problem's objective is to achieve a maximum in the primary outcome, while employing the least number of events.\n",
    "The problem with optimizing towards a maximum in a population with many large values is that the large values will completely swamp (and therefore hide) any smaller or poor performing values. For example the poor performing individual in this set will have little effect if the mean value (900.1) is considered:\n",
    "\n",
    "    1  1000  1000  1000  1000  1000  1000  1000  1000  1000 \n",
    "\n",
    "Taking the inverse values, the mean value (0.1009) is now significantly affected by the poor performing individual, and less so by the well performing individuals:\n",
    "\n",
    "    1 0.001 0.001 0.001 0.001 0.001 0.001 0.001 0.001 0.001\n",
    "\n",
    "So the objective should be to optimise towards the best fit (approaching zero value), so that the well performing solutions will have  lower impact on fitness.  It is proposed that the final real-world optimisation should employ some 'inverted' fitness measure. The simple mathematical reciprocal may not be the best choice, some work is required here.\n",
    "Irrespective of the exact mapping the effect should be inverse-related.\n",
    "On the assumption of an inverse fitness measure, we define the best match to approach zero.\n",
    "\n",
    "A key consideration in the real-world problem is that there probably is no clear global minimum (e.g., inverse maximum).  A number of potentially very different minima are expected, and the solution must balance the performance between the minima. The best fit across all minima will be sought but it is conceivable  that some form of preference ordering or weighting might be required, trading some local minima against other local minima. \n",
    "\n",
    "This example will optimize towards two objectives: \n",
    "\n",
    "- Employ the least number of events.  This is a very simple test: count the number of events.\n",
    "- Globally best match to a set of pre-defined sequences. For this example a number of sequences will be posed, where each sequence will have a weight according to the preference order.\n"
   ]
  },
  {
   "cell_type": "code",
   "execution_count": 24,
   "metadata": {},
   "outputs": [
    {
     "name": "stdout",
     "output_type": "stream",
     "text": [
      "[   1. 1000. 1000. 1000. 1000. 1000. 1000. 1000. 1000. 1000.] mean=900.1\n",
      "[1.    0.001 0.001 0.001 0.001 0.001 0.001 0.001 0.001 0.001] mean=0.10\n",
      "[-0.69314718 -0.0009995  -0.0009995  -0.0009995  -0.0009995  -0.0009995\n",
      " -0.0009995  -0.0009995  -0.0009995  -0.0009995 ] mean=0.95\n"
     ]
    }
   ],
   "source": [
    "a = np.ones(10)*1000\n",
    "a[0] = 1\n",
    "print(f'{a} mean={np.mean(a)}')\n",
    "a = 1 / a\n",
    "print(f'{a} mean={np.mean(a):.2f}')\n",
    "a = np.log(1 / (1+a))\n",
    "print(f'{a} mean={np.mean(np.exp(a)):.2f}')\n",
    "\n"
   ]
  },
  {
   "cell_type": "code",
   "execution_count": 25,
   "metadata": {},
   "outputs": [],
   "source": [
    "import matplotlib.pyplot as plt\n",
    "import sys\n",
    "import array\n",
    "import random\n",
    "import numpy as np\n",
    "from enum import Enum,unique\n",
    "\n",
    "from deap import  algorithms\n",
    "from deap import  base\n",
    "from deap import  creator\n",
    "from deap import  tools\n",
    "\n",
    "%matplotlib inline\n"
   ]
  },
  {
   "cell_type": "code",
   "execution_count": 26,
   "metadata": {},
   "outputs": [],
   "source": [
    "PopSize = 100\n",
    "MaxGen = 100\n",
    "MutProb = 0.2\n",
    "CxProb = 0.8\n",
    "tournSize=3\n",
    "\n",
    "# default probability for Ftype.S preference\n",
    "FtypeSProb = 0.5\n",
    "# default probability for Dirtype.P preference\n",
    "DirtypePProb = 0.5\n",
    "\n",
    "timemax = 5\n",
    "timeinc = 0.05"
   ]
  },
  {
   "cell_type": "markdown",
   "metadata": {},
   "source": [
    "The genotype has three parameters:\n",
    "    \n",
    "- a discrete (but real-valued) time value between 0 and `timemax`, at  `timeinc` intervals.\n",
    "- an Ftype selection between two discrete values `M` and `S`, with a probability of `FtypeSProb` of being `S`.\n",
    "- an Dirtype selection between two discrete values P and S, with a probability of `DirtypePProb` of being `P`.\n",
    "\n"
   ]
  },
  {
   "cell_type": "code",
   "execution_count": 27,
   "metadata": {},
   "outputs": [],
   "source": [
    "def round_down(x, a):\n",
    "    return round(x / a) * a\n",
    "\n",
    "# Only these are allowed as Ftypes\n",
    "@unique\n",
    "class Ftype(Enum):\n",
    "    M = 0\n",
    "    S = 1\n",
    "    \n",
    "# Only these are allowed as Dirtype\n",
    "@unique\n",
    "class Dirtype(Enum):\n",
    "    P = 0\n",
    "    S = 1\n",
    "    \n",
    "def generate_event():\n",
    "    di = {}\n",
    "    # time between 0 and timemax\n",
    "    di['time'] = round_down(random.uniform(0, timemax),timeinc)\n",
    "    # even odds for each of the two cases\n",
    "    di['Ftype'] = Ftype.S if random.uniform(0, 1) <=FtypeSProb else Ftype.M\n",
    "    # even odds for each of the two cases\n",
    "    di['DirType'] = Dirtype.P if random.uniform(0, 1) <=DirtypePProb else Dirtype.S\n",
    "    return di\n"
   ]
  },
  {
   "cell_type": "markdown",
   "metadata": {},
   "source": [
    "The DEAP overview page makes an important point:  *Once the types are created you need to fill them with sometimes random values, sometime guessed ones.* So, if you have some idea of a good starting point, mix your best-guess estimates with  additional random guesses, to start with a blended set.  If your guesses are good, the GA should start better, but the randomness brings in some diversity.  Construct a best-guess individual with a fitness function and then insert it into the population using `pop.append(guess_ind)` or `population.insert(0, guess_ind)`."
   ]
  },
  {
   "cell_type": "markdown",
   "metadata": {},
   "source": [
    "The objective is to minimise two parameters:\n",
    "- the difference between the required code and the individual code\n",
    "- the number of events\n"
   ]
  },
  {
   "cell_type": "code",
   "execution_count": 28,
   "metadata": {},
   "outputs": [
    {
     "name": "stderr",
     "output_type": "stream",
     "text": [
      "C:\\ProgramData\\Anaconda3\\lib\\site-packages\\deap-1.2.2-py3.7-win-amd64.egg\\deap\\creator.py:141: RuntimeWarning: A class named 'FitnessMin' has already been created and it will be overwritten. Consider deleting previous creation of that class or rename it.\n",
      "  RuntimeWarning)\n",
      "C:\\ProgramData\\Anaconda3\\lib\\site-packages\\deap-1.2.2-py3.7-win-amd64.egg\\deap\\creator.py:141: RuntimeWarning: A class named 'Individual' has already been created and it will be overwritten. Consider deleting previous creation of that class or rename it.\n",
      "  RuntimeWarning)\n"
     ]
    }
   ],
   "source": [
    "creator.create(\"FitnessMin\", base.Fitness,weights=(-1.0,-1.0))\n",
    "creator.create(\"Individual\",dict, fitness=creator.FitnessMin)\n",
    "\n",
    "toolbox = base.Toolbox()\n",
    "toolbox.register(\"individual\", tools.initIterate, creator.Individual,generate_event) \n",
    "toolbox.register(\"population\", tools.initRepeat, list, toolbox.individual)\n",
    "\n",
    "pop = toolbox.population(n=PopSize)\n"
   ]
  },
  {
   "cell_type": "code",
   "execution_count": 29,
   "metadata": {},
   "outputs": [
    {
     "name": "stdout",
     "output_type": "stream",
     "text": [
      "Individual: {}\n",
      "individual: {'time': 2.95, 'Ftype': <Ftype.M: 0>, 'DirType': <Dirtype.S: 1>}\n",
      "population: [{'time': 2.95, 'Ftype': <Ftype.M: 0>, 'DirType': <Dirtype.S: 1>}, {'time': 0.65, 'Ftype': <Ftype.S: 1>, 'DirType': <Dirtype.P: 0>}, {'time': 0.2, 'Ftype': <Ftype.M: 0>, 'DirType': <Dirtype.S: 1>}, {'time': 4.1000000000000005, 'Ftype': <Ftype.M: 0>, 'DirType': <Dirtype.P: 0>}, {'time': 1.7000000000000002, 'Ftype': <Ftype.S: 1>, 'DirType': <Dirtype.P: 0>}, {'time': 1.3, 'Ftype': <Ftype.M: 0>, 'DirType': <Dirtype.S: 1>}, {'time': 2.25, 'Ftype': <Ftype.S: 1>, 'DirType': <Dirtype.S: 1>}, {'time': 3.8000000000000003, 'Ftype': <Ftype.M: 0>, 'DirType': <Dirtype.S: 1>}, {'time': 0.05, 'Ftype': <Ftype.M: 0>, 'DirType': <Dirtype.P: 0>}, {'time': 4.4, 'Ftype': <Ftype.M: 0>, 'DirType': <Dirtype.P: 0>}]\n"
     ]
    }
   ],
   "source": [
    "print(f'Individual: {creator.Individual()}')  \n",
    "print(f'individual: {toolbox.individual()}')  \n",
    "print(f'population: {toolbox.population(n=10)}') "
   ]
  },
  {
   "cell_type": "code",
   "execution_count": 30,
   "metadata": {},
   "outputs": [],
   "source": [
    "toolbox.register('mate',tools.cxOrdered)\n",
    "\n",
    "toolbox.register('mutate',tools.mutShuffleIndexes, indpb=0.05)\n",
    "\n",
    "toolbox.register('select',tools.selTournament, tournsize=tournSize)\n"
   ]
  },
  {
   "cell_type": "code",
   "execution_count": 31,
   "metadata": {},
   "outputs": [],
   "source": [
    "ind = toolbox.individual()\n",
    "\n",
    "stats = tools.Statistics(lambda ind: ind.fitness.values)\n",
    "stats.register(\"avg\", np.mean)\n",
    "stats.register(\"std\", np.std)\n",
    "stats.register(\"min\", np.min)\n",
    "stats.register(\"max\", np.max)"
   ]
  },
  {
   "cell_type": "code",
   "execution_count": 32,
   "metadata": {},
   "outputs": [],
   "source": [
    "def evalSeq(individual):\n",
    "    diffx = np.diff(x[individual])\n",
    "    diffy = np.diff(y[individual])\n",
    "    distance = np.sum(diffx**2 + diffy**2)\n",
    "    return (distance,)\n",
    "\n",
    "# register the evaluation function with the toolbox\n",
    "toolbox.register('evaluate',evalSeq)"
   ]
  },
  {
   "cell_type": "code",
   "execution_count": 33,
   "metadata": {},
   "outputs": [
    {
     "ename": "NameError",
     "evalue": "name 'x' is not defined",
     "output_type": "error",
     "traceback": [
      "\u001b[1;31m---------------------------------------------------------------------------\u001b[0m",
      "\u001b[1;31mNameError\u001b[0m                                 Traceback (most recent call last)",
      "\u001b[1;32m<ipython-input-33-078e7cf9638e>\u001b[0m in \u001b[0;36m<module>\u001b[1;34m\u001b[0m\n\u001b[0;32m      7\u001b[0m \u001b[1;31m# code the GA algorithm\u001b[0m\u001b[1;33m\u001b[0m\u001b[1;33m\u001b[0m\u001b[1;33m\u001b[0m\u001b[0m\n\u001b[0;32m      8\u001b[0m result, log = algorithms.eaSimple(pop,toolbox,cxpb=CxProb, mutpb=MutProb, stats=stats,\n\u001b[1;32m----> 9\u001b[1;33m                                   ngen=MaxGen, halloffame=hof,verbose=True)\n\u001b[0m\u001b[0;32m     10\u001b[0m \u001b[1;33m\u001b[0m\u001b[0m\n",
      "\u001b[1;32mC:\\ProgramData\\Anaconda3\\lib\\site-packages\\deap-1.2.2-py3.7-win-amd64.egg\\deap\\algorithms.py\u001b[0m in \u001b[0;36meaSimple\u001b[1;34m(population, toolbox, cxpb, mutpb, ngen, stats, halloffame, verbose)\u001b[0m\n\u001b[0;32m    149\u001b[0m     \u001b[0minvalid_ind\u001b[0m \u001b[1;33m=\u001b[0m \u001b[1;33m[\u001b[0m\u001b[0mind\u001b[0m \u001b[1;32mfor\u001b[0m \u001b[0mind\u001b[0m \u001b[1;32min\u001b[0m \u001b[0mpopulation\u001b[0m \u001b[1;32mif\u001b[0m \u001b[1;32mnot\u001b[0m \u001b[0mind\u001b[0m\u001b[1;33m.\u001b[0m\u001b[0mfitness\u001b[0m\u001b[1;33m.\u001b[0m\u001b[0mvalid\u001b[0m\u001b[1;33m]\u001b[0m\u001b[1;33m\u001b[0m\u001b[1;33m\u001b[0m\u001b[0m\n\u001b[0;32m    150\u001b[0m     \u001b[0mfitnesses\u001b[0m \u001b[1;33m=\u001b[0m \u001b[0mtoolbox\u001b[0m\u001b[1;33m.\u001b[0m\u001b[0mmap\u001b[0m\u001b[1;33m(\u001b[0m\u001b[0mtoolbox\u001b[0m\u001b[1;33m.\u001b[0m\u001b[0mevaluate\u001b[0m\u001b[1;33m,\u001b[0m \u001b[0minvalid_ind\u001b[0m\u001b[1;33m)\u001b[0m\u001b[1;33m\u001b[0m\u001b[1;33m\u001b[0m\u001b[0m\n\u001b[1;32m--> 151\u001b[1;33m     \u001b[1;32mfor\u001b[0m \u001b[0mind\u001b[0m\u001b[1;33m,\u001b[0m \u001b[0mfit\u001b[0m \u001b[1;32min\u001b[0m \u001b[0mzip\u001b[0m\u001b[1;33m(\u001b[0m\u001b[0minvalid_ind\u001b[0m\u001b[1;33m,\u001b[0m \u001b[0mfitnesses\u001b[0m\u001b[1;33m)\u001b[0m\u001b[1;33m:\u001b[0m\u001b[1;33m\u001b[0m\u001b[1;33m\u001b[0m\u001b[0m\n\u001b[0m\u001b[0;32m    152\u001b[0m         \u001b[0mind\u001b[0m\u001b[1;33m.\u001b[0m\u001b[0mfitness\u001b[0m\u001b[1;33m.\u001b[0m\u001b[0mvalues\u001b[0m \u001b[1;33m=\u001b[0m \u001b[0mfit\u001b[0m\u001b[1;33m\u001b[0m\u001b[1;33m\u001b[0m\u001b[0m\n\u001b[0;32m    153\u001b[0m \u001b[1;33m\u001b[0m\u001b[0m\n",
      "\u001b[1;32m<ipython-input-32-65482fcf77c6>\u001b[0m in \u001b[0;36mevalSeq\u001b[1;34m(individual)\u001b[0m\n\u001b[0;32m      1\u001b[0m \u001b[1;32mdef\u001b[0m \u001b[0mevalSeq\u001b[0m\u001b[1;33m(\u001b[0m\u001b[0mindividual\u001b[0m\u001b[1;33m)\u001b[0m\u001b[1;33m:\u001b[0m\u001b[1;33m\u001b[0m\u001b[1;33m\u001b[0m\u001b[0m\n\u001b[1;32m----> 2\u001b[1;33m     \u001b[0mdiffx\u001b[0m \u001b[1;33m=\u001b[0m \u001b[0mnp\u001b[0m\u001b[1;33m.\u001b[0m\u001b[0mdiff\u001b[0m\u001b[1;33m(\u001b[0m\u001b[0mx\u001b[0m\u001b[1;33m[\u001b[0m\u001b[0mindividual\u001b[0m\u001b[1;33m]\u001b[0m\u001b[1;33m)\u001b[0m\u001b[1;33m\u001b[0m\u001b[1;33m\u001b[0m\u001b[0m\n\u001b[0m\u001b[0;32m      3\u001b[0m     \u001b[0mdiffy\u001b[0m \u001b[1;33m=\u001b[0m \u001b[0mnp\u001b[0m\u001b[1;33m.\u001b[0m\u001b[0mdiff\u001b[0m\u001b[1;33m(\u001b[0m\u001b[0my\u001b[0m\u001b[1;33m[\u001b[0m\u001b[0mindividual\u001b[0m\u001b[1;33m]\u001b[0m\u001b[1;33m)\u001b[0m\u001b[1;33m\u001b[0m\u001b[1;33m\u001b[0m\u001b[0m\n\u001b[0;32m      4\u001b[0m     \u001b[0mdistance\u001b[0m \u001b[1;33m=\u001b[0m \u001b[0mnp\u001b[0m\u001b[1;33m.\u001b[0m\u001b[0msum\u001b[0m\u001b[1;33m(\u001b[0m\u001b[0mdiffx\u001b[0m\u001b[1;33m**\u001b[0m\u001b[1;36m2\u001b[0m \u001b[1;33m+\u001b[0m \u001b[0mdiffy\u001b[0m\u001b[1;33m**\u001b[0m\u001b[1;36m2\u001b[0m\u001b[1;33m)\u001b[0m\u001b[1;33m\u001b[0m\u001b[1;33m\u001b[0m\u001b[0m\n\u001b[0;32m      5\u001b[0m     \u001b[1;32mreturn\u001b[0m \u001b[1;33m(\u001b[0m\u001b[0mdistance\u001b[0m\u001b[1;33m,\u001b[0m\u001b[1;33m)\u001b[0m\u001b[1;33m\u001b[0m\u001b[1;33m\u001b[0m\u001b[0m\n",
      "\u001b[1;31mNameError\u001b[0m: name 'x' is not defined"
     ]
    }
   ],
   "source": [
    "#initial populatiom\n",
    "pop = toolbox.population(n=POP_SIZE)\n",
    "\n",
    "# save only the best individual\n",
    "hof = tools.HallOfFame(1)\n",
    "\n",
    "# code the GA algorithm\n",
    "result, log = algorithms.eaSimple(pop,toolbox,cxpb=CxProb, mutpb=MutProb, stats=stats,\n",
    "                                  ngen=MaxGen, halloffame=hof,verbose=True)\n",
    "\n"
   ]
  },
  {
   "cell_type": "code",
   "execution_count": null,
   "metadata": {},
   "outputs": [],
   "source": []
  }
 ],
 "metadata": {
  "kernelspec": {
   "display_name": "Python 3",
   "language": "python",
   "name": "python3"
  },
  "language_info": {
   "codemirror_mode": {
    "name": "ipython",
    "version": 3
   },
   "file_extension": ".py",
   "mimetype": "text/x-python",
   "name": "python",
   "nbconvert_exporter": "python",
   "pygments_lexer": "ipython3",
   "version": "3.7.1"
  }
 },
 "nbformat": 4,
 "nbformat_minor": 2
}
