{
 "cells": [
  {
   "cell_type": "markdown",
   "metadata": {},
   "source": [
    "\n",
    "Notebook originally taken from (but modified here):  \n",
    "https://github.com/daydrill/ga_pycon_2016_apac\n",
    "\n",
    "Slides taken from:  \n",
    "https://github.com/pythonkr/pyconapac-2016-files/raw/master/20160814-102-16-SongChisung.pdf\n",
    "\n",
    "\n"
   ]
  },
  {
   "cell_type": "markdown",
   "metadata": {},
   "source": [
    "## Brief Introduction\n",
    "\n",
    "### Genetics and genetic programming\n",
    "\n",
    "![song01](images/song01.png)\n",
    "\n",
    "Population, chromosomes and genes:  \n",
    "![song01](images/song02.png)\n",
    "\n",
    "Basic genetic programming operations:  \n",
    "![song01](images/song03.png)\n",
    "\n",
    "Selection:  \n",
    "![song01](images/song04.png)\n",
    "\n",
    "Crossover (gene sharing):  \n",
    "![song01](images/song05.png)\n",
    "\n",
    "Mutation (gene modification):  \n",
    "![song01](images/song06.png)\n",
    "\n",
    "GA/GP workflow:  \n",
    "![song01](images/song07.png)\n"
   ]
  },
  {
   "cell_type": "markdown",
   "metadata": {},
   "source": [
    "### DEAP Architecture\n",
    "\n",
    "\n",
    "![song01](images/song08.png)\n",
    "\n",
    "![song01](images/song09.png)\n"
   ]
  },
  {
   "cell_type": "markdown",
   "metadata": {},
   "source": [
    "<hr style=\"border-color:#ff9900\"> \n",
    "\n",
    "## Practice 1 : \n",
    "\n",
    "<hr style=\"border-color:#ff9900\"> \n",
    "\n",
    "This example uses DEAP to create a list of numbers that add up to some value."
   ]
  },
  {
   "cell_type": "markdown",
   "metadata": {},
   "source": [
    "## Setting Things Up"
   ]
  },
  {
   "cell_type": "markdown",
   "metadata": {},
   "source": [
    "\n",
    "Assuming that you alreadyhave DEAP type the following on your shell:\n",
    "\n",
    "    conda install -c conda-forge folium \n",
    "\n"
   ]
  },
  {
   "cell_type": "code",
   "execution_count": 2,
   "metadata": {
    "collapsed": true
   },
   "outputs": [],
   "source": [
    "import random\n",
    "import numpy as np\n",
    "from deap import algorithms, base, creator, tools\n",
    "\n",
    "doVerbose = True\n",
    "listLength = 5\n",
    "sumUpTo = 100"
   ]
  },
  {
   "cell_type": "code",
   "execution_count": 3,
   "metadata": {},
   "outputs": [],
   "source": [
    "if doVerbose:\n",
    "    # manually compile list:\n",
    "    # Here are 5 numbers when added, we get a hundred.\n",
    "    list1 = [100, 0, 0, 0, 0]\n",
    "    list2 = [20, 21, 19, 15, 25]\n",
    "    (sum(list1), sum(list2))"
   ]
  },
  {
   "cell_type": "markdown",
   "metadata": {},
   "source": [
    "### Creator\n",
    "- Meta-factory allowing the run-time creation of classes via both inheritance and composition.\n",
    "- Attributes, both data and functions, can be dynamically added to existing classes in order to create user-specific new types.\n",
    "- By using this, the creation of individuals and populations from any data structure ( list, set, dictionary, tree, etc… )"
   ]
  },
  {
   "cell_type": "code",
   "execution_count": 4,
   "metadata": {
    "collapsed": false
   },
   "outputs": [],
   "source": [
    "# Creates a new class named \"FitnessMin\" inheriting from \"base.Fitness\" with attribute \"weights=(-1.0,)\"\n",
    "# The fitness is a measure of quality of a solution.\n",
    "creator.create(\"FitnessMin\", base.Fitness, weights=(-1.0,)) # -1 -> minimum problem\n",
    "creator.create(\"Individual\", list, fitness=creator.FitnessMin)"
   ]
  },
  {
   "cell_type": "markdown",
   "metadata": {},
   "source": [
    "### Toolbox\n",
    "- Container for the tools (operators) that the user wants to use.\n",
    "- Manually populated by the user with selected tools."
   ]
  },
  {
   "cell_type": "code",
   "execution_count": 5,
   "metadata": {
    "collapsed": true
   },
   "outputs": [],
   "source": [
    "toolbox = base.Toolbox()\n",
    "\n",
    "# Attribute generator : get random number between 0~100\n",
    "toolbox.register(\"attr_bool\", random.randint, 0, sumUpTo)\n",
    "\n",
    "# Structure initializers\n",
    "toolbox.register(\"individual\", tools.initRepeat, creator.Individual, toolbox.attr_bool, listLength)\n",
    "toolbox.register(\"population\", tools.initRepeat, list, toolbox.individual)\n"
   ]
  },
  {
   "cell_type": "markdown",
   "metadata": {},
   "source": [
    "## The Evaluation Function\n",
    "\n",
    "objective function  built for our problem: want to minimise the sum distance from `sumUpTo`"
   ]
  },
  {
   "cell_type": "code",
   "execution_count": 78,
   "metadata": {
    "collapsed": true
   },
   "outputs": [],
   "source": [
    "def sum_error(individual):\n",
    "    error = abs(sumUpTo - sum(individual))\n",
    "    # note the ',' and end of line, makes a tuple:\n",
    "    return error,"
   ]
  },
  {
   "cell_type": "code",
   "execution_count": 79,
   "metadata": {},
   "outputs": [
    {
     "name": "stdout",
     "output_type": "stream",
     "text": [
      "Demonstrate the attribute, individual and population:\n",
      "Attribute demo: 74\n",
      "Individual demo: [78, 31, 98, 15, 19]\n",
      "Individual sum: 241\n",
      "<class 'tuple'>\n",
      "(141,)\n",
      "[[57, 67, 36, 99, 16], [72, 15, 88, 91, 70], [4, 83, 74, 84, 46], [51, 38, 65, 10, 65], [76, 29, 37, 73, 13], [76, 68, 13, 1, 77], [32, 49, 71, 72, 7], [86, 19, 96, 25, 81], [93, 65, 74, 77, 93], [50, 89, 20, 83, 32]]\n"
     ]
    }
   ],
   "source": [
    "if doVerbose:\n",
    "    ind = toolbox.individual()\n",
    "    print('Demonstrate the attribute, individual and population:')\n",
    "    print(f'Attribute demo: {toolbox.attr_bool()}') \n",
    "    print(f'Individual demo: {ind}')  \n",
    "    print(f'Individual sum: {sum(ind)}')  # demo test individual sum\n",
    "    print(type(sum_error(ind))) # error\n",
    "    print(sum_error(ind)) # error\n",
    "    print(toolbox.population(n=10)) # demo pop of 10 indv\n",
    "    "
   ]
  },
  {
   "cell_type": "markdown",
   "metadata": {},
   "source": [
    "## The Genetic Operators\n",
    "- Operators are just like initializers, except that some are already implemented in the [tools](http://deap.readthedocs.io/en/master/api/tools.html#module-deap.tools) module. \n",
    "- __Once you’ve chosen the perfect ones, simply register them in the toolbox.__"
   ]
  },
  {
   "cell_type": "code",
   "execution_count": 80,
   "metadata": {
    "collapsed": false
   },
   "outputs": [],
   "source": [
    "toolbox.register(\"evaluate\", sum_error)"
   ]
  },
  {
   "cell_type": "code",
   "execution_count": 81,
   "metadata": {
    "collapsed": true
   },
   "outputs": [],
   "source": [
    "toolbox.register(\"mate\", tools.cxTwoPoint)\n",
    "toolbox.register(\"mutate\", tools.mutUniformInt, low=0, up=100, indpb=0.2) # Independent probability  : for each attribute to be mutated.# low~up rondom int\n",
    "toolbox.register(\"select\", tools.selTournament, tournsize=3)"
   ]
  },
  {
   "cell_type": "markdown",
   "metadata": {},
   "source": [
    "## Evolving the Population"
   ]
  },
  {
   "cell_type": "markdown",
   "metadata": {},
   "source": [
    "### Creating the Population"
   ]
  },
  {
   "cell_type": "code",
   "execution_count": 82,
   "metadata": {
    "collapsed": false,
    "scrolled": true
   },
   "outputs": [
    {
     "data": {
      "text/plain": [
       "[[74, 92, 77, 93, 26],\n",
       " [43, 19, 4, 6, 4],\n",
       " [50, 81, 53, 74, 49],\n",
       " [50, 68, 35, 95, 36],\n",
       " [57, 66, 43, 15, 69],\n",
       " [50, 46, 2, 100, 23],\n",
       " [56, 56, 4, 38, 66],\n",
       " [62, 44, 9, 19, 45],\n",
       " [88, 20, 14, 55, 45],\n",
       " [71, 52, 40, 0, 72]]"
      ]
     },
     "execution_count": 82,
     "metadata": {},
     "output_type": "execute_result"
    }
   ],
   "source": [
    "pop = toolbox.population(n=100)\n",
    "pop[:10] # only print the first few"
   ]
  },
  {
   "cell_type": "markdown",
   "metadata": {},
   "source": [
    "### The Appeal of Evolution"
   ]
  },
  {
   "cell_type": "code",
   "execution_count": 83,
   "metadata": {
    "collapsed": true
   },
   "outputs": [],
   "source": [
    "# Use of a HallOfFame in order to keep track of the best individual to appear in the evolution \n",
    "# (it keeps it even in the case it extinguishes)\n",
    "hof = tools.HallOfFame(1)"
   ]
  },
  {
   "cell_type": "code",
   "execution_count": 84,
   "metadata": {
    "collapsed": true
   },
   "outputs": [],
   "source": [
    "stats = tools.Statistics(lambda ind: ind.fitness.values)\n",
    "stats.register(\"avg\", np.mean)\n",
    "stats.register(\"std\", np.std)\n",
    "stats.register(\"min\", np.min)\n",
    "stats.register(\"max\", np.max)"
   ]
  },
  {
   "cell_type": "code",
   "execution_count": 90,
   "metadata": {
    "collapsed": false
   },
   "outputs": [
    {
     "name": "stdout",
     "output_type": "stream",
     "text": [
      "gen\tnevals\tavg \tstd    \tmin\tmax\n",
      "0  \t0     \t9.98\t27.1116\t0  \t155\n",
      "1  \t66    \t8.72\t23.2379\t0  \t119\n",
      "2  \t65    \t10.96\t24.835 \t0  \t125\n",
      "3  \t64    \t6.69 \t22.9158\t0  \t157\n",
      "4  \t68    \t4.54 \t14.6516\t0  \t83 \n",
      "5  \t61    \t7.07 \t19.1014\t0  \t84 \n",
      "6  \t59    \t7.22 \t21.706 \t0  \t108\n",
      "7  \t63    \t5.12 \t16.2649\t0  \t79 \n",
      "8  \t59    \t5.21 \t18.449 \t0  \t107\n",
      "9  \t62    \t4.2  \t15.8865\t0  \t108\n",
      "10 \t57    \t4.51 \t13.8978\t0  \t82 \n",
      "11 \t58    \t2.7  \t9.81071\t0  \t65 \n",
      "12 \t64    \t6.71 \t21.3646\t0  \t127\n",
      "13 \t61    \t3.75 \t12.2584\t0  \t66 \n",
      "14 \t60    \t9.8  \t27.5024\t0  \t184\n",
      "15 \t51    \t5.56 \t18.4766\t0  \t105\n",
      "16 \t63    \t7.61 \t22.0031\t0  \t119\n",
      "17 \t52    \t8.14 \t24.1764\t0  \t156\n",
      "18 \t55    \t7.1  \t27.0498\t0  \t174\n",
      "19 \t54    \t5.39 \t20.2711\t0  \t137\n",
      "20 \t41    \t7.46 \t23.0423\t0  \t136\n",
      "21 \t69    \t8.84 \t26.8651\t0  \t143\n",
      "22 \t60    \t3.63 \t12.9658\t0  \t73 \n",
      "23 \t63    \t4.23 \t13.9985\t0  \t78 \n",
      "24 \t57    \t6.46 \t22.381 \t0  \t149\n",
      "25 \t47    \t4.17 \t14.3137\t0  \t79 \n",
      "26 \t60    \t8.13 \t25.5067\t0  \t125\n",
      "27 \t62    \t4.01 \t14.0964\t0  \t76 \n",
      "28 \t54    \t4.26 \t14.0197\t0  \t74 \n",
      "29 \t65    \t5.6  \t17.7578\t0  \t112\n",
      "30 \t62    \t8.36 \t20.4105\t0  \t88 \n",
      "31 \t65    \t11.39\t28.2588\t0  \t133\n",
      "32 \t57    \t3.9  \t14.575 \t0  \t76 \n",
      "33 \t56    \t6.1  \t22.8405\t0  \t131\n",
      "34 \t60    \t6.19 \t24.7082\t0  \t157\n",
      "35 \t59    \t7.33 \t21.5908\t0  \t142\n",
      "36 \t61    \t4.49 \t20.2349\t0  \t161\n",
      "37 \t63    \t4.68 \t16.1554\t0  \t113\n",
      "38 \t56    \t5.66 \t18.1026\t0  \t118\n",
      "39 \t72    \t7.03 \t22.6479\t0  \t167\n",
      "40 \t70    \t9.78 \t27.7318\t0  \t188\n",
      "gen\tnevals\tavg  \tstd    \tmin\tmax\n",
      "0  \t0     \t9.98 \t27.1116\t0  \t155\n",
      "1  \t66    \t8.72 \t23.2379\t0  \t119\n",
      "2  \t65    \t10.96\t24.835 \t0  \t125\n",
      "3  \t64    \t6.69 \t22.9158\t0  \t157\n",
      "4  \t68    \t4.54 \t14.6516\t0  \t83 \n",
      "5  \t61    \t7.07 \t19.1014\t0  \t84 \n",
      "6  \t59    \t7.22 \t21.706 \t0  \t108\n",
      "7  \t63    \t5.12 \t16.2649\t0  \t79 \n",
      "8  \t59    \t5.21 \t18.449 \t0  \t107\n",
      "9  \t62    \t4.2  \t15.8865\t0  \t108\n",
      "10 \t57    \t4.51 \t13.8978\t0  \t82 \n",
      "11 \t58    \t2.7  \t9.81071\t0  \t65 \n",
      "12 \t64    \t6.71 \t21.3646\t0  \t127\n",
      "13 \t61    \t3.75 \t12.2584\t0  \t66 \n",
      "14 \t60    \t9.8  \t27.5024\t0  \t184\n",
      "15 \t51    \t5.56 \t18.4766\t0  \t105\n",
      "16 \t63    \t7.61 \t22.0031\t0  \t119\n",
      "17 \t52    \t8.14 \t24.1764\t0  \t156\n",
      "18 \t55    \t7.1  \t27.0498\t0  \t174\n",
      "19 \t54    \t5.39 \t20.2711\t0  \t137\n",
      "20 \t41    \t7.46 \t23.0423\t0  \t136\n",
      "21 \t69    \t8.84 \t26.8651\t0  \t143\n",
      "22 \t60    \t3.63 \t12.9658\t0  \t73 \n",
      "23 \t63    \t4.23 \t13.9985\t0  \t78 \n",
      "24 \t57    \t6.46 \t22.381 \t0  \t149\n",
      "25 \t47    \t4.17 \t14.3137\t0  \t79 \n",
      "26 \t60    \t8.13 \t25.5067\t0  \t125\n",
      "27 \t62    \t4.01 \t14.0964\t0  \t76 \n",
      "28 \t54    \t4.26 \t14.0197\t0  \t74 \n",
      "29 \t65    \t5.6  \t17.7578\t0  \t112\n",
      "30 \t62    \t8.36 \t20.4105\t0  \t88 \n",
      "31 \t65    \t11.39\t28.2588\t0  \t133\n",
      "32 \t57    \t3.9  \t14.575 \t0  \t76 \n",
      "33 \t56    \t6.1  \t22.8405\t0  \t131\n",
      "34 \t60    \t6.19 \t24.7082\t0  \t157\n",
      "35 \t59    \t7.33 \t21.5908\t0  \t142\n",
      "36 \t61    \t4.49 \t20.2349\t0  \t161\n",
      "37 \t63    \t4.68 \t16.1554\t0  \t113\n",
      "38 \t56    \t5.66 \t18.1026\t0  \t118\n",
      "39 \t72    \t7.03 \t22.6479\t0  \t167\n",
      "40 \t70    \t9.78 \t27.7318\t0  \t188\n",
      "[[24, 30, 17, 18, 11], [24, 30, 17, 18, 11], [24, 30, 17, 18, 11], [24, 30, 75, 18, 11], [24, 30, 17, 18, 11], [24, 30, 17, 18, 11], [24, 30, 17, 18, 11], [24, 30, 17, 18, 11], [24, 30, 17, 18, 11], [24, 30, 17, 18, 11], [24, 30, 17, 18, 11], [24, 74, 17, 18, 11], [24, 30, 17, 18, 11], [28, 30, 17, 18, 81], [24, 30, 17, 18, 11], [24, 30, 17, 18, 11], [24, 30, 17, 18, 11], [24, 30, 17, 18, 11], [24, 30, 17, 18, 11], [24, 30, 17, 18, 11], [24, 30, 17, 18, 11], [24, 30, 17, 18, 11], [24, 33, 17, 18, 11], [24, 30, 17, 18, 11], [24, 30, 17, 18, 11], [24, 30, 17, 18, 11], [24, 30, 17, 18, 11], [24, 30, 17, 18, 11], [24, 30, 17, 18, 11], [24, 30, 17, 18, 11], [24, 30, 17, 18, 11], [24, 30, 17, 18, 11], [24, 30, 17, 18, 11], [24, 30, 17, 18, 11], [24, 30, 17, 18, 11], [24, 30, 17, 18, 11], [24, 30, 17, 18, 11], [24, 30, 17, 18, 11], [24, 57, 17, 22, 79], [24, 30, 17, 18, 11], [24, 30, 17, 18, 11], [24, 30, 17, 18, 11], [24, 30, 17, 18, 11], [24, 30, 17, 18, 11], [24, 30, 17, 18, 11], [24, 30, 33, 18, 11], [24, 30, 17, 18, 11], [24, 30, 17, 18, 11], [24, 30, 17, 18, 72], [24, 30, 17, 18, 11], [24, 30, 17, 18, 11], [24, 30, 17, 18, 11], [24, 30, 17, 18, 11], [38, 30, 17, 21, 11], [24, 30, 17, 18, 11], [24, 30, 17, 18, 11], [24, 30, 17, 18, 11], [24, 30, 17, 18, 11], [24, 30, 17, 18, 11], [24, 30, 17, 18, 11], [24, 30, 17, 18, 19], [24, 30, 17, 18, 11], [24, 30, 17, 18, 61], [24, 30, 17, 18, 11], [24, 30, 17, 18, 11], [24, 30, 17, 18, 11], [24, 30, 17, 18, 11], [24, 30, 17, 18, 11], [24, 30, 17, 18, 11], [24, 30, 17, 18, 11], [24, 30, 17, 18, 11], [24, 30, 17, 18, 11], [24, 30, 17, 18, 11], [24, 32, 17, 18, 11], [40, 30, 17, 18, 28], [24, 30, 17, 18, 11], [24, 30, 17, 18, 11], [24, 30, 17, 18, 11], [24, 30, 17, 18, 92], [24, 30, 17, 18, 11], [24, 30, 57, 18, 11], [24, 30, 67, 18, 11], [24, 30, 17, 18, 11], [24, 30, 17, 18, 11], [24, 30, 17, 18, 11], [24, 30, 17, 18, 95], [24, 30, 67, 91, 76], [24, 30, 17, 18, 11], [24, 30, 17, 18, 11], [24, 30, 17, 18, 11], [24, 20, 97, 18, 11], [24, 30, 17, 18, 11], [24, 30, 17, 18, 11], [24, 30, 17, 18, 11], [24, 30, 17, 18, 11], [24, 30, 17, 18, 11], [24, 30, 17, 18, 11], [24, 30, 17, 18, 11], [24, 30, 17, 18, 11], [24, 30, 17, 18, 11]]\n"
     ]
    }
   ],
   "source": [
    "# algorithms : contains useful implements some basic GA\n",
    "pop, log = algorithms.eaSimple(pop, toolbox, cxpb=0.5, mutpb=0.2, ngen=40, stats=stats, halloffame=hof, verbose=True)\n",
    "print(log)\n",
    "print(pop)"
   ]
  },
  {
   "cell_type": "code",
   "execution_count": 93,
   "metadata": {
    "collapsed": false,
    "scrolled": true
   },
   "outputs": [
    {
     "data": {
      "text/plain": [
       "[100, 100, 100, 158, 100, 100, 100, 100, 100, 100]"
      ]
     },
     "execution_count": 93,
     "metadata": {},
     "output_type": "execute_result"
    }
   ],
   "source": [
    "[sum(ind) for ind in pop[:10]] # first ten"
   ]
  },
  {
   "cell_type": "code",
   "execution_count": 94,
   "metadata": {
    "collapsed": false,
    "scrolled": true
   },
   "outputs": [
    {
     "data": {
      "text/plain": [
       "[[24, 30, 17, 18, 11],\n",
       " [24, 30, 17, 18, 11],\n",
       " [24, 30, 17, 18, 11],\n",
       " [24, 30, 17, 18, 11],\n",
       " [24, 30, 17, 18, 11]]"
      ]
     },
     "execution_count": 94,
     "metadata": {},
     "output_type": "execute_result"
    }
   ],
   "source": [
    "tools.selBest(pop, k=5)"
   ]
  },
  {
   "cell_type": "markdown",
   "metadata": {},
   "source": [
    "<hr style=\"border-color:#ff9900\"> \n",
    "\n",
    "## Practice 2 : Travelling salesman\n",
    "\n",
    "Find the Best Tour Route using NSGA-ii\n",
    "\n",
    "<hr style=\"border-color:#ff9900\"> \n"
   ]
  },
  {
   "cell_type": "markdown",
   "metadata": {},
   "source": [
    "# Preparing Data for GA"
   ]
  },
  {
   "cell_type": "markdown",
   "metadata": {},
   "source": [
    "- Data from [Seoul data portal](http://data.seoul.go.kr/openinf/sheetview.jsp?infId=OA-12929&tMenu=11)"
   ]
  },
  {
   "cell_type": "markdown",
   "metadata": {},
   "source": [
    "## Load Data"
   ]
  },
  {
   "cell_type": "code",
   "execution_count": 10,
   "metadata": {
    "collapsed": true
   },
   "outputs": [],
   "source": [
    "import pandas as pd\n",
    "import numpy as np\n",
    "\n",
    "from math import radians, cos, sin, asin, sqrt \n",
    "\n",
    "# Geo data viz\n",
    "#https://python-visualization.github.io/folium/quickstart.html#Getting-Started\n",
    "import folium"
   ]
  },
  {
   "cell_type": "markdown",
   "metadata": {},
   "source": [
    "Read the list of sites"
   ]
  },
  {
   "cell_type": "code",
   "execution_count": 11,
   "metadata": {
    "collapsed": false
   },
   "outputs": [
    {
     "data": {
      "text/html": [
       "<div>\n",
       "<style scoped>\n",
       "    .dataframe tbody tr th:only-of-type {\n",
       "        vertical-align: middle;\n",
       "    }\n",
       "\n",
       "    .dataframe tbody tr th {\n",
       "        vertical-align: top;\n",
       "    }\n",
       "\n",
       "    .dataframe thead th {\n",
       "        text-align: right;\n",
       "    }\n",
       "</style>\n",
       "<table border=\"1\" class=\"dataframe\">\n",
       "  <thead>\n",
       "    <tr style=\"text-align: right;\">\n",
       "      <th></th>\n",
       "      <th>street_en</th>\n",
       "      <th>dong_en</th>\n",
       "      <th>lng</th>\n",
       "      <th>lat</th>\n",
       "      <th>score</th>\n",
       "    </tr>\n",
       "  </thead>\n",
       "  <tbody>\n",
       "    <tr>\n",
       "      <th>0</th>\n",
       "      <td>fishing-tackle street</td>\n",
       "      <td>Hoehyeon-dong</td>\n",
       "      <td>126.977432</td>\n",
       "      <td>37.558050</td>\n",
       "      <td>80</td>\n",
       "    </tr>\n",
       "    <tr>\n",
       "      <th>1</th>\n",
       "      <td>Wangsimni Gopchang Alley</td>\n",
       "      <td>Hwanghak-dong</td>\n",
       "      <td>127.020434</td>\n",
       "      <td>37.568610</td>\n",
       "      <td>68</td>\n",
       "    </tr>\n",
       "    <tr>\n",
       "      <th>2</th>\n",
       "      <td>The north side of Ring-Road</td>\n",
       "      <td>Gwanghui-dong</td>\n",
       "      <td>126.995925</td>\n",
       "      <td>37.561350</td>\n",
       "      <td>55</td>\n",
       "    </tr>\n",
       "    <tr>\n",
       "      <th>3</th>\n",
       "      <td>Jangchungdan-gil</td>\n",
       "      <td>Pil-dong</td>\n",
       "      <td>127.000575</td>\n",
       "      <td>37.561386</td>\n",
       "      <td>87</td>\n",
       "    </tr>\n",
       "    <tr>\n",
       "      <th>4</th>\n",
       "      <td>Chodong-gil</td>\n",
       "      <td>Euljiro-dong</td>\n",
       "      <td>126.997646</td>\n",
       "      <td>37.566410</td>\n",
       "      <td>4</td>\n",
       "    </tr>\n",
       "  </tbody>\n",
       "</table>\n",
       "</div>"
      ],
      "text/plain": [
       "                     street_en        dong_en         lng        lat  score\n",
       "0        fishing-tackle street  Hoehyeon-dong  126.977432  37.558050     80\n",
       "1     Wangsimni Gopchang Alley  Hwanghak-dong  127.020434  37.568610     68\n",
       "2  The north side of Ring-Road  Gwanghui-dong  126.995925  37.561350     55\n",
       "3             Jangchungdan-gil       Pil-dong  127.000575  37.561386     87\n",
       "4                  Chodong-gil   Euljiro-dong  126.997646  37.566410      4"
      ]
     },
     "execution_count": 11,
     "metadata": {},
     "output_type": "execute_result"
    }
   ],
   "source": [
    "df_spot = pd.read_csv(\"data/seoul_street.csv\")\n",
    "df_spot = df_spot.drop(['street_ko','address','dong_ko'],axis=1)\n",
    "df_spot.head()"
   ]
  },
  {
   "cell_type": "markdown",
   "metadata": {},
   "source": [
    "## Visualise the Data"
   ]
  },
  {
   "cell_type": "code",
   "execution_count": 12,
   "metadata": {
    "collapsed": false
   },
   "outputs": [
    {
     "data": {
      "text/html": [
       "<div style=\"width:100%;\"><div style=\"position:relative;width:100%;height:0;padding-bottom:60%;\"><iframe src=\"data:text/html;charset=utf-8;base64,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\" style=\"position:absolute;width:100%;height:100%;left:0;top:0;border:none !important;\" allowfullscreen webkitallowfullscreen mozallowfullscreen></iframe></div></div>"
      ],
      "text/plain": [
       "<folium.folium.Map at 0x96c56d8>"
      ]
     },
     "execution_count": 12,
     "metadata": {},
     "output_type": "execute_result"
    }
   ],
   "source": [
    "# show the map\n",
    "m = folium.Map(location=[np.mean(df_spot.lat), np.mean(df_spot.lng)], zoom_start=11, tiles='Stamen Toner')\n",
    "# and the sites to visit\n",
    "for index, row in df_spot.iterrows():\n",
    "    popup_txt = \"%s // Score : %s \" % (row.street_en, row.score)\n",
    "    folium.Marker([row.lat, row.lng], popup=popup_txt).add_to(m)\n",
    "m"
   ]
  },
  {
   "cell_type": "markdown",
   "metadata": {},
   "source": [
    "# Applying Genetic Algorithm"
   ]
  },
  {
   "cell_type": "markdown",
   "metadata": {},
   "source": [
    "## Setting Things Up"
   ]
  },
  {
   "cell_type": "code",
   "execution_count": 13,
   "metadata": {
    "collapsed": true
   },
   "outputs": [],
   "source": [
    "import random\n",
    "import numpy as np\n",
    "from deap import algorithms, base, creator, tools\n",
    "\n",
    "numSpots = 5"
   ]
  },
  {
   "cell_type": "markdown",
   "metadata": {},
   "source": [
    "### Creator"
   ]
  },
  {
   "cell_type": "code",
   "execution_count": 14,
   "metadata": {
    "collapsed": false
   },
   "outputs": [
    {
     "name": "stderr",
     "output_type": "stream",
     "text": [
      "C:\\ProgramData\\Anaconda3\\lib\\site-packages\\deap-1.2.2-py3.7-win-amd64.egg\\deap\\creator.py:141: RuntimeWarning: A class named 'FitnessMulti' has already been created and it will be overwritten. Consider deleting previous creation of that class or rename it.\n",
      "  RuntimeWarning)\n",
      "C:\\ProgramData\\Anaconda3\\lib\\site-packages\\deap-1.2.2-py3.7-win-amd64.egg\\deap\\creator.py:141: RuntimeWarning: A class named 'Individual' has already been created and it will be overwritten. Consider deleting previous creation of that class or rename it.\n",
      "  RuntimeWarning)\n"
     ]
    }
   ],
   "source": [
    "creator.create(\"FitnessMulti\", base.Fitness, weights=(-1.0,1.0))\n",
    "creator.create(\"Individual\", list, fitness=creator.FitnessMulti)"
   ]
  },
  {
   "cell_type": "markdown",
   "metadata": {},
   "source": [
    "### Toolbox"
   ]
  },
  {
   "cell_type": "code",
   "execution_count": 15,
   "metadata": {
    "collapsed": true
   },
   "outputs": [],
   "source": [
    "toolbox = base.Toolbox()\n",
    "\n",
    "# Attribute generator \n",
    "toolbox.register(\"index\", np.random.choice, len(df_spot), numSpots, replace=False) # choose numSpots spots\n",
    "\n",
    "# Structure initializers\n",
    "toolbox.register(\"individual\", tools.initIterate, creator.Individual, toolbox.index)\n",
    "toolbox.register(\"population\", tools.initRepeat, list, toolbox.individual)"
   ]
  },
  {
   "cell_type": "code",
   "execution_count": 24,
   "metadata": {},
   "outputs": [
    {
     "name": "stdout",
     "output_type": "stream",
     "text": [
      "Demonstrate the indices, individual and population:\n",
      "Individual: []\n",
      "individual: [44, 32, 21, 26, 31]\n",
      "population: [[13, 37, 61, 64, 53], [58, 68, 39, 74, 21], [8, 23, 45, 61, 63]]\n"
     ]
    }
   ],
   "source": [
    "if doVerbose:\n",
    "    ind = toolbox.individual()\n",
    "    print('Demonstrate the indices, individual and population:')\n",
    "    print(f'Individual: {creator.Individual()}')  \n",
    "    print(f'individual: {toolbox.individual()}')  \n",
    "    print(f'population: {toolbox.population(n=3)}')  \n",
    "\n"
   ]
  },
  {
   "cell_type": "markdown",
   "metadata": {},
   "source": [
    "## Select the sites"
   ]
  },
  {
   "cell_type": "code",
   "execution_count": 110,
   "metadata": {
    "collapsed": true
   },
   "outputs": [],
   "source": [
    "def create_tour(individual):\n",
    "    return [(df_spot.iloc[i].lat, df_spot.iloc[i].lng) for i in individual]\n",
    "\n",
    "# sample individual -> just index of the data\n",
    "ind = toolbox.individual()\n",
    "\n",
    "# convert index to geo data for get distance.\n",
    "df_spot.iloc[ind]\n",
    "tour = create_tour(ind)\n"
   ]
  },
  {
   "cell_type": "markdown",
   "metadata": {},
   "source": [
    "## The Evaluation Function\n",
    "- objective function 1. __total distance -> minimun__\n",
    "- objective function 2. __total score -> maximum__"
   ]
  },
  {
   "cell_type": "code",
   "execution_count": 115,
   "metadata": {
    "collapsed": true
   },
   "outputs": [],
   "source": [
    "## Function for get a total distance of tour case\n",
    "\n",
    "def distance(spot1, spot2):\n",
    "    # convert decimal degrees to radians \n",
    "    lng1, lat1, lng2, lat2 = map(radians, [spot1[0], spot1[1], spot2[0], spot2[1]])\n",
    "    \n",
    "    RADIUS = 6371 # FAA approved globe radius in km\n",
    "    \n",
    "    dlng = lng2-lng1\n",
    "    dlat = lat2-lat1\n",
    "    a = sin(dlat/2)**2 + cos(lat1) * cos(lat2) * sin(dlng/2)**2\n",
    "    c = 2 * asin(sqrt(a)) \n",
    "    dist = RADIUS * c\n",
    "    return dist\n",
    "\n",
    "\n",
    "def total_distance(tour):\n",
    "    tour_sum = sum(distance(tour[i], tour[i+1]) for i in range(len(tour)-1))\n",
    "    return tour_sum\n",
    "\n",
    "\n",
    "def total_score(individual):\n",
    "    return sum([df_spot.iloc[i]['score'] for i in individual]) \n",
    "\n",
    "\n",
    "def eval_func(individual):\n",
    "    \n",
    "    # 1 total distance -> minimun\n",
    "    t_dist = total_distance(create_tour(individual))\n",
    "    \n",
    "    # 2 total score -> maximum\n",
    "    t_score = total_score(individual)\n",
    "    \n",
    "    # 3 penalty\n",
    "    penalty = len(individual) - len(set(individual))\n",
    "    t_dist += penalty*1000000\n",
    "    t_score -= penalty*1000000\n",
    "    \n",
    "    return t_dist, t_score"
   ]
  },
  {
   "cell_type": "code",
   "execution_count": 117,
   "metadata": {
    "collapsed": false
   },
   "outputs": [
    {
     "name": "stdout",
     "output_type": "stream",
     "text": [
      "Selected site indexes: [49, 37, 61, 4, 36]\n",
      "Selected site coordinates: [(37.5546022525, 126.95608923370001), (37.6168942335, 126.99739487219999), (37.4829408135, 126.948985568), (37.5664098491, 126.9976456492), (37.485404346799996, 127.1221039568)]\n",
      "Total distance: 39.292110678527436\n",
      "Total score: 146\n",
      "Fitness score: (39.292110678527436, 146)\n"
     ]
    }
   ],
   "source": [
    "if doVerbose:\n",
    "    print(f'Selected site indexes: {ind}')\n",
    "    print(f'Selected site coordinates: {tour}')\n",
    "    # total distance of sample individual\n",
    "    print(f'Total distance: {total_distance(tour)}')\n",
    "    print(f'Total score: {total_score(ind)}')\n",
    "    print(f'Fitness score: {eval_func(ind) }')\n",
    "\n"
   ]
  },
  {
   "cell_type": "code",
   "execution_count": 24,
   "metadata": {
    "collapsed": true
   },
   "outputs": [],
   "source": [
    "def plot_tour(ind):\n",
    "    tour = create_tour(ind)\n",
    "    m = folium.Map(location=[np.mean(df_spot.lat), np.mean(df_spot.lng)], zoom_start=13)\n",
    "    path=folium.PolyLine(locations=tour,weight=5)\n",
    "    m.add_child(path)\n",
    "    for i,loc in enumerate(ind):\n",
    "        popup_txt = \"%s // Score : %s \" % (df_spot.iloc[loc].street_en, df_spot.iloc[loc].score)\n",
    "        folium.Marker(tour[i], popup=popup_txt).add_to(m)\n",
    "    return m"
   ]
  },
  {
   "cell_type": "code",
   "execution_count": 114,
   "metadata": {
    "collapsed": false,
    "scrolled": true
   },
   "outputs": [
    {
     "data": {
      "text/html": [
       "<div style=\"width:100%;\"><div style=\"position:relative;width:100%;height:0;padding-bottom:60%;\"><iframe src=\"data:text/html;charset=utf-8;base64,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\" style=\"position:absolute;width:100%;height:100%;left:0;top:0;border:none !important;\" allowfullscreen webkitallowfullscreen mozallowfullscreen></iframe></div></div>"
      ],
      "text/plain": [
       "<folium.folium.Map at 0xa6db7b8>"
      ]
     },
     "execution_count": 114,
     "metadata": {},
     "output_type": "execute_result"
    }
   ],
   "source": [
    "# vizualize the tour initially before optimisation\n",
    "plot_tour(ind)"
   ]
  },
  {
   "cell_type": "markdown",
   "metadata": {},
   "source": [
    "## The Genetic Operators"
   ]
  },
  {
   "cell_type": "code",
   "execution_count": 32,
   "metadata": {
    "collapsed": true
   },
   "outputs": [],
   "source": [
    "toolbox.register(\"evaluate\", eval_func)"
   ]
  },
  {
   "cell_type": "code",
   "execution_count": 118,
   "metadata": {
    "collapsed": false
   },
   "outputs": [],
   "source": [
    "toolbox.register(\"select\", tools.selNSGA2)\n",
    "toolbox.register(\"mate\", tools.cxTwoPoint)\n",
    "# tools.mutShuffleIndexes : Shuffle the attributes of the input individual and return the mutant.\n",
    "toolbox.register(\"mutate\", tools.mutShuffleIndexes, indpb=0.8) "
   ]
  },
  {
   "cell_type": "markdown",
   "metadata": {},
   "source": [
    "## Evolving the Population"
   ]
  },
  {
   "cell_type": "code",
   "execution_count": 119,
   "metadata": {
    "collapsed": true
   },
   "outputs": [],
   "source": [
    "POP_SIZE = 100\n",
    "MAX_GEN = 100\n",
    "MUT_PROB = 0.2\n",
    "CX_PROB = 0.8"
   ]
  },
  {
   "cell_type": "markdown",
   "metadata": {},
   "source": [
    "### Creating the Population"
   ]
  },
  {
   "cell_type": "code",
   "execution_count": 47,
   "metadata": {
    "collapsed": false,
    "scrolled": true
   },
   "outputs": [],
   "source": [
    "pop = toolbox.population(n=POP_SIZE)\n",
    "#pop"
   ]
  },
  {
   "cell_type": "markdown",
   "metadata": {},
   "source": [
    "### The Appeal of Evolution"
   ]
  },
  {
   "cell_type": "code",
   "execution_count": 36,
   "metadata": {
    "collapsed": true
   },
   "outputs": [],
   "source": [
    "stats = tools.Statistics(lambda ind: ind.fitness.values)\n",
    "stats.register(\"avg\", np.mean, axis=0) \n",
    "stats.register(\"min\", np.min, axis=0)\n",
    "stats.register(\"max\", np.max, axis=0)"
   ]
  },
  {
   "cell_type": "code",
   "execution_count": 48,
   "metadata": {
    "collapsed": false,
    "scrolled": true
   },
   "outputs": [
    {
     "name": "stdout",
     "output_type": "stream",
     "text": [
      "gen\tnevals\tavg                        \tmin                      \tmax                        \n",
      "0  \t100   \t[ 42.43600958 223.68      ]\t[14.42942205 53.        ]\t[ 91.39867802 415.        ]\n",
      "1  \t100   \t[ 33.83748273 260.8       ]\t[12.97347948 53.        ]\t[ 82.38931156 415.        ]\n",
      "2  \t100   \t[ 29.37150932 291.73      ]\t[ 6.43936981 65.        ]\t[ 82.38931156 425.        ]\n",
      "3  \t100   \t[ 25.96592586 321.57      ]\t[ 6.43936981 65.        ]\t[ 66.73234909 425.        ]\n",
      "4  \t100   \t[ 24.17234973 342.86      ]\t[  6.43936981 181.        ]\t[ 65.75527953 441.        ]\n",
      "5  \t100   \t[ 18.69964312 347.32      ]\t[  6.43936981 186.        ]\t[ 42.95289312 447.        ]\n",
      "6  \t100   \t[ 16.42008031 364.87      ]\t[  6.27041882 186.        ]\t[ 42.95289312 468.        ]\n",
      "7  \t100   \t[ 15.22321792 383.34      ]\t[  6.1398439 238.       ]  \t[ 34.69632753 468.        ]\n",
      "8  \t100   \t[ 13.7453799 396.77     ]  \t[  4.64643646 238.        ]\t[ 32.17913321 483.        ]\n",
      "9  \t100   \t[ 12.52667662 409.11      ]\t[  4.64643646 282.        ]\t[ 27.94529149 483.        ]\n",
      "10 \t100   \t[ 11.56150312 413.37      ]\t[  4.53526145 254.        ]\t[ 26.22503242 483.        ]\n",
      "11 \t100   \t[ 10.22137053 416.39      ]\t[  4.53526145 254.        ]\t[ 26.22503242 483.        ]\n",
      "12 \t100   \t[  9.74749329 420.5       ]\t[  3.85372499 254.        ]\t[ 26.22503242 484.        ]\n",
      "13 \t100   \t[  9.55454767 429.02      ]\t[  3.36840515 263.        ]\t[ 26.22503242 490.        ]\n",
      "14 \t100   \t[  9.21639709 434.37      ]\t[  3.36840515 263.        ]\t[ 26.22503242 492.        ]\n",
      "15 \t100   \t[  8.93055643 439.59      ]\t[  3.36840515 263.        ]\t[ 18.76833798 492.        ]\n",
      "16 \t100   \t[  7.91425842 435.05      ]\t[  3.36840515 263.        ]\t[ 17.60774061 492.        ]\n",
      "17 \t100   \t[  6.98672459 433.19      ]\t[  3.36840515 263.        ]\t[ 16.53979452 492.        ]\n",
      "18 \t100   \t[  6.90932215 431.9       ]\t[  3.36840515 263.        ]\t[ 16.53979452 492.        ]\n",
      "19 \t100   \t[  6.57904684 437.15      ]\t[  3.36840515 263.        ]\t[ 16.53979452 492.        ]\n",
      "20 \t100   \t[  6.27954348 433.75      ]\t[  3.17404382 263.        ]\t[ 16.53979452 492.        ]\n",
      "21 \t100   \t[  6.02532608 432.6       ]\t[  3.17404382 263.        ]\t[ 16.53979452 492.        ]\n",
      "22 \t100   \t[  6.17938912 440.69      ]\t[  3.17404382 263.        ]\t[ 12.01680161 492.        ]\n",
      "23 \t100   \t[  5.54830483 436.48      ]\t[  3.17404382 263.        ]\t[ 12.01680161 492.        ]\n",
      "24 \t100   \t[  5.28080544 438.26      ]\t[  3.17404382 353.        ]\t[ 11.80601635 492.        ]\n",
      "25 \t100   \t[  5.05112689 435.72      ]\t[  2.86740669 353.        ]\t[  9.88503718 492.        ]\n",
      "26 \t100   \t[  5.13271793 439.2       ]\t[  2.86740669 353.        ]\t[  9.84342963 492.        ]\n",
      "27 \t100   \t[  5.17140653 447.63      ]\t[  2.86740669 353.        ]\t[  9.84342963 492.        ]\n",
      "28 \t100   \t[  4.87399869 443.48      ]\t[  2.86740669 353.        ]\t[  9.84133899 492.        ]\n",
      "29 \t100   \t[  5.13864788 450.2       ]\t[  2.86740669 353.        ]\t[  9.84133899 492.        ]\n",
      "30 \t100   \t[  5.28070892 457.41      ]\t[  2.83392694 370.        ]\t[  9.84133899 492.        ]\n",
      "31 \t100   \t[  5.24738649 455.        ]\t[  2.83392694 370.        ]\t[  9.84133899 492.        ]\n",
      "32 \t100   \t[  5.33486738 455.63      ]\t[  2.83392694 370.        ]\t[  9.84133899 492.        ]\n",
      "33 \t100   \t[  4.86296847 451.75      ]\t[  2.83392694 370.        ]\t[  9.83426639 492.        ]\n",
      "34 \t100   \t[  4.88484257 452.84      ]\t[  2.83392694 370.        ]\t[  9.83426639 492.        ]\n",
      "35 \t100   \t[  4.85933361 454.81      ]\t[  2.83392694 409.        ]\t[  9.7929771 492.       ]  \n",
      "36 \t100   \t[  4.63459759 452.41      ]\t[  2.83392694 409.        ]\t[  9.7929771 492.       ]  \n",
      "37 \t100   \t[  4.46671759 446.38      ]\t[  2.83392694 409.        ]\t[  9.7929771 492.       ]  \n",
      "38 \t100   \t[  4.03883741 438.62      ]\t[  2.83392694 409.        ]\t[  8.87497771 492.        ]\n",
      "39 \t100   \t[  3.87519521 433.74      ]\t[  2.83392694 409.        ]\t[  8.87497771 492.        ]\n",
      "40 \t100   \t[  3.87568023 434.53      ]\t[  2.83392694 409.        ]\t[  8.87497771 492.        ]\n",
      "41 \t100   \t[  3.99904355 440.58      ]\t[  2.83392694 409.        ]\t[  8.87497771 492.        ]\n",
      "42 \t100   \t[  4.04857165 443.3       ]\t[  2.83392694 409.        ]\t[  8.87497771 492.        ]\n",
      "43 \t100   \t[  4.06516099 445.84      ]\t[  2.83392694 409.        ]\t[  8.87497771 492.        ]\n",
      "44 \t100   \t[  4.00362167 448.43      ]\t[  2.83392694 409.        ]\t[  8.78977718 492.        ]\n",
      "45 \t100   \t[  3.54957036 435.95      ]\t[  2.83392694 409.        ]\t[  8.72542329 492.        ]\n",
      "46 \t100   \t[  3.17061118 421.17      ]\t[  2.83392694 409.        ]\t[  8.72542329 492.        ]\n",
      "47 \t100   \t[  3.10057531 416.37      ]\t[  2.83392694 409.        ]\t[  8.72542329 492.        ]\n",
      "48 \t100   \t[  3.10057531 416.37      ]\t[  2.83392694 409.        ]\t[  8.72542329 492.        ]\n",
      "49 \t100   \t[  3.10057531 416.37      ]\t[  2.83392694 409.        ]\t[  8.72542329 492.        ]\n",
      "50 \t100   \t[  3.10057531 416.37      ]\t[  2.83392694 409.        ]\t[  8.72542329 492.        ]\n",
      "51 \t100   \t[  3.10057531 416.37      ]\t[  2.83392694 409.        ]\t[  8.72542329 492.        ]\n",
      "52 \t100   \t[  3.10057531 416.37      ]\t[  2.83392694 409.        ]\t[  8.72542329 492.        ]\n",
      "53 \t100   \t[  3.10057531 416.37      ]\t[  2.83392694 409.        ]\t[  8.72542329 492.        ]\n",
      "54 \t100   \t[  3.10057531 416.37      ]\t[  2.83392694 409.        ]\t[  8.72542329 492.        ]\n",
      "55 \t100   \t[  3.10057531 416.37      ]\t[  2.83392694 409.        ]\t[  8.72542329 492.        ]\n",
      "56 \t100   \t[  3.10057531 416.37      ]\t[  2.83392694 409.        ]\t[  8.72542329 492.        ]\n",
      "57 \t100   \t[  3.10057531 416.37      ]\t[  2.83392694 409.        ]\t[  8.72542329 492.        ]\n",
      "58 \t100   \t[  3.10057531 416.37      ]\t[  2.83392694 409.        ]\t[  8.72542329 492.        ]\n",
      "59 \t100   \t[  3.10057531 416.37      ]\t[  2.83392694 409.        ]\t[  8.72542329 492.        ]\n",
      "60 \t100   \t[  3.10057531 416.37      ]\t[  2.83392694 409.        ]\t[  8.72542329 492.        ]\n",
      "61 \t100   \t[  3.10057531 416.37      ]\t[  2.83392694 409.        ]\t[  8.72542329 492.        ]\n",
      "62 \t100   \t[  3.10057531 416.37      ]\t[  2.83392694 409.        ]\t[  8.72542329 492.        ]\n",
      "63 \t100   \t[  3.10057531 416.37      ]\t[  2.83392694 409.        ]\t[  8.72542329 492.        ]\n",
      "64 \t100   \t[  3.10057531 416.37      ]\t[  2.83392694 409.        ]\t[  8.72542329 492.        ]\n",
      "65 \t100   \t[  3.10057531 416.37      ]\t[  2.83392694 409.        ]\t[  8.72542329 492.        ]\n",
      "66 \t100   \t[  3.10057531 416.37      ]\t[  2.83392694 409.        ]\t[  8.72542329 492.        ]\n",
      "67 \t100   \t[  3.10057531 416.37      ]\t[  2.83392694 409.        ]\t[  8.72542329 492.        ]\n",
      "68 \t100   \t[  3.10057531 416.37      ]\t[  2.83392694 409.        ]\t[  8.72542329 492.        ]\n",
      "69 \t100   \t[  3.10057531 416.37      ]\t[  2.83392694 409.        ]\t[  8.72542329 492.        ]\n",
      "70 \t100   \t[  3.10057531 416.37      ]\t[  2.83392694 409.        ]\t[  8.72542329 492.        ]\n",
      "71 \t100   \t[  3.10057531 416.37      ]\t[  2.83392694 409.        ]\t[  8.72542329 492.        ]\n",
      "72 \t100   \t[  3.10057531 416.37      ]\t[  2.83392694 409.        ]\t[  8.72542329 492.        ]\n",
      "73 \t100   \t[  3.10057531 416.37      ]\t[  2.83392694 409.        ]\t[  8.72542329 492.        ]\n",
      "74 \t100   \t[  3.10057531 416.37      ]\t[  2.83392694 409.        ]\t[  8.72542329 492.        ]\n",
      "75 \t100   \t[  3.10057531 416.37      ]\t[  2.83392694 409.        ]\t[  8.72542329 492.        ]\n",
      "76 \t100   \t[  3.10057531 416.37      ]\t[  2.83392694 409.        ]\t[  8.72542329 492.        ]\n",
      "77 \t100   \t[  3.10057531 416.37      ]\t[  2.83392694 409.        ]\t[  8.72542329 492.        ]\n",
      "78 \t100   \t[  3.10057531 416.37      ]\t[  2.83392694 409.        ]\t[  8.72542329 492.        ]\n",
      "79 \t100   \t[  3.10057531 416.37      ]\t[  2.83392694 409.        ]\t[  8.72542329 492.        ]\n",
      "80 \t100   \t[  3.10057531 416.37      ]\t[  2.83392694 409.        ]\t[  8.72542329 492.        ]\n",
      "81 \t100   \t[  3.10057531 416.37      ]\t[  2.83392694 409.        ]\t[  8.72542329 492.        ]\n",
      "82 \t100   \t[  3.10057531 416.37      ]\t[  2.83392694 409.        ]\t[  8.72542329 492.        ]\n",
      "83 \t100   \t[  3.10057531 416.37      ]\t[  2.83392694 409.        ]\t[  8.72542329 492.        ]\n",
      "84 \t100   \t[  3.10057531 416.37      ]\t[  2.83392694 409.        ]\t[  8.72542329 492.        ]\n",
      "85 \t100   \t[  3.10057531 416.37      ]\t[  2.83392694 409.        ]\t[  8.72542329 492.        ]\n",
      "86 \t100   \t[  3.11003464 417.        ]\t[  2.83392694 409.        ]\t[  8.72542329 492.        ]\n",
      "87 \t100   \t[  3.11003464 417.        ]\t[  2.83392694 409.        ]\t[  8.72542329 492.        ]\n",
      "88 \t100   \t[  3.11003464 417.        ]\t[  2.83392694 409.        ]\t[  8.72542329 492.        ]\n",
      "89 \t100   \t[  3.11003464 417.        ]\t[  2.83392694 409.        ]\t[  8.72542329 492.        ]\n",
      "90 \t100   \t[  3.11003464 417.        ]\t[  2.83392694 409.        ]\t[  8.72542329 492.        ]\n",
      "91 \t100   \t[  3.11003464 417.        ]\t[  2.83392694 409.        ]\t[  8.72542329 492.        ]\n",
      "92 \t100   \t[  3.11003464 417.        ]\t[  2.83392694 409.        ]\t[  8.72542329 492.        ]\n",
      "93 \t100   \t[  3.11003464 417.        ]\t[  2.83392694 409.        ]\t[  8.72542329 492.        ]\n",
      "94 \t100   \t[  3.11003464 417.        ]\t[  2.83392694 409.        ]\t[  8.72542329 492.        ]\n",
      "95 \t100   \t[  3.11003464 417.        ]\t[  2.83392694 409.        ]\t[  8.72542329 492.        ]\n",
      "96 \t100   \t[  3.11003464 417.        ]\t[  2.83392694 409.        ]\t[  8.72542329 492.        ]\n",
      "97 \t100   \t[  3.11003464 417.        ]\t[  2.83392694 409.        ]\t[  8.72542329 492.        ]\n",
      "98 \t100   \t[  3.11003464 417.        ]\t[  2.83392694 409.        ]\t[  8.72542329 492.        ]\n",
      "99 \t100   \t[  3.11003464 417.        ]\t[  2.83392694 409.        ]\t[  8.72542329 492.        ]\n",
      "100\t100   \t[  3.11003464 417.        ]\t[  2.83392694 409.        ]\t[  8.72542329 492.        ]\n",
      "Wall time: 22.1 s\n"
     ]
    }
   ],
   "source": [
    "%%time \n",
    "result, log = algorithms.eaMuPlusLambda(pop, \n",
    "                                     toolbox, \n",
    "                                     mu=POP_SIZE, # The number of individuals to select for the next generation.\n",
    "                                     lambda_= POP_SIZE, # The number of children to produce at each generation.\n",
    "                                     cxpb= CX_PROB,\n",
    "                                     mutpb= MUT_PROB, \n",
    "                                     stats= stats, \n",
    "                                     ngen= MAX_GEN,\n",
    "                                     verbose= True)"
   ]
  },
  {
   "cell_type": "markdown",
   "metadata": {},
   "source": [
    "## Make a decision"
   ]
  },
  {
   "cell_type": "code",
   "execution_count": 49,
   "metadata": {
    "collapsed": false,
    "scrolled": true
   },
   "outputs": [
    {
     "data": {
      "text/plain": [
       "[[[7, 6, 0, 25, 26],\n",
       "  [7, 6, 0, 25, 26],\n",
       "  [7, 6, 0, 25, 26],\n",
       "  [7, 6, 0, 25, 26],\n",
       "  [7, 6, 0, 25, 26],\n",
       "  [7, 6, 0, 25, 26],\n",
       "  [7, 6, 0, 25, 26],\n",
       "  [7, 6, 0, 25, 26],\n",
       "  [7, 6, 0, 25, 26],\n",
       "  [7, 6, 0, 25, 26],\n",
       "  [7, 6, 0, 25, 26],\n",
       "  [7, 6, 0, 25, 26],\n",
       "  [7, 6, 0, 25, 26],\n",
       "  [7, 6, 0, 25, 26],\n",
       "  [7, 6, 0, 25, 26],\n",
       "  [7, 6, 0, 25, 26],\n",
       "  [7, 6, 0, 25, 26],\n",
       "  [7, 6, 0, 25, 26],\n",
       "  [7, 6, 0, 25, 26],\n",
       "  [7, 6, 0, 25, 26],\n",
       "  [7, 6, 0, 25, 26],\n",
       "  [7, 6, 0, 25, 26],\n",
       "  [7, 6, 0, 25, 26],\n",
       "  [7, 6, 0, 25, 26],\n",
       "  [7, 6, 0, 25, 26],\n",
       "  [7, 6, 0, 25, 26],\n",
       "  [7, 6, 0, 25, 26],\n",
       "  [7, 6, 0, 25, 26],\n",
       "  [7, 6, 0, 25, 26],\n",
       "  [7, 6, 0, 25, 26],\n",
       "  [7, 6, 0, 25, 26],\n",
       "  [7, 6, 0, 25, 26],\n",
       "  [7, 6, 0, 25, 26],\n",
       "  [7, 6, 0, 25, 26],\n",
       "  [7, 6, 0, 25, 26],\n",
       "  [7, 6, 0, 25, 26],\n",
       "  [7, 6, 0, 25, 26],\n",
       "  [7, 6, 0, 25, 26],\n",
       "  [7, 6, 0, 25, 26],\n",
       "  [7, 6, 0, 25, 26],\n",
       "  [7, 6, 0, 25, 26],\n",
       "  [7, 6, 0, 25, 26],\n",
       "  [7, 6, 0, 25, 26],\n",
       "  [7, 6, 0, 25, 26],\n",
       "  [7, 6, 0, 25, 26],\n",
       "  [7, 6, 0, 25, 26],\n",
       "  [7, 6, 0, 25, 26],\n",
       "  [7, 6, 0, 25, 26],\n",
       "  [7, 6, 0, 25, 26],\n",
       "  [7, 6, 0, 25, 26],\n",
       "  [7, 6, 0, 25, 26],\n",
       "  [7, 6, 0, 25, 26],\n",
       "  [7, 6, 0, 25, 26],\n",
       "  [7, 6, 0, 25, 26],\n",
       "  [7, 6, 0, 25, 26],\n",
       "  [7, 6, 0, 25, 26],\n",
       "  [7, 6, 0, 25, 26],\n",
       "  [7, 6, 0, 25, 26],\n",
       "  [7, 6, 0, 25, 26],\n",
       "  [7, 6, 0, 25, 26],\n",
       "  [7, 6, 0, 25, 26],\n",
       "  [7, 6, 0, 25, 26],\n",
       "  [7, 6, 0, 25, 26],\n",
       "  [7, 6, 0, 25, 26],\n",
       "  [7, 6, 0, 25, 26],\n",
       "  [7, 6, 0, 25, 26],\n",
       "  [7, 6, 0, 25, 26],\n",
       "  [7, 6, 0, 25, 26],\n",
       "  [7, 6, 0, 25, 26],\n",
       "  [7, 6, 0, 25, 26],\n",
       "  [7, 6, 0, 25, 26],\n",
       "  [7, 6, 0, 25, 26],\n",
       "  [7, 6, 0, 25, 26],\n",
       "  [7, 6, 0, 25, 26],\n",
       "  [7, 6, 0, 25, 26],\n",
       "  [7, 6, 0, 25, 26],\n",
       "  [7, 6, 0, 25, 26],\n",
       "  [7, 6, 0, 25, 26],\n",
       "  [7, 6, 0, 25, 26],\n",
       "  [7, 6, 0, 25, 26],\n",
       "  [7, 6, 0, 25, 26],\n",
       "  [7, 6, 0, 25, 26],\n",
       "  [7, 6, 0, 25, 26],\n",
       "  [7, 6, 0, 25, 26],\n",
       "  [7, 6, 0, 25, 26],\n",
       "  [7, 6, 0, 25, 26],\n",
       "  [7, 6, 0, 25, 26],\n",
       "  [7, 6, 0, 25, 26],\n",
       "  [14, 3, 2, 25, 26],\n",
       "  [14, 3, 2, 25, 26],\n",
       "  [26, 25, 0, 7, 13],\n",
       "  [26, 25, 0, 7, 13],\n",
       "  [26, 25, 3, 13, 7],\n",
       "  [7, 13, 3, 25, 26],\n",
       "  [13, 14, 3, 25, 26],\n",
       "  [13, 14, 3, 25, 26],\n",
       "  [14, 13, 7, 25, 26],\n",
       "  [14, 13, 7, 25, 26],\n",
       "  [14, 13, 25, 26, 73],\n",
       "  [73, 26, 25, 13, 14]]]"
      ]
     },
     "execution_count": 49,
     "metadata": {},
     "output_type": "execute_result"
    }
   ],
   "source": [
    "fronts = tools.emo.sortLogNondominated(result, len(result))\n",
    "fronts"
   ]
  },
  {
   "cell_type": "code",
   "execution_count": null,
   "metadata": {
    "collapsed": true
   },
   "outputs": [],
   "source": []
  },
  {
   "cell_type": "code",
   "execution_count": 53,
   "metadata": {
    "collapsed": false
   },
   "outputs": [
    {
     "data": {
      "text/html": [
       "\n",
       "    <div class=\"bk-root\">\n",
       "        <a href=\"https://bokeh.pydata.org\" target=\"_blank\" class=\"bk-logo bk-logo-small bk-logo-notebook\"></a>\n",
       "        <span id=\"1081\">Loading BokehJS ...</span>\n",
       "    </div>"
      ]
     },
     "metadata": {},
     "output_type": "display_data"
    },
    {
     "data": {
      "application/javascript": [
       "\n",
       "(function(root) {\n",
       "  function now() {\n",
       "    return new Date();\n",
       "  }\n",
       "\n",
       "  var force = true;\n",
       "\n",
       "  if (typeof (root._bokeh_onload_callbacks) === \"undefined\" || force === true) {\n",
       "    root._bokeh_onload_callbacks = [];\n",
       "    root._bokeh_is_loading = undefined;\n",
       "  }\n",
       "\n",
       "  var JS_MIME_TYPE = 'application/javascript';\n",
       "  var HTML_MIME_TYPE = 'text/html';\n",
       "  var EXEC_MIME_TYPE = 'application/vnd.bokehjs_exec.v0+json';\n",
       "  var CLASS_NAME = 'output_bokeh rendered_html';\n",
       "\n",
       "  /**\n",
       "   * Render data to the DOM node\n",
       "   */\n",
       "  function render(props, node) {\n",
       "    var script = document.createElement(\"script\");\n",
       "    node.appendChild(script);\n",
       "  }\n",
       "\n",
       "  /**\n",
       "   * Handle when an output is cleared or removed\n",
       "   */\n",
       "  function handleClearOutput(event, handle) {\n",
       "    var cell = handle.cell;\n",
       "\n",
       "    var id = cell.output_area._bokeh_element_id;\n",
       "    var server_id = cell.output_area._bokeh_server_id;\n",
       "    // Clean up Bokeh references\n",
       "    if (id != null && id in Bokeh.index) {\n",
       "      Bokeh.index[id].model.document.clear();\n",
       "      delete Bokeh.index[id];\n",
       "    }\n",
       "\n",
       "    if (server_id !== undefined) {\n",
       "      // Clean up Bokeh references\n",
       "      var cmd = \"from bokeh.io.state import curstate; print(curstate().uuid_to_server['\" + server_id + \"'].get_sessions()[0].document.roots[0]._id)\";\n",
       "      cell.notebook.kernel.execute(cmd, {\n",
       "        iopub: {\n",
       "          output: function(msg) {\n",
       "            var id = msg.content.text.trim();\n",
       "            if (id in Bokeh.index) {\n",
       "              Bokeh.index[id].model.document.clear();\n",
       "              delete Bokeh.index[id];\n",
       "            }\n",
       "          }\n",
       "        }\n",
       "      });\n",
       "      // Destroy server and session\n",
       "      var cmd = \"import bokeh.io.notebook as ion; ion.destroy_server('\" + server_id + \"')\";\n",
       "      cell.notebook.kernel.execute(cmd);\n",
       "    }\n",
       "  }\n",
       "\n",
       "  /**\n",
       "   * Handle when a new output is added\n",
       "   */\n",
       "  function handleAddOutput(event, handle) {\n",
       "    var output_area = handle.output_area;\n",
       "    var output = handle.output;\n",
       "\n",
       "    // limit handleAddOutput to display_data with EXEC_MIME_TYPE content only\n",
       "    if ((output.output_type != \"display_data\") || (!output.data.hasOwnProperty(EXEC_MIME_TYPE))) {\n",
       "      return\n",
       "    }\n",
       "\n",
       "    var toinsert = output_area.element.find(\".\" + CLASS_NAME.split(' ')[0]);\n",
       "\n",
       "    if (output.metadata[EXEC_MIME_TYPE][\"id\"] !== undefined) {\n",
       "      toinsert[toinsert.length - 1].firstChild.textContent = output.data[JS_MIME_TYPE];\n",
       "      // store reference to embed id on output_area\n",
       "      output_area._bokeh_element_id = output.metadata[EXEC_MIME_TYPE][\"id\"];\n",
       "    }\n",
       "    if (output.metadata[EXEC_MIME_TYPE][\"server_id\"] !== undefined) {\n",
       "      var bk_div = document.createElement(\"div\");\n",
       "      bk_div.innerHTML = output.data[HTML_MIME_TYPE];\n",
       "      var script_attrs = bk_div.children[0].attributes;\n",
       "      for (var i = 0; i < script_attrs.length; i++) {\n",
       "        toinsert[toinsert.length - 1].firstChild.setAttribute(script_attrs[i].name, script_attrs[i].value);\n",
       "      }\n",
       "      // store reference to server id on output_area\n",
       "      output_area._bokeh_server_id = output.metadata[EXEC_MIME_TYPE][\"server_id\"];\n",
       "    }\n",
       "  }\n",
       "\n",
       "  function register_renderer(events, OutputArea) {\n",
       "\n",
       "    function append_mime(data, metadata, element) {\n",
       "      // create a DOM node to render to\n",
       "      var toinsert = this.create_output_subarea(\n",
       "        metadata,\n",
       "        CLASS_NAME,\n",
       "        EXEC_MIME_TYPE\n",
       "      );\n",
       "      this.keyboard_manager.register_events(toinsert);\n",
       "      // Render to node\n",
       "      var props = {data: data, metadata: metadata[EXEC_MIME_TYPE]};\n",
       "      render(props, toinsert[toinsert.length - 1]);\n",
       "      element.append(toinsert);\n",
       "      return toinsert\n",
       "    }\n",
       "\n",
       "    /* Handle when an output is cleared or removed */\n",
       "    events.on('clear_output.CodeCell', handleClearOutput);\n",
       "    events.on('delete.Cell', handleClearOutput);\n",
       "\n",
       "    /* Handle when a new output is added */\n",
       "    events.on('output_added.OutputArea', handleAddOutput);\n",
       "\n",
       "    /**\n",
       "     * Register the mime type and append_mime function with output_area\n",
       "     */\n",
       "    OutputArea.prototype.register_mime_type(EXEC_MIME_TYPE, append_mime, {\n",
       "      /* Is output safe? */\n",
       "      safe: true,\n",
       "      /* Index of renderer in `output_area.display_order` */\n",
       "      index: 0\n",
       "    });\n",
       "  }\n",
       "\n",
       "  // register the mime type if in Jupyter Notebook environment and previously unregistered\n",
       "  if (root.Jupyter !== undefined) {\n",
       "    var events = require('base/js/events');\n",
       "    var OutputArea = require('notebook/js/outputarea').OutputArea;\n",
       "\n",
       "    if (OutputArea.prototype.mime_types().indexOf(EXEC_MIME_TYPE) == -1) {\n",
       "      register_renderer(events, OutputArea);\n",
       "    }\n",
       "  }\n",
       "\n",
       "  \n",
       "  if (typeof (root._bokeh_timeout) === \"undefined\" || force === true) {\n",
       "    root._bokeh_timeout = Date.now() + 5000;\n",
       "    root._bokeh_failed_load = false;\n",
       "  }\n",
       "\n",
       "  var NB_LOAD_WARNING = {'data': {'text/html':\n",
       "     \"<div style='background-color: #fdd'>\\n\"+\n",
       "     \"<p>\\n\"+\n",
       "     \"BokehJS does not appear to have successfully loaded. If loading BokehJS from CDN, this \\n\"+\n",
       "     \"may be due to a slow or bad network connection. Possible fixes:\\n\"+\n",
       "     \"</p>\\n\"+\n",
       "     \"<ul>\\n\"+\n",
       "     \"<li>re-rerun `output_notebook()` to attempt to load from CDN again, or</li>\\n\"+\n",
       "     \"<li>use INLINE resources instead, as so:</li>\\n\"+\n",
       "     \"</ul>\\n\"+\n",
       "     \"<code>\\n\"+\n",
       "     \"from bokeh.resources import INLINE\\n\"+\n",
       "     \"output_notebook(resources=INLINE)\\n\"+\n",
       "     \"</code>\\n\"+\n",
       "     \"</div>\"}};\n",
       "\n",
       "  function display_loaded() {\n",
       "    var el = document.getElementById(\"1081\");\n",
       "    if (el != null) {\n",
       "      el.textContent = \"BokehJS is loading...\";\n",
       "    }\n",
       "    if (root.Bokeh !== undefined) {\n",
       "      if (el != null) {\n",
       "        el.textContent = \"BokehJS \" + root.Bokeh.version + \" successfully loaded.\";\n",
       "      }\n",
       "    } else if (Date.now() < root._bokeh_timeout) {\n",
       "      setTimeout(display_loaded, 100)\n",
       "    }\n",
       "  }\n",
       "\n",
       "\n",
       "  function run_callbacks() {\n",
       "    try {\n",
       "      root._bokeh_onload_callbacks.forEach(function(callback) { callback() });\n",
       "    }\n",
       "    finally {\n",
       "      delete root._bokeh_onload_callbacks\n",
       "    }\n",
       "    console.info(\"Bokeh: all callbacks have finished\");\n",
       "  }\n",
       "\n",
       "  function load_libs(js_urls, callback) {\n",
       "    root._bokeh_onload_callbacks.push(callback);\n",
       "    if (root._bokeh_is_loading > 0) {\n",
       "      console.log(\"Bokeh: BokehJS is being loaded, scheduling callback at\", now());\n",
       "      return null;\n",
       "    }\n",
       "    if (js_urls == null || js_urls.length === 0) {\n",
       "      run_callbacks();\n",
       "      return null;\n",
       "    }\n",
       "    console.log(\"Bokeh: BokehJS not loaded, scheduling load and callback at\", now());\n",
       "    root._bokeh_is_loading = js_urls.length;\n",
       "    for (var i = 0; i < js_urls.length; i++) {\n",
       "      var url = js_urls[i];\n",
       "      var s = document.createElement('script');\n",
       "      s.src = url;\n",
       "      s.async = false;\n",
       "      s.onreadystatechange = s.onload = function() {\n",
       "        root._bokeh_is_loading--;\n",
       "        if (root._bokeh_is_loading === 0) {\n",
       "          console.log(\"Bokeh: all BokehJS libraries loaded\");\n",
       "          run_callbacks()\n",
       "        }\n",
       "      };\n",
       "      s.onerror = function() {\n",
       "        console.warn(\"failed to load library \" + url);\n",
       "      };\n",
       "      console.log(\"Bokeh: injecting script tag for BokehJS library: \", url);\n",
       "      document.getElementsByTagName(\"head\")[0].appendChild(s);\n",
       "    }\n",
       "  };var element = document.getElementById(\"1081\");\n",
       "  if (element == null) {\n",
       "    console.log(\"Bokeh: ERROR: autoload.js configured with elementid '1081' but no matching script tag was found. \")\n",
       "    return false;\n",
       "  }\n",
       "\n",
       "  var js_urls = [\"https://cdn.pydata.org/bokeh/release/bokeh-1.0.2.min.js\", \"https://cdn.pydata.org/bokeh/release/bokeh-widgets-1.0.2.min.js\", \"https://cdn.pydata.org/bokeh/release/bokeh-tables-1.0.2.min.js\", \"https://cdn.pydata.org/bokeh/release/bokeh-gl-1.0.2.min.js\"];\n",
       "\n",
       "  var inline_js = [\n",
       "    function(Bokeh) {\n",
       "      Bokeh.set_log_level(\"info\");\n",
       "    },\n",
       "    \n",
       "    function(Bokeh) {\n",
       "      \n",
       "    },\n",
       "    function(Bokeh) {\n",
       "      console.log(\"Bokeh: injecting CSS: https://cdn.pydata.org/bokeh/release/bokeh-1.0.2.min.css\");\n",
       "      Bokeh.embed.inject_css(\"https://cdn.pydata.org/bokeh/release/bokeh-1.0.2.min.css\");\n",
       "      console.log(\"Bokeh: injecting CSS: https://cdn.pydata.org/bokeh/release/bokeh-widgets-1.0.2.min.css\");\n",
       "      Bokeh.embed.inject_css(\"https://cdn.pydata.org/bokeh/release/bokeh-widgets-1.0.2.min.css\");\n",
       "      console.log(\"Bokeh: injecting CSS: https://cdn.pydata.org/bokeh/release/bokeh-tables-1.0.2.min.css\");\n",
       "      Bokeh.embed.inject_css(\"https://cdn.pydata.org/bokeh/release/bokeh-tables-1.0.2.min.css\");\n",
       "    }\n",
       "  ];\n",
       "\n",
       "  function run_inline_js() {\n",
       "    \n",
       "    if ((root.Bokeh !== undefined) || (force === true)) {\n",
       "      for (var i = 0; i < inline_js.length; i++) {\n",
       "        inline_js[i].call(root, root.Bokeh);\n",
       "      }if (force === true) {\n",
       "        display_loaded();\n",
       "      }} else if (Date.now() < root._bokeh_timeout) {\n",
       "      setTimeout(run_inline_js, 100);\n",
       "    } else if (!root._bokeh_failed_load) {\n",
       "      console.log(\"Bokeh: BokehJS failed to load within specified timeout.\");\n",
       "      root._bokeh_failed_load = true;\n",
       "    } else if (force !== true) {\n",
       "      var cell = $(document.getElementById(\"1081\")).parents('.cell').data().cell;\n",
       "      cell.output_area.append_execute_result(NB_LOAD_WARNING)\n",
       "    }\n",
       "\n",
       "  }\n",
       "\n",
       "  if (root._bokeh_is_loading === 0) {\n",
       "    console.log(\"Bokeh: BokehJS loaded, going straight to plotting\");\n",
       "    run_inline_js();\n",
       "  } else {\n",
       "    load_libs(js_urls, function() {\n",
       "      console.log(\"Bokeh: BokehJS plotting callback run at\", now());\n",
       "      run_inline_js();\n",
       "    });\n",
       "  }\n",
       "}(window));"
      ],
      "application/vnd.bokehjs_load.v0+json": "\n(function(root) {\n  function now() {\n    return new Date();\n  }\n\n  var force = true;\n\n  if (typeof (root._bokeh_onload_callbacks) === \"undefined\" || force === true) {\n    root._bokeh_onload_callbacks = [];\n    root._bokeh_is_loading = undefined;\n  }\n\n  \n\n  \n  if (typeof (root._bokeh_timeout) === \"undefined\" || force === true) {\n    root._bokeh_timeout = Date.now() + 5000;\n    root._bokeh_failed_load = false;\n  }\n\n  var NB_LOAD_WARNING = {'data': {'text/html':\n     \"<div style='background-color: #fdd'>\\n\"+\n     \"<p>\\n\"+\n     \"BokehJS does not appear to have successfully loaded. If loading BokehJS from CDN, this \\n\"+\n     \"may be due to a slow or bad network connection. Possible fixes:\\n\"+\n     \"</p>\\n\"+\n     \"<ul>\\n\"+\n     \"<li>re-rerun `output_notebook()` to attempt to load from CDN again, or</li>\\n\"+\n     \"<li>use INLINE resources instead, as so:</li>\\n\"+\n     \"</ul>\\n\"+\n     \"<code>\\n\"+\n     \"from bokeh.resources import INLINE\\n\"+\n     \"output_notebook(resources=INLINE)\\n\"+\n     \"</code>\\n\"+\n     \"</div>\"}};\n\n  function display_loaded() {\n    var el = document.getElementById(\"1081\");\n    if (el != null) {\n      el.textContent = \"BokehJS is loading...\";\n    }\n    if (root.Bokeh !== undefined) {\n      if (el != null) {\n        el.textContent = \"BokehJS \" + root.Bokeh.version + \" successfully loaded.\";\n      }\n    } else if (Date.now() < root._bokeh_timeout) {\n      setTimeout(display_loaded, 100)\n    }\n  }\n\n\n  function run_callbacks() {\n    try {\n      root._bokeh_onload_callbacks.forEach(function(callback) { callback() });\n    }\n    finally {\n      delete root._bokeh_onload_callbacks\n    }\n    console.info(\"Bokeh: all callbacks have finished\");\n  }\n\n  function load_libs(js_urls, callback) {\n    root._bokeh_onload_callbacks.push(callback);\n    if (root._bokeh_is_loading > 0) {\n      console.log(\"Bokeh: BokehJS is being loaded, scheduling callback at\", now());\n      return null;\n    }\n    if (js_urls == null || js_urls.length === 0) {\n      run_callbacks();\n      return null;\n    }\n    console.log(\"Bokeh: BokehJS not loaded, scheduling load and callback at\", now());\n    root._bokeh_is_loading = js_urls.length;\n    for (var i = 0; i < js_urls.length; i++) {\n      var url = js_urls[i];\n      var s = document.createElement('script');\n      s.src = url;\n      s.async = false;\n      s.onreadystatechange = s.onload = function() {\n        root._bokeh_is_loading--;\n        if (root._bokeh_is_loading === 0) {\n          console.log(\"Bokeh: all BokehJS libraries loaded\");\n          run_callbacks()\n        }\n      };\n      s.onerror = function() {\n        console.warn(\"failed to load library \" + url);\n      };\n      console.log(\"Bokeh: injecting script tag for BokehJS library: \", url);\n      document.getElementsByTagName(\"head\")[0].appendChild(s);\n    }\n  };var element = document.getElementById(\"1081\");\n  if (element == null) {\n    console.log(\"Bokeh: ERROR: autoload.js configured with elementid '1081' but no matching script tag was found. \")\n    return false;\n  }\n\n  var js_urls = [\"https://cdn.pydata.org/bokeh/release/bokeh-1.0.2.min.js\", \"https://cdn.pydata.org/bokeh/release/bokeh-widgets-1.0.2.min.js\", \"https://cdn.pydata.org/bokeh/release/bokeh-tables-1.0.2.min.js\", \"https://cdn.pydata.org/bokeh/release/bokeh-gl-1.0.2.min.js\"];\n\n  var inline_js = [\n    function(Bokeh) {\n      Bokeh.set_log_level(\"info\");\n    },\n    \n    function(Bokeh) {\n      \n    },\n    function(Bokeh) {\n      console.log(\"Bokeh: injecting CSS: https://cdn.pydata.org/bokeh/release/bokeh-1.0.2.min.css\");\n      Bokeh.embed.inject_css(\"https://cdn.pydata.org/bokeh/release/bokeh-1.0.2.min.css\");\n      console.log(\"Bokeh: injecting CSS: https://cdn.pydata.org/bokeh/release/bokeh-widgets-1.0.2.min.css\");\n      Bokeh.embed.inject_css(\"https://cdn.pydata.org/bokeh/release/bokeh-widgets-1.0.2.min.css\");\n      console.log(\"Bokeh: injecting CSS: https://cdn.pydata.org/bokeh/release/bokeh-tables-1.0.2.min.css\");\n      Bokeh.embed.inject_css(\"https://cdn.pydata.org/bokeh/release/bokeh-tables-1.0.2.min.css\");\n    }\n  ];\n\n  function run_inline_js() {\n    \n    if ((root.Bokeh !== undefined) || (force === true)) {\n      for (var i = 0; i < inline_js.length; i++) {\n        inline_js[i].call(root, root.Bokeh);\n      }if (force === true) {\n        display_loaded();\n      }} else if (Date.now() < root._bokeh_timeout) {\n      setTimeout(run_inline_js, 100);\n    } else if (!root._bokeh_failed_load) {\n      console.log(\"Bokeh: BokehJS failed to load within specified timeout.\");\n      root._bokeh_failed_load = true;\n    } else if (force !== true) {\n      var cell = $(document.getElementById(\"1081\")).parents('.cell').data().cell;\n      cell.output_area.append_execute_result(NB_LOAD_WARNING)\n    }\n\n  }\n\n  if (root._bokeh_is_loading === 0) {\n    console.log(\"Bokeh: BokehJS loaded, going straight to plotting\");\n    run_inline_js();\n  } else {\n    load_libs(js_urls, function() {\n      console.log(\"Bokeh: BokehJS plotting callback run at\", now());\n      run_inline_js();\n    });\n  }\n}(window));"
     },
     "metadata": {},
     "output_type": "display_data"
    }
   ],
   "source": [
    "from bokeh.plotting import figure, output_notebook, show\n",
    "from bokeh.models import HoverTool, ColumnDataSource\n",
    "from bokeh import palettes\n",
    "output_notebook()"
   ]
  },
  {
   "cell_type": "code",
   "execution_count": 54,
   "metadata": {
    "collapsed": false
   },
   "outputs": [],
   "source": [
    "def viz_front(fronts):\n",
    "#     TOOLS = \"pan,wheel_zoom,box_zoom,reset,resize\"\n",
    "    TOOLS = \"pan,wheel_zoom,box_zoom,reset\"\n",
    "    hover = HoverTool(\n",
    "            tooltips=[\n",
    "                (\"index\", \"$index\"),\n",
    "                (\"(x,y)\", \"($x, $y)\"),\n",
    "                (\"individual\", \"@ind\"),\n",
    "            ]\n",
    "        )\n",
    "    front_colors = []\n",
    "    p = figure(plot_width=700, plot_height=700, tools=[TOOLS,hover], title=\"NSGAii Test\")\n",
    "\n",
    "    for i,inds in enumerate(fronts):\n",
    "        par = [(ind, toolbox.evaluate(ind)) for ind in inds]\n",
    "        source = ColumnDataSource(\n",
    "                data=dict(\n",
    "                    x= [p[1][0] for p in par],\n",
    "                    y= [p[1][1] for p in par],\n",
    "                    ind= [p[0] for p in par]\n",
    "                )\n",
    "            )\n",
    "        p.circle('x', 'y', size=10, source=source, alpha=0.7, fill_color=palettes.YlGnBu9[i], legend='Front %s'%(i+1), line_color=\"#ffffff\")\n",
    "    show(p)"
   ]
  },
  {
   "cell_type": "code",
   "execution_count": 55,
   "metadata": {
    "collapsed": false,
    "scrolled": false
   },
   "outputs": [
    {
     "data": {
      "text/html": [
       "\n",
       "\n",
       "\n",
       "\n",
       "\n",
       "\n",
       "  <div class=\"bk-root\" id=\"9543baa1-2670-40e2-82bc-a44cc7fc8508\"></div>\n"
      ]
     },
     "metadata": {},
     "output_type": "display_data"
    },
    {
     "data": {
      "application/javascript": [
       "(function(root) {\n",
       "  function embed_document(root) {\n",
       "    \n",
       "  var docs_json = {\"9ab314eb-2d64-4a0a-9dd5-cc9c6a2cacca\":{\"roots\":{\"references\":[{\"attributes\":{\"below\":[{\"id\":\"1094\",\"type\":\"LinearAxis\"}],\"left\":[{\"id\":\"1099\",\"type\":\"LinearAxis\"}],\"plot_height\":700,\"plot_width\":700,\"renderers\":[{\"id\":\"1094\",\"type\":\"LinearAxis\"},{\"id\":\"1098\",\"type\":\"Grid\"},{\"id\":\"1099\",\"type\":\"LinearAxis\"},{\"id\":\"1103\",\"type\":\"Grid\"},{\"id\":\"1111\",\"type\":\"BoxAnnotation\"},{\"id\":\"1128\",\"type\":\"Legend\"},{\"id\":\"1120\",\"type\":\"GlyphRenderer\"}],\"title\":{\"id\":\"1083\",\"type\":\"Title\"},\"toolbar\":{\"id\":\"1108\",\"type\":\"Toolbar\"},\"x_range\":{\"id\":\"1086\",\"type\":\"DataRange1d\"},\"x_scale\":{\"id\":\"1090\",\"type\":\"LinearScale\"},\"y_range\":{\"id\":\"1088\",\"type\":\"DataRange1d\"},\"y_scale\":{\"id\":\"1092\",\"type\":\"LinearScale\"}},\"id\":\"1084\",\"subtype\":\"Figure\",\"type\":\"Plot\"},{\"attributes\":{},\"id\":\"1090\",\"type\":\"LinearScale\"},{\"attributes\":{\"data_source\":{\"id\":\"1116\",\"type\":\"ColumnDataSource\"},\"glyph\":{\"id\":\"1118\",\"type\":\"Circle\"},\"hover_glyph\":null,\"muted_glyph\":null,\"nonselection_glyph\":{\"id\":\"1119\",\"type\":\"Circle\"},\"selection_glyph\":null,\"view\":{\"id\":\"1121\",\"type\":\"CDSView\"}},\"id\":\"1120\",\"type\":\"GlyphRenderer\"},{\"attributes\":{},\"id\":\"1136\",\"type\":\"Selection\"},{\"attributes\":{},\"id\":\"1100\",\"type\":\"BasicTicker\"},{\"attributes\":{},\"id\":\"1137\",\"type\":\"UnionRenderers\"},{\"attributes\":{\"callback\":null},\"id\":\"1088\",\"type\":\"DataRange1d\"},{\"attributes\":{\"callback\":null,\"tooltips\":[[\"index\",\"$index\"],[\"(x,y)\",\"($x, $y)\"],[\"individual\",\"@ind\"]]},\"id\":\"1082\",\"type\":\"HoverTool\"},{\"attributes\":{},\"id\":\"1124\",\"type\":\"BasicTickFormatter\"},{\"attributes\":{},\"id\":\"1105\",\"type\":\"WheelZoomTool\"},{\"attributes\":{\"bottom_units\":\"screen\",\"fill_alpha\":{\"value\":0.5},\"fill_color\":{\"value\":\"lightgrey\"},\"left_units\":\"screen\",\"level\":\"overlay\",\"line_alpha\":{\"value\":1.0},\"line_color\":{\"value\":\"black\"},\"line_dash\":[4,4],\"line_width\":{\"value\":2},\"plot\":null,\"render_mode\":\"css\",\"right_units\":\"screen\",\"top_units\":\"screen\"},\"id\":\"1111\",\"type\":\"BoxAnnotation\"},{\"attributes\":{\"callback\":null,\"data\":{\"ind\":[[7,6,0,25,26],[7,6,0,25,26],[7,6,0,25,26],[7,6,0,25,26],[7,6,0,25,26],[7,6,0,25,26],[7,6,0,25,26],[7,6,0,25,26],[7,6,0,25,26],[7,6,0,25,26],[7,6,0,25,26],[7,6,0,25,26],[7,6,0,25,26],[7,6,0,25,26],[7,6,0,25,26],[7,6,0,25,26],[7,6,0,25,26],[7,6,0,25,26],[7,6,0,25,26],[7,6,0,25,26],[7,6,0,25,26],[7,6,0,25,26],[7,6,0,25,26],[7,6,0,25,26],[7,6,0,25,26],[7,6,0,25,26],[7,6,0,25,26],[7,6,0,25,26],[7,6,0,25,26],[7,6,0,25,26],[7,6,0,25,26],[7,6,0,25,26],[7,6,0,25,26],[7,6,0,25,26],[7,6,0,25,26],[7,6,0,25,26],[7,6,0,25,26],[7,6,0,25,26],[7,6,0,25,26],[7,6,0,25,26],[7,6,0,25,26],[7,6,0,25,26],[7,6,0,25,26],[7,6,0,25,26],[7,6,0,25,26],[7,6,0,25,26],[7,6,0,25,26],[7,6,0,25,26],[7,6,0,25,26],[7,6,0,25,26],[7,6,0,25,26],[7,6,0,25,26],[7,6,0,25,26],[7,6,0,25,26],[7,6,0,25,26],[7,6,0,25,26],[7,6,0,25,26],[7,6,0,25,26],[7,6,0,25,26],[7,6,0,25,26],[7,6,0,25,26],[7,6,0,25,26],[7,6,0,25,26],[7,6,0,25,26],[7,6,0,25,26],[7,6,0,25,26],[7,6,0,25,26],[7,6,0,25,26],[7,6,0,25,26],[7,6,0,25,26],[7,6,0,25,26],[7,6,0,25,26],[7,6,0,25,26],[7,6,0,25,26],[7,6,0,25,26],[7,6,0,25,26],[7,6,0,25,26],[7,6,0,25,26],[7,6,0,25,26],[7,6,0,25,26],[7,6,0,25,26],[7,6,0,25,26],[7,6,0,25,26],[7,6,0,25,26],[7,6,0,25,26],[7,6,0,25,26],[7,6,0,25,26],[7,6,0,25,26],[14,3,2,25,26],[14,3,2,25,26],[26,25,0,7,13],[26,25,0,7,13],[26,25,3,13,7],[7,13,3,25,26],[13,14,3,25,26],[13,14,3,25,26],[14,13,7,25,26],[14,13,7,25,26],[14,13,25,26,73],[73,26,25,13,14]],\"x\":[2.83392693655003,2.83392693655003,2.83392693655003,2.83392693655003,2.83392693655003,2.83392693655003,2.83392693655003,2.83392693655003,2.83392693655003,2.83392693655003,2.83392693655003,2.83392693655003,2.83392693655003,2.83392693655003,2.83392693655003,2.83392693655003,2.83392693655003,2.83392693655003,2.83392693655003,2.83392693655003,2.83392693655003,2.83392693655003,2.83392693655003,2.83392693655003,2.83392693655003,2.83392693655003,2.83392693655003,2.83392693655003,2.83392693655003,2.83392693655003,2.83392693655003,2.83392693655003,2.83392693655003,2.83392693655003,2.83392693655003,2.83392693655003,2.83392693655003,2.83392693655003,2.83392693655003,2.83392693655003,2.83392693655003,2.83392693655003,2.83392693655003,2.83392693655003,2.83392693655003,2.83392693655003,2.83392693655003,2.83392693655003,2.83392693655003,2.83392693655003,2.83392693655003,2.83392693655003,2.83392693655003,2.83392693655003,2.83392693655003,2.83392693655003,2.83392693655003,2.83392693655003,2.83392693655003,2.83392693655003,2.83392693655003,2.83392693655003,2.83392693655003,2.83392693655003,2.83392693655003,2.83392693655003,2.83392693655003,2.83392693655003,2.83392693655003,2.83392693655003,2.83392693655003,2.83392693655003,2.83392693655003,2.83392693655003,2.83392693655003,2.83392693655003,2.83392693655003,2.83392693655003,2.83392693655003,2.83392693655003,2.83392693655003,2.83392693655003,2.83392693655003,2.83392693655003,2.83392693655003,2.83392693655003,2.83392693655003,2.83392693655003,3.271651095217953,3.271651095217953,3.779860076959749,3.779860076959749,4.553190894319417,4.553190894319417,5.001034716621494,5.001034716621494,5.477786922307644,5.477786922307644,8.725423290508745,8.725423290508745],\"y\":[409,409,409,409,409,409,409,409,409,409,409,409,409,409,409,409,409,409,409,409,409,409,409,409,409,409,409,409,409,409,409,409,409,409,409,409,409,409,409,409,409,409,409,409,409,409,409,409,409,409,409,409,409,409,409,409,409,409,409,409,409,409,409,409,409,409,409,409,409,409,409,409,409,409,409,409,409,409,409,409,409,409,409,409,409,409,409,409,439,439,472,472,479,479,481,481,491,491,492,492]},\"selected\":{\"id\":\"1136\",\"type\":\"Selection\"},\"selection_policy\":{\"id\":\"1137\",\"type\":\"UnionRenderers\"}},\"id\":\"1116\",\"type\":\"ColumnDataSource\"},{\"attributes\":{\"plot\":{\"id\":\"1084\",\"subtype\":\"Figure\",\"type\":\"Plot\"},\"ticker\":{\"id\":\"1095\",\"type\":\"BasicTicker\"}},\"id\":\"1098\",\"type\":\"Grid\"},{\"attributes\":{\"plot\":null,\"text\":\"NSGAii Test\"},\"id\":\"1083\",\"type\":\"Title\"},{\"attributes\":{},\"id\":\"1104\",\"type\":\"PanTool\"},{\"attributes\":{\"fill_alpha\":{\"value\":0.1},\"fill_color\":{\"value\":\"#1f77b4\"},\"line_alpha\":{\"value\":0.1},\"line_color\":{\"value\":\"#1f77b4\"},\"size\":{\"units\":\"screen\",\"value\":10},\"x\":{\"field\":\"x\"},\"y\":{\"field\":\"y\"}},\"id\":\"1119\",\"type\":\"Circle\"},{\"attributes\":{\"active_drag\":\"auto\",\"active_inspect\":\"auto\",\"active_multi\":null,\"active_scroll\":\"auto\",\"active_tap\":\"auto\",\"tools\":[{\"id\":\"1082\",\"type\":\"HoverTool\"},{\"id\":\"1104\",\"type\":\"PanTool\"},{\"id\":\"1105\",\"type\":\"WheelZoomTool\"},{\"id\":\"1106\",\"type\":\"BoxZoomTool\"},{\"id\":\"1107\",\"type\":\"ResetTool\"}]},\"id\":\"1108\",\"type\":\"Toolbar\"},{\"attributes\":{},\"id\":\"1126\",\"type\":\"BasicTickFormatter\"},{\"attributes\":{\"formatter\":{\"id\":\"1124\",\"type\":\"BasicTickFormatter\"},\"plot\":{\"id\":\"1084\",\"subtype\":\"Figure\",\"type\":\"Plot\"},\"ticker\":{\"id\":\"1100\",\"type\":\"BasicTicker\"}},\"id\":\"1099\",\"type\":\"LinearAxis\"},{\"attributes\":{\"items\":[{\"id\":\"1129\",\"type\":\"LegendItem\"}],\"plot\":{\"id\":\"1084\",\"subtype\":\"Figure\",\"type\":\"Plot\"}},\"id\":\"1128\",\"type\":\"Legend\"},{\"attributes\":{\"dimension\":1,\"plot\":{\"id\":\"1084\",\"subtype\":\"Figure\",\"type\":\"Plot\"},\"ticker\":{\"id\":\"1100\",\"type\":\"BasicTicker\"}},\"id\":\"1103\",\"type\":\"Grid\"},{\"attributes\":{\"callback\":null},\"id\":\"1086\",\"type\":\"DataRange1d\"},{\"attributes\":{},\"id\":\"1107\",\"type\":\"ResetTool\"},{\"attributes\":{\"formatter\":{\"id\":\"1126\",\"type\":\"BasicTickFormatter\"},\"plot\":{\"id\":\"1084\",\"subtype\":\"Figure\",\"type\":\"Plot\"},\"ticker\":{\"id\":\"1095\",\"type\":\"BasicTicker\"}},\"id\":\"1094\",\"type\":\"LinearAxis\"},{\"attributes\":{\"source\":{\"id\":\"1116\",\"type\":\"ColumnDataSource\"}},\"id\":\"1121\",\"type\":\"CDSView\"},{\"attributes\":{\"overlay\":{\"id\":\"1111\",\"type\":\"BoxAnnotation\"}},\"id\":\"1106\",\"type\":\"BoxZoomTool\"},{\"attributes\":{},\"id\":\"1095\",\"type\":\"BasicTicker\"},{\"attributes\":{\"fill_alpha\":{\"value\":0.7},\"fill_color\":{\"value\":\"#081d58\"},\"line_alpha\":{\"value\":0.7},\"line_color\":{\"value\":\"#ffffff\"},\"size\":{\"units\":\"screen\",\"value\":10},\"x\":{\"field\":\"x\"},\"y\":{\"field\":\"y\"}},\"id\":\"1118\",\"type\":\"Circle\"},{\"attributes\":{},\"id\":\"1092\",\"type\":\"LinearScale\"},{\"attributes\":{\"label\":{\"value\":\"Front 1\"},\"renderers\":[{\"id\":\"1120\",\"type\":\"GlyphRenderer\"}]},\"id\":\"1129\",\"type\":\"LegendItem\"}],\"root_ids\":[\"1084\"]},\"title\":\"Bokeh Application\",\"version\":\"1.0.2\"}};\n",
       "  var render_items = [{\"docid\":\"9ab314eb-2d64-4a0a-9dd5-cc9c6a2cacca\",\"roots\":{\"1084\":\"9543baa1-2670-40e2-82bc-a44cc7fc8508\"}}];\n",
       "  root.Bokeh.embed.embed_items_notebook(docs_json, render_items);\n",
       "\n",
       "  }\n",
       "  if (root.Bokeh !== undefined) {\n",
       "    embed_document(root);\n",
       "  } else {\n",
       "    var attempts = 0;\n",
       "    var timer = setInterval(function(root) {\n",
       "      if (root.Bokeh !== undefined) {\n",
       "        embed_document(root);\n",
       "        clearInterval(timer);\n",
       "      }\n",
       "      attempts++;\n",
       "      if (attempts > 100) {\n",
       "        console.log(\"Bokeh: ERROR: Unable to run BokehJS code because BokehJS library is missing\");\n",
       "        clearInterval(timer);\n",
       "      }\n",
       "    }, 10, root)\n",
       "  }\n",
       "})(window);"
      ],
      "application/vnd.bokehjs_exec.v0+json": ""
     },
     "metadata": {
      "application/vnd.bokehjs_exec.v0+json": {
       "id": "1084"
      }
     },
     "output_type": "display_data"
    }
   ],
   "source": [
    "viz_front(fronts)"
   ]
  },
  {
   "cell_type": "code",
   "execution_count": 56,
   "metadata": {
    "collapsed": false
   },
   "outputs": [
    {
     "data": {
      "text/plain": [
       "[7, 6, 0, 25, 26]"
      ]
     },
     "execution_count": 56,
     "metadata": {},
     "output_type": "execute_result"
    }
   ],
   "source": [
    "fronts[0][0] # One of the Obtimal Solution"
   ]
  },
  {
   "cell_type": "code",
   "execution_count": 57,
   "metadata": {
    "collapsed": false
   },
   "outputs": [
    {
     "data": {
      "text/html": [
       "<div>\n",
       "<style scoped>\n",
       "    .dataframe tbody tr th:only-of-type {\n",
       "        vertical-align: middle;\n",
       "    }\n",
       "\n",
       "    .dataframe tbody tr th {\n",
       "        vertical-align: top;\n",
       "    }\n",
       "\n",
       "    .dataframe thead th {\n",
       "        text-align: right;\n",
       "    }\n",
       "</style>\n",
       "<table border=\"1\" class=\"dataframe\">\n",
       "  <thead>\n",
       "    <tr style=\"text-align: right;\">\n",
       "      <th></th>\n",
       "      <th>street_ko</th>\n",
       "      <th>street_en</th>\n",
       "      <th>address</th>\n",
       "      <th>dong_ko</th>\n",
       "      <th>dong_en</th>\n",
       "      <th>lng</th>\n",
       "      <th>lat</th>\n",
       "      <th>score</th>\n",
       "    </tr>\n",
       "  </thead>\n",
       "  <tbody>\n",
       "    <tr>\n",
       "      <th>7</th>\n",
       "      <td>명동거리</td>\n",
       "      <td>Myeong-dong street</td>\n",
       "      <td>서울시 중구 명동 일대</td>\n",
       "      <td>명동</td>\n",
       "      <td>Myeong-dong</td>\n",
       "      <td>126.978819</td>\n",
       "      <td>37.568059</td>\n",
       "      <td>97</td>\n",
       "    </tr>\n",
       "    <tr>\n",
       "      <th>6</th>\n",
       "      <td>돌담길</td>\n",
       "      <td>Doldam-gil</td>\n",
       "      <td>서울시 중구 소공동 일대</td>\n",
       "      <td>소공동</td>\n",
       "      <td>Sogong-dong</td>\n",
       "      <td>126.979934</td>\n",
       "      <td>37.564130</td>\n",
       "      <td>34</td>\n",
       "    </tr>\n",
       "    <tr>\n",
       "      <th>0</th>\n",
       "      <td>남대문거리</td>\n",
       "      <td>fishing-tackle street</td>\n",
       "      <td>서울시 중구 회현동 일대</td>\n",
       "      <td>회현동</td>\n",
       "      <td>Hoehyeon-dong</td>\n",
       "      <td>126.977432</td>\n",
       "      <td>37.558050</td>\n",
       "      <td>80</td>\n",
       "    </tr>\n",
       "    <tr>\n",
       "      <th>25</th>\n",
       "      <td>경리단길</td>\n",
       "      <td>Finance corps street</td>\n",
       "      <td>서울시 용산구 이태원2동 일대</td>\n",
       "      <td>이태원2동</td>\n",
       "      <td>Itaewon2-dong</td>\n",
       "      <td>126.991664</td>\n",
       "      <td>37.539718</td>\n",
       "      <td>99</td>\n",
       "    </tr>\n",
       "    <tr>\n",
       "      <th>26</th>\n",
       "      <td>이태원거리</td>\n",
       "      <td>Itaewon street</td>\n",
       "      <td>서울시 용산구 이태원1동 일대</td>\n",
       "      <td>이태원1동</td>\n",
       "      <td>Itaewon2-dong</td>\n",
       "      <td>126.991704</td>\n",
       "      <td>37.538994</td>\n",
       "      <td>99</td>\n",
       "    </tr>\n",
       "  </tbody>\n",
       "</table>\n",
       "</div>"
      ],
      "text/plain": [
       "   street_ko              street_en           address dong_ko        dong_en  \\\n",
       "7       명동거리     Myeong-dong street      서울시 중구 명동 일대      명동    Myeong-dong   \n",
       "6        돌담길             Doldam-gil     서울시 중구 소공동 일대     소공동    Sogong-dong   \n",
       "0      남대문거리  fishing-tackle street     서울시 중구 회현동 일대     회현동  Hoehyeon-dong   \n",
       "25      경리단길   Finance corps street  서울시 용산구 이태원2동 일대   이태원2동  Itaewon2-dong   \n",
       "26     이태원거리         Itaewon street  서울시 용산구 이태원1동 일대   이태원1동  Itaewon2-dong   \n",
       "\n",
       "           lng        lat  score  \n",
       "7   126.978819  37.568059     97  \n",
       "6   126.979934  37.564130     34  \n",
       "0   126.977432  37.558050     80  \n",
       "25  126.991664  37.539718     99  \n",
       "26  126.991704  37.538994     99  "
      ]
     },
     "execution_count": 57,
     "metadata": {},
     "output_type": "execute_result"
    }
   ],
   "source": [
    "df_spot.iloc[fronts[0][0]] # Information of that solution"
   ]
  },
  {
   "cell_type": "code",
   "execution_count": 59,
   "metadata": {
    "collapsed": false
   },
   "outputs": [
    {
     "name": "stdout",
     "output_type": "stream",
     "text": [
      "(8.725423290508745, 492)\n"
     ]
    },
    {
     "data": {
      "text/html": [
       "<div style=\"width:100%;\"><div style=\"position:relative;width:100%;height:0;padding-bottom:60%;\"><iframe src=\"data:text/html;charset=utf-8;base64,PCFET0NUWVBFIGh0bWw+CjxoZWFkPiAgICAKICAgIDxtZXRhIGh0dHAtZXF1aXY9ImNvbnRlbnQtdHlwZSIgY29udGVudD0idGV4dC9odG1sOyBjaGFyc2V0PVVURi04IiAvPgogICAgCiAgICAgICAgPHNjcmlwdD4KICAgICAgICAgICAgTF9OT19UT1VDSCA9IGZhbHNlOwogICAgICAgICAgICBMX0RJU0FCTEVfM0QgPSBmYWxzZTsKICAgICAgICA8L3NjcmlwdD4KICAgIAogICAgPHNjcmlwdCBzcmM9Imh0dHBzOi8vY2RuLmpzZGVsaXZyLm5ldC9ucG0vbGVhZmxldEAxLjQuMC9kaXN0L2xlYWZsZXQuanMiPjwvc2NyaXB0PgogICAgPHNjcmlwdCBzcmM9Imh0dHBzOi8vY29kZS5qcXVlcnkuY29tL2pxdWVyeS0xLjEyLjQubWluLmpzIj48L3NjcmlwdD4KICAgIDxzY3JpcHQgc3JjPSJodHRwczovL21heGNkbi5ib290c3RyYXBjZG4uY29tL2Jvb3RzdHJhcC8zLjIuMC9qcy9ib290c3RyYXAubWluLmpzIj48L3NjcmlwdD4KICAgIDxzY3JpcHQgc3JjPSJodHRwczovL2NkbmpzLmNsb3VkZmxhcmUuY29tL2FqYXgvbGlicy9MZWFmbGV0LmF3ZXNvbWUtbWFya2Vycy8yLjAuMi9sZWFmbGV0LmF3ZXNvbWUtbWFya2Vycy5qcyI+PC9zY3JpcHQ+CiAgICA8bGluayByZWw9InN0eWxlc2hlZXQiIGhyZWY9Imh0dHBzOi8vY2RuLmpzZGVsaXZyLm5ldC9ucG0vbGVhZmxldEAxLjQuMC9kaXN0L2xlYWZsZXQuY3NzIi8+CiAgICA8bGluayByZWw9InN0eWxlc2hlZXQiIGhyZWY9Imh0dHBzOi8vbWF4Y2RuLmJvb3RzdHJhcGNkbi5jb20vYm9vdHN0cmFwLzMuMi4wL2Nzcy9ib290c3RyYXAubWluLmNzcyIvPgogICAgPGxpbmsgcmVsPSJzdHlsZXNoZWV0IiBocmVmPSJodHRwczovL21heGNkbi5ib290c3RyYXBjZG4uY29tL2Jvb3RzdHJhcC8zLjIuMC9jc3MvYm9vdHN0cmFwLXRoZW1lLm1pbi5jc3MiLz4KICAgIDxsaW5rIHJlbD0ic3R5bGVzaGVldCIgaHJlZj0iaHR0cHM6Ly9tYXhjZG4uYm9vdHN0cmFwY2RuLmNvbS9mb250LWF3ZXNvbWUvNC42LjMvY3NzL2ZvbnQtYXdlc29tZS5taW4uY3NzIi8+CiAgICA8bGluayByZWw9InN0eWxlc2hlZXQiIGhyZWY9Imh0dHBzOi8vY2RuanMuY2xvdWRmbGFyZS5jb20vYWpheC9saWJzL0xlYWZsZXQuYXdlc29tZS1tYXJrZXJzLzIuMC4yL2xlYWZsZXQuYXdlc29tZS1tYXJrZXJzLmNzcyIvPgogICAgPGxpbmsgcmVsPSJzdHlsZXNoZWV0IiBocmVmPSJodHRwczovL3Jhd2Nkbi5naXRoYWNrLmNvbS9weXRob24tdmlzdWFsaXphdGlvbi9mb2xpdW0vbWFzdGVyL2ZvbGl1bS90ZW1wbGF0ZXMvbGVhZmxldC5hd2Vzb21lLnJvdGF0ZS5jc3MiLz4KICAgIDxzdHlsZT5odG1sLCBib2R5IHt3aWR0aDogMTAwJTtoZWlnaHQ6IDEwMCU7bWFyZ2luOiAwO3BhZGRpbmc6IDA7fTwvc3R5bGU+CiAgICA8c3R5bGU+I21hcCB7cG9zaXRpb246YWJzb2x1dGU7dG9wOjA7Ym90dG9tOjA7cmlnaHQ6MDtsZWZ0OjA7fTwvc3R5bGU+CiAgICAKICAgICAgICAgICAgPG1ldGEgbmFtZT0idmlld3BvcnQiIGNvbnRlbnQ9IndpZHRoPWRldmljZS13aWR0aCwKICAgICAgICAgICAgICAgIGluaXRpYWwtc2NhbGU9MS4wLCBtYXhpbXVtLXNjYWxlPTEuMCwgdXNlci1zY2FsYWJsZT1ubyIgLz4KICAgICAgICAgICAgPHN0eWxlPgogICAgICAgICAgICAgICAgI21hcF82ZmRkNWFlNDNhNGI0ODZkYmI2YzE4MzdjNTU3NjliYyB7CiAgICAgICAgICAgICAgICAgICAgcG9zaXRpb246IHJlbGF0aXZlOwogICAgICAgICAgICAgICAgICAgIHdpZHRoOiAxMDAuMCU7CiAgICAgICAgICAgICAgICAgICAgaGVpZ2h0OiAxMDAuMCU7CiAgICAgICAgICAgICAgICAgICAgbGVmdDogMC4wJTsKICAgICAgICAgICAgICAgICAgICB0b3A6IDAuMCU7CiAgICAgICAgICAgICAgICB9CiAgICAgICAgICAgIDwvc3R5bGU+CiAgICAgICAgCjwvaGVhZD4KPGJvZHk+ICAgIAogICAgCiAgICAgICAgICAgIDxkaXYgY2xhc3M9ImZvbGl1bS1tYXAiIGlkPSJtYXBfNmZkZDVhZTQzYTRiNDg2ZGJiNmMxODM3YzU1NzY5YmMiID48L2Rpdj4KICAgICAgICAKPC9ib2R5Pgo8c2NyaXB0PiAgICAKICAgIAogICAgICAgICAgICB2YXIgbWFwXzZmZGQ1YWU0M2E0YjQ4NmRiYjZjMTgzN2M1NTc2OWJjID0gTC5tYXAoCiAgICAgICAgICAgICAgICAibWFwXzZmZGQ1YWU0M2E0YjQ4NmRiYjZjMTgzN2M1NTc2OWJjIiwKICAgICAgICAgICAgICAgIHsKICAgICAgICAgICAgICAgICAgICBjZW50ZXI6IFszNy41NTA0MzYwOTQyNDI2OCwgMTI2Ljk5Mjc5MzEzMzg4Mzk5XSwKICAgICAgICAgICAgICAgICAgICBjcnM6IEwuQ1JTLkVQU0czODU3LAogICAgICAgICAgICAgICAgICAgIHpvb206IDEzLAogICAgICAgICAgICAgICAgICAgIHpvb21Db250cm9sOiB0cnVlLAogICAgICAgICAgICAgICAgICAgIHByZWZlckNhbnZhczogZmFsc2UsCiAgICAgICAgICAgICAgICB9CiAgICAgICAgICAgICk7CgogICAgICAgICAgICAKCiAgICAgICAgCiAgICAKICAgICAgICAgICAgdmFyIHRpbGVfbGF5ZXJfOTc2MDMxMTZhNmRiNDllOGI1M2IzZWVkNGQzNThmZjAgPSBMLnRpbGVMYXllcigKICAgICAgICAgICAgICAgICJodHRwczovL3tzfS50aWxlLm9wZW5zdHJlZXRtYXAub3JnL3t6fS97eH0ve3l9LnBuZyIsCiAgICAgICAgICAgICAgICB7ImF0dHJpYnV0aW9uIjogIkRhdGEgYnkgXHUwMDI2Y29weTsgXHUwMDNjYSBocmVmPVwiaHR0cDovL29wZW5zdHJlZXRtYXAub3JnXCJcdTAwM2VPcGVuU3RyZWV0TWFwXHUwMDNjL2FcdTAwM2UsIHVuZGVyIFx1MDAzY2EgaHJlZj1cImh0dHA6Ly93d3cub3BlbnN0cmVldG1hcC5vcmcvY29weXJpZ2h0XCJcdTAwM2VPRGJMXHUwMDNjL2FcdTAwM2UuIiwgImRldGVjdFJldGluYSI6IGZhbHNlLCAibWF4TmF0aXZlWm9vbSI6IDE4LCAibWF4Wm9vbSI6IDE4LCAibWluWm9vbSI6IDAsICJub1dyYXAiOiBmYWxzZSwgIm9wYWNpdHkiOiAxLCAic3ViZG9tYWlucyI6ICJhYmMiLCAidG1zIjogZmFsc2V9CiAgICAgICAgICAgICkuYWRkVG8obWFwXzZmZGQ1YWU0M2E0YjQ4NmRiYjZjMTgzN2M1NTc2OWJjKTsKICAgICAgICAKICAgIAogICAgICAgICAgICB2YXIgcG9seV9saW5lXzc0ZDQ5ODgyNzEyYjRiNzdhMDY2NjBjZThiMTlmZjZmID0gTC5wb2x5bGluZSgKICAgICAgICAgICAgICAgIFtbMzcuNTIzODI1MDMxOCwgMTI3LjAyOTIzMTY0Nzk5OTk5XSwgWzM3LjUzODk5NDAxMTEsIDEyNi45OTE3MDM5NTIwMDAwMV0sIFszNy41Mzk3MTgsIDEyNi45OTE2NjQwOTk5OTk5OF0sIFszNy41NzQ0MDI4Mjg5LCAxMjYuOTg3MzgwMjM2OF0sIFszNy41NzcxMzE1OTA4LCAxMjcuMDA1NDExMjU0OV1dLAogICAgICAgICAgICAgICAgeyJidWJibGluZ01vdXNlRXZlbnRzIjogdHJ1ZSwgImNvbG9yIjogIiMzMzg4ZmYiLCAiZGFzaEFycmF5IjogbnVsbCwgImRhc2hPZmZzZXQiOiBudWxsLCAiZmlsbCI6IGZhbHNlLCAiZmlsbENvbG9yIjogIiMzMzg4ZmYiLCAiZmlsbE9wYWNpdHkiOiAwLjIsICJmaWxsUnVsZSI6ICJldmVub2RkIiwgImxpbmVDYXAiOiAicm91bmQiLCAibGluZUpvaW4iOiAicm91bmQiLCAibm9DbGlwIjogZmFsc2UsICJvcGFjaXR5IjogMS4wLCAic21vb3RoRmFjdG9yIjogMS4wLCAic3Ryb2tlIjogdHJ1ZSwgIndlaWdodCI6IDV9CiAgICAgICAgICAgICkuYWRkVG8obWFwXzZmZGQ1YWU0M2E0YjQ4NmRiYjZjMTgzN2M1NTc2OWJjKTsKICAgICAgICAKICAgIAogICAgICAgICAgICB2YXIgbWFya2VyXzYzNjdlZGRkZjY3ZDRmMzE5YTZmOGMyNDlmY2RlYzY0ID0gTC5tYXJrZXIoCiAgICAgICAgICAgICAgICBbMzcuNTIzODI1MDMxOCwgMTI3LjAyOTIzMTY0Nzk5OTk5XSwKICAgICAgICAgICAgICAgIHt9CiAgICAgICAgICAgICkuYWRkVG8obWFwXzZmZGQ1YWU0M2E0YjQ4NmRiYjZjMTgzN2M1NTc2OWJjKTsKICAgICAgICAKICAgIAogICAgICAgIHZhciBwb3B1cF81OWFiY2M2YjBhNDE0NzU2OTExMjRmMzhhYzY0ZmNmMiA9IEwucG9wdXAoeyJtYXhXaWR0aCI6ICIxMDAlIn0pOwoKICAgICAgICAKICAgICAgICAgICAgdmFyIGh0bWxfMjVkZmFhNDNjOWU3NDQxZmExZWFjOTk5Y2Y3MjFjNjAgPSAkKGA8ZGl2IGlkPSJodG1sXzI1ZGZhYTQzYzllNzQ0MWZhMWVhYzk5OWNmNzIxYzYwIiBzdHlsZT0id2lkdGg6IDEwMC4wJTsgaGVpZ2h0OiAxMDAuMCU7Ij5HYXJvc3UtZ2lsZCBSb2FkIC8vIFNjb3JlIDogOTggPC9kaXY+YClbMF07CiAgICAgICAgICAgIHBvcHVwXzU5YWJjYzZiMGE0MTQ3NTY5MTEyNGYzOGFjNjRmY2YyLnNldENvbnRlbnQoaHRtbF8yNWRmYWE0M2M5ZTc0NDFmYTFlYWM5OTljZjcyMWM2MCk7CiAgICAgICAgCgogICAgICAgIG1hcmtlcl82MzY3ZWRkZGY2N2Q0ZjMxOWE2ZjhjMjQ5ZmNkZWM2NC5iaW5kUG9wdXAocG9wdXBfNTlhYmNjNmIwYTQxNDc1NjkxMTI0ZjM4YWM2NGZjZjIpCiAgICAgICAgOwoKICAgICAgICAKICAgIAogICAgCiAgICAgICAgICAgIHZhciBtYXJrZXJfMjVhNDEyZDZjYThlNGU3YWI3OTRlOTE3NGYzMDhmNTIgPSBMLm1hcmtlcigKICAgICAgICAgICAgICAgIFszNy41Mzg5OTQwMTExLCAxMjYuOTkxNzAzOTUyMDAwMDFdLAogICAgICAgICAgICAgICAge30KICAgICAgICAgICAgKS5hZGRUbyhtYXBfNmZkZDVhZTQzYTRiNDg2ZGJiNmMxODM3YzU1NzY5YmMpOwogICAgICAgIAogICAgCiAgICAgICAgdmFyIHBvcHVwX2Q1MDFiMGQ0MTUxNTRkODJhZmI3NjE3MjQxMmI4NjdhID0gTC5wb3B1cCh7Im1heFdpZHRoIjogIjEwMCUifSk7CgogICAgICAgIAogICAgICAgICAgICB2YXIgaHRtbF83Zjc5MjcyMjg0MDc0MzRmYWM0OGJjNzAzN2IwZjIwYiA9ICQoYDxkaXYgaWQ9Imh0bWxfN2Y3OTI3MjI4NDA3NDM0ZmFjNDhiYzcwMzdiMGYyMGIiIHN0eWxlPSJ3aWR0aDogMTAwLjAlOyBoZWlnaHQ6IDEwMC4wJTsiPkl0YWV3b24gc3RyZWV0IC8vIFNjb3JlIDogOTkgPC9kaXY+YClbMF07CiAgICAgICAgICAgIHBvcHVwX2Q1MDFiMGQ0MTUxNTRkODJhZmI3NjE3MjQxMmI4NjdhLnNldENvbnRlbnQoaHRtbF83Zjc5MjcyMjg0MDc0MzRmYWM0OGJjNzAzN2IwZjIwYik7CiAgICAgICAgCgogICAgICAgIG1hcmtlcl8yNWE0MTJkNmNhOGU0ZTdhYjc5NGU5MTc0ZjMwOGY1Mi5iaW5kUG9wdXAocG9wdXBfZDUwMWIwZDQxNTE1NGQ4MmFmYjc2MTcyNDEyYjg2N2EpCiAgICAgICAgOwoKICAgICAgICAKICAgIAogICAgCiAgICAgICAgICAgIHZhciBtYXJrZXJfYzk2MDViNDRiZGEyNDcyY2IyNjQwOTZlMDI2MTZhN2IgPSBMLm1hcmtlcigKICAgICAgICAgICAgICAgIFszNy41Mzk3MTgsIDEyNi45OTE2NjQwOTk5OTk5OF0sCiAgICAgICAgICAgICAgICB7fQogICAgICAgICAgICApLmFkZFRvKG1hcF82ZmRkNWFlNDNhNGI0ODZkYmI2YzE4MzdjNTU3NjliYyk7CiAgICAgICAgCiAgICAKICAgICAgICB2YXIgcG9wdXBfMmJiMTNkNWE5N2VjNGNlMDkzNWRkOGViNTIxNWE1NTkgPSBMLnBvcHVwKHsibWF4V2lkdGgiOiAiMTAwJSJ9KTsKCiAgICAgICAgCiAgICAgICAgICAgIHZhciBodG1sXzAzNDY5YWJhNjc3NDQzMWE5NzNmNjc2ZDc0Y2VmZDlkID0gJChgPGRpdiBpZD0iaHRtbF8wMzQ2OWFiYTY3NzQ0MzFhOTczZjY3NmQ3NGNlZmQ5ZCIgc3R5bGU9IndpZHRoOiAxMDAuMCU7IGhlaWdodDogMTAwLjAlOyI+RmluYW5jZSBjb3JwcyBzdHJlZXQgLy8gU2NvcmUgOiA5OSA8L2Rpdj5gKVswXTsKICAgICAgICAgICAgcG9wdXBfMmJiMTNkNWE5N2VjNGNlMDkzNWRkOGViNTIxNWE1NTkuc2V0Q29udGVudChodG1sXzAzNDY5YWJhNjc3NDQzMWE5NzNmNjc2ZDc0Y2VmZDlkKTsKICAgICAgICAKCiAgICAgICAgbWFya2VyX2M5NjA1YjQ0YmRhMjQ3MmNiMjY0MDk2ZTAyNjE2YTdiLmJpbmRQb3B1cChwb3B1cF8yYmIxM2Q1YTk3ZWM0Y2UwOTM1ZGQ4ZWI1MjE1YTU1OSkKICAgICAgICA7CgogICAgICAgIAogICAgCiAgICAKICAgICAgICAgICAgdmFyIG1hcmtlcl9iOWNlMTIxNjk5ZGI0MTMwYjk2Mjg1NWQ5ODFlZTIzMSA9IEwubWFya2VyKAogICAgICAgICAgICAgICAgWzM3LjU3NDQwMjgyODksIDEyNi45ODczODAyMzY4XSwKICAgICAgICAgICAgICAgIHt9CiAgICAgICAgICAgICkuYWRkVG8obWFwXzZmZGQ1YWU0M2E0YjQ4NmRiYjZjMTgzN2M1NTc2OWJjKTsKICAgICAgICAKICAgIAogICAgICAgIHZhciBwb3B1cF8yMWQyY2M5ZDZmMDA0Y2FlODYyN2Q3MzY1NzJjNmM4OSA9IEwucG9wdXAoeyJtYXhXaWR0aCI6ICIxMDAlIn0pOwoKICAgICAgICAKICAgICAgICAgICAgdmFyIGh0bWxfYmVkNzZlNzlkMjMzNDU2MmFiNGZiN2VkMmE5Y2VmZTIgPSAkKGA8ZGl2IGlkPSJodG1sX2JlZDc2ZTc5ZDIzMzQ1NjJhYjRmYjdlZDJhOWNlZmUyIiBzdHlsZT0id2lkdGg6IDEwMC4wJTsgaGVpZ2h0OiAxMDAuMCU7Ij5JbnNhZG9uZyBDdWx0dXJlIFBsYXphIC8vIFNjb3JlIDogOTcgPC9kaXY+YClbMF07CiAgICAgICAgICAgIHBvcHVwXzIxZDJjYzlkNmYwMDRjYWU4NjI3ZDczNjU3MmM2Yzg5LnNldENvbnRlbnQoaHRtbF9iZWQ3NmU3OWQyMzM0NTYyYWI0ZmI3ZWQyYTljZWZlMik7CiAgICAgICAgCgogICAgICAgIG1hcmtlcl9iOWNlMTIxNjk5ZGI0MTMwYjk2Mjg1NWQ5ODFlZTIzMS5iaW5kUG9wdXAocG9wdXBfMjFkMmNjOWQ2ZjAwNGNhZTg2MjdkNzM2NTcyYzZjODkpCiAgICAgICAgOwoKICAgICAgICAKICAgIAogICAgCiAgICAgICAgICAgIHZhciBtYXJrZXJfYzFhNzBiZjc5M2VkNGMzMTkyMTFiN2FkNWQyNGZlZjggPSBMLm1hcmtlcigKICAgICAgICAgICAgICAgIFszNy41NzcxMzE1OTA4LCAxMjcuMDA1NDExMjU0OV0sCiAgICAgICAgICAgICAgICB7fQogICAgICAgICAgICApLmFkZFRvKG1hcF82ZmRkNWFlNDNhNGI0ODZkYmI2YzE4MzdjNTU3NjliYyk7CiAgICAgICAgCiAgICAKICAgICAgICB2YXIgcG9wdXBfYzY1ZWYzN2YyYTM3NDEzOWE1NzhjNzIyYjAzNGY4MWQgPSBMLnBvcHVwKHsibWF4V2lkdGgiOiAiMTAwJSJ9KTsKCiAgICAgICAgCiAgICAgICAgICAgIHZhciBodG1sXzZlODk3ODg2OTc3YTQ1NTU5OGU1MWI1MDZhMGUzZDYwID0gJChgPGRpdiBpZD0iaHRtbF82ZTg5Nzg4Njk3N2E0NTU1OThlNTFiNTA2YTBlM2Q2MCIgc3R5bGU9IndpZHRoOiAxMDAuMCU7IGhlaWdodDogMTAwLjAlOyI+RGFlaGFrLXJvIHN0cmVldCAvLyBTY29yZSA6IDk5IDwvZGl2PmApWzBdOwogICAgICAgICAgICBwb3B1cF9jNjVlZjM3ZjJhMzc0MTM5YTU3OGM3MjJiMDM0ZjgxZC5zZXRDb250ZW50KGh0bWxfNmU4OTc4ODY5NzdhNDU1NTk4ZTUxYjUwNmEwZTNkNjApOwogICAgICAgIAoKICAgICAgICBtYXJrZXJfYzFhNzBiZjc5M2VkNGMzMTkyMTFiN2FkNWQyNGZlZjguYmluZFBvcHVwKHBvcHVwX2M2NWVmMzdmMmEzNzQxMzlhNTc4YzcyMmIwMzRmODFkKQogICAgICAgIDsKCiAgICAgICAgCiAgICAKPC9zY3JpcHQ+\" style=\"position:absolute;width:100%;height:100%;left:0;top:0;border:none !important;\" allowfullscreen webkitallowfullscreen mozallowfullscreen></iframe></div></div>"
      ],
      "text/plain": [
       "<folium.folium.Map at 0xa62acc0>"
      ]
     },
     "execution_count": 59,
     "metadata": {},
     "output_type": "execute_result"
    }
   ],
   "source": [
    "print(eval_func(fronts[0][99])) # Higher score but Longer distance\n",
    "plot_tour(fronts[0][99])"
   ]
  },
  {
   "cell_type": "code",
   "execution_count": 60,
   "metadata": {
    "collapsed": false
   },
   "outputs": [
    {
     "name": "stdout",
     "output_type": "stream",
     "text": [
      "(2.83392693655003, 409)\n"
     ]
    },
    {
     "data": {
      "text/html": [
       "<div style=\"width:100%;\"><div style=\"position:relative;width:100%;height:0;padding-bottom:60%;\"><iframe src=\"data:text/html;charset=utf-8;base64,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\" style=\"position:absolute;width:100%;height:100%;left:0;top:0;border:none !important;\" allowfullscreen webkitallowfullscreen mozallowfullscreen></iframe></div></div>"
      ],
      "text/plain": [
       "<folium.folium.Map at 0xa69a240>"
      ]
     },
     "execution_count": 60,
     "metadata": {},
     "output_type": "execute_result"
    }
   ],
   "source": [
    "print(eval_func(fronts[0][0]))  # Shorter distance but Lower score\n",
    "plot_tour(fronts[0][0])"
   ]
  },
  {
   "cell_type": "code",
   "execution_count": null,
   "metadata": {
    "collapsed": false
   },
   "outputs": [],
   "source": []
  },
  {
   "cell_type": "code",
   "execution_count": null,
   "metadata": {
    "collapsed": false
   },
   "outputs": [],
   "source": []
  },
  {
   "cell_type": "code",
   "execution_count": null,
   "metadata": {
    "collapsed": true
   },
   "outputs": [],
   "source": []
  }
 ],
 "metadata": {
  "anaconda-cloud": {},
  "kernelspec": {
   "display_name": "Python 3",
   "language": "python",
   "name": "python3"
  },
  "language_info": {
   "codemirror_mode": {
    "name": "ipython",
    "version": 3
   },
   "file_extension": ".py",
   "mimetype": "text/x-python",
   "name": "python",
   "nbconvert_exporter": "python",
   "pygments_lexer": "ipython3",
   "version": "3.7.1"
  }
 },
 "nbformat": 4,
 "nbformat_minor": 2
}
