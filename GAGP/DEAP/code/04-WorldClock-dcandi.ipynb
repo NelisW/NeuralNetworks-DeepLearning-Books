{
 "cells": [
  {
   "cell_type": "markdown",
   "metadata": {},
   "source": [
    "# World Clock Letter Grid\n",
    "\n",
    "Wed, Mar 30, 2016\n",
    "\n",
    "http://dcandi.com/post/genetic-algorithms-deap/  \n",
    "http://dcandi.com/attachments/2016/wordclock.py  \n",
    "\n",
    "In this post we will explore deap - a genetic algorithms Python framework - by coding a complete example to grasp the basic patterns behind it.\n",
    "\n",
    "The task we want to accomplish with our genetic algorithm is finding a suitable letter arrangement for a word clock, that is a clock composed by a matrix of characters that when lit in specific patterns reveal a sentence spelling the current time. This problem is not new: a solution with genetic algorithms originally appeared on hack a day.\n",
    "\n",
    "Some basic knowledge of the ideas behind genetic algorithms, Python and OOP will help make sense of the following paragraphs."
   ]
  },
  {
   "cell_type": "markdown",
   "metadata": {},
   "source": [
    "## Individual and fitness classes definition\\\n",
    "To begin we need to install deap (`pip install deap`), and to import the necessary modules that will be used in the program.\n",
    "\n",
    "Next we need to model the elements of our population by creating an Individual, that is a python class to hold the genome and fitness of each population member."
   ]
  },
  {
   "cell_type": "code",
   "execution_count": 1,
   "metadata": {},
   "outputs": [],
   "source": [
    "from deap import creator, base, tools, algorithms\n",
    "\n",
    "creator.create(\"FitnessMax\", base.Fitness, weights=(1.0,))\n",
    "creator.create(\"Individual\", list, fitness=creator.FitnessMax)"
   ]
  },
  {
   "cell_type": "markdown",
   "metadata": {},
   "source": [
    "The `creator.create` function might be confusing at first, as it does several things at once:\n",
    "\n",
    "- creates a subclass of the class passed as second argument\n",
    "- gives it the name passed as the string in the first argument\n",
    "- adds all the remaining parameters as attributes of the subclass\n",
    "- finally it registers the subclass as part of the creator module\n",
    "\n",
    "So, after executing lines 3 and 4 of the above snippet, the `creator` module will contain two new classes, `FitnessMax` and `Individual`.\n",
    "\n",
    "These classes respectively derive from the `base.Fitness` class, part of deap, and from the `list` class, a core python class.\n",
    "\n",
    "The `FitnessMax` class has values for the abstract base class attribute `weights`, while the `Individual` class adds the new attribute `fitness` in addition to the ones inherited from `list`.\n",
    "\n",
    "A peculiar feature of our individuals is that each of them is associated with a `Fitness`. This class of the `base` module manages a list of float values that represent a metric of each individual fitness for being a solution to the problem. The `weights` list, defined in the class instantiation, defines how each individual’s fitness fares against the others: a high value fitness attribute in the same position of a positive weight will yield a better fitness than a lower value one, and, on the contrary, a negative weight will make lower values in the same position in the fitness tuple of the individual contribute to a better overall fitness.\n",
    "\n",
    "Here we chose (when defining `weigths` of `FitnessMax`) to have one dimensional fitness, so that a single feature of the individuals will be used to pick the best ones, and with a positive weight, so that the highest values of that feature will be the best ones for our purposes.\n",
    "\n",
    "To model the word clock a list of characters is suitable to represent the solution."
   ]
  },
  {
   "cell_type": "markdown",
   "metadata": {},
   "source": [
    "## Factory to create individuals\n",
    "\n",
    "Very similarly to creating new custom classes into the framework, deap allows to define functions with the toolbox.register function:"
   ]
  },
  {
   "cell_type": "code",
   "execution_count": 2,
   "metadata": {},
   "outputs": [],
   "source": [
    "toolbox = base.Toolbox()\n",
    "import random\n",
    "\n",
    "toolbox.register(\n",
    "  \"random_char\",\n",
    "  random.choice,\n",
    "  \"ABCDEFGHIJKLMNOPQRSTUVWXYZ\")\n",
    "\n",
    "DIM = 10 #matrix side\n",
    "\n",
    "toolbox.register(\n",
    "  \"individual\",\n",
    "  tools.initRepeat,\n",
    "  creator.Individual,\n",
    "  toolbox.random_char,\n",
    "  n=DIM * DIM)"
   ]
  },
  {
   "cell_type": "markdown",
   "metadata": {},
   "source": [
    "With a pattern similar to the `creator.create` function, the `toolbox.register` method creates a new function with the name given as first argument and registers it in the `toolbox` module.\n",
    "\n",
    "The behavior of the registered function is defined by the function passed in as second argument, to which the remaining parameters are fed in order, and the others remain to be passed at invocation time (much like using `functools.partial`).\n",
    "\n",
    "Now the first call to register is a simple alias for the `random.choice` python function, to which the array of the alphabet is passed as a parameter; the second call instead makes use of a factory method offered in the `tools` module called `initRepeat` this method takes a container class as first argument (so `list` or `array` are suitable classes to pass) and initializes it by calling n times the function passed as second argument. In the call at line 9, the `initRepeat` function is using the `Individual` class added to the creator, which was created as a `list` subclass, and it is using the `random_char` function registered in the toolbox as the function to be used 8 times as the container initializer.\n",
    "\n",
    "So in the end we can use this `toolbox.individual` as a factory function to mint new members of our population, and initialize each of them with random content; if we"
   ]
  },
  {
   "cell_type": "code",
   "execution_count": 3,
   "metadata": {},
   "outputs": [
    {
     "name": "stdout",
     "output_type": "stream",
     "text": [
      "['N', 'T', 'S', 'C', 'P', 'M', 'H', 'J', 'X', 'N', 'L', 'X', 'T', 'D', 'B', 'M', 'P', 'Q', 'R', 'G', 'C', 'W', 'W', 'H', 'A', 'P', 'N', 'U', 'O', 'D', 'F', 'U', 'Y', 'J', 'F', 'X', 'Q', 'K', 'J', 'F', 'Z', 'M', 'F', 'E', 'A', 'V', 'L', 'I', 'D', 'E', 'N', 'W', 'T', 'L', 'A', 'S', 'D', 'U', 'B', 'O', 'K', 'U', 'B', 'G', 'U', 'S', 'Y', 'S', 'F', 'K', 'I', 'C', 'J', 'T', 'A', 'Y', 'O', 'H', 'O', 'M', 'T', 'H', 'M', 'R', 'F', 'O', 'R', 'B', 'P', 'X', 'V', 'J', 'D', 'A', 'U', 'Q', 'K', 'G', 'C', 'O']\n"
     ]
    }
   ],
   "source": [
    "print(toolbox.individual())"
   ]
  },
  {
   "cell_type": "markdown",
   "metadata": {},
   "source": [
    "we obtain our first individual as a list of random characters representing a flattened version of the matrix of the word clock."
   ]
  },
  {
   "cell_type": "markdown",
   "metadata": {},
   "source": [
    "In order to better represent the matrix we can add a `__str__` method to the Individual class to let it represent itself as a string with a separator between each matrix line. With this method it is guaranteed that any manipulation on the string of the individual later on performed by mutation or mating is not affecting the constraint that there is a matrix of DIM by DIM rows and columns."
   ]
  },
  {
   "cell_type": "code",
   "execution_count": 4,
   "metadata": {},
   "outputs": [],
   "source": [
    "def __str__(individual):\n",
    "    s = \"\"\n",
    "    for i in range(len(individual)):\n",
    "        s += individual[i]\n",
    "        if i % DIM == DIM-1: s+='#'\n",
    "    return s\n",
    "\n",
    "creator.Individual.__str__ = __str__"
   ]
  },
  {
   "cell_type": "markdown",
   "metadata": {},
   "source": [
    "Finally, the `initRepeat` pattern is again useful to fill another `list`, this time with randomly initialized individuals, in order to create the initial population to be processed by the genetic algorithm, and register this in the `toolbox` as the `population` function."
   ]
  },
  {
   "cell_type": "code",
   "execution_count": null,
   "metadata": {},
   "outputs": [],
   "source": [
    "toolbox.register(\"population\",\n",
    "                  tools.initRepeat,\n",
    "                  list,\n",
    "                  toolbox.individual)"
   ]
  },
  {
   "cell_type": "markdown",
   "metadata": {},
   "source": [
    "## Evolutionary functions\n",
    "\n",
    "Deap provides a set of predefined genetic algorithms that rely upon particular functions defined by the user into the toolbox in order to perform the necessary evolutionary steps. We will use the `eaMuPlusLambda`, a popular evolution strategy, as our algorithm.\n",
    "\n",
    "For this algorithm to work, the `evaluate`, `mate`, `mutate` and `select` functions must be defined in the toolbox, with these specific names. Let’s define them.\n",
    "\n",
    "The most complex function to be defined is the function that evaluates each individual and assigns it its fitness, so that the other parts of the algorithm can build the next generation upon the best individual ancestors in the current iteration."
   ]
  },
  {
   "cell_type": "markdown",
   "metadata": {},
   "source": [
    "## Fitness function\n",
    "\n",
    "In our example the fitness function will be composed by a bunch of regular expressions representing all the wordings of the times that the clock has to support; these will be matched against the individual representation string and the number of matches will represent the score, or fitness, of each individual.\n",
    "\n",
    "For this example we choose to represent the quarters of each hour, so a total of 48 regular expressions will be defined by the following initialization, and put in an array to be later used by our evaluate function."
   ]
  },
  {
   "cell_type": "code",
   "execution_count": null,
   "metadata": {},
   "outputs": [],
   "source": [
    "#regex list:\n",
    "hours = (\"ONE\", \"TWO\", \"THREE\", \"FOUR\", \"FIVE\", \"SIX\",\n",
    "        \"SEVEN\", \"EIGHT\", \"NINE\", \"TEN\", \"ELEVEN\", \"TWELVE\",)\n",
    "\n",
    "restrings = []\n",
    "for h in hours: restrings.append(h+\".+O.+CLOCK\")\n",
    "for h in hours: restrings.append(\"HALF.+PAST.+\"+h)\n",
    "for h in hours: restrings.append(\"QUARTER.+PAST.+\"+h)\n",
    "for h in hours: restrings.append(\"QUARTER.+TO.+\"+h)"
   ]
  },
  {
   "cell_type": "markdown",
   "metadata": {},
   "source": [
    "This initialization code simply defines a list of regular expressions by combining the twelve hours into four different patterns of words, giving 48 combinations where any character - including line separators - can be placed between the words for the regular expression to match. The regular expressions must be built one for each pattern of the word clock, since there is no way to find the number of matches of a regular expression containing alternative tokens.\n",
    "\n",
    "The fitness function will simply return the number of regular expressions that match with the string representation of the individual, so that if all regular expressions match the individual is a solution to the word clock problem."
   ]
  },
  {
   "cell_type": "code",
   "execution_count": null,
   "metadata": {},
   "outputs": [],
   "source": [
    "def evaluateInd(individual):\n",
    "    import re\n",
    "    s = str(individual)\n",
    "    scores = [re.compile(r).search(s) != None for r in restrings]\n",
    "    return (float(sum(scores)),)"
   ]
  },
  {
   "cell_type": "markdown",
   "metadata": {},
   "source": [
    "The scores array is a boolean array that contains a `True` value if the corresponding regex is matching the string of the individual; the return value is the count of True values present in the evaluation array of all the 48 regular expressions defined. Note that the function return value is expressed as a one element list of floats, as required by the `FitnessMax` `weigths` property defined previously as `(1.0, ),` so that the count of matching regular expressions will tend to be maximized by the algorithm."
   ]
  },
  {
   "cell_type": "markdown",
   "metadata": {},
   "source": [
    "## Mutation function\n",
    "\n",
    "A simple mutation function for each individual could be to pick a random position in the individual list of characters and place a random character in place of the initial one. This method could work, but it can be very time consuming to randomly match all the words in the domain of the problem until a proper solution can be found.\n",
    "\n",
    "A more efficient approach consists in building a keyword set that can be used to mutate the string by inserting whole words that we already know will be part of the final solution: it makes little sense to guess these words one random character at a time.\n",
    "\n",
    "The following code builds a list of keywords from the list of regular expressions that had been previously initialized, relying on the fact that those expressions were a list of keywords each, separated by the “one or more character” (`.+`) token."
   ]
  },
  {
   "cell_type": "code",
   "execution_count": null,
   "metadata": {},
   "outputs": [],
   "source": [
    "#build a keyword list for mutation\n",
    "keywords = set()\n",
    "for r in restrings:\n",
    "    for i in r.split(\".+\"):\n",
    "        keywords.add(i)\n",
    "keywords = list(keywords)"
   ]
  },
  {
   "cell_type": "markdown",
   "metadata": {},
   "source": [
    "With this list we can write a function that randomly picks a position into the genome of an individual and replaces the letters found at that position with a keyword from the problem domain:"
   ]
  },
  {
   "cell_type": "code",
   "execution_count": null,
   "metadata": {},
   "outputs": [],
   "source": [
    "def myMutation(individual):\n",
    "    kw = random.choice(keywords)\n",
    "    pos = random.randint(1,len(individual)-len(kw))\n",
    "    for i, ch in enumerate(kw):\n",
    "        individual[pos+i]=ch\n",
    "    return (individual,)"
   ]
  },
  {
   "cell_type": "markdown",
   "metadata": {},
   "source": [
    "The function could be sped up further by avoiding placing the keyword across line boundaries, but to keep it simple we will let the fitness function penalize those solutions by not recognizing the keywords that fall across two lines, as the separator inserted by the `__str__` method of the `Individual` class will prevent the keywords in the regular expressions from matching."
   ]
  },
  {
   "cell_type": "markdown",
   "metadata": {},
   "source": [
    "## Mating and Selection functions\n",
    "\n",
    "Given that both the individuals and the population in the project share the same list implementation, we can leverage predefined operators for the remaining mating and selection functions: these are predefined into the `tools` package and can be simply added to the `toolbox`.\n",
    "\n",
    "For mating a pair of individuals and producing a new pair the `cxTwoPoint` can be used; for selection the `selBest` function is used to skim the best of each population round and add it to the next round of evolution. The previously defined evaluation and mutation functions can be added to the `toolbox` as well."
   ]
  },
  {
   "cell_type": "code",
   "execution_count": null,
   "metadata": {},
   "outputs": [],
   "source": [
    "toolbox.register(\"mate\", tools.cxTwoPoint)\n",
    "toolbox.register(\"select\", tools.selBest)\n",
    "toolbox.register(\"evaluate\", evaluateInd)\n",
    "toolbox.register(\"mutate\", myMutation)"
   ]
  },
  {
   "cell_type": "markdown",
   "metadata": {},
   "source": [
    "## Running the algorithm\n",
    "\n",
    "Now that all the building blocks have been defined, we are finally ready to use the [genetic algorithm `eaMuPlusLambda`](https://deap.readthedocs.io/en/master/api/algo.html) to evolve an inital population to a good solution. In order to follow the evolution and stop only when a viable solution is found, the algorithm can be inserted into a loop that will go on until all the regular expressions of the fitness function are satified by the best individual. At each iteration the top individual is computed and the fitness is printed out, in order to monitor the convergence of the algorithm, but this section can be put outside of the loop to speed up iteration; alternatively the statistics and halloffame objects can be used together with the verbose option.\n",
    "\n",
    "If it doesn't converge after a few minutes just relaunch it and let it try another time."
   ]
  },
  {
   "cell_type": "code",
   "execution_count": null,
   "metadata": {},
   "outputs": [],
   "source": [
    "\n",
    "pop = toolbox.population(n=1000)\n",
    "\n",
    "fit = 0.0\n",
    "while (fit < len(restrings)):\n",
    "\n",
    "    algorithms.eaMuPlusLambda (\n",
    "            pop, toolbox, \n",
    "            400, 100, #parents, children\n",
    "            .2, .4, #probabilities\n",
    "            1,\n",
    "    verbose=0) #iterations\n",
    "\n",
    "    top = sorted(pop, key=lambda x:x.fitness.values[0])[-1]\n",
    "    fit = top.fitness.values[0]\n",
    "#     print(fit)\n",
    "\n",
    "print(top)"
   ]
  },
  {
   "cell_type": "markdown",
   "metadata": {},
   "source": [
    "## Results\n",
    "\n",
    "With this method a couple of interesting solutions to the problem have evolved within 10 seconds or so from launching the process on a relatively speedy computer with DIM = 11. Here they are."
   ]
  },
  {
   "cell_type": "markdown",
   "metadata": {},
   "source": [
    "![word_clock_solution_11x11_a.png](images/word_clock_solution_11x11_a.png)\n",
    "\n",
    "![word_clock_solution_11x11_b.png](images/word_clock_solution_11x11_b.png)"
   ]
  },
  {
   "cell_type": "markdown",
   "metadata": {},
   "source": [
    "With DIM = 10 the algorithm often plateaued at around 46 satisfied expressions out of 48, trapped in a local solution from which nor mutation nor mating could come out of, even after many hours of running. In some other luckier runs, however, it has been able to produce solutions in half a minute or even less:"
   ]
  },
  {
   "cell_type": "markdown",
   "metadata": {},
   "source": [
    "![word_clock_solution_10x10_a.png](images/word_clock_solution_10x10_a.png)\n",
    "\n",
    "![word_clock_solution_10x10_b.png](images/word_clock_solution_10x10_b.png)"
   ]
  },
  {
   "cell_type": "markdown",
   "metadata": {},
   "source": [
    "## Conclusion and Download\n",
    "\n",
    "This code can be modified introducing new regular expressions in order to create different languages or a weather clock, or perhaps as a base to solve different genetic problems. The `__str__` function of the individual can also be altered to produce different shapes of word clocks.\n",
    "\n",
    "The full source code for the genetic word clock is available for download here, it will be useful to experiment with the deap package, to understand the concepts behind it and for writing variations or improving on the problem solution."
   ]
  },
  {
   "cell_type": "code",
   "execution_count": null,
   "metadata": {},
   "outputs": [],
   "source": []
  },
  {
   "cell_type": "code",
   "execution_count": null,
   "metadata": {},
   "outputs": [],
   "source": []
  },
  {
   "cell_type": "code",
   "execution_count": null,
   "metadata": {},
   "outputs": [],
   "source": []
  },
  {
   "cell_type": "code",
   "execution_count": null,
   "metadata": {},
   "outputs": [],
   "source": []
  }
 ],
 "metadata": {
  "kernelspec": {
   "display_name": "Python 3",
   "language": "python",
   "name": "python3"
  },
  "language_info": {
   "codemirror_mode": {
    "name": "ipython",
    "version": 3
   },
   "file_extension": ".py",
   "mimetype": "text/x-python",
   "name": "python",
   "nbconvert_exporter": "python",
   "pygments_lexer": "ipython3",
   "version": "3.7.1"
  }
 },
 "nbformat": 4,
 "nbformat_minor": 2
}
