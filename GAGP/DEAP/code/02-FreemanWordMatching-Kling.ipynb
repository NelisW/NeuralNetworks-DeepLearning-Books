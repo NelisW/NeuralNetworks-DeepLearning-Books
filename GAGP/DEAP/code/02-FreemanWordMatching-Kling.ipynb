{
 "cells": [
  {
   "cell_type": "markdown",
   "metadata": {},
   "source": [
    "# Freeman's Word Matching Problem\n",
    "\n"
   ]
  },
  {
   "cell_type": "markdown",
   "metadata": {},
   "source": [
    "This problem is defined by James Freemand in his book Simulating Neural Networks with Mathematica.\n",
    "The problem is studied in Chapter 9, Introduction to Genetic Algorithms by S.N. Sivanandam.\n",
    "\n",
    "The wordmatching problem tries to evolve an expression of ''to be or not to be'' from the randomly generated lists of letters with genetic algorithm. Since there are 26 possible letters for each of 13 locations in the list, the probability that we get the\n",
    "correct phrase in a pure random way is (1/26)13 = 4.03038∗10e−19, which is about two chances out of a billion.\n",
    "\n",
    "We use a list of ASCII integers to encode the string of letters. The lower case\n",
    "letters in ASCII are represented by numbers in the range [97,122] in the decimal\n",
    "number system. For example, the string of letters `tobeornottobe` is converted into\n",
    "the following chromosome represented with ASCII integers:\n",
    "[116,111,98,101,111,114,110,111,116,116,111,98,101].  Lowercase ASCII character have integer codes\n",
    "\n",
    "In [Learning DEAP from examples](https://www.amazon.com/Learning-DEAP-examples-Evolutionary-evolutionary-ebook/dp/B06XHXD2SF) Ronn Kling implements the problem in DEAP, solving for a four letter word such as `test` [116,101,115,116].  Keep to lowercase  and don't use spaces.\n",
    "\n",
    "The DEAP scripts can all be quite similar if the standard DEAP functions are used.\n",
    "See the [02-travelling-salesman.ipynb](https://github.com/NelisW/NeuralNetworks-DeepLearning-Notes/blob/master/GAGP/DEAP/code/02-travelling-salesman.ipynb) notebook for more detail on the standard DEAP code, the code will be used here with minimal additional comments.\n",
    "\n",
    "\n"
   ]
  },
  {
   "cell_type": "code",
   "execution_count": 1,
   "metadata": {},
   "outputs": [],
   "source": [
    "import matplotlib.pyplot as plt\n",
    "import sys\n",
    "import array\n",
    "import random\n",
    "import numpy as np\n",
    "\n",
    "from deap import  algorithms\n",
    "from deap import  base\n",
    "from deap import  creator\n",
    "from deap import  tools\n",
    "\n",
    "%matplotlib inline"
   ]
  },
  {
   "cell_type": "code",
   "execution_count": 3,
   "metadata": {},
   "outputs": [
    {
     "name": "stderr",
     "output_type": "stream",
     "text": [
      "C:\\ProgramData\\Anaconda3\\lib\\site-packages\\deap-1.2.2-py3.7-win-amd64.egg\\deap\\creator.py:141: RuntimeWarning: A class named 'FitnessMin' has already been created and it will be overwritten. Consider deleting previous creation of that class or rename it.\n",
      "  RuntimeWarning)\n"
     ]
    }
   ],
   "source": [
    "# the word to be constructed\n",
    "string = 'test'\n",
    "lenstr = len(string)\n",
    "# convert to ASCII representation\n",
    "stringToMatch = [ord(c) for c in string]\n",
    "# create fitness method\n",
    "creator.create(\"FitnessMin\", base.Fitness,weights=tuple([-1.0 for i in string] ))\n",
    "# create individual method\n",
    "creator.create(\"Individual\",list, fitness=creator.FitnessMin)\n",
    "# toolbox\n",
    "toolbox = base.Toolbox()\n",
    "# create the random ASCII attributes: a->97, z->121 (both values inclusive)\n",
    "toolbox.register('attrACSII',random.randint,97,122)\n"
   ]
  },
  {
   "cell_type": "code",
   "execution_count": null,
   "metadata": {},
   "outputs": [],
   "source": []
  },
  {
   "cell_type": "code",
   "execution_count": null,
   "metadata": {},
   "outputs": [],
   "source": []
  },
  {
   "cell_type": "code",
   "execution_count": null,
   "metadata": {},
   "outputs": [],
   "source": []
  }
 ],
 "metadata": {
  "kernelspec": {
   "display_name": "Python 3",
   "language": "python",
   "name": "python3"
  },
  "language_info": {
   "codemirror_mode": {
    "name": "ipython",
    "version": 3
   },
   "file_extension": ".py",
   "mimetype": "text/x-python",
   "name": "python",
   "nbconvert_exporter": "python",
   "pygments_lexer": "ipython3",
   "version": "3.7.1"
  }
 },
 "nbformat": 4,
 "nbformat_minor": 2
}
