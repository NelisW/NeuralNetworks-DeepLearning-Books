{
 "cells": [
  {
   "cell_type": "markdown",
   "metadata": {},
   "source": [
    "#  Travelling Salesman Problem"
   ]
  },
  {
   "cell_type": "markdown",
   "metadata": {},
   "source": [
    "There are several DEAP implementations of the Travelling Salesman Problem (TSP) on the Internet.\n",
    "\n",
    "1.  [Learning DEAP from examples](https://www.amazon.com/Learning-DEAP-examples-Evolutionary-evolutionary-ebook/dp/B06XHXD2SF) by Ronn Kling.  We are using his code as the basis for this example.\n",
    "\n",
    "2. See also the TSP implementation by Song Chisung as implemented [here](https://github.com/NelisW/NeuralNetworks-DeepLearning-Notes/blob/master/GAGP/DEAP/code/01-Decision_Making_with_GA_using_DEAP.ipynb).  Song uses  the `folium` package to plot the path on a real map.\n",
    "\n",
    "3. A very brief post by [Pepper Johnson](https://medium.com/@pasdan/genetic-algorithm-the-travelling-salesman-problem-via-python-deap-f238e0dd1a73), with full code [here](https://github.com/pepper-johnson/sack_lunch/blob/master/Notebooks/GA/Travelling%20Salesman%20Problem%20via%20DEAP.ipynb).\n",
    "\n",
    "4. The **excellent** [notebook](https://github.com/lmarti/evolutionary-computation-course/blob/master/AEC.03%20-%20Solving%20the%20TSP%20with%20GAs.ipynb) by Luis Marti.  Take the trouble to work through this notebook; the problem description and solution are well documented.\n",
    "\n",
    "The  implementations differ in some smaller details: Kling uses `array.array` to store the individual details, whereas Marti, Song and Pepper use a `list`.  The other details are very much the same, because the DEAP built-in functions are used.  Johnson has a more elaborate coding style, which appears overly lengthy, but I think this approach will pay of for complex projects.\n",
    "\n",
    "DEAP implements a large number of 'standard' functions in a framework that makes derivation from, and extension of, these functions relatively easy.  Using the framework is somewhat counter-intuitive, but once you get used to the concepts, the power of this approach really shines."
   ]
  },
  {
   "cell_type": "code",
   "execution_count": 1,
   "metadata": {},
   "outputs": [],
   "source": [
    "import matplotlib.pyplot as plt\n",
    "import sys\n",
    "import array\n",
    "import random\n",
    "import numpy as np\n",
    "\n",
    "from deap import  algorithms\n",
    "from deap import  base\n",
    "from deap import  creator\n",
    "from deap import  tools\n",
    "\n",
    "%matplotlib inline\n"
   ]
  },
  {
   "cell_type": "markdown",
   "metadata": {},
   "source": [
    "## Set up for this run"
   ]
  },
  {
   "cell_type": "code",
   "execution_count": 2,
   "metadata": {},
   "outputs": [],
   "source": [
    "doVerbose = True\n",
    "\n",
    "numCities = 10\n",
    "POP_SIZE = 100\n",
    "MAX_GEN = 100\n",
    "MUT_PROB = 0.2\n",
    "CX_PROB = 0.8"
   ]
  },
  {
   "cell_type": "markdown",
   "metadata": {},
   "source": [
    "## Creator \n",
    "\n",
    "https://deap.readthedocs.io/en/master/tutorials/basic/part1.html#creating-types  \n",
    "https://deap.readthedocs.io/en/master/tutorials/basic/part1.html#individual  \n",
    "https://deap.readthedocs.io/en/master/api/creator.html  \n",
    "\n",
    "The `creator` class factory provides the facility to use the DEAP classes as base classes but then to derive new classes for new problems.\n",
    "\n",
    "New classes can be built from any imaginable type, from list to set, dict, PrimitiveTree and more\n",
    "\n",
    "    deap.creator.create(name, base[, attribute[, ...]])\n",
    "    \n",
    "The create() function takes at least two arguments, a name for the newly created class and an existing  base class. Any subsequent argument becomes an attribute of the class.\n",
    "\n",
    "The new class can have attributes defined by the subsequent keyword arguments passed to the function `create`. If the argument is a class (a name without the parenthesis), the `__init__` function of the supplied class type is called in the initialization of an instance of the newly created  object. It seems that any required parameters in the existing class' `__init__` is taken from the rest of the `create()` parameter list.  \n",
    "The newly created class (using the name supplied) is then added as an attribute of the `creator` class. Otherwise, if the argument is not a class, (for example an int), it is added as a `static` attribute of the `creator` class.\n",
    "\n"
   ]
  },
  {
   "cell_type": "markdown",
   "metadata": {},
   "source": [
    "https://deap.readthedocs.io/en/master/tutorials/basic/part1.html#creating-types\n",
    "\n",
    "The provided `Fitness` class is an abstract class that needs a weights attribute in order to be functional. A minimizing fitness is built using negatives weights, while a maximizing fitness has positive weights. For example, the following line creates, in the `creator`, a ready to use single objective minimizing fitness named `FitnessMin`:\n",
    "\n",
    "    creator.create(\"FitnessMin\", base.Fitness, weights=(-1.0,))\n",
    "    \n",
    "A multi-objective fitness function with have more elements in the weights tuple.  The tuple `weights=(-1.0,1.0)` means that the first objective is minimised and the the second objective is maximised. The weights can also be used to vary the importance of each objective one against another. This means that the weights can be any real number and only the sign is used to determine if a maximization or minimization is done.\n",
    "\n",
    "The `creator.create` below creates a new `creator` method that will create an instance of the `FitnessMin` class when invoked."
   ]
  },
  {
   "cell_type": "code",
   "execution_count": 3,
   "metadata": {},
   "outputs": [],
   "source": [
    "creator.create(\"FitnessMin\", base.Fitness,weights=(-1.0,))\n"
   ]
  },
  {
   "cell_type": "markdown",
   "metadata": {},
   "source": [
    "https://deap.readthedocs.io/en/master/tutorials/basic/part1.html#individual  \n",
    "https://docs.python.org/3/library/array.html      \n",
    "\n",
    "    class array.array(typecode[, initializer])\n",
    "\n",
    "Instantiates an efficient array of type defined in typecode.\n",
    "\n",
    "The `create.Individual` method can create arbitrary data types: lists, dicts, etc. Variations of this type are possible by inheriting from `array.array` or `numpy.ndarray` as following.\n",
    "\n",
    "    creator.create(\"Individual\", array.array, typecode=\"d\", fitness=creator.FitnessMax)\n",
    "    creator.create(\"Individual\", numpy.ndarray, fitness=creator.FitnessMax)\n",
    "\n",
    "Type inheriting from arrays needs a typecode on initialization, just as the original class.\n",
    "\n",
    "Finally, the `create.Individual` method  must be given a fitness class, created by invoking the creator method that was defined above.\n"
   ]
  },
  {
   "cell_type": "code",
   "execution_count": 4,
   "metadata": {},
   "outputs": [],
   "source": [
    "creator.create(\"Individual\",array.array,typecode='i', fitness=creator.FitnessMin)"
   ]
  },
  {
   "cell_type": "markdown",
   "metadata": {},
   "source": [
    "Song takes the following approach, using a `list` for the individual:\n",
    "\n",
    "    creator.create(\"FitnessMulti\", base.Fitness, weights=(-1.0,1.0))\n",
    "    creator.create(\"Individual\", list, fitness=creator.FitnessMulti)\n",
    "    toolbox = base.Toolbox()\n",
    "\n",
    "    # Attribute generator \n",
    "    toolbox.register(\"index\", np.random.choice, len(df_spot), numSpots, replace=False) # choose numSpots spots\n",
    "\n",
    "    # Structure initializers\n",
    "    toolbox.register(\"individual\", tools.initIterate, creator.Individual, toolbox.index)\n",
    "    toolbox.register(\"population\", tools.initRepeat, list, toolbox.individual)"
   ]
  },
  {
   "cell_type": "markdown",
   "metadata": {},
   "source": [
    "## Creating toolbox attributes\n",
    "\n",
    "https://deap.readthedocs.io/en/master/tutorials/basic/part2.html#operators-and-algorithms  \n",
    "\n",
    "The toolbox is intended to contain all the evolutionary tools, from the object initializers to the evaluation operator. It allows easy configuration of each algorithm. The toolbox has basically two methods, register() and unregister(), that are used to add or remove tools from the toolbox.\n",
    "\n",
    "In the TSP problem, each city is represented by an index (a number) in the range `range(0,numCities)`.  The index values are sufficient for this purpose, we do not have to use city names.\n",
    "\n",
    "Create the attribute `indices` to represent the indexes or indices of the cities.\n",
    "\n",
    "The `random.sample(population, k)` function returns a `k` length list of unique elements chosen from the `population` sequence or set, used for random sampling without replacement (meaning that items are only used once).\n",
    "\n",
    "https://pynative.com/python-random-sample/\n",
    "\n",
    "So, in the code below\n",
    "\n",
    "1. Register an attribute list with numCities, selected randomly from `range(numCities)`\n",
    "\n",
    "        tooolbox.register('indices',random.sample,range(numCities),numCities)\n",
    "\n",
    "2. Register the `individual` toolbox method that will create the individuals (the lists of cities), from the attribute defined just above, in the line\n",
    "\n",
    "        toolbox.register('individual',tools.initIterate, creator.Individual, toolbox.indices)\n",
    "        \n",
    "    The parameter `tools.initIterate` is a built-in DEAP function taking two arguments: the function to be called (`creator.Individual`) and the the argument to be supplied (`toolbox.indices`).  \n",
    "\n",
    "3. Finally, create the population of individuals each comprising a list of `toolbox.individual` instances, which in turn are lists of city indices.\n",
    "\n",
    "        toolbox.register('population',tools.initRepeat,list,toolbox.individual)"
   ]
  },
  {
   "cell_type": "code",
   "execution_count": 5,
   "metadata": {},
   "outputs": [],
   "source": [
    "toolbox = base.Toolbox()\n",
    "toolbox.register('indices',random.sample,range(numCities),numCities)\n",
    "toolbox.register('individual',tools.initIterate,creator.Individual, toolbox.indices)\n",
    "toolbox.register('population',tools.initRepeat,list,toolbox.individual)"
   ]
  },
  {
   "cell_type": "code",
   "execution_count": 6,
   "metadata": {},
   "outputs": [
    {
     "name": "stdout",
     "output_type": "stream",
     "text": [
      "Demonstrate the indices, individual and population:\n",
      "indices (city names): [4, 8, 7, 5, 1, 0, 9, 6, 2, 3]\n",
      "Individual (create sequence of cities): Individual('i')\n",
      "individual (one sequence of cities): Individual('i', [3, 1, 2, 4, 0, 9, 6, 8, 7, 5])\n",
      "population (population of sequences of cities): [Individual('i', [1, 5, 9, 6, 0, 8, 4, 2, 3, 7]), Individual('i', [4, 8, 1, 7, 0, 6, 9, 2, 3, 5]), Individual('i', [7, 0, 9, 1, 5, 3, 6, 4, 8, 2]), Individual('i', [7, 0, 1, 3, 2, 4, 5, 6, 8, 9])]\n"
     ]
    }
   ],
   "source": [
    "if doVerbose:\n",
    "    ind = toolbox.individual()\n",
    "    print('Demonstrate the indices, individual and population:')\n",
    "    print(f'indices (city names): {toolbox.indices()}') \n",
    "    print(f'Individual (create sequence of cities): {creator.Individual()}')  \n",
    "    print(f'individual (one sequence of cities): {toolbox.individual()}')  \n",
    "    print(f'population (population of sequences of cities): {toolbox.population(n=4)}')  \n"
   ]
  },
  {
   "cell_type": "markdown",
   "metadata": {},
   "source": [
    "## Crossover / Mating\n",
    "\n",
    "https://deap.readthedocs.io/en/master/tutorials/basic/part2.html#using-the-toolbox  \n",
    "https://deap.readthedocs.io/en/master/tutorials/basic/part2.html#crossover  \n",
    "\n",
    " There is a variety of crossover operators in the deap.tools module. Each crossover has its own characteristics and may be applied to different types of individuals. Be careful to read the documentation of the selected operator in order to avoid undesirable behaviour.\n",
    "\n",
    "The general rule for crossover operators is that they only mate individuals, this means that an independent copies must be made prior to mating the individuals if the original individuals have to be kept or are references to other individuals (see the selection operator).\n",
    "\n",
    "In the travelling salesman problem, each city must be visited and no city must be visited twice. The travel sequence is the `individual` defined above. \n",
    "The crossover method must therefore mate the `individuals` in the `population` to comply with the above requirement. DEAP has three different crossover methods that will comply and work with indices:\n",
    "\n",
    "1. [deap.tools.cxOrdered(ind1, ind2)](https://deap.readthedocs.io/en/master/api/tools.html#deap.tools.cxOrdered)\n",
    "\n",
    "    Executes an ordered crossover (OX) on the input individuals. The two individuals are modified in place. This crossover *only works with index individual sequences*.  A portion of one parent is mapped to a portion of the other parent. Outside the filled portion, the rest is filled up by the remaining genes, where already present genes are omitted and the order is preserved. See \n",
    "    [here](http://www.dmi.unict.it/mpavone/nc-cs/materiale/moscato89.pdf) and [here](https://stackoverflow.com/questions/11782881/how-to-implement-ordered-crossover).\n",
    "    \n",
    "2. [ deap.tools.cxUniformPartialyMatched(ind1, ind2, indpb)](https://deap.readthedocs.io/en/master/api/tools.html#deap.tools.cxUniformPartialyMatched)\n",
    "Executes a uniform partially matched crossover (UPMX) on the input individuals. The two individuals are modified in place. This crossover *only works with index individual sequences*.  In this method, two crossover points are selected at random and PMX proceeds by position-wise exchanges. The two crossover points give matching selection.  It affects crossover by position-by-position exchange operations.\n",
    "\n",
    "3. [ deap.tools.cxPartialyMatched(ind1, ind2)](https://deap.readthedocs.io/en/master/api/tools.html#deap.tools.cxPartialyMatched) \n",
    "Executes a partially matched crossover (PMX) on the input individuals. The two individuals are modified in place. This crossover *only works with index individual sequences*. In this method, two crossover points are selected within a certain range of the parents and PMX proceeds by position-wise exchanges. The two crossover points give matching selection.  It affects crossover by position-by-position exchange operations.\n"
   ]
  },
  {
   "cell_type": "code",
   "execution_count": 7,
   "metadata": {},
   "outputs": [],
   "source": [
    "toolbox.register('mate',tools.cxOrdered)\n"
   ]
  },
  {
   "cell_type": "markdown",
   "metadata": {},
   "source": [
    "## Mutation\n",
    "\n",
    "https://deap.readthedocs.io/en/master/tutorials/basic/part2.html#mutation  \n",
    "\n",
    "There is a variety of mutation operators in the deap.tools module. Each mutation has its own characteristics and may be applied to different types of individuals. Be careful to read the documentation of the selected operator in order to avoid undesirable behaviour.\n",
    "\n",
    "The general rule for mutation operators is that they only mutate, this means that an independent copy must be made prior to mutating the individual if the original individual has to be kept or is a reference to another individual (see the selection operator).\n",
    "\n",
    "1. [deap.tools.mutShuffleIndexes(individual, indpb)](https://deap.readthedocs.io/en/master/api/tools.html#deap.tools.mutShuffleIndexes)\n",
    "\n",
    "    Shuffle the attributes of the input individual and return the mutant. The individual is expected to be a sequence. The `indpb` argument is the probability of each attribute to be moved. Usually this mutation is applied on vector of indices. \n",
    "    \n",
    "The following code mutates with a probability of 0.05 and alias the method `tools.mutShuffleIndexes` to ``mutuate`.\n",
    " \n",
    " \n",
    " "
   ]
  },
  {
   "cell_type": "code",
   "execution_count": 8,
   "metadata": {},
   "outputs": [],
   "source": [
    "toolbox.register('mutate',tools.mutShuffleIndexes, indpb=0.05)"
   ]
  },
  {
   "cell_type": "markdown",
   "metadata": {},
   "source": [
    "## Select\n",
    "\n",
    "https://deap.readthedocs.io/en/master/tutorials/basic/part2.html#selection\n",
    "\n",
    "Selection is made among a population by the selection operators that are available in the deap.tools module. The selection operator usually takes as first argument an iterable container of individuals and the number of individuals to select. It returns a list containing the references to the selected individuals.\n",
    "\n",
    "It is very important here to note that the selection operators does not duplicate any individual during the selection process. If an individual is selected twice and one of either object is modified, the other will also be modified. Only a reference to the individual is copied. Just like every other operator it selects and only selects. \n",
    "\n",
    "There are a number of selection algorithms to choose from:  \n",
    "https://deap.readthedocs.io/en/master/api/tools.html#selection  \n",
    "https://www.geeksforgeeks.org/tournament-selection-ga/  \n",
    "\n",
    "1.  [deap.tools.selTournament(individuals, k, tournsize, fit_attr='fitness')](https://deap.readthedocs.io/en/master/api/tools.html#selection)\n",
    "\n",
    "    Select the most fit individual among `tournsize` randomly chosen individuals, `k` times. The list returned contains references to the input individuals.\n",
    "    \n",
    "    Tournament Selection is a Selection Strategy used for selecting the fittest candidates from the current generation in a Genetic Algorithm. These selected candidates are then passed on to the next generation. In a K-way tournament selection, we select k-individuals and run a tournament among them. Only the fittest candidate amongst those selected candidates is chosen and is passed on to the next generation. In this way many such tournaments take place and we have our final selection of candidates who move on to the next generation.\n",
    "\n"
   ]
  },
  {
   "cell_type": "code",
   "execution_count": 9,
   "metadata": {},
   "outputs": [],
   "source": [
    "toolbox.register('select',tools.selTournament, tournsize=3)"
   ]
  },
  {
   "cell_type": "markdown",
   "metadata": {},
   "source": [
    "## Statistics \n",
    "\n",
    "https://deap.readthedocs.io/en/master/tutorials/basic/part3.html\n",
    "\n",
    "The `Statistics` are able to compile data on arbitrary attributes of any designated object. To do that, one needs to register the desired statistic functions inside the stats object using the exact same syntax as in the toolbox.\n",
    "The `register` function expects an alias as first argument and a function operating on vectors as second argument. Any subsequent argument is passed to the function when called. \n",
    "\n",
    "When using a predefined algorithm such as `eaSimple()`, `eaMuPlusLambda()`, `eaMuCommaLambda()`, or `eaGenerateUpdate()`, the statistics object previously created can be given as argument to the algorithm.\n",
    "\n",
    "    pop, logbook = algorithms.eaSimple(pop, toolbox, cxpb=0.5, mutpb=0.2, ngen=0, \n",
    "                                       stats=stats, verbose=True)\n",
    "\n",
    "Statistics will automatically be computed on the population every generation. The `verbose` argument prints the statistics on screen while the optimization takes place. Once the algorithm returns, the final population and a Logbook are returned.\n",
    "\n",
    "Multi-objective statistics must specify the axis for statistics:\n",
    "\n",
    "    stats.register(\"avg\", numpy.mean, axis=0)\n",
    "\n",
    "\n"
   ]
  },
  {
   "cell_type": "code",
   "execution_count": 10,
   "metadata": {},
   "outputs": [],
   "source": [
    "ind = toolbox.individual()\n",
    "\n",
    "stats = tools.Statistics(lambda ind: ind.fitness.values)\n",
    "stats.register(\"avg\", np.mean)\n",
    "stats.register(\"std\", np.std)\n",
    "stats.register(\"min\", np.min)\n",
    "stats.register(\"max\", np.max)"
   ]
  },
  {
   "cell_type": "markdown",
   "metadata": {},
   "source": [
    "## Evaluation function\n",
    "\n",
    "The evaluation function is unique to each problem and must be custom written, there is no 'standard' algorithm set to choose from.  For this problem the city locations are created as numpy arrays; as x and y containing the coordinates.\n",
    "[Song](https://github.com/NelisW/NeuralNetworks-DeepLearning-Notes/blob/master/GAGP/DEAP/code/01-Decision_Making_with_GA_using_DEAP.ipynb) uses real coordinates in Seoul and maps the solution on a real map, quite nice!\n",
    "\n",
    "Note that DEAP requires tuples for the fitness weights and the return values of the evaluation function. Recall from above  \n",
    "`creator.create(\"FitnessMin\", base.Fitness,weights=(-1.0,))`  \n",
    "where the weights are created as a tuple. Do the same for the evaluation function, in the code below. If you do not use tuples, DEAP will complain with an error.\n"
   ]
  },
  {
   "cell_type": "code",
   "execution_count": 11,
   "metadata": {},
   "outputs": [],
   "source": [
    "def evalTSP(individual):\n",
    "    diffx = np.diff(x[individual])\n",
    "    diffy = np.diff(y[individual])\n",
    "    distance = np.sum(diffx**2 + diffy**2)\n",
    "    return (distance,)\n",
    "\n",
    "# register the evaluation function with the toolbox\n",
    "toolbox.register('evaluate',evalTSP)"
   ]
  },
  {
   "cell_type": "markdown",
   "metadata": {},
   "source": [
    "## Create the city locations\n"
   ]
  },
  {
   "cell_type": "code",
   "execution_count": 15,
   "metadata": {},
   "outputs": [
    {
     "data": {
      "image/png": "[encoded data removed]",
      "text/plain": [
       "<Figure size 432x288 with 1 Axes>"
      ]
     },
     "metadata": {
      "needs_background": "light"
     },
     "output_type": "display_data"
    }
   ],
   "source": [
    "# create the cities and plot the initial order\n",
    "random.seed(169)\n",
    "x = np.random.rand(numCities) * 100\n",
    "y = np.random.rand(numCities) * 100\n",
    "plt.plot(x,y,ls='',marker='o')\n",
    "plt.show()"
   ]
  },
  {
   "cell_type": "markdown",
   "metadata": {},
   "source": [
    "## Optimise!\n",
    "\n",
    "https://deap.readthedocs.io/en/master/api/algo.html  \n",
    "\n",
    "The `algorithms` module is intended to contain some specific algorithms in order to execute very common evolutionary algorithms. The method used here are more for convenience than reference as the implementation of every evolutionary algorithm may vary infinitely. Most of the algorithms in this module use operators registered in the toolbox. Generally, the keyword used are `mate()` for crossover, `mutate()` for mutation, `select()` for selection and `evaluate()` for evaluation. This function expects the `toolbox.mate()`, `toolbox.mutate()`, `toolbox.select()` and `toolbox.evaluate()` aliases to be registered in the toolbox.\n",
    "\n",
    "The algorithm returns the optimized population and a Logbook with the statistics of the evolution. The logbook will contain the generation number, the number of evaluations for each generation and the statistics if a Statistics is given as argument.\n",
    "\n",
    "Start with a large population of possible routes. \n",
    "\n",
    "The code uses one of the built-in algorithms `algorithms.eaSimple`, where you set the main parameters for the run: \n",
    "\n",
    "    deap.algorithms.eaSimple(population, toolbox, cxpb, mutpb, ngen[, stats, halloffame, verbose])\n",
    "\n",
    "    population – A list of individuals.\n",
    "    toolbox – A Toolbox that contains the evolution operators.\n",
    "    cxpb – The probability of mating two individuals.\n",
    "    mutpb – The probability of mutating an individual.\n",
    "    ngen – The number of generation.\n",
    "    stats – A Statistics object that is updated inplace, optional.\n",
    "    halloffame – A HallOfFame object that will contain the best individuals, optional.\n",
    "    verbose – Whether or not to log the statistics."
   ]
  },
  {
   "cell_type": "code",
   "execution_count": 16,
   "metadata": {},
   "outputs": [
    {
     "name": "stdout",
     "output_type": "stream",
     "text": [
      "[Individual('i', [6, 8, 4, 7, 1, 0, 3, 5, 2, 9])]\n"
     ]
    },
    {
     "data": {
      "image/png": "[encoded data removed]",
      "text/plain": [
       "<Figure size 432x288 with 1 Axes>"
      ]
     },
     "metadata": {
      "needs_background": "light"
     },
     "output_type": "display_data"
    }
   ],
   "source": [
    "#initial populatiom\n",
    "pop = toolbox.population(n=POP_SIZE)\n",
    "\n",
    "# save only the best individual\n",
    "hof = tools.HallOfFame(1)\n",
    "\n",
    "# code the GA algorithm\n",
    "result, log = algorithms.eaSimple(pop,toolbox,cxpb=CX_PROB, mutpb=MUT_PROB, stats=stats,\n",
    "                                  ngen=MAX_GEN, halloffame=hof,verbose=False)\n",
    "\n",
    "# plot the best one\n",
    "print(hof)\n",
    "plt.plot(x[hof[0]],y[hof[0]]);\n",
    " "
   ]
  },
  {
   "cell_type": "code",
   "execution_count": 17,
   "metadata": {},
   "outputs": [
    {
     "data": {
      "image/png": "[encoded data removed]",
      "text/plain": [
       "<Figure size 432x288 with 1 Axes>"
      ]
     },
     "metadata": {
      "needs_background": "light"
     },
     "output_type": "display_data"
    }
   ],
   "source": [
    "gen = log.select('gen')\n",
    "fit_mins = log.select('min')\n",
    "fit_avgs = log.select('avg')\n",
    "\n",
    "plt.plot(gen,fit_mins,label='Minimum');\n",
    "plt.plot(gen,fit_avgs,label='Mean');\n",
    "plt.xlabel(\"Generation\")\n",
    "plt.ylabel(\"Fitness\");\n",
    "plt.legend();\n"
   ]
  }
 ],
 "metadata": {
  "kernelspec": {
   "display_name": "Python 3",
   "language": "python",
   "name": "python3"
  },
  "language_info": {
   "codemirror_mode": {
    "name": "ipython",
    "version": 3
   },
   "file_extension": ".py",
   "mimetype": "text/x-python",
   "name": "python",
   "nbconvert_exporter": "python",
   "pygments_lexer": "ipython3",
   "version": "3.7.1"
  }
 },
 "nbformat": 4,
 "nbformat_minor": 2
}
