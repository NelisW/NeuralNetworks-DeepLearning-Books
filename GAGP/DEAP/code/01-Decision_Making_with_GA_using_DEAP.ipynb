{
 "cells": [
  {
   "cell_type": "markdown",
   "metadata": {},
   "source": [
    "\n",
    "Notebook originally taken from (but modified here):  \n",
    "https://github.com/daydrill/ga_pycon_2016_apac\n",
    "\n",
    "Slides taken from:  \n",
    "https://github.com/pythonkr/pyconapac-2016-files/raw/master/20160814-102-16-SongChisung.pdf\n",
    "\n",
    "\n"
   ]
  },
  {
   "cell_type": "markdown",
   "metadata": {},
   "source": [
    "## Brief Introduction\n",
    "\n",
    "### Genetics and genetic programming\n",
    "\n",
    "![song01](images/song01.png)\n",
    "\n",
    "Population, chromosomes and genes:  \n",
    "![song01](images/song02.png)\n",
    "\n",
    "Basic genetic programming operations:  \n",
    "![song01](images/song03.png)\n",
    "\n",
    "Selection:  \n",
    "![song01](images/song04.png)\n",
    "\n",
    "Crossover (gene sharing):  \n",
    "![song01](images/song05.png)\n",
    "\n",
    "Mutation (gene modification):  \n",
    "![song01](images/song06.png)\n",
    "\n",
    "GA/GP workflow:  \n",
    "![song01](images/song07.png)\n"
   ]
  },
  {
   "cell_type": "markdown",
   "metadata": {},
   "source": [
    "### DEAP Architecture\n",
    "\n",
    "\n",
    "![song01](images/song08.png)\n",
    "\n",
    "![song01](images/song09.png)\n"
   ]
  },
  {
   "cell_type": "markdown",
   "metadata": {},
   "source": [
    "<hr style=\"border-color:#ff9900\"> \n",
    "\n",
    "## Practice 1 : \n",
    "\n",
    "<hr style=\"border-color:#ff9900\"> \n",
    "\n",
    "This example uses DEAP to create a list of numbers that add up to some value."
   ]
  },
  {
   "cell_type": "markdown",
   "metadata": {},
   "source": [
    "## Setting Things Up"
   ]
  },
  {
   "cell_type": "markdown",
   "metadata": {},
   "source": [
    "\n",
    "Assuming that you alreadyhave DEAP type the following on your shell:\n",
    "\n",
    "    conda install -c conda-forge folium \n",
    "\n"
   ]
  },
  {
   "cell_type": "code",
   "execution_count": 72,
   "metadata": {
    "collapsed": true
   },
   "outputs": [],
   "source": [
    "import random\n",
    "import numpy as np\n",
    "from deap import algorithms, base, creator, tools\n",
    "\n",
    "doVerbose = True\n",
    "listLength = 5\n",
    "sumUpTo = 100"
   ]
  },
  {
   "cell_type": "code",
   "execution_count": 73,
   "metadata": {},
   "outputs": [],
   "source": [
    "if doVerbose:\n",
    "    # manually compile list:\n",
    "    # Here are 5 numbers when added, we get a hundred.\n",
    "    list1 = [100, 0, 0, 0, 0]\n",
    "    list2 = [20, 21, 19, 15, 25]\n",
    "    (sum(list1), sum(list2))"
   ]
  },
  {
   "cell_type": "markdown",
   "metadata": {},
   "source": [
    "### Creator\n",
    "- Meta-factory allowing the run-time creation of classes via both inheritance and composition.\n",
    "- Attributes, both data and functions, can be dynamically added to existing classes in order to create user-specific new types.\n",
    "- By using this, the creation of individuals and populations from any data structure ( list, set, dictionary, tree, etc… )"
   ]
  },
  {
   "cell_type": "code",
   "execution_count": 76,
   "metadata": {
    "collapsed": false
   },
   "outputs": [
    {
     "name": "stderr",
     "output_type": "stream",
     "text": [
      "C:\\ProgramData\\Anaconda3\\lib\\site-packages\\deap-1.2.2-py3.7-win-amd64.egg\\deap\\creator.py:141: RuntimeWarning: A class named 'FitnessMin' has already been created and it will be overwritten. Consider deleting previous creation of that class or rename it.\n",
      "  RuntimeWarning)\n"
     ]
    }
   ],
   "source": [
    "# Creates a new class named \"FitnessMin\" inheriting from \"base.Fitness\" with attribute \"weights=(-1.0,)\"\n",
    "# The fitness is a measure of quality of a solution.\n",
    "creator.create(\"FitnessMin\", base.Fitness, weights=(-1.0,)) # -1 -> minimum problem\n",
    "creator.create(\"Individual\", list, fitness=creator.FitnessMin)"
   ]
  },
  {
   "cell_type": "markdown",
   "metadata": {},
   "source": [
    "### Toolbox\n",
    "- Container for the tools (operators) that the user wants to use.\n",
    "- Manually populated by the user with selected tools."
   ]
  },
  {
   "cell_type": "code",
   "execution_count": 77,
   "metadata": {
    "collapsed": true
   },
   "outputs": [],
   "source": [
    "toolbox = base.Toolbox()\n",
    "\n",
    "# Attribute generator : get random number between 0~100\n",
    "toolbox.register(\"attr_bool\", random.randint, 0, sumUpTo)\n",
    "\n",
    "# Structure initializers\n",
    "toolbox.register(\"individual\", tools.initRepeat, creator.Individual, toolbox.attr_bool, listLength)\n",
    "toolbox.register(\"population\", tools.initRepeat, list, toolbox.individual)\n"
   ]
  },
  {
   "cell_type": "markdown",
   "metadata": {},
   "source": [
    "## The Evaluation Function\n",
    "\n",
    "objective function  built for our problem: want to minimise the sum distance from `sumUpTo`"
   ]
  },
  {
   "cell_type": "code",
   "execution_count": 78,
   "metadata": {
    "collapsed": true
   },
   "outputs": [],
   "source": [
    "def sum_error(individual):\n",
    "    error = abs(sumUpTo - sum(individual))\n",
    "    # note the ',' and end of line, makes a tuple:\n",
    "    return error,"
   ]
  },
  {
   "cell_type": "code",
   "execution_count": 79,
   "metadata": {},
   "outputs": [
    {
     "name": "stdout",
     "output_type": "stream",
     "text": [
      "Demonstrate the attribute, individual and population:\n",
      "Attribute demo: 74\n",
      "Individual demo: [78, 31, 98, 15, 19]\n",
      "Individual sum: 241\n",
      "<class 'tuple'>\n",
      "(141,)\n",
      "[[57, 67, 36, 99, 16], [72, 15, 88, 91, 70], [4, 83, 74, 84, 46], [51, 38, 65, 10, 65], [76, 29, 37, 73, 13], [76, 68, 13, 1, 77], [32, 49, 71, 72, 7], [86, 19, 96, 25, 81], [93, 65, 74, 77, 93], [50, 89, 20, 83, 32]]\n"
     ]
    }
   ],
   "source": [
    "if doVerbose:\n",
    "    ind = toolbox.individual()\n",
    "    print('Demonstrate the attribute, individual and population:')\n",
    "    print(f'Attribute demo: {toolbox.attr_bool()}') \n",
    "    print(f'Individual demo: {ind}')  \n",
    "    print(f'Individual sum: {sum(ind)}')  # demo test individual sum\n",
    "    print(type(sum_error(ind))) # error\n",
    "    print(sum_error(ind)) # error\n",
    "    print(toolbox.population(n=10)) # demo pop of 10 indv\n",
    "    "
   ]
  },
  {
   "cell_type": "markdown",
   "metadata": {},
   "source": [
    "## The Genetic Operators\n",
    "- Operators are just like initializers, except that some are already implemented in the [tools](http://deap.readthedocs.io/en/master/api/tools.html#module-deap.tools) module. \n",
    "- __Once you’ve chosen the perfect ones, simply register them in the toolbox.__"
   ]
  },
  {
   "cell_type": "code",
   "execution_count": 80,
   "metadata": {
    "collapsed": false
   },
   "outputs": [],
   "source": [
    "toolbox.register(\"evaluate\", sum_error)"
   ]
  },
  {
   "cell_type": "code",
   "execution_count": 81,
   "metadata": {
    "collapsed": true
   },
   "outputs": [],
   "source": [
    "toolbox.register(\"mate\", tools.cxTwoPoint)\n",
    "toolbox.register(\"mutate\", tools.mutUniformInt, low=0, up=100, indpb=0.2) # Independent probability  : for each attribute to be mutated.# low~up rondom int\n",
    "toolbox.register(\"select\", tools.selTournament, tournsize=3)"
   ]
  },
  {
   "cell_type": "markdown",
   "metadata": {},
   "source": [
    "## Evolving the Population"
   ]
  },
  {
   "cell_type": "markdown",
   "metadata": {},
   "source": [
    "### Creating the Population"
   ]
  },
  {
   "cell_type": "code",
   "execution_count": 82,
   "metadata": {
    "collapsed": false,
    "scrolled": true
   },
   "outputs": [
    {
     "data": {
      "text/plain": [
       "[[74, 92, 77, 93, 26],\n",
       " [43, 19, 4, 6, 4],\n",
       " [50, 81, 53, 74, 49],\n",
       " [50, 68, 35, 95, 36],\n",
       " [57, 66, 43, 15, 69],\n",
       " [50, 46, 2, 100, 23],\n",
       " [56, 56, 4, 38, 66],\n",
       " [62, 44, 9, 19, 45],\n",
       " [88, 20, 14, 55, 45],\n",
       " [71, 52, 40, 0, 72]]"
      ]
     },
     "execution_count": 82,
     "metadata": {},
     "output_type": "execute_result"
    }
   ],
   "source": [
    "pop = toolbox.population(n=100)\n",
    "pop[:10] # only print the first few"
   ]
  },
  {
   "cell_type": "markdown",
   "metadata": {},
   "source": [
    "### The Appeal of Evolution"
   ]
  },
  {
   "cell_type": "code",
   "execution_count": 83,
   "metadata": {
    "collapsed": true
   },
   "outputs": [],
   "source": [
    "# Use of a HallOfFame in order to keep track of the best individual to appear in the evolution \n",
    "# (it keeps it even in the case it extinguishes)\n",
    "hof = tools.HallOfFame(1)"
   ]
  },
  {
   "cell_type": "code",
   "execution_count": 84,
   "metadata": {
    "collapsed": true
   },
   "outputs": [],
   "source": [
    "stats = tools.Statistics(lambda ind: ind.fitness.values)\n",
    "stats.register(\"avg\", np.mean)\n",
    "stats.register(\"std\", np.std)\n",
    "stats.register(\"min\", np.min)\n",
    "stats.register(\"max\", np.max)"
   ]
  },
  {
   "cell_type": "code",
   "execution_count": 90,
   "metadata": {
    "collapsed": false
   },
   "outputs": [
    {
     "name": "stdout",
     "output_type": "stream",
     "text": [
      "gen\tnevals\tavg \tstd    \tmin\tmax\n",
      "0  \t0     \t9.98\t27.1116\t0  \t155\n",
      "1  \t66    \t8.72\t23.2379\t0  \t119\n",
      "2  \t65    \t10.96\t24.835 \t0  \t125\n",
      "3  \t64    \t6.69 \t22.9158\t0  \t157\n",
      "4  \t68    \t4.54 \t14.6516\t0  \t83 \n",
      "5  \t61    \t7.07 \t19.1014\t0  \t84 \n",
      "6  \t59    \t7.22 \t21.706 \t0  \t108\n",
      "7  \t63    \t5.12 \t16.2649\t0  \t79 \n",
      "8  \t59    \t5.21 \t18.449 \t0  \t107\n",
      "9  \t62    \t4.2  \t15.8865\t0  \t108\n",
      "10 \t57    \t4.51 \t13.8978\t0  \t82 \n",
      "11 \t58    \t2.7  \t9.81071\t0  \t65 \n",
      "12 \t64    \t6.71 \t21.3646\t0  \t127\n",
      "13 \t61    \t3.75 \t12.2584\t0  \t66 \n",
      "14 \t60    \t9.8  \t27.5024\t0  \t184\n",
      "15 \t51    \t5.56 \t18.4766\t0  \t105\n",
      "16 \t63    \t7.61 \t22.0031\t0  \t119\n",
      "17 \t52    \t8.14 \t24.1764\t0  \t156\n",
      "18 \t55    \t7.1  \t27.0498\t0  \t174\n",
      "19 \t54    \t5.39 \t20.2711\t0  \t137\n",
      "20 \t41    \t7.46 \t23.0423\t0  \t136\n",
      "21 \t69    \t8.84 \t26.8651\t0  \t143\n",
      "22 \t60    \t3.63 \t12.9658\t0  \t73 \n",
      "23 \t63    \t4.23 \t13.9985\t0  \t78 \n",
      "24 \t57    \t6.46 \t22.381 \t0  \t149\n",
      "25 \t47    \t4.17 \t14.3137\t0  \t79 \n",
      "26 \t60    \t8.13 \t25.5067\t0  \t125\n",
      "27 \t62    \t4.01 \t14.0964\t0  \t76 \n",
      "28 \t54    \t4.26 \t14.0197\t0  \t74 \n",
      "29 \t65    \t5.6  \t17.7578\t0  \t112\n",
      "30 \t62    \t8.36 \t20.4105\t0  \t88 \n",
      "31 \t65    \t11.39\t28.2588\t0  \t133\n",
      "32 \t57    \t3.9  \t14.575 \t0  \t76 \n",
      "33 \t56    \t6.1  \t22.8405\t0  \t131\n",
      "34 \t60    \t6.19 \t24.7082\t0  \t157\n",
      "35 \t59    \t7.33 \t21.5908\t0  \t142\n",
      "36 \t61    \t4.49 \t20.2349\t0  \t161\n",
      "37 \t63    \t4.68 \t16.1554\t0  \t113\n",
      "38 \t56    \t5.66 \t18.1026\t0  \t118\n",
      "39 \t72    \t7.03 \t22.6479\t0  \t167\n",
      "40 \t70    \t9.78 \t27.7318\t0  \t188\n",
      "gen\tnevals\tavg  \tstd    \tmin\tmax\n",
      "0  \t0     \t9.98 \t27.1116\t0  \t155\n",
      "1  \t66    \t8.72 \t23.2379\t0  \t119\n",
      "2  \t65    \t10.96\t24.835 \t0  \t125\n",
      "3  \t64    \t6.69 \t22.9158\t0  \t157\n",
      "4  \t68    \t4.54 \t14.6516\t0  \t83 \n",
      "5  \t61    \t7.07 \t19.1014\t0  \t84 \n",
      "6  \t59    \t7.22 \t21.706 \t0  \t108\n",
      "7  \t63    \t5.12 \t16.2649\t0  \t79 \n",
      "8  \t59    \t5.21 \t18.449 \t0  \t107\n",
      "9  \t62    \t4.2  \t15.8865\t0  \t108\n",
      "10 \t57    \t4.51 \t13.8978\t0  \t82 \n",
      "11 \t58    \t2.7  \t9.81071\t0  \t65 \n",
      "12 \t64    \t6.71 \t21.3646\t0  \t127\n",
      "13 \t61    \t3.75 \t12.2584\t0  \t66 \n",
      "14 \t60    \t9.8  \t27.5024\t0  \t184\n",
      "15 \t51    \t5.56 \t18.4766\t0  \t105\n",
      "16 \t63    \t7.61 \t22.0031\t0  \t119\n",
      "17 \t52    \t8.14 \t24.1764\t0  \t156\n",
      "18 \t55    \t7.1  \t27.0498\t0  \t174\n",
      "19 \t54    \t5.39 \t20.2711\t0  \t137\n",
      "20 \t41    \t7.46 \t23.0423\t0  \t136\n",
      "21 \t69    \t8.84 \t26.8651\t0  \t143\n",
      "22 \t60    \t3.63 \t12.9658\t0  \t73 \n",
      "23 \t63    \t4.23 \t13.9985\t0  \t78 \n",
      "24 \t57    \t6.46 \t22.381 \t0  \t149\n",
      "25 \t47    \t4.17 \t14.3137\t0  \t79 \n",
      "26 \t60    \t8.13 \t25.5067\t0  \t125\n",
      "27 \t62    \t4.01 \t14.0964\t0  \t76 \n",
      "28 \t54    \t4.26 \t14.0197\t0  \t74 \n",
      "29 \t65    \t5.6  \t17.7578\t0  \t112\n",
      "30 \t62    \t8.36 \t20.4105\t0  \t88 \n",
      "31 \t65    \t11.39\t28.2588\t0  \t133\n",
      "32 \t57    \t3.9  \t14.575 \t0  \t76 \n",
      "33 \t56    \t6.1  \t22.8405\t0  \t131\n",
      "34 \t60    \t6.19 \t24.7082\t0  \t157\n",
      "35 \t59    \t7.33 \t21.5908\t0  \t142\n",
      "36 \t61    \t4.49 \t20.2349\t0  \t161\n",
      "37 \t63    \t4.68 \t16.1554\t0  \t113\n",
      "38 \t56    \t5.66 \t18.1026\t0  \t118\n",
      "39 \t72    \t7.03 \t22.6479\t0  \t167\n",
      "40 \t70    \t9.78 \t27.7318\t0  \t188\n",
      "[[24, 30, 17, 18, 11], [24, 30, 17, 18, 11], [24, 30, 17, 18, 11], [24, 30, 75, 18, 11], [24, 30, 17, 18, 11], [24, 30, 17, 18, 11], [24, 30, 17, 18, 11], [24, 30, 17, 18, 11], [24, 30, 17, 18, 11], [24, 30, 17, 18, 11], [24, 30, 17, 18, 11], [24, 74, 17, 18, 11], [24, 30, 17, 18, 11], [28, 30, 17, 18, 81], [24, 30, 17, 18, 11], [24, 30, 17, 18, 11], [24, 30, 17, 18, 11], [24, 30, 17, 18, 11], [24, 30, 17, 18, 11], [24, 30, 17, 18, 11], [24, 30, 17, 18, 11], [24, 30, 17, 18, 11], [24, 33, 17, 18, 11], [24, 30, 17, 18, 11], [24, 30, 17, 18, 11], [24, 30, 17, 18, 11], [24, 30, 17, 18, 11], [24, 30, 17, 18, 11], [24, 30, 17, 18, 11], [24, 30, 17, 18, 11], [24, 30, 17, 18, 11], [24, 30, 17, 18, 11], [24, 30, 17, 18, 11], [24, 30, 17, 18, 11], [24, 30, 17, 18, 11], [24, 30, 17, 18, 11], [24, 30, 17, 18, 11], [24, 30, 17, 18, 11], [24, 57, 17, 22, 79], [24, 30, 17, 18, 11], [24, 30, 17, 18, 11], [24, 30, 17, 18, 11], [24, 30, 17, 18, 11], [24, 30, 17, 18, 11], [24, 30, 17, 18, 11], [24, 30, 33, 18, 11], [24, 30, 17, 18, 11], [24, 30, 17, 18, 11], [24, 30, 17, 18, 72], [24, 30, 17, 18, 11], [24, 30, 17, 18, 11], [24, 30, 17, 18, 11], [24, 30, 17, 18, 11], [38, 30, 17, 21, 11], [24, 30, 17, 18, 11], [24, 30, 17, 18, 11], [24, 30, 17, 18, 11], [24, 30, 17, 18, 11], [24, 30, 17, 18, 11], [24, 30, 17, 18, 11], [24, 30, 17, 18, 19], [24, 30, 17, 18, 11], [24, 30, 17, 18, 61], [24, 30, 17, 18, 11], [24, 30, 17, 18, 11], [24, 30, 17, 18, 11], [24, 30, 17, 18, 11], [24, 30, 17, 18, 11], [24, 30, 17, 18, 11], [24, 30, 17, 18, 11], [24, 30, 17, 18, 11], [24, 30, 17, 18, 11], [24, 30, 17, 18, 11], [24, 32, 17, 18, 11], [40, 30, 17, 18, 28], [24, 30, 17, 18, 11], [24, 30, 17, 18, 11], [24, 30, 17, 18, 11], [24, 30, 17, 18, 92], [24, 30, 17, 18, 11], [24, 30, 57, 18, 11], [24, 30, 67, 18, 11], [24, 30, 17, 18, 11], [24, 30, 17, 18, 11], [24, 30, 17, 18, 11], [24, 30, 17, 18, 95], [24, 30, 67, 91, 76], [24, 30, 17, 18, 11], [24, 30, 17, 18, 11], [24, 30, 17, 18, 11], [24, 20, 97, 18, 11], [24, 30, 17, 18, 11], [24, 30, 17, 18, 11], [24, 30, 17, 18, 11], [24, 30, 17, 18, 11], [24, 30, 17, 18, 11], [24, 30, 17, 18, 11], [24, 30, 17, 18, 11], [24, 30, 17, 18, 11], [24, 30, 17, 18, 11]]\n"
     ]
    }
   ],
   "source": [
    "# algorithms : contains useful implements some basic GA\n",
    "pop, log = algorithms.eaSimple(pop, toolbox, cxpb=0.5, mutpb=0.2, ngen=40, stats=stats, halloffame=hof, verbose=True)\n",
    "print(log)\n",
    "print(pop)"
   ]
  },
  {
   "cell_type": "code",
   "execution_count": 93,
   "metadata": {
    "collapsed": false,
    "scrolled": true
   },
   "outputs": [
    {
     "data": {
      "text/plain": [
       "[100, 100, 100, 158, 100, 100, 100, 100, 100, 100]"
      ]
     },
     "execution_count": 93,
     "metadata": {},
     "output_type": "execute_result"
    }
   ],
   "source": [
    "[sum(ind) for ind in pop[:10]] # first ten"
   ]
  },
  {
   "cell_type": "code",
   "execution_count": 94,
   "metadata": {
    "collapsed": false,
    "scrolled": true
   },
   "outputs": [
    {
     "data": {
      "text/plain": [
       "[[24, 30, 17, 18, 11],\n",
       " [24, 30, 17, 18, 11],\n",
       " [24, 30, 17, 18, 11],\n",
       " [24, 30, 17, 18, 11],\n",
       " [24, 30, 17, 18, 11]]"
      ]
     },
     "execution_count": 94,
     "metadata": {},
     "output_type": "execute_result"
    }
   ],
   "source": [
    "tools.selBest(pop, k=5)"
   ]
  },
  {
   "cell_type": "markdown",
   "metadata": {},
   "source": [
    "<hr style=\"border-color:#ff9900\"> \n",
    "\n",
    "## Practice 2 : Travelling salesman\n",
    "\n",
    "Find the Best Tour Route using NSGA-ii\n",
    "\n",
    "<hr style=\"border-color:#ff9900\"> \n"
   ]
  },
  {
   "cell_type": "markdown",
   "metadata": {},
   "source": [
    "# Preparing Data for GA"
   ]
  },
  {
   "cell_type": "markdown",
   "metadata": {},
   "source": [
    "- Data from [Seoul data portal](http://data.seoul.go.kr/openinf/sheetview.jsp?infId=OA-12929&tMenu=11)"
   ]
  },
  {
   "cell_type": "markdown",
   "metadata": {},
   "source": [
    "## Load Data"
   ]
  },
  {
   "cell_type": "code",
   "execution_count": 95,
   "metadata": {
    "collapsed": true
   },
   "outputs": [],
   "source": [
    "import pandas as pd\n",
    "import numpy as np\n",
    "\n",
    "from math import radians, cos, sin, asin, sqrt \n",
    "\n",
    "# Geo data viz\n",
    "import folium"
   ]
  },
  {
   "cell_type": "markdown",
   "metadata": {},
   "source": [
    "Read the list of sites"
   ]
  },
  {
   "cell_type": "code",
   "execution_count": 97,
   "metadata": {
    "collapsed": false
   },
   "outputs": [
    {
     "data": {
      "text/html": [
       "<div>\n",
       "<style scoped>\n",
       "    .dataframe tbody tr th:only-of-type {\n",
       "        vertical-align: middle;\n",
       "    }\n",
       "\n",
       "    .dataframe tbody tr th {\n",
       "        vertical-align: top;\n",
       "    }\n",
       "\n",
       "    .dataframe thead th {\n",
       "        text-align: right;\n",
       "    }\n",
       "</style>\n",
       "<table border=\"1\" class=\"dataframe\">\n",
       "  <thead>\n",
       "    <tr style=\"text-align: right;\">\n",
       "      <th></th>\n",
       "      <th>street_en</th>\n",
       "      <th>dong_en</th>\n",
       "      <th>lng</th>\n",
       "      <th>lat</th>\n",
       "      <th>score</th>\n",
       "    </tr>\n",
       "  </thead>\n",
       "  <tbody>\n",
       "    <tr>\n",
       "      <th>0</th>\n",
       "      <td>fishing-tackle street</td>\n",
       "      <td>Hoehyeon-dong</td>\n",
       "      <td>126.977432</td>\n",
       "      <td>37.558050</td>\n",
       "      <td>80</td>\n",
       "    </tr>\n",
       "    <tr>\n",
       "      <th>1</th>\n",
       "      <td>Wangsimni Gopchang Alley</td>\n",
       "      <td>Hwanghak-dong</td>\n",
       "      <td>127.020434</td>\n",
       "      <td>37.568610</td>\n",
       "      <td>68</td>\n",
       "    </tr>\n",
       "    <tr>\n",
       "      <th>2</th>\n",
       "      <td>The north side of Ring-Road</td>\n",
       "      <td>Gwanghui-dong</td>\n",
       "      <td>126.995925</td>\n",
       "      <td>37.561350</td>\n",
       "      <td>55</td>\n",
       "    </tr>\n",
       "    <tr>\n",
       "      <th>3</th>\n",
       "      <td>Jangchungdan-gil</td>\n",
       "      <td>Pil-dong</td>\n",
       "      <td>127.000575</td>\n",
       "      <td>37.561386</td>\n",
       "      <td>87</td>\n",
       "    </tr>\n",
       "    <tr>\n",
       "      <th>4</th>\n",
       "      <td>Chodong-gil</td>\n",
       "      <td>Euljiro-dong</td>\n",
       "      <td>126.997646</td>\n",
       "      <td>37.566410</td>\n",
       "      <td>4</td>\n",
       "    </tr>\n",
       "  </tbody>\n",
       "</table>\n",
       "</div>"
      ],
      "text/plain": [
       "                     street_en        dong_en         lng        lat  score\n",
       "0        fishing-tackle street  Hoehyeon-dong  126.977432  37.558050     80\n",
       "1     Wangsimni Gopchang Alley  Hwanghak-dong  127.020434  37.568610     68\n",
       "2  The north side of Ring-Road  Gwanghui-dong  126.995925  37.561350     55\n",
       "3             Jangchungdan-gil       Pil-dong  127.000575  37.561386     87\n",
       "4                  Chodong-gil   Euljiro-dong  126.997646  37.566410      4"
      ]
     },
     "execution_count": 97,
     "metadata": {},
     "output_type": "execute_result"
    }
   ],
   "source": [
    "df_spot = pd.read_csv(\"data/seoul_street.csv\")\n",
    "df_spot = df_spot.drop(['street_ko','address','dong_ko'],axis=1)\n",
    "df_spot.head()"
   ]
  },
  {
   "cell_type": "markdown",
   "metadata": {},
   "source": [
    "## Visualise the Data"
   ]
  },
  {
   "cell_type": "code",
   "execution_count": 98,
   "metadata": {
    "collapsed": false
   },
   "outputs": [
    {
     "data": {
      "text/html": [
       "<div style=\"width:100%;\"><div style=\"position:relative;width:100%;height:0;padding-bottom:60%;\"><iframe src=\"data:text/html;charset=utf-8;base64,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\" style=\"position:absolute;width:100%;height:100%;left:0;top:0;border:none !important;\" allowfullscreen webkitallowfullscreen mozallowfullscreen></iframe></div></div>"
      ],
      "text/plain": [
       "<folium.folium.Map at 0xa6dbc88>"
      ]
     },
     "execution_count": 98,
     "metadata": {},
     "output_type": "execute_result"
    }
   ],
   "source": [
    "# show the map\n",
    "m = folium.Map(location=[np.mean(df_spot.lat), np.mean(df_spot.lng)], zoom_start=11, tiles='Stamen Toner')\n",
    "# and the sites to visit\n",
    "for index, row in df_spot.iterrows():\n",
    "    popup_txt = \"%s // Score : %s \" % (row.street_en, row.score)\n",
    "    folium.Marker([row.lat, row.lng], popup=popup_txt).add_to(m)\n",
    "m"
   ]
  },
  {
   "cell_type": "markdown",
   "metadata": {},
   "source": [
    "# Applying Genetic Algorithm"
   ]
  },
  {
   "cell_type": "markdown",
   "metadata": {},
   "source": [
    "## Setting Things Up"
   ]
  },
  {
   "cell_type": "code",
   "execution_count": 99,
   "metadata": {
    "collapsed": true
   },
   "outputs": [],
   "source": [
    "import random\n",
    "import numpy as np\n",
    "from deap import algorithms, base, creator, tools\n",
    "\n",
    "numSpots = 5"
   ]
  },
  {
   "cell_type": "markdown",
   "metadata": {},
   "source": [
    "### Creator"
   ]
  },
  {
   "cell_type": "code",
   "execution_count": 100,
   "metadata": {
    "collapsed": false
   },
   "outputs": [
    {
     "name": "stderr",
     "output_type": "stream",
     "text": [
      "C:\\ProgramData\\Anaconda3\\lib\\site-packages\\deap-1.2.2-py3.7-win-amd64.egg\\deap\\creator.py:141: RuntimeWarning: A class named 'FitnessMulti' has already been created and it will be overwritten. Consider deleting previous creation of that class or rename it.\n",
      "  RuntimeWarning)\n"
     ]
    }
   ],
   "source": [
    "creator.create(\"FitnessMulti\", base.Fitness, weights=(-1.0,1.0))\n",
    "creator.create(\"Individual\", list, fitness=creator.FitnessMulti)"
   ]
  },
  {
   "cell_type": "markdown",
   "metadata": {},
   "source": [
    "### Toolbox"
   ]
  },
  {
   "cell_type": "code",
   "execution_count": 101,
   "metadata": {
    "collapsed": true
   },
   "outputs": [],
   "source": [
    "toolbox = base.Toolbox()\n",
    "\n",
    "# Attribute generator \n",
    "toolbox.register(\"index\", np.random.choice, len(df_spot), numSpots, replace=False) # choose numSpots spots\n",
    "\n",
    "# Structure initializers\n",
    "toolbox.register(\"individual\", tools.initIterate, creator.Individual, toolbox.index)\n",
    "toolbox.register(\"population\", tools.initRepeat, list, toolbox.individual)"
   ]
  },
  {
   "cell_type": "markdown",
   "metadata": {},
   "source": [
    "## Select the sites"
   ]
  },
  {
   "cell_type": "code",
   "execution_count": 110,
   "metadata": {
    "collapsed": true
   },
   "outputs": [],
   "source": [
    "def create_tour(individual):\n",
    "    return [(df_spot.iloc[i].lat, df_spot.iloc[i].lng) for i in individual]\n",
    "\n",
    "# sample individual -> just index of the data\n",
    "ind = toolbox.individual()\n",
    "\n",
    "# convert index to geo data for get distance.\n",
    "df_spot.iloc[ind]\n",
    "tour = create_tour(ind)\n"
   ]
  },
  {
   "cell_type": "markdown",
   "metadata": {},
   "source": [
    "## The Evaluation Function\n",
    "- objective function 1. __total distance -> minimun__\n",
    "- objective function 2. __total score -> maximum__"
   ]
  },
  {
   "cell_type": "code",
   "execution_count": 115,
   "metadata": {
    "collapsed": true
   },
   "outputs": [],
   "source": [
    "## Function for get a total distance of tour case\n",
    "\n",
    "def distance(spot1, spot2):\n",
    "    # convert decimal degrees to radians \n",
    "    lng1, lat1, lng2, lat2 = map(radians, [spot1[0], spot1[1], spot2[0], spot2[1]])\n",
    "    \n",
    "    RADIUS = 6371 # FAA approved globe radius in km\n",
    "    \n",
    "    dlng = lng2-lng1\n",
    "    dlat = lat2-lat1\n",
    "    a = sin(dlat/2)**2 + cos(lat1) * cos(lat2) * sin(dlng/2)**2\n",
    "    c = 2 * asin(sqrt(a)) \n",
    "    dist = RADIUS * c\n",
    "    return dist\n",
    "\n",
    "\n",
    "def total_distance(tour):\n",
    "    tour_sum = sum(distance(tour[i], tour[i+1]) for i in range(len(tour)-1))\n",
    "    return tour_sum\n",
    "\n",
    "\n",
    "def total_score(individual):\n",
    "    return sum([df_spot.iloc[i]['score'] for i in individual]) \n",
    "\n",
    "\n",
    "def eval_func(individual):\n",
    "    \n",
    "    # 1 total distance -> minimun\n",
    "    t_dist = total_distance(create_tour(individual))\n",
    "    \n",
    "    # 2 total score -> maximum\n",
    "    t_score = total_score(individual)\n",
    "    \n",
    "    # 3 penalty\n",
    "    penalty = len(individual) - len(set(individual))\n",
    "    t_dist += penalty*1000000\n",
    "    t_score -= penalty*1000000\n",
    "    \n",
    "    return t_dist, t_score"
   ]
  },
  {
   "cell_type": "code",
   "execution_count": 117,
   "metadata": {
    "collapsed": false
   },
   "outputs": [
    {
     "name": "stdout",
     "output_type": "stream",
     "text": [
      "Selected site indexes: [49, 37, 61, 4, 36]\n",
      "Selected site coordinates: [(37.5546022525, 126.95608923370001), (37.6168942335, 126.99739487219999), (37.4829408135, 126.948985568), (37.5664098491, 126.9976456492), (37.485404346799996, 127.1221039568)]\n",
      "Total distance: 39.292110678527436\n",
      "Total score: 146\n",
      "Fitness score: (39.292110678527436, 146)\n"
     ]
    }
   ],
   "source": [
    "if doVerbose:\n",
    "    print(f'Selected site indexes: {ind}')\n",
    "    print(f'Selected site coordinates: {tour}')\n",
    "    # total distance of sample individual\n",
    "    print(f'Total distance: {total_distance(tour)}')\n",
    "    print(f'Total score: {total_score(ind)}')\n",
    "    print(f'Fitness score: {eval_func(ind) }')\n",
    "\n"
   ]
  },
  {
   "cell_type": "code",
   "execution_count": 24,
   "metadata": {
    "collapsed": true
   },
   "outputs": [],
   "source": [
    "def plot_tour(ind):\n",
    "    tour = create_tour(ind)\n",
    "    m = folium.Map(location=[np.mean(df_spot.lat), np.mean(df_spot.lng)], zoom_start=13)\n",
    "    path=folium.PolyLine(locations=tour,weight=5)\n",
    "    m.add_child(path)\n",
    "    for i,loc in enumerate(ind):\n",
    "        popup_txt = \"%s // Score : %s \" % (df_spot.iloc[loc].street_en, df_spot.iloc[loc].score)\n",
    "        folium.Marker(tour[i], popup=popup_txt).add_to(m)\n",
    "    return m"
   ]
  },
  {
   "cell_type": "code",
   "execution_count": 114,
   "metadata": {
    "collapsed": false,
    "scrolled": true
   },
   "outputs": [
    {
     "data": {
      "text/html": [
       "<div style=\"width:100%;\"><div style=\"position:relative;width:100%;height:0;padding-bottom:60%;\"><iframe src=\"data:text/html;charset=utf-8;base64,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\" style=\"position:absolute;width:100%;height:100%;left:0;top:0;border:none !important;\" allowfullscreen webkitallowfullscreen mozallowfullscreen></iframe></div></div>"
      ],
      "text/plain": [
       "<folium.folium.Map at 0xa6db7b8>"
      ]
     },
     "execution_count": 114,
     "metadata": {},
     "output_type": "execute_result"
    }
   ],
   "source": [
    "# vizualize the tour initially before optimisation\n",
    "plot_tour(ind)"
   ]
  },
  {
   "cell_type": "markdown",
   "metadata": {},
   "source": [
    "## The Genetic Operators"
   ]
  },
  {
   "cell_type": "code",
   "execution_count": 32,
   "metadata": {
    "collapsed": true
   },
   "outputs": [],
   "source": [
    "toolbox.register(\"evaluate\", eval_func)"
   ]
  },
  {
   "cell_type": "code",
   "execution_count": 118,
   "metadata": {
    "collapsed": false
   },
   "outputs": [],
   "source": [
    "toolbox.register(\"select\", tools.selNSGA2)\n",
    "toolbox.register(\"mate\", tools.cxTwoPoint)\n",
    "# tools.mutShuffleIndexes : Shuffle the attributes of the input individual and return the mutant.\n",
    "toolbox.register(\"mutate\", tools.mutShuffleIndexes, indpb=0.8) "
   ]
  },
  {
   "cell_type": "markdown",
   "metadata": {},
   "source": [
    "## Evolving the Population"
   ]
  },
  {
   "cell_type": "code",
   "execution_count": 119,
   "metadata": {
    "collapsed": true
   },
   "outputs": [],
   "source": [
    "POP_SIZE = 100\n",
    "MAX_GEN = 100\n",
    "MUT_PROB = 0.2\n",
    "CX_PROB = 0.8"
   ]
  },
  {
   "cell_type": "markdown",
   "metadata": {},
   "source": [
    "### Creating the Population"
   ]
  },
  {
   "cell_type": "code",
   "execution_count": 47,
   "metadata": {
    "collapsed": false,
    "scrolled": true
   },
   "outputs": [],
   "source": [
    "pop = toolbox.population(n=POP_SIZE)\n",
    "#pop"
   ]
  },
  {
   "cell_type": "markdown",
   "metadata": {},
   "source": [
    "### The Appeal of Evolution"
   ]
  },
  {
   "cell_type": "code",
   "execution_count": 36,
   "metadata": {
    "collapsed": true
   },
   "outputs": [],
   "source": [
    "stats = tools.Statistics(lambda ind: ind.fitness.values)\n",
    "stats.register(\"avg\", np.mean, axis=0) \n",
    "stats.register(\"min\", np.min, axis=0)\n",
    "stats.register(\"max\", np.max, axis=0)"
   ]
  },
  {
   "cell_type": "code",
   "execution_count": 48,
   "metadata": {
    "collapsed": false,
    "scrolled": true
   },
   "outputs": [
    {
     "name": "stdout",
     "output_type": "stream",
     "text": [
      "gen\tnevals\tavg                        \tmin                      \tmax                        \n",
      "0  \t100   \t[ 42.43600958 223.68      ]\t[14.42942205 53.        ]\t[ 91.39867802 415.        ]\n",
      "1  \t100   \t[ 33.83748273 260.8       ]\t[12.97347948 53.        ]\t[ 82.38931156 415.        ]\n",
      "2  \t100   \t[ 29.37150932 291.73      ]\t[ 6.43936981 65.        ]\t[ 82.38931156 425.        ]\n",
      "3  \t100   \t[ 25.96592586 321.57      ]\t[ 6.43936981 65.        ]\t[ 66.73234909 425.        ]\n",
      "4  \t100   \t[ 24.17234973 342.86      ]\t[  6.43936981 181.        ]\t[ 65.75527953 441.        ]\n",
      "5  \t100   \t[ 18.69964312 347.32      ]\t[  6.43936981 186.        ]\t[ 42.95289312 447.        ]\n",
      "6  \t100   \t[ 16.42008031 364.87      ]\t[  6.27041882 186.        ]\t[ 42.95289312 468.        ]\n",
      "7  \t100   \t[ 15.22321792 383.34      ]\t[  6.1398439 238.       ]  \t[ 34.69632753 468.        ]\n",
      "8  \t100   \t[ 13.7453799 396.77     ]  \t[  4.64643646 238.        ]\t[ 32.17913321 483.        ]\n",
      "9  \t100   \t[ 12.52667662 409.11      ]\t[  4.64643646 282.        ]\t[ 27.94529149 483.        ]\n",
      "10 \t100   \t[ 11.56150312 413.37      ]\t[  4.53526145 254.        ]\t[ 26.22503242 483.        ]\n",
      "11 \t100   \t[ 10.22137053 416.39      ]\t[  4.53526145 254.        ]\t[ 26.22503242 483.        ]\n",
      "12 \t100   \t[  9.74749329 420.5       ]\t[  3.85372499 254.        ]\t[ 26.22503242 484.        ]\n",
      "13 \t100   \t[  9.55454767 429.02      ]\t[  3.36840515 263.        ]\t[ 26.22503242 490.        ]\n",
      "14 \t100   \t[  9.21639709 434.37      ]\t[  3.36840515 263.        ]\t[ 26.22503242 492.        ]\n",
      "15 \t100   \t[  8.93055643 439.59      ]\t[  3.36840515 263.        ]\t[ 18.76833798 492.        ]\n",
      "16 \t100   \t[  7.91425842 435.05      ]\t[  3.36840515 263.        ]\t[ 17.60774061 492.        ]\n",
      "17 \t100   \t[  6.98672459 433.19      ]\t[  3.36840515 263.        ]\t[ 16.53979452 492.        ]\n",
      "18 \t100   \t[  6.90932215 431.9       ]\t[  3.36840515 263.        ]\t[ 16.53979452 492.        ]\n",
      "19 \t100   \t[  6.57904684 437.15      ]\t[  3.36840515 263.        ]\t[ 16.53979452 492.        ]\n",
      "20 \t100   \t[  6.27954348 433.75      ]\t[  3.17404382 263.        ]\t[ 16.53979452 492.        ]\n",
      "21 \t100   \t[  6.02532608 432.6       ]\t[  3.17404382 263.        ]\t[ 16.53979452 492.        ]\n",
      "22 \t100   \t[  6.17938912 440.69      ]\t[  3.17404382 263.        ]\t[ 12.01680161 492.        ]\n",
      "23 \t100   \t[  5.54830483 436.48      ]\t[  3.17404382 263.        ]\t[ 12.01680161 492.        ]\n",
      "24 \t100   \t[  5.28080544 438.26      ]\t[  3.17404382 353.        ]\t[ 11.80601635 492.        ]\n",
      "25 \t100   \t[  5.05112689 435.72      ]\t[  2.86740669 353.        ]\t[  9.88503718 492.        ]\n",
      "26 \t100   \t[  5.13271793 439.2       ]\t[  2.86740669 353.        ]\t[  9.84342963 492.        ]\n",
      "27 \t100   \t[  5.17140653 447.63      ]\t[  2.86740669 353.        ]\t[  9.84342963 492.        ]\n",
      "28 \t100   \t[  4.87399869 443.48      ]\t[  2.86740669 353.        ]\t[  9.84133899 492.        ]\n",
      "29 \t100   \t[  5.13864788 450.2       ]\t[  2.86740669 353.        ]\t[  9.84133899 492.        ]\n",
      "30 \t100   \t[  5.28070892 457.41      ]\t[  2.83392694 370.        ]\t[  9.84133899 492.        ]\n",
      "31 \t100   \t[  5.24738649 455.        ]\t[  2.83392694 370.        ]\t[  9.84133899 492.        ]\n",
      "32 \t100   \t[  5.33486738 455.63      ]\t[  2.83392694 370.        ]\t[  9.84133899 492.        ]\n",
      "33 \t100   \t[  4.86296847 451.75      ]\t[  2.83392694 370.        ]\t[  9.83426639 492.        ]\n",
      "34 \t100   \t[  4.88484257 452.84      ]\t[  2.83392694 370.        ]\t[  9.83426639 492.        ]\n",
      "35 \t100   \t[  4.85933361 454.81      ]\t[  2.83392694 409.        ]\t[  9.7929771 492.       ]  \n",
      "36 \t100   \t[  4.63459759 452.41      ]\t[  2.83392694 409.        ]\t[  9.7929771 492.       ]  \n",
      "37 \t100   \t[  4.46671759 446.38      ]\t[  2.83392694 409.        ]\t[  9.7929771 492.       ]  \n",
      "38 \t100   \t[  4.03883741 438.62      ]\t[  2.83392694 409.        ]\t[  8.87497771 492.        ]\n",
      "39 \t100   \t[  3.87519521 433.74      ]\t[  2.83392694 409.        ]\t[  8.87497771 492.        ]\n",
      "40 \t100   \t[  3.87568023 434.53      ]\t[  2.83392694 409.        ]\t[  8.87497771 492.        ]\n",
      "41 \t100   \t[  3.99904355 440.58      ]\t[  2.83392694 409.        ]\t[  8.87497771 492.        ]\n",
      "42 \t100   \t[  4.04857165 443.3       ]\t[  2.83392694 409.        ]\t[  8.87497771 492.        ]\n",
      "43 \t100   \t[  4.06516099 445.84      ]\t[  2.83392694 409.        ]\t[  8.87497771 492.        ]\n",
      "44 \t100   \t[  4.00362167 448.43      ]\t[  2.83392694 409.        ]\t[  8.78977718 492.        ]\n",
      "45 \t100   \t[  3.54957036 435.95      ]\t[  2.83392694 409.        ]\t[  8.72542329 492.        ]\n",
      "46 \t100   \t[  3.17061118 421.17      ]\t[  2.83392694 409.        ]\t[  8.72542329 492.        ]\n",
      "47 \t100   \t[  3.10057531 416.37      ]\t[  2.83392694 409.        ]\t[  8.72542329 492.        ]\n",
      "48 \t100   \t[  3.10057531 416.37      ]\t[  2.83392694 409.        ]\t[  8.72542329 492.        ]\n",
      "49 \t100   \t[  3.10057531 416.37      ]\t[  2.83392694 409.        ]\t[  8.72542329 492.        ]\n",
      "50 \t100   \t[  3.10057531 416.37      ]\t[  2.83392694 409.        ]\t[  8.72542329 492.        ]\n",
      "51 \t100   \t[  3.10057531 416.37      ]\t[  2.83392694 409.        ]\t[  8.72542329 492.        ]\n",
      "52 \t100   \t[  3.10057531 416.37      ]\t[  2.83392694 409.        ]\t[  8.72542329 492.        ]\n",
      "53 \t100   \t[  3.10057531 416.37      ]\t[  2.83392694 409.        ]\t[  8.72542329 492.        ]\n",
      "54 \t100   \t[  3.10057531 416.37      ]\t[  2.83392694 409.        ]\t[  8.72542329 492.        ]\n",
      "55 \t100   \t[  3.10057531 416.37      ]\t[  2.83392694 409.        ]\t[  8.72542329 492.        ]\n",
      "56 \t100   \t[  3.10057531 416.37      ]\t[  2.83392694 409.        ]\t[  8.72542329 492.        ]\n",
      "57 \t100   \t[  3.10057531 416.37      ]\t[  2.83392694 409.        ]\t[  8.72542329 492.        ]\n",
      "58 \t100   \t[  3.10057531 416.37      ]\t[  2.83392694 409.        ]\t[  8.72542329 492.        ]\n",
      "59 \t100   \t[  3.10057531 416.37      ]\t[  2.83392694 409.        ]\t[  8.72542329 492.        ]\n",
      "60 \t100   \t[  3.10057531 416.37      ]\t[  2.83392694 409.        ]\t[  8.72542329 492.        ]\n",
      "61 \t100   \t[  3.10057531 416.37      ]\t[  2.83392694 409.        ]\t[  8.72542329 492.        ]\n",
      "62 \t100   \t[  3.10057531 416.37      ]\t[  2.83392694 409.        ]\t[  8.72542329 492.        ]\n",
      "63 \t100   \t[  3.10057531 416.37      ]\t[  2.83392694 409.        ]\t[  8.72542329 492.        ]\n",
      "64 \t100   \t[  3.10057531 416.37      ]\t[  2.83392694 409.        ]\t[  8.72542329 492.        ]\n",
      "65 \t100   \t[  3.10057531 416.37      ]\t[  2.83392694 409.        ]\t[  8.72542329 492.        ]\n",
      "66 \t100   \t[  3.10057531 416.37      ]\t[  2.83392694 409.        ]\t[  8.72542329 492.        ]\n",
      "67 \t100   \t[  3.10057531 416.37      ]\t[  2.83392694 409.        ]\t[  8.72542329 492.        ]\n",
      "68 \t100   \t[  3.10057531 416.37      ]\t[  2.83392694 409.        ]\t[  8.72542329 492.        ]\n",
      "69 \t100   \t[  3.10057531 416.37      ]\t[  2.83392694 409.        ]\t[  8.72542329 492.        ]\n",
      "70 \t100   \t[  3.10057531 416.37      ]\t[  2.83392694 409.        ]\t[  8.72542329 492.        ]\n",
      "71 \t100   \t[  3.10057531 416.37      ]\t[  2.83392694 409.        ]\t[  8.72542329 492.        ]\n",
      "72 \t100   \t[  3.10057531 416.37      ]\t[  2.83392694 409.        ]\t[  8.72542329 492.        ]\n",
      "73 \t100   \t[  3.10057531 416.37      ]\t[  2.83392694 409.        ]\t[  8.72542329 492.        ]\n",
      "74 \t100   \t[  3.10057531 416.37      ]\t[  2.83392694 409.        ]\t[  8.72542329 492.        ]\n",
      "75 \t100   \t[  3.10057531 416.37      ]\t[  2.83392694 409.        ]\t[  8.72542329 492.        ]\n",
      "76 \t100   \t[  3.10057531 416.37      ]\t[  2.83392694 409.        ]\t[  8.72542329 492.        ]\n",
      "77 \t100   \t[  3.10057531 416.37      ]\t[  2.83392694 409.        ]\t[  8.72542329 492.        ]\n",
      "78 \t100   \t[  3.10057531 416.37      ]\t[  2.83392694 409.        ]\t[  8.72542329 492.        ]\n",
      "79 \t100   \t[  3.10057531 416.37      ]\t[  2.83392694 409.        ]\t[  8.72542329 492.        ]\n",
      "80 \t100   \t[  3.10057531 416.37      ]\t[  2.83392694 409.        ]\t[  8.72542329 492.        ]\n",
      "81 \t100   \t[  3.10057531 416.37      ]\t[  2.83392694 409.        ]\t[  8.72542329 492.        ]\n",
      "82 \t100   \t[  3.10057531 416.37      ]\t[  2.83392694 409.        ]\t[  8.72542329 492.        ]\n",
      "83 \t100   \t[  3.10057531 416.37      ]\t[  2.83392694 409.        ]\t[  8.72542329 492.        ]\n",
      "84 \t100   \t[  3.10057531 416.37      ]\t[  2.83392694 409.        ]\t[  8.72542329 492.        ]\n",
      "85 \t100   \t[  3.10057531 416.37      ]\t[  2.83392694 409.        ]\t[  8.72542329 492.        ]\n",
      "86 \t100   \t[  3.11003464 417.        ]\t[  2.83392694 409.        ]\t[  8.72542329 492.        ]\n",
      "87 \t100   \t[  3.11003464 417.        ]\t[  2.83392694 409.        ]\t[  8.72542329 492.        ]\n",
      "88 \t100   \t[  3.11003464 417.        ]\t[  2.83392694 409.        ]\t[  8.72542329 492.        ]\n",
      "89 \t100   \t[  3.11003464 417.        ]\t[  2.83392694 409.        ]\t[  8.72542329 492.        ]\n",
      "90 \t100   \t[  3.11003464 417.        ]\t[  2.83392694 409.        ]\t[  8.72542329 492.        ]\n",
      "91 \t100   \t[  3.11003464 417.        ]\t[  2.83392694 409.        ]\t[  8.72542329 492.        ]\n",
      "92 \t100   \t[  3.11003464 417.        ]\t[  2.83392694 409.        ]\t[  8.72542329 492.        ]\n",
      "93 \t100   \t[  3.11003464 417.        ]\t[  2.83392694 409.        ]\t[  8.72542329 492.        ]\n",
      "94 \t100   \t[  3.11003464 417.        ]\t[  2.83392694 409.        ]\t[  8.72542329 492.        ]\n",
      "95 \t100   \t[  3.11003464 417.        ]\t[  2.83392694 409.        ]\t[  8.72542329 492.        ]\n",
      "96 \t100   \t[  3.11003464 417.        ]\t[  2.83392694 409.        ]\t[  8.72542329 492.        ]\n",
      "97 \t100   \t[  3.11003464 417.        ]\t[  2.83392694 409.        ]\t[  8.72542329 492.        ]\n",
      "98 \t100   \t[  3.11003464 417.        ]\t[  2.83392694 409.        ]\t[  8.72542329 492.        ]\n",
      "99 \t100   \t[  3.11003464 417.        ]\t[  2.83392694 409.        ]\t[  8.72542329 492.        ]\n",
      "100\t100   \t[  3.11003464 417.        ]\t[  2.83392694 409.        ]\t[  8.72542329 492.        ]\n",
      "Wall time: 22.1 s\n"
     ]
    }
   ],
   "source": [
    "%%time \n",
    "result, log = algorithms.eaMuPlusLambda(pop, \n",
    "                                     toolbox, \n",
    "                                     mu=POP_SIZE, # The number of individuals to select for the next generation.\n",
    "                                     lambda_= POP_SIZE, # The number of children to produce at each generation.\n",
    "                                     cxpb= CX_PROB,\n",
    "                                     mutpb= MUT_PROB, \n",
    "                                     stats= stats, \n",
    "                                     ngen= MAX_GEN,\n",
    "                                     verbose= True)"
   ]
  },
  {
   "cell_type": "markdown",
   "metadata": {},
   "source": [
    "## Make a decision"
   ]
  },
  {
   "cell_type": "code",
   "execution_count": 49,
   "metadata": {
    "collapsed": false,
    "scrolled": true
   },
   "outputs": [
    {
     "data": {
      "text/plain": [
       "[[[7, 6, 0, 25, 26],\n",
       "  [7, 6, 0, 25, 26],\n",
       "  [7, 6, 0, 25, 26],\n",
       "  [7, 6, 0, 25, 26],\n",
       "  [7, 6, 0, 25, 26],\n",
       "  [7, 6, 0, 25, 26],\n",
       "  [7, 6, 0, 25, 26],\n",
       "  [7, 6, 0, 25, 26],\n",
       "  [7, 6, 0, 25, 26],\n",
       "  [7, 6, 0, 25, 26],\n",
       "  [7, 6, 0, 25, 26],\n",
       "  [7, 6, 0, 25, 26],\n",
       "  [7, 6, 0, 25, 26],\n",
       "  [7, 6, 0, 25, 26],\n",
       "  [7, 6, 0, 25, 26],\n",
       "  [7, 6, 0, 25, 26],\n",
       "  [7, 6, 0, 25, 26],\n",
       "  [7, 6, 0, 25, 26],\n",
       "  [7, 6, 0, 25, 26],\n",
       "  [7, 6, 0, 25, 26],\n",
       "  [7, 6, 0, 25, 26],\n",
       "  [7, 6, 0, 25, 26],\n",
       "  [7, 6, 0, 25, 26],\n",
       "  [7, 6, 0, 25, 26],\n",
       "  [7, 6, 0, 25, 26],\n",
       "  [7, 6, 0, 25, 26],\n",
       "  [7, 6, 0, 25, 26],\n",
       "  [7, 6, 0, 25, 26],\n",
       "  [7, 6, 0, 25, 26],\n",
       "  [7, 6, 0, 25, 26],\n",
       "  [7, 6, 0, 25, 26],\n",
       "  [7, 6, 0, 25, 26],\n",
       "  [7, 6, 0, 25, 26],\n",
       "  [7, 6, 0, 25, 26],\n",
       "  [7, 6, 0, 25, 26],\n",
       "  [7, 6, 0, 25, 26],\n",
       "  [7, 6, 0, 25, 26],\n",
       "  [7, 6, 0, 25, 26],\n",
       "  [7, 6, 0, 25, 26],\n",
       "  [7, 6, 0, 25, 26],\n",
       "  [7, 6, 0, 25, 26],\n",
       "  [7, 6, 0, 25, 26],\n",
       "  [7, 6, 0, 25, 26],\n",
       "  [7, 6, 0, 25, 26],\n",
       "  [7, 6, 0, 25, 26],\n",
       "  [7, 6, 0, 25, 26],\n",
       "  [7, 6, 0, 25, 26],\n",
       "  [7, 6, 0, 25, 26],\n",
       "  [7, 6, 0, 25, 26],\n",
       "  [7, 6, 0, 25, 26],\n",
       "  [7, 6, 0, 25, 26],\n",
       "  [7, 6, 0, 25, 26],\n",
       "  [7, 6, 0, 25, 26],\n",
       "  [7, 6, 0, 25, 26],\n",
       "  [7, 6, 0, 25, 26],\n",
       "  [7, 6, 0, 25, 26],\n",
       "  [7, 6, 0, 25, 26],\n",
       "  [7, 6, 0, 25, 26],\n",
       "  [7, 6, 0, 25, 26],\n",
       "  [7, 6, 0, 25, 26],\n",
       "  [7, 6, 0, 25, 26],\n",
       "  [7, 6, 0, 25, 26],\n",
       "  [7, 6, 0, 25, 26],\n",
       "  [7, 6, 0, 25, 26],\n",
       "  [7, 6, 0, 25, 26],\n",
       "  [7, 6, 0, 25, 26],\n",
       "  [7, 6, 0, 25, 26],\n",
       "  [7, 6, 0, 25, 26],\n",
       "  [7, 6, 0, 25, 26],\n",
       "  [7, 6, 0, 25, 26],\n",
       "  [7, 6, 0, 25, 26],\n",
       "  [7, 6, 0, 25, 26],\n",
       "  [7, 6, 0, 25, 26],\n",
       "  [7, 6, 0, 25, 26],\n",
       "  [7, 6, 0, 25, 26],\n",
       "  [7, 6, 0, 25, 26],\n",
       "  [7, 6, 0, 25, 26],\n",
       "  [7, 6, 0, 25, 26],\n",
       "  [7, 6, 0, 25, 26],\n",
       "  [7, 6, 0, 25, 26],\n",
       "  [7, 6, 0, 25, 26],\n",
       "  [7, 6, 0, 25, 26],\n",
       "  [7, 6, 0, 25, 26],\n",
       "  [7, 6, 0, 25, 26],\n",
       "  [7, 6, 0, 25, 26],\n",
       "  [7, 6, 0, 25, 26],\n",
       "  [7, 6, 0, 25, 26],\n",
       "  [7, 6, 0, 25, 26],\n",
       "  [14, 3, 2, 25, 26],\n",
       "  [14, 3, 2, 25, 26],\n",
       "  [26, 25, 0, 7, 13],\n",
       "  [26, 25, 0, 7, 13],\n",
       "  [26, 25, 3, 13, 7],\n",
       "  [7, 13, 3, 25, 26],\n",
       "  [13, 14, 3, 25, 26],\n",
       "  [13, 14, 3, 25, 26],\n",
       "  [14, 13, 7, 25, 26],\n",
       "  [14, 13, 7, 25, 26],\n",
       "  [14, 13, 25, 26, 73],\n",
       "  [73, 26, 25, 13, 14]]]"
      ]
     },
     "execution_count": 49,
     "metadata": {},
     "output_type": "execute_result"
    }
   ],
   "source": [
    "fronts = tools.emo.sortLogNondominated(result, len(result))\n",
    "fronts"
   ]
  },
  {
   "cell_type": "code",
   "execution_count": null,
   "metadata": {
    "collapsed": true
   },
   "outputs": [],
   "source": []
  },
  {
   "cell_type": "code",
   "execution_count": 53,
   "metadata": {
    "collapsed": false
   },
   "outputs": [
    {
     "data": {
      "text/html": [
       "\n",
       "    <div class=\"bk-root\">\n",
       "        <a href=\"https://bokeh.pydata.org\" target=\"_blank\" class=\"bk-logo bk-logo-small bk-logo-notebook\"></a>\n",
       "        <span id=\"1081\">Loading BokehJS ...</span>\n",
       "    </div>"
      ]
     },
     "metadata": {},
     "output_type": "display_data"
    },
    {
     "data": {
      "application/javascript": [
       "\n",
       "(function(root) {\n",
       "  function now() {\n",
       "    return new Date();\n",
       "  }\n",
       "\n",
       "  var force = true;\n",
       "\n",
       "  if (typeof (root._bokeh_onload_callbacks) === \"undefined\" || force === true) {\n",
       "    root._bokeh_onload_callbacks = [];\n",
       "    root._bokeh_is_loading = undefined;\n",
       "  }\n",
       "\n",
       "  var JS_MIME_TYPE = 'application/javascript';\n",
       "  var HTML_MIME_TYPE = 'text/html';\n",
       "  var EXEC_MIME_TYPE = 'application/vnd.bokehjs_exec.v0+json';\n",
       "  var CLASS_NAME = 'output_bokeh rendered_html';\n",
       "\n",
       "  /**\n",
       "   * Render data to the DOM node\n",
       "   */\n",
       "  function render(props, node) {\n",
       "    var script = document.createElement(\"script\");\n",
       "    node.appendChild(script);\n",
       "  }\n",
       "\n",
       "  /**\n",
       "   * Handle when an output is cleared or removed\n",
       "   */\n",
       "  function handleClearOutput(event, handle) {\n",
       "    var cell = handle.cell;\n",
       "\n",
       "    var id = cell.output_area._bokeh_element_id;\n",
       "    var server_id = cell.output_area._bokeh_server_id;\n",
       "    // Clean up Bokeh references\n",
       "    if (id != null && id in Bokeh.index) {\n",
       "      Bokeh.index[id].model.document.clear();\n",
       "      delete Bokeh.index[id];\n",
       "    }\n",
       "\n",
       "    if (server_id !== undefined) {\n",
       "      // Clean up Bokeh references\n",
       "      var cmd = \"from bokeh.io.state import curstate; print(curstate().uuid_to_server['\" + server_id + \"'].get_sessions()[0].document.roots[0]._id)\";\n",
       "      cell.notebook.kernel.execute(cmd, {\n",
       "        iopub: {\n",
       "          output: function(msg) {\n",
       "            var id = msg.content.text.trim();\n",
       "            if (id in Bokeh.index) {\n",
       "              Bokeh.index[id].model.document.clear();\n",
       "              delete Bokeh.index[id];\n",
       "            }\n",
       "          }\n",
       "        }\n",
       "      });\n",
       "      // Destroy server and session\n",
       "      var cmd = \"import bokeh.io.notebook as ion; ion.destroy_server('\" + server_id + \"')\";\n",
       "      cell.notebook.kernel.execute(cmd);\n",
       "    }\n",
       "  }\n",
       "\n",
       "  /**\n",
       "   * Handle when a new output is added\n",
       "   */\n",
       "  function handleAddOutput(event, handle) {\n",
       "    var output_area = handle.output_area;\n",
       "    var output = handle.output;\n",
       "\n",
       "    // limit handleAddOutput to display_data with EXEC_MIME_TYPE content only\n",
       "    if ((output.output_type != \"display_data\") || (!output.data.hasOwnProperty(EXEC_MIME_TYPE))) {\n",
       "      return\n",
       "    }\n",
       "\n",
       "    var toinsert = output_area.element.find(\".\" + CLASS_NAME.split(' ')[0]);\n",
       "\n",
       "    if (output.metadata[EXEC_MIME_TYPE][\"id\"] !== undefined) {\n",
       "      toinsert[toinsert.length - 1].firstChild.textContent = output.data[JS_MIME_TYPE];\n",
       "      // store reference to embed id on output_area\n",
       "      output_area._bokeh_element_id = output.metadata[EXEC_MIME_TYPE][\"id\"];\n",
       "    }\n",
       "    if (output.metadata[EXEC_MIME_TYPE][\"server_id\"] !== undefined) {\n",
       "      var bk_div = document.createElement(\"div\");\n",
       "      bk_div.innerHTML = output.data[HTML_MIME_TYPE];\n",
       "      var script_attrs = bk_div.children[0].attributes;\n",
       "      for (var i = 0; i < script_attrs.length; i++) {\n",
       "        toinsert[toinsert.length - 1].firstChild.setAttribute(script_attrs[i].name, script_attrs[i].value);\n",
       "      }\n",
       "      // store reference to server id on output_area\n",
       "      output_area._bokeh_server_id = output.metadata[EXEC_MIME_TYPE][\"server_id\"];\n",
       "    }\n",
       "  }\n",
       "\n",
       "  function register_renderer(events, OutputArea) {\n",
       "\n",
       "    function append_mime(data, metadata, element) {\n",
       "      // create a DOM node to render to\n",
       "      var toinsert = this.create_output_subarea(\n",
       "        metadata,\n",
       "        CLASS_NAME,\n",
       "        EXEC_MIME_TYPE\n",
       "      );\n",
       "      this.keyboard_manager.register_events(toinsert);\n",
       "      // Render to node\n",
       "      var props = {data: data, metadata: metadata[EXEC_MIME_TYPE]};\n",
       "      render(props, toinsert[toinsert.length - 1]);\n",
       "      element.append(toinsert);\n",
       "      return toinsert\n",
       "    }\n",
       "\n",
       "    /* Handle when an output is cleared or removed */\n",
       "    events.on('clear_output.CodeCell', handleClearOutput);\n",
       "    events.on('delete.Cell', handleClearOutput);\n",
       "\n",
       "    /* Handle when a new output is added */\n",
       "    events.on('output_added.OutputArea', handleAddOutput);\n",
       "\n",
       "    /**\n",
       "     * Register the mime type and append_mime function with output_area\n",
       "     */\n",
       "    OutputArea.prototype.register_mime_type(EXEC_MIME_TYPE, append_mime, {\n",
       "      /* Is output safe? */\n",
       "      safe: true,\n",
       "      /* Index of renderer in `output_area.display_order` */\n",
       "      index: 0\n",
       "    });\n",
       "  }\n",
       "\n",
       "  // register the mime type if in Jupyter Notebook environment and previously unregistered\n",
       "  if (root.Jupyter !== undefined) {\n",
       "    var events = require('base/js/events');\n",
       "    var OutputArea = require('notebook/js/outputarea').OutputArea;\n",
       "\n",
       "    if (OutputArea.prototype.mime_types().indexOf(EXEC_MIME_TYPE) == -1) {\n",
       "      register_renderer(events, OutputArea);\n",
       "    }\n",
       "  }\n",
       "\n",
       "  \n",
       "  if (typeof (root._bokeh_timeout) === \"undefined\" || force === true) {\n",
       "    root._bokeh_timeout = Date.now() + 5000;\n",
       "    root._bokeh_failed_load = false;\n",
       "  }\n",
       "\n",
       "  var NB_LOAD_WARNING = {'data': {'text/html':\n",
       "     \"<div style='background-color: #fdd'>\\n\"+\n",
       "     \"<p>\\n\"+\n",
       "     \"BokehJS does not appear to have successfully loaded. If loading BokehJS from CDN, this \\n\"+\n",
       "     \"may be due to a slow or bad network connection. Possible fixes:\\n\"+\n",
       "     \"</p>\\n\"+\n",
       "     \"<ul>\\n\"+\n",
       "     \"<li>re-rerun `output_notebook()` to attempt to load from CDN again, or</li>\\n\"+\n",
       "     \"<li>use INLINE resources instead, as so:</li>\\n\"+\n",
       "     \"</ul>\\n\"+\n",
       "     \"<code>\\n\"+\n",
       "     \"from bokeh.resources import INLINE\\n\"+\n",
       "     \"output_notebook(resources=INLINE)\\n\"+\n",
       "     \"</code>\\n\"+\n",
       "     \"</div>\"}};\n",
       "\n",
       "  function display_loaded() {\n",
       "    var el = document.getElementById(\"1081\");\n",
       "    if (el != null) {\n",
       "      el.textContent = \"BokehJS is loading...\";\n",
       "    }\n",
       "    if (root.Bokeh !== undefined) {\n",
       "      if (el != null) {\n",
       "        el.textContent = \"BokehJS \" + root.Bokeh.version + \" successfully loaded.\";\n",
       "      }\n",
       "    } else if (Date.now() < root._bokeh_timeout) {\n",
       "      setTimeout(display_loaded, 100)\n",
       "    }\n",
       "  }\n",
       "\n",
       "\n",
       "  function run_callbacks() {\n",
       "    try {\n",
       "      root._bokeh_onload_callbacks.forEach(function(callback) { callback() });\n",
       "    }\n",
       "    finally {\n",
       "      delete root._bokeh_onload_callbacks\n",
       "    }\n",
       "    console.info(\"Bokeh: all callbacks have finished\");\n",
       "  }\n",
       "\n",
       "  function load_libs(js_urls, callback) {\n",
       "    root._bokeh_onload_callbacks.push(callback);\n",
       "    if (root._bokeh_is_loading > 0) {\n",
       "      console.log(\"Bokeh: BokehJS is being loaded, scheduling callback at\", now());\n",
       "      return null;\n",
       "    }\n",
       "    if (js_urls == null || js_urls.length === 0) {\n",
       "      run_callbacks();\n",
       "      return null;\n",
       "    }\n",
       "    console.log(\"Bokeh: BokehJS not loaded, scheduling load and callback at\", now());\n",
       "    root._bokeh_is_loading = js_urls.length;\n",
       "    for (var i = 0; i < js_urls.length; i++) {\n",
       "      var url = js_urls[i];\n",
       "      var s = document.createElement('script');\n",
       "      s.src = url;\n",
       "      s.async = false;\n",
       "      s.onreadystatechange = s.onload = function() {\n",
       "        root._bokeh_is_loading--;\n",
       "        if (root._bokeh_is_loading === 0) {\n",
       "          console.log(\"Bokeh: all BokehJS libraries loaded\");\n",
       "          run_callbacks()\n",
       "        }\n",
       "      };\n",
       "      s.onerror = function() {\n",
       "        console.warn(\"failed to load library \" + url);\n",
       "      };\n",
       "      console.log(\"Bokeh: injecting script tag for BokehJS library: \", url);\n",
       "      document.getElementsByTagName(\"head\")[0].appendChild(s);\n",
       "    }\n",
       "  };var element = document.getElementById(\"1081\");\n",
       "  if (element == null) {\n",
       "    console.log(\"Bokeh: ERROR: autoload.js configured with elementid '1081' but no matching script tag was found. \")\n",
       "    return false;\n",
       "  }\n",
       "\n",
       "  var js_urls = [\"https://cdn.pydata.org/bokeh/release/bokeh-1.0.2.min.js\", \"https://cdn.pydata.org/bokeh/release/bokeh-widgets-1.0.2.min.js\", \"https://cdn.pydata.org/bokeh/release/bokeh-tables-1.0.2.min.js\", \"https://cdn.pydata.org/bokeh/release/bokeh-gl-1.0.2.min.js\"];\n",
       "\n",
       "  var inline_js = [\n",
       "    function(Bokeh) {\n",
       "      Bokeh.set_log_level(\"info\");\n",
       "    },\n",
       "    \n",
       "    function(Bokeh) {\n",
       "      \n",
       "    },\n",
       "    function(Bokeh) {\n",
       "      console.log(\"Bokeh: injecting CSS: https://cdn.pydata.org/bokeh/release/bokeh-1.0.2.min.css\");\n",
       "      Bokeh.embed.inject_css(\"https://cdn.pydata.org/bokeh/release/bokeh-1.0.2.min.css\");\n",
       "      console.log(\"Bokeh: injecting CSS: https://cdn.pydata.org/bokeh/release/bokeh-widgets-1.0.2.min.css\");\n",
       "      Bokeh.embed.inject_css(\"https://cdn.pydata.org/bokeh/release/bokeh-widgets-1.0.2.min.css\");\n",
       "      console.log(\"Bokeh: injecting CSS: https://cdn.pydata.org/bokeh/release/bokeh-tables-1.0.2.min.css\");\n",
       "      Bokeh.embed.inject_css(\"https://cdn.pydata.org/bokeh/release/bokeh-tables-1.0.2.min.css\");\n",
       "    }\n",
       "  ];\n",
       "\n",
       "  function run_inline_js() {\n",
       "    \n",
       "    if ((root.Bokeh !== undefined) || (force === true)) {\n",
       "      for (var i = 0; i < inline_js.length; i++) {\n",
       "        inline_js[i].call(root, root.Bokeh);\n",
       "      }if (force === true) {\n",
       "        display_loaded();\n",
       "      }} else if (Date.now() < root._bokeh_timeout) {\n",
       "      setTimeout(run_inline_js, 100);\n",
       "    } else if (!root._bokeh_failed_load) {\n",
       "      console.log(\"Bokeh: BokehJS failed to load within specified timeout.\");\n",
       "      root._bokeh_failed_load = true;\n",
       "    } else if (force !== true) {\n",
       "      var cell = $(document.getElementById(\"1081\")).parents('.cell').data().cell;\n",
       "      cell.output_area.append_execute_result(NB_LOAD_WARNING)\n",
       "    }\n",
       "\n",
       "  }\n",
       "\n",
       "  if (root._bokeh_is_loading === 0) {\n",
       "    console.log(\"Bokeh: BokehJS loaded, going straight to plotting\");\n",
       "    run_inline_js();\n",
       "  } else {\n",
       "    load_libs(js_urls, function() {\n",
       "      console.log(\"Bokeh: BokehJS plotting callback run at\", now());\n",
       "      run_inline_js();\n",
       "    });\n",
       "  }\n",
       "}(window));"
      ],
      "application/vnd.bokehjs_load.v0+json": "\n(function(root) {\n  function now() {\n    return new Date();\n  }\n\n  var force = true;\n\n  if (typeof (root._bokeh_onload_callbacks) === \"undefined\" || force === true) {\n    root._bokeh_onload_callbacks = [];\n    root._bokeh_is_loading = undefined;\n  }\n\n  \n\n  \n  if (typeof (root._bokeh_timeout) === \"undefined\" || force === true) {\n    root._bokeh_timeout = Date.now() + 5000;\n    root._bokeh_failed_load = false;\n  }\n\n  var NB_LOAD_WARNING = {'data': {'text/html':\n     \"<div style='background-color: #fdd'>\\n\"+\n     \"<p>\\n\"+\n     \"BokehJS does not appear to have successfully loaded. If loading BokehJS from CDN, this \\n\"+\n     \"may be due to a slow or bad network connection. Possible fixes:\\n\"+\n     \"</p>\\n\"+\n     \"<ul>\\n\"+\n     \"<li>re-rerun `output_notebook()` to attempt to load from CDN again, or</li>\\n\"+\n     \"<li>use INLINE resources instead, as so:</li>\\n\"+\n     \"</ul>\\n\"+\n     \"<code>\\n\"+\n     \"from bokeh.resources import INLINE\\n\"+\n     \"output_notebook(resources=INLINE)\\n\"+\n     \"</code>\\n\"+\n     \"</div>\"}};\n\n  function display_loaded() {\n    var el = document.getElementById(\"1081\");\n    if (el != null) {\n      el.textContent = \"BokehJS is loading...\";\n    }\n    if (root.Bokeh !== undefined) {\n      if (el != null) {\n        el.textContent = \"BokehJS \" + root.Bokeh.version + \" successfully loaded.\";\n      }\n    } else if (Date.now() < root._bokeh_timeout) {\n      setTimeout(display_loaded, 100)\n    }\n  }\n\n\n  function run_callbacks() {\n    try {\n      root._bokeh_onload_callbacks.forEach(function(callback) { callback() });\n    }\n    finally {\n      delete root._bokeh_onload_callbacks\n    }\n    console.info(\"Bokeh: all callbacks have finished\");\n  }\n\n  function load_libs(js_urls, callback) {\n    root._bokeh_onload_callbacks.push(callback);\n    if (root._bokeh_is_loading > 0) {\n      console.log(\"Bokeh: BokehJS is being loaded, scheduling callback at\", now());\n      return null;\n    }\n    if (js_urls == null || js_urls.length === 0) {\n      run_callbacks();\n      return null;\n    }\n    console.log(\"Bokeh: BokehJS not loaded, scheduling load and callback at\", now());\n    root._bokeh_is_loading = js_urls.length;\n    for (var i = 0; i < js_urls.length; i++) {\n      var url = js_urls[i];\n      var s = document.createElement('script');\n      s.src = url;\n      s.async = false;\n      s.onreadystatechange = s.onload = function() {\n        root._bokeh_is_loading--;\n        if (root._bokeh_is_loading === 0) {\n          console.log(\"Bokeh: all BokehJS libraries loaded\");\n          run_callbacks()\n        }\n      };\n      s.onerror = function() {\n        console.warn(\"failed to load library \" + url);\n      };\n      console.log(\"Bokeh: injecting script tag for BokehJS library: \", url);\n      document.getElementsByTagName(\"head\")[0].appendChild(s);\n    }\n  };var element = document.getElementById(\"1081\");\n  if (element == null) {\n    console.log(\"Bokeh: ERROR: autoload.js configured with elementid '1081' but no matching script tag was found. \")\n    return false;\n  }\n\n  var js_urls = [\"https://cdn.pydata.org/bokeh/release/bokeh-1.0.2.min.js\", \"https://cdn.pydata.org/bokeh/release/bokeh-widgets-1.0.2.min.js\", \"https://cdn.pydata.org/bokeh/release/bokeh-tables-1.0.2.min.js\", \"https://cdn.pydata.org/bokeh/release/bokeh-gl-1.0.2.min.js\"];\n\n  var inline_js = [\n    function(Bokeh) {\n      Bokeh.set_log_level(\"info\");\n    },\n    \n    function(Bokeh) {\n      \n    },\n    function(Bokeh) {\n      console.log(\"Bokeh: injecting CSS: https://cdn.pydata.org/bokeh/release/bokeh-1.0.2.min.css\");\n      Bokeh.embed.inject_css(\"https://cdn.pydata.org/bokeh/release/bokeh-1.0.2.min.css\");\n      console.log(\"Bokeh: injecting CSS: https://cdn.pydata.org/bokeh/release/bokeh-widgets-1.0.2.min.css\");\n      Bokeh.embed.inject_css(\"https://cdn.pydata.org/bokeh/release/bokeh-widgets-1.0.2.min.css\");\n      console.log(\"Bokeh: injecting CSS: https://cdn.pydata.org/bokeh/release/bokeh-tables-1.0.2.min.css\");\n      Bokeh.embed.inject_css(\"https://cdn.pydata.org/bokeh/release/bokeh-tables-1.0.2.min.css\");\n    }\n  ];\n\n  function run_inline_js() {\n    \n    if ((root.Bokeh !== undefined) || (force === true)) {\n      for (var i = 0; i < inline_js.length; i++) {\n        inline_js[i].call(root, root.Bokeh);\n      }if (force === true) {\n        display_loaded();\n      }} else if (Date.now() < root._bokeh_timeout) {\n      setTimeout(run_inline_js, 100);\n    } else if (!root._bokeh_failed_load) {\n      console.log(\"Bokeh: BokehJS failed to load within specified timeout.\");\n      root._bokeh_failed_load = true;\n    } else if (force !== true) {\n      var cell = $(document.getElementById(\"1081\")).parents('.cell').data().cell;\n      cell.output_area.append_execute_result(NB_LOAD_WARNING)\n    }\n\n  }\n\n  if (root._bokeh_is_loading === 0) {\n    console.log(\"Bokeh: BokehJS loaded, going straight to plotting\");\n    run_inline_js();\n  } else {\n    load_libs(js_urls, function() {\n      console.log(\"Bokeh: BokehJS plotting callback run at\", now());\n      run_inline_js();\n    });\n  }\n}(window));"
     },
     "metadata": {},
     "output_type": "display_data"
    }
   ],
   "source": [
    "from bokeh.plotting import figure, output_notebook, show\n",
    "from bokeh.models import HoverTool, ColumnDataSource\n",
    "from bokeh import palettes\n",
    "output_notebook()"
   ]
  },
  {
   "cell_type": "code",
   "execution_count": 54,
   "metadata": {
    "collapsed": false
   },
   "outputs": [],
   "source": [
    "def viz_front(fronts):\n",
    "#     TOOLS = \"pan,wheel_zoom,box_zoom,reset,resize\"\n",
    "    TOOLS = \"pan,wheel_zoom,box_zoom,reset\"\n",
    "    hover = HoverTool(\n",
    "            tooltips=[\n",
    "                (\"index\", \"$index\"),\n",
    "                (\"(x,y)\", \"($x, $y)\"),\n",
    "                (\"individual\", \"@ind\"),\n",
    "            ]\n",
    "        )\n",
    "    front_colors = []\n",
    "    p = figure(plot_width=700, plot_height=700, tools=[TOOLS,hover], title=\"NSGAii Test\")\n",
    "\n",
    "    for i,inds in enumerate(fronts):\n",
    "        par = [(ind, toolbox.evaluate(ind)) for ind in inds]\n",
    "        source = ColumnDataSource(\n",
    "                data=dict(\n",
    "                    x= [p[1][0] for p in par],\n",
    "                    y= [p[1][1] for p in par],\n",
    "                    ind= [p[0] for p in par]\n",
    "                )\n",
    "            )\n",
    "        p.circle('x', 'y', size=10, source=source, alpha=0.7, fill_color=palettes.YlGnBu9[i], legend='Front %s'%(i+1), line_color=\"#ffffff\")\n",
    "    show(p)"
   ]
  },
  {
   "cell_type": "code",
   "execution_count": 55,
   "metadata": {
    "collapsed": false,
    "scrolled": false
   },
   "outputs": [
    {
     "data": {
      "text/html": [
       "\n",
       "\n",
       "\n",
       "\n",
       "\n",
       "\n",
       "  <div class=\"bk-root\" id=\"9543baa1-2670-40e2-82bc-a44cc7fc8508\"></div>\n"
      ]
     },
     "metadata": {},
     "output_type": "display_data"
    },
    {
     "data": {
      "application/javascript": [
       "(function(root) {\n",
       "  function embed_document(root) {\n",
       "    \n",
       "  var docs_json = {\"9ab314eb-2d64-4a0a-9dd5-cc9c6a2cacca\":{\"roots\":{\"references\":[{\"attributes\":{\"below\":[{\"id\":\"1094\",\"type\":\"LinearAxis\"}],\"left\":[{\"id\":\"1099\",\"type\":\"LinearAxis\"}],\"plot_height\":700,\"plot_width\":700,\"renderers\":[{\"id\":\"1094\",\"type\":\"LinearAxis\"},{\"id\":\"1098\",\"type\":\"Grid\"},{\"id\":\"1099\",\"type\":\"LinearAxis\"},{\"id\":\"1103\",\"type\":\"Grid\"},{\"id\":\"1111\",\"type\":\"BoxAnnotation\"},{\"id\":\"1128\",\"type\":\"Legend\"},{\"id\":\"1120\",\"type\":\"GlyphRenderer\"}],\"title\":{\"id\":\"1083\",\"type\":\"Title\"},\"toolbar\":{\"id\":\"1108\",\"type\":\"Toolbar\"},\"x_range\":{\"id\":\"1086\",\"type\":\"DataRange1d\"},\"x_scale\":{\"id\":\"1090\",\"type\":\"LinearScale\"},\"y_range\":{\"id\":\"1088\",\"type\":\"DataRange1d\"},\"y_scale\":{\"id\":\"1092\",\"type\":\"LinearScale\"}},\"id\":\"1084\",\"subtype\":\"Figure\",\"type\":\"Plot\"},{\"attributes\":{},\"id\":\"1090\",\"type\":\"LinearScale\"},{\"attributes\":{\"data_source\":{\"id\":\"1116\",\"type\":\"ColumnDataSource\"},\"glyph\":{\"id\":\"1118\",\"type\":\"Circle\"},\"hover_glyph\":null,\"muted_glyph\":null,\"nonselection_glyph\":{\"id\":\"1119\",\"type\":\"Circle\"},\"selection_glyph\":null,\"view\":{\"id\":\"1121\",\"type\":\"CDSView\"}},\"id\":\"1120\",\"type\":\"GlyphRenderer\"},{\"attributes\":{},\"id\":\"1136\",\"type\":\"Selection\"},{\"attributes\":{},\"id\":\"1100\",\"type\":\"BasicTicker\"},{\"attributes\":{},\"id\":\"1137\",\"type\":\"UnionRenderers\"},{\"attributes\":{\"callback\":null},\"id\":\"1088\",\"type\":\"DataRange1d\"},{\"attributes\":{\"callback\":null,\"tooltips\":[[\"index\",\"$index\"],[\"(x,y)\",\"($x, $y)\"],[\"individual\",\"@ind\"]]},\"id\":\"1082\",\"type\":\"HoverTool\"},{\"attributes\":{},\"id\":\"1124\",\"type\":\"BasicTickFormatter\"},{\"attributes\":{},\"id\":\"1105\",\"type\":\"WheelZoomTool\"},{\"attributes\":{\"bottom_units\":\"screen\",\"fill_alpha\":{\"value\":0.5},\"fill_color\":{\"value\":\"lightgrey\"},\"left_units\":\"screen\",\"level\":\"overlay\",\"line_alpha\":{\"value\":1.0},\"line_color\":{\"value\":\"black\"},\"line_dash\":[4,4],\"line_width\":{\"value\":2},\"plot\":null,\"render_mode\":\"css\",\"right_units\":\"screen\",\"top_units\":\"screen\"},\"id\":\"1111\",\"type\":\"BoxAnnotation\"},{\"attributes\":{\"callback\":null,\"data\":{\"ind\":[[7,6,0,25,26],[7,6,0,25,26],[7,6,0,25,26],[7,6,0,25,26],[7,6,0,25,26],[7,6,0,25,26],[7,6,0,25,26],[7,6,0,25,26],[7,6,0,25,26],[7,6,0,25,26],[7,6,0,25,26],[7,6,0,25,26],[7,6,0,25,26],[7,6,0,25,26],[7,6,0,25,26],[7,6,0,25,26],[7,6,0,25,26],[7,6,0,25,26],[7,6,0,25,26],[7,6,0,25,26],[7,6,0,25,26],[7,6,0,25,26],[7,6,0,25,26],[7,6,0,25,26],[7,6,0,25,26],[7,6,0,25,26],[7,6,0,25,26],[7,6,0,25,26],[7,6,0,25,26],[7,6,0,25,26],[7,6,0,25,26],[7,6,0,25,26],[7,6,0,25,26],[7,6,0,25,26],[7,6,0,25,26],[7,6,0,25,26],[7,6,0,25,26],[7,6,0,25,26],[7,6,0,25,26],[7,6,0,25,26],[7,6,0,25,26],[7,6,0,25,26],[7,6,0,25,26],[7,6,0,25,26],[7,6,0,25,26],[7,6,0,25,26],[7,6,0,25,26],[7,6,0,25,26],[7,6,0,25,26],[7,6,0,25,26],[7,6,0,25,26],[7,6,0,25,26],[7,6,0,25,26],[7,6,0,25,26],[7,6,0,25,26],[7,6,0,25,26],[7,6,0,25,26],[7,6,0,25,26],[7,6,0,25,26],[7,6,0,25,26],[7,6,0,25,26],[7,6,0,25,26],[7,6,0,25,26],[7,6,0,25,26],[7,6,0,25,26],[7,6,0,25,26],[7,6,0,25,26],[7,6,0,25,26],[7,6,0,25,26],[7,6,0,25,26],[7,6,0,25,26],[7,6,0,25,26],[7,6,0,25,26],[7,6,0,25,26],[7,6,0,25,26],[7,6,0,25,26],[7,6,0,25,26],[7,6,0,25,26],[7,6,0,25,26],[7,6,0,25,26],[7,6,0,25,26],[7,6,0,25,26],[7,6,0,25,26],[7,6,0,25,26],[7,6,0,25,26],[7,6,0,25,26],[7,6,0,25,26],[7,6,0,25,26],[14,3,2,25,26],[14,3,2,25,26],[26,25,0,7,13],[26,25,0,7,13],[26,25,3,13,7],[7,13,3,25,26],[13,14,3,25,26],[13,14,3,25,26],[14,13,7,25,26],[14,13,7,25,26],[14,13,25,26,73],[73,26,25,13,14]],\"x\":[2.83392693655003,2.83392693655003,2.83392693655003,2.83392693655003,2.83392693655003,2.83392693655003,2.83392693655003,2.83392693655003,2.83392693655003,2.83392693655003,2.83392693655003,2.83392693655003,2.83392693655003,2.83392693655003,2.83392693655003,2.83392693655003,2.83392693655003,2.83392693655003,2.83392693655003,2.83392693655003,2.83392693655003,2.83392693655003,2.83392693655003,2.83392693655003,2.83392693655003,2.83392693655003,2.83392693655003,2.83392693655003,2.83392693655003,2.83392693655003,2.83392693655003,2.83392693655003,2.83392693655003,2.83392693655003,2.83392693655003,2.83392693655003,2.83392693655003,2.83392693655003,2.83392693655003,2.83392693655003,2.83392693655003,2.83392693655003,2.83392693655003,2.83392693655003,2.83392693655003,2.83392693655003,2.83392693655003,2.83392693655003,2.83392693655003,2.83392693655003,2.83392693655003,2.83392693655003,2.83392693655003,2.83392693655003,2.83392693655003,2.83392693655003,2.83392693655003,2.83392693655003,2.83392693655003,2.83392693655003,2.83392693655003,2.83392693655003,2.83392693655003,2.83392693655003,2.83392693655003,2.83392693655003,2.83392693655003,2.83392693655003,2.83392693655003,2.83392693655003,2.83392693655003,2.83392693655003,2.83392693655003,2.83392693655003,2.83392693655003,2.83392693655003,2.83392693655003,2.83392693655003,2.83392693655003,2.83392693655003,2.83392693655003,2.83392693655003,2.83392693655003,2.83392693655003,2.83392693655003,2.83392693655003,2.83392693655003,2.83392693655003,3.271651095217953,3.271651095217953,3.779860076959749,3.779860076959749,4.553190894319417,4.553190894319417,5.001034716621494,5.001034716621494,5.477786922307644,5.477786922307644,8.725423290508745,8.725423290508745],\"y\":[409,409,409,409,409,409,409,409,409,409,409,409,409,409,409,409,409,409,409,409,409,409,409,409,409,409,409,409,409,409,409,409,409,409,409,409,409,409,409,409,409,409,409,409,409,409,409,409,409,409,409,409,409,409,409,409,409,409,409,409,409,409,409,409,409,409,409,409,409,409,409,409,409,409,409,409,409,409,409,409,409,409,409,409,409,409,409,409,439,439,472,472,479,479,481,481,491,491,492,492]},\"selected\":{\"id\":\"1136\",\"type\":\"Selection\"},\"selection_policy\":{\"id\":\"1137\",\"type\":\"UnionRenderers\"}},\"id\":\"1116\",\"type\":\"ColumnDataSource\"},{\"attributes\":{\"plot\":{\"id\":\"1084\",\"subtype\":\"Figure\",\"type\":\"Plot\"},\"ticker\":{\"id\":\"1095\",\"type\":\"BasicTicker\"}},\"id\":\"1098\",\"type\":\"Grid\"},{\"attributes\":{\"plot\":null,\"text\":\"NSGAii Test\"},\"id\":\"1083\",\"type\":\"Title\"},{\"attributes\":{},\"id\":\"1104\",\"type\":\"PanTool\"},{\"attributes\":{\"fill_alpha\":{\"value\":0.1},\"fill_color\":{\"value\":\"#1f77b4\"},\"line_alpha\":{\"value\":0.1},\"line_color\":{\"value\":\"#1f77b4\"},\"size\":{\"units\":\"screen\",\"value\":10},\"x\":{\"field\":\"x\"},\"y\":{\"field\":\"y\"}},\"id\":\"1119\",\"type\":\"Circle\"},{\"attributes\":{\"active_drag\":\"auto\",\"active_inspect\":\"auto\",\"active_multi\":null,\"active_scroll\":\"auto\",\"active_tap\":\"auto\",\"tools\":[{\"id\":\"1082\",\"type\":\"HoverTool\"},{\"id\":\"1104\",\"type\":\"PanTool\"},{\"id\":\"1105\",\"type\":\"WheelZoomTool\"},{\"id\":\"1106\",\"type\":\"BoxZoomTool\"},{\"id\":\"1107\",\"type\":\"ResetTool\"}]},\"id\":\"1108\",\"type\":\"Toolbar\"},{\"attributes\":{},\"id\":\"1126\",\"type\":\"BasicTickFormatter\"},{\"attributes\":{\"formatter\":{\"id\":\"1124\",\"type\":\"BasicTickFormatter\"},\"plot\":{\"id\":\"1084\",\"subtype\":\"Figure\",\"type\":\"Plot\"},\"ticker\":{\"id\":\"1100\",\"type\":\"BasicTicker\"}},\"id\":\"1099\",\"type\":\"LinearAxis\"},{\"attributes\":{\"items\":[{\"id\":\"1129\",\"type\":\"LegendItem\"}],\"plot\":{\"id\":\"1084\",\"subtype\":\"Figure\",\"type\":\"Plot\"}},\"id\":\"1128\",\"type\":\"Legend\"},{\"attributes\":{\"dimension\":1,\"plot\":{\"id\":\"1084\",\"subtype\":\"Figure\",\"type\":\"Plot\"},\"ticker\":{\"id\":\"1100\",\"type\":\"BasicTicker\"}},\"id\":\"1103\",\"type\":\"Grid\"},{\"attributes\":{\"callback\":null},\"id\":\"1086\",\"type\":\"DataRange1d\"},{\"attributes\":{},\"id\":\"1107\",\"type\":\"ResetTool\"},{\"attributes\":{\"formatter\":{\"id\":\"1126\",\"type\":\"BasicTickFormatter\"},\"plot\":{\"id\":\"1084\",\"subtype\":\"Figure\",\"type\":\"Plot\"},\"ticker\":{\"id\":\"1095\",\"type\":\"BasicTicker\"}},\"id\":\"1094\",\"type\":\"LinearAxis\"},{\"attributes\":{\"source\":{\"id\":\"1116\",\"type\":\"ColumnDataSource\"}},\"id\":\"1121\",\"type\":\"CDSView\"},{\"attributes\":{\"overlay\":{\"id\":\"1111\",\"type\":\"BoxAnnotation\"}},\"id\":\"1106\",\"type\":\"BoxZoomTool\"},{\"attributes\":{},\"id\":\"1095\",\"type\":\"BasicTicker\"},{\"attributes\":{\"fill_alpha\":{\"value\":0.7},\"fill_color\":{\"value\":\"#081d58\"},\"line_alpha\":{\"value\":0.7},\"line_color\":{\"value\":\"#ffffff\"},\"size\":{\"units\":\"screen\",\"value\":10},\"x\":{\"field\":\"x\"},\"y\":{\"field\":\"y\"}},\"id\":\"1118\",\"type\":\"Circle\"},{\"attributes\":{},\"id\":\"1092\",\"type\":\"LinearScale\"},{\"attributes\":{\"label\":{\"value\":\"Front 1\"},\"renderers\":[{\"id\":\"1120\",\"type\":\"GlyphRenderer\"}]},\"id\":\"1129\",\"type\":\"LegendItem\"}],\"root_ids\":[\"1084\"]},\"title\":\"Bokeh Application\",\"version\":\"1.0.2\"}};\n",
       "  var render_items = [{\"docid\":\"9ab314eb-2d64-4a0a-9dd5-cc9c6a2cacca\",\"roots\":{\"1084\":\"9543baa1-2670-40e2-82bc-a44cc7fc8508\"}}];\n",
       "  root.Bokeh.embed.embed_items_notebook(docs_json, render_items);\n",
       "\n",
       "  }\n",
       "  if (root.Bokeh !== undefined) {\n",
       "    embed_document(root);\n",
       "  } else {\n",
       "    var attempts = 0;\n",
       "    var timer = setInterval(function(root) {\n",
       "      if (root.Bokeh !== undefined) {\n",
       "        embed_document(root);\n",
       "        clearInterval(timer);\n",
       "      }\n",
       "      attempts++;\n",
       "      if (attempts > 100) {\n",
       "        console.log(\"Bokeh: ERROR: Unable to run BokehJS code because BokehJS library is missing\");\n",
       "        clearInterval(timer);\n",
       "      }\n",
       "    }, 10, root)\n",
       "  }\n",
       "})(window);"
      ],
      "application/vnd.bokehjs_exec.v0+json": ""
     },
     "metadata": {
      "application/vnd.bokehjs_exec.v0+json": {
       "id": "1084"
      }
     },
     "output_type": "display_data"
    }
   ],
   "source": [
    "viz_front(fronts)"
   ]
  },
  {
   "cell_type": "code",
   "execution_count": 56,
   "metadata": {
    "collapsed": false
   },
   "outputs": [
    {
     "data": {
      "text/plain": [
       "[7, 6, 0, 25, 26]"
      ]
     },
     "execution_count": 56,
     "metadata": {},
     "output_type": "execute_result"
    }
   ],
   "source": [
    "fronts[0][0] # One of the Obtimal Solution"
   ]
  },
  {
   "cell_type": "code",
   "execution_count": 57,
   "metadata": {
    "collapsed": false
   },
   "outputs": [
    {
     "data": {
      "text/html": [
       "<div>\n",
       "<style scoped>\n",
       "    .dataframe tbody tr th:only-of-type {\n",
       "        vertical-align: middle;\n",
       "    }\n",
       "\n",
       "    .dataframe tbody tr th {\n",
       "        vertical-align: top;\n",
       "    }\n",
       "\n",
       "    .dataframe thead th {\n",
       "        text-align: right;\n",
       "    }\n",
       "</style>\n",
       "<table border=\"1\" class=\"dataframe\">\n",
       "  <thead>\n",
       "    <tr style=\"text-align: right;\">\n",
       "      <th></th>\n",
       "      <th>street_ko</th>\n",
       "      <th>street_en</th>\n",
       "      <th>address</th>\n",
       "      <th>dong_ko</th>\n",
       "      <th>dong_en</th>\n",
       "      <th>lng</th>\n",
       "      <th>lat</th>\n",
       "      <th>score</th>\n",
       "    </tr>\n",
       "  </thead>\n",
       "  <tbody>\n",
       "    <tr>\n",
       "      <th>7</th>\n",
       "      <td>명동거리</td>\n",
       "      <td>Myeong-dong street</td>\n",
       "      <td>서울시 중구 명동 일대</td>\n",
       "      <td>명동</td>\n",
       "      <td>Myeong-dong</td>\n",
       "      <td>126.978819</td>\n",
       "      <td>37.568059</td>\n",
       "      <td>97</td>\n",
       "    </tr>\n",
       "    <tr>\n",
       "      <th>6</th>\n",
       "      <td>돌담길</td>\n",
       "      <td>Doldam-gil</td>\n",
       "      <td>서울시 중구 소공동 일대</td>\n",
       "      <td>소공동</td>\n",
       "      <td>Sogong-dong</td>\n",
       "      <td>126.979934</td>\n",
       "      <td>37.564130</td>\n",
       "      <td>34</td>\n",
       "    </tr>\n",
       "    <tr>\n",
       "      <th>0</th>\n",
       "      <td>남대문거리</td>\n",
       "      <td>fishing-tackle street</td>\n",
       "      <td>서울시 중구 회현동 일대</td>\n",
       "      <td>회현동</td>\n",
       "      <td>Hoehyeon-dong</td>\n",
       "      <td>126.977432</td>\n",
       "      <td>37.558050</td>\n",
       "      <td>80</td>\n",
       "    </tr>\n",
       "    <tr>\n",
       "      <th>25</th>\n",
       "      <td>경리단길</td>\n",
       "      <td>Finance corps street</td>\n",
       "      <td>서울시 용산구 이태원2동 일대</td>\n",
       "      <td>이태원2동</td>\n",
       "      <td>Itaewon2-dong</td>\n",
       "      <td>126.991664</td>\n",
       "      <td>37.539718</td>\n",
       "      <td>99</td>\n",
       "    </tr>\n",
       "    <tr>\n",
       "      <th>26</th>\n",
       "      <td>이태원거리</td>\n",
       "      <td>Itaewon street</td>\n",
       "      <td>서울시 용산구 이태원1동 일대</td>\n",
       "      <td>이태원1동</td>\n",
       "      <td>Itaewon2-dong</td>\n",
       "      <td>126.991704</td>\n",
       "      <td>37.538994</td>\n",
       "      <td>99</td>\n",
       "    </tr>\n",
       "  </tbody>\n",
       "</table>\n",
       "</div>"
      ],
      "text/plain": [
       "   street_ko              street_en           address dong_ko        dong_en  \\\n",
       "7       명동거리     Myeong-dong street      서울시 중구 명동 일대      명동    Myeong-dong   \n",
       "6        돌담길             Doldam-gil     서울시 중구 소공동 일대     소공동    Sogong-dong   \n",
       "0      남대문거리  fishing-tackle street     서울시 중구 회현동 일대     회현동  Hoehyeon-dong   \n",
       "25      경리단길   Finance corps street  서울시 용산구 이태원2동 일대   이태원2동  Itaewon2-dong   \n",
       "26     이태원거리         Itaewon street  서울시 용산구 이태원1동 일대   이태원1동  Itaewon2-dong   \n",
       "\n",
       "           lng        lat  score  \n",
       "7   126.978819  37.568059     97  \n",
       "6   126.979934  37.564130     34  \n",
       "0   126.977432  37.558050     80  \n",
       "25  126.991664  37.539718     99  \n",
       "26  126.991704  37.538994     99  "
      ]
     },
     "execution_count": 57,
     "metadata": {},
     "output_type": "execute_result"
    }
   ],
   "source": [
    "df_spot.iloc[fronts[0][0]] # Information of that solution"
   ]
  },
  {
   "cell_type": "code",
   "execution_count": 59,
   "metadata": {
    "collapsed": false
   },
   "outputs": [
    {
     "name": "stdout",
     "output_type": "stream",
     "text": [
      "(8.725423290508745, 492)\n"
     ]
    },
    {
     "data": {
      "text/html": [
       "<div style=\"width:100%;\"><div style=\"position:relative;width:100%;height:0;padding-bottom:60%;\"><iframe src=\"data:text/html;charset=utf-8;base64,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\" style=\"position:absolute;width:100%;height:100%;left:0;top:0;border:none !important;\" allowfullscreen webkitallowfullscreen mozallowfullscreen></iframe></div></div>"
      ],
      "text/plain": [
       "<folium.folium.Map at 0xa62acc0>"
      ]
     },
     "execution_count": 59,
     "metadata": {},
     "output_type": "execute_result"
    }
   ],
   "source": [
    "print(eval_func(fronts[0][99])) # Higher score but Longer distance\n",
    "plot_tour(fronts[0][99])"
   ]
  },
  {
   "cell_type": "code",
   "execution_count": 60,
   "metadata": {
    "collapsed": false
   },
   "outputs": [
    {
     "name": "stdout",
     "output_type": "stream",
     "text": [
      "(2.83392693655003, 409)\n"
     ]
    },
    {
     "data": {
      "text/html": [
       "<div style=\"width:100%;\"><div style=\"position:relative;width:100%;height:0;padding-bottom:60%;\"><iframe src=\"data:text/html;charset=utf-8;base64,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\" style=\"position:absolute;width:100%;height:100%;left:0;top:0;border:none !important;\" allowfullscreen webkitallowfullscreen mozallowfullscreen></iframe></div></div>"
      ],
      "text/plain": [
       "<folium.folium.Map at 0xa69a240>"
      ]
     },
     "execution_count": 60,
     "metadata": {},
     "output_type": "execute_result"
    }
   ],
   "source": [
    "print(eval_func(fronts[0][0]))  # Shorter distance but Lower score\n",
    "plot_tour(fronts[0][0])"
   ]
  },
  {
   "cell_type": "code",
   "execution_count": null,
   "metadata": {
    "collapsed": false
   },
   "outputs": [],
   "source": []
  },
  {
   "cell_type": "code",
   "execution_count": null,
   "metadata": {
    "collapsed": false
   },
   "outputs": [],
   "source": []
  },
  {
   "cell_type": "code",
   "execution_count": null,
   "metadata": {
    "collapsed": true
   },
   "outputs": [],
   "source": []
  }
 ],
 "metadata": {
  "anaconda-cloud": {},
  "kernelspec": {
   "display_name": "Python 3",
   "language": "python",
   "name": "python3"
  },
  "language_info": {
   "codemirror_mode": {
    "name": "ipython",
    "version": 3
   },
   "file_extension": ".py",
   "mimetype": "text/x-python",
   "name": "python",
   "nbconvert_exporter": "python",
   "pygments_lexer": "ipython3",
   "version": "3.7.1"
  }
 },
 "nbformat": 4,
 "nbformat_minor": 2
}
